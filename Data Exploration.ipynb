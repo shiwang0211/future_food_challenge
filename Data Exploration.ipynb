{
 "cells": [
  {
   "cell_type": "markdown",
   "metadata": {},
   "source": [
    "Link to the competition: https://tianchi.aliyun.com/competition/entrance/231705/introduction"
   ]
  },
  {
   "cell_type": "code",
   "execution_count": 77,
   "metadata": {},
   "outputs": [
    {
     "name": "stdout",
     "output_type": "stream",
     "text": [
      "The autoreload extension is already loaded. To reload it, use:\n",
      "  %reload_ext autoreload\n"
     ]
    }
   ],
   "source": [
    "import sys\n",
    "import pickle\n",
    "import warnings\n",
    "import spacy\n",
    "import time\n",
    "from spacy.lang.en.stop_words import STOP_WORDS\n",
    "import numpy as np\n",
    "import pandas as pd \n",
    "import json\n",
    "import seaborn as sns\n",
    "from keras import optimizers\n",
    "import matplotlib.pyplot as plt\n",
    "from gensim import corpora\n",
    "from gensim.models import Phrases\n",
    "from gensim.models.phrases import Phraser\n",
    "from gensim.models import LdaMulticore\n",
    "import pyLDAvis.gensim as gensimvis\n",
    "import pyLDAvis\n",
    "from spacy.tokens import Token\n",
    "from spacy.lang.en.stop_words import STOP_WORDS  # import stop words from language data\n",
    "from sklearn.feature_extraction.text import TfidfVectorizer\n",
    "from sklearn.feature_extraction.text import CountVectorizer\n",
    "from sklearn.model_selection import KFold, StratifiedKFold\n",
    "from sklearn.linear_model import LogisticRegression\n",
    "from sklearn.metrics import f1_score,accuracy_score\n",
    "from sklearn.model_selection import train_test_split, GridSearchCV\n",
    "from utils.plot_functions import *\n",
    "%matplotlib inline\n",
    "nlp = spacy.load(\"en_core_web_sm\")\n",
    "pd.set_option('display.max_colwidth', 500)\n",
    "%load_ext autoreload\n",
    "%autoreload 2\n",
    "if not sys.warnoptions:\n",
    "    warnings.simplefilter(\"ignore\")"
   ]
  },
  {
   "cell_type": "code",
   "execution_count": 47,
   "metadata": {},
   "outputs": [],
   "source": [
    "def extract_tweet_id(link):\n",
    "    try:\n",
    "        return int(link.split('/')[-1])\n",
    "    except:\n",
    "        return -1"
   ]
  },
  {
   "cell_type": "markdown",
   "metadata": {},
   "source": [
    "# Load Data"
   ]
  },
  {
   "cell_type": "code",
   "execution_count": 6,
   "metadata": {},
   "outputs": [],
   "source": [
    "df_train = pd.read_table('./data/[Updated] Training Set for Competition.txt',sep='\\t')"
   ]
  },
  {
   "cell_type": "code",
   "execution_count": 7,
   "metadata": {},
   "outputs": [],
   "source": [
    "df_train['Date'] = pd.to_datetime(df_train['Date'], format='%d.%m.%Y').dt.date\n",
    "df_train['Event ID'] = df_train['Event ID'].fillna(0)\n",
    "df_train['Is_Food'] = df_train['Event ID'] > 0\n",
    "df_train['tweet_id'] = df_train['Link'].apply(extract_tweet_id)"
   ]
  },
  {
   "cell_type": "code",
   "execution_count": 8,
   "metadata": {},
   "outputs": [
    {
     "data": {
      "text/html": [
       "<div>\n",
       "<style scoped>\n",
       "    .dataframe tbody tr th:only-of-type {\n",
       "        vertical-align: middle;\n",
       "    }\n",
       "\n",
       "    .dataframe tbody tr th {\n",
       "        vertical-align: top;\n",
       "    }\n",
       "\n",
       "    .dataframe thead th {\n",
       "        text-align: right;\n",
       "    }\n",
       "</style>\n",
       "<table border=\"1\" class=\"dataframe\">\n",
       "  <thead>\n",
       "    <tr style=\"text-align: right;\">\n",
       "      <th></th>\n",
       "      <th>Date</th>\n",
       "      <th>Time</th>\n",
       "      <th>Trainig/Test</th>\n",
       "      <th>Event ID</th>\n",
       "      <th>Title</th>\n",
       "      <th>Link</th>\n",
       "      <th>Abstract</th>\n",
       "      <th>Is_Food</th>\n",
       "      <th>tweet_id</th>\n",
       "    </tr>\n",
       "  </thead>\n",
       "  <tbody>\n",
       "    <tr>\n",
       "      <th>0</th>\n",
       "      <td>2019-02-05</td>\n",
       "      <td>18:45:44</td>\n",
       "      <td>Training</td>\n",
       "      <td>1.0</td>\n",
       "      <td>New dog food recall and latest warning on grain-free foods #SmartNews</td>\n",
       "      <td>https://twitter.com/tweet/status/1092857075753861125</td>\n",
       "      <td>New dog food recall and latest warning on grain-free foods #SmartNews https://t.co/nS49e7r63l</td>\n",
       "      <td>True</td>\n",
       "      <td>1092857075753861125</td>\n",
       "    </tr>\n",
       "    <tr>\n",
       "      <th>1</th>\n",
       "      <td>2019-02-05</td>\n",
       "      <td>06:29:38</td>\n",
       "      <td>Training</td>\n",
       "      <td>1.0</td>\n",
       "      <td>New Dog Food Recall And The Latest Warning On Grain-Free Foods... https://t.co/brx3qW4t4L</td>\n",
       "      <td>https://twitter.com/tweet/status/1092671572400373760</td>\n",
       "      <td>New Dog Food Recall And The Latest Warning On Grain-Free Foods... https://t.co/brx3qW4t4L https://t.co/5XcIAt9g4p</td>\n",
       "      <td>True</td>\n",
       "      <td>1092671572400373760</td>\n",
       "    </tr>\n",
       "    <tr>\n",
       "      <th>2</th>\n",
       "      <td>2019-02-05</td>\n",
       "      <td>18:40:20</td>\n",
       "      <td>Training</td>\n",
       "      <td>1.0</td>\n",
       "      <td>RT @BaybeeReade: Another dog food recall over dangerous levels of vitamin D - Fox News</td>\n",
       "      <td>https://twitter.com/tweet/status/1092855599233150977</td>\n",
       "      <td>RT @BaybeeReade: Another dog food recall over dangerous levels of vitamin D - Fox News https://t.co/z0w17ubVay</td>\n",
       "      <td>True</td>\n",
       "      <td>1092855599233150977</td>\n",
       "    </tr>\n",
       "  </tbody>\n",
       "</table>\n",
       "</div>"
      ],
      "text/plain": [
       "         Date      Time Trainig/Test  Event ID  \\\n",
       "0  2019-02-05  18:45:44     Training       1.0   \n",
       "1  2019-02-05  06:29:38     Training       1.0   \n",
       "2  2019-02-05  18:40:20     Training       1.0   \n",
       "\n",
       "                                                                                       Title  \\\n",
       "0                      New dog food recall and latest warning on grain-free foods #SmartNews   \n",
       "1  New Dog Food Recall And The Latest Warning On Grain-Free Foods... https://t.co/brx3qW4t4L   \n",
       "2     RT @BaybeeReade: Another dog food recall over dangerous levels of vitamin D - Fox News   \n",
       "\n",
       "                                                   Link  \\\n",
       "0  https://twitter.com/tweet/status/1092857075753861125   \n",
       "1  https://twitter.com/tweet/status/1092671572400373760   \n",
       "2  https://twitter.com/tweet/status/1092855599233150977   \n",
       "\n",
       "                                                                                                            Abstract  \\\n",
       "0                      New dog food recall and latest warning on grain-free foods #SmartNews https://t.co/nS49e7r63l   \n",
       "1  New Dog Food Recall And The Latest Warning On Grain-Free Foods... https://t.co/brx3qW4t4L https://t.co/5XcIAt9g4p   \n",
       "2     RT @BaybeeReade: Another dog food recall over dangerous levels of vitamin D - Fox News https://t.co/z0w17ubVay   \n",
       "\n",
       "   Is_Food             tweet_id  \n",
       "0     True  1092857075753861125  \n",
       "1     True  1092671572400373760  \n",
       "2     True  1092855599233150977  "
      ]
     },
     "execution_count": 8,
     "metadata": {},
     "output_type": "execute_result"
    }
   ],
   "source": [
    "df_train.head(3)"
   ]
  },
  {
   "cell_type": "code",
   "execution_count": 9,
   "metadata": {},
   "outputs": [],
   "source": [
    "df_test = pd.read_table('./data/[Updated] Test Set for Competition.txt',sep='\\t')\n",
    "df_test['tweet_id'] = df_test['Link'].apply(extract_tweet_id)"
   ]
  },
  {
   "cell_type": "code",
   "execution_count": 10,
   "metadata": {},
   "outputs": [
    {
     "data": {
      "text/html": [
       "<div>\n",
       "<style scoped>\n",
       "    .dataframe tbody tr th:only-of-type {\n",
       "        vertical-align: middle;\n",
       "    }\n",
       "\n",
       "    .dataframe tbody tr th {\n",
       "        vertical-align: top;\n",
       "    }\n",
       "\n",
       "    .dataframe thead th {\n",
       "        text-align: right;\n",
       "    }\n",
       "</style>\n",
       "<table border=\"1\" class=\"dataframe\">\n",
       "  <thead>\n",
       "    <tr style=\"text-align: right;\">\n",
       "      <th></th>\n",
       "      <th>Date</th>\n",
       "      <th>Time</th>\n",
       "      <th>Training/Test</th>\n",
       "      <th>Title</th>\n",
       "      <th>Link</th>\n",
       "      <th>Abstract</th>\n",
       "      <th>tweet_id</th>\n",
       "    </tr>\n",
       "  </thead>\n",
       "  <tbody>\n",
       "    <tr>\n",
       "      <th>0</th>\n",
       "      <td>2019-03-07</td>\n",
       "      <td>23:59:31</td>\n",
       "      <td>Test</td>\n",
       "      <td>@pccs_heron Salmonella</td>\n",
       "      <td>https://twitter.com/tweet/status/1103807421800202242</td>\n",
       "      <td>@pccs_heron Salmonella</td>\n",
       "      <td>1103807421800202242</td>\n",
       "    </tr>\n",
       "    <tr>\n",
       "      <th>1</th>\n",
       "      <td>2019-03-07</td>\n",
       "      <td>23:59:20</td>\n",
       "      <td>Test</td>\n",
       "      <td>@richardlanigan @trishgreenhalgh No. It's not feaces alone. Not at all. Polio virus is transmitted by the feacal…</td>\n",
       "      <td>https://twitter.com/tweet/status/1103807373196623873</td>\n",
       "      <td>@richardlanigan @trishgreenhalgh No. It's not feaces alone. Not at all. Polio virus is transmitted by the feacal… https://t.co/8ziThZHccA</td>\n",
       "      <td>1103807373196623873</td>\n",
       "    </tr>\n",
       "    <tr>\n",
       "      <th>2</th>\n",
       "      <td>2019-03-07</td>\n",
       "      <td>23:59:02</td>\n",
       "      <td>Test</td>\n",
       "      <td>@PatchouliW @BecciCath @MavenOfMayhem @SwiftOnSecurity For a while I thought I was allergic to water because of the…</td>\n",
       "      <td>https://twitter.com/tweet/status/1103807299389349889</td>\n",
       "      <td>@PatchouliW @BecciCath @MavenOfMayhem @SwiftOnSecurity For a while I thought I was allergic to water because of the… https://t.co/XoMGCuQLcs</td>\n",
       "      <td>1103807299389349889</td>\n",
       "    </tr>\n",
       "  </tbody>\n",
       "</table>\n",
       "</div>"
      ],
      "text/plain": [
       "         Date      Time Training/Test  \\\n",
       "0  2019-03-07  23:59:31          Test   \n",
       "1  2019-03-07  23:59:20          Test   \n",
       "2  2019-03-07  23:59:02          Test   \n",
       "\n",
       "                                                                                                                  Title  \\\n",
       "0                                                                                                @pccs_heron Salmonella   \n",
       "1     @richardlanigan @trishgreenhalgh No. It's not feaces alone. Not at all. Polio virus is transmitted by the feacal…   \n",
       "2  @PatchouliW @BecciCath @MavenOfMayhem @SwiftOnSecurity For a while I thought I was allergic to water because of the…   \n",
       "\n",
       "                                                   Link  \\\n",
       "0  https://twitter.com/tweet/status/1103807421800202242   \n",
       "1  https://twitter.com/tweet/status/1103807373196623873   \n",
       "2  https://twitter.com/tweet/status/1103807299389349889   \n",
       "\n",
       "                                                                                                                                       Abstract  \\\n",
       "0                                                                                                                        @pccs_heron Salmonella   \n",
       "1     @richardlanigan @trishgreenhalgh No. It's not feaces alone. Not at all. Polio virus is transmitted by the feacal… https://t.co/8ziThZHccA   \n",
       "2  @PatchouliW @BecciCath @MavenOfMayhem @SwiftOnSecurity For a while I thought I was allergic to water because of the… https://t.co/XoMGCuQLcs   \n",
       "\n",
       "              tweet_id  \n",
       "0  1103807421800202242  \n",
       "1  1103807373196623873  \n",
       "2  1103807299389349889  "
      ]
     },
     "execution_count": 10,
     "metadata": {},
     "output_type": "execute_result"
    }
   ],
   "source": [
    "df_test.head(3)"
   ]
  },
  {
   "cell_type": "markdown",
   "metadata": {},
   "source": [
    "# Try: Extract tweet info based on id"
   ]
  },
  {
   "cell_type": "code",
   "execution_count": null,
   "metadata": {
    "deletable": false,
    "editable": false,
    "run_control": {
     "frozen": true
    }
   },
   "outputs": [],
   "source": [
    "!pip install Twython"
   ]
  },
  {
   "cell_type": "code",
   "execution_count": 48,
   "metadata": {},
   "outputs": [],
   "source": [
    "from twython import Twython\n",
    "with open('api_key.txt','r') as inf:\n",
    "    key_dict = eval(inf.read())"
   ]
  },
  {
   "cell_type": "code",
   "execution_count": 49,
   "metadata": {},
   "outputs": [],
   "source": [
    "CONSUMER_KEY = key_dict['CONSUMER_KEY']\n",
    "CONSUMER_SECRET = key_dict['CONSUMER_SECRET']\n",
    "OAUTH_TOKEN = key_dict['OAUTH_TOKEN']\n",
    "OAUTH_TOKEN_SECRET = key_dict['OAUTH_TOKEN_SECRET']\n",
    "twitter = Twython(\n",
    "    CONSUMER_KEY, CONSUMER_SECRET,\n",
    "    OAUTH_TOKEN, OAUTH_TOKEN_SECRET)"
   ]
  },
  {
   "cell_type": "code",
   "execution_count": 103,
   "metadata": {},
   "outputs": [],
   "source": [
    "def add_more_info(tweet_id):\n",
    "    r = {\n",
    "        'tweet_found':True,\n",
    "        'user_name':'',\n",
    "        'mentions':[],\n",
    "        'medias':None,\n",
    "        'hashtags':[],\n",
    "        'in_reply_to_status_id':None,\n",
    "        'in_reply_to_screen_name':None,\n",
    "        'in_reply_to_status_text':None\n",
    "    }\n",
    "    \n",
    "    if tweet_id == -1:\n",
    "        return r\n",
    "    \n",
    "    flag = True\n",
    "    while(flag):\n",
    "        try:\n",
    "            tweet = twitter.show_status(id=tweet_id)\n",
    "            flag = False\n",
    "\n",
    "        except Exception as e:\n",
    "            if e.msg != 'Twitter API returned a 429 (Too Many Requests), Rate limit exceeded':\n",
    "                r['tweet_found'] = False\n",
    "                flag = False\n",
    "                return r\n",
    "            else:\n",
    "                print(e.msg)\n",
    "                print('Sleeping for a min ......')\n",
    "                time.sleep(60)\n",
    "                \n",
    "    r['user_name'] = tweet['user']['name']\n",
    "    r['mentions'] = [v for mention in tweet['entities']['user_mentions'] for k,v in mention.items() if k == 'screen_name'] \n",
    "    try:\n",
    "        r['medias'] = [v for media in tweet['entities']['media'] for k,v in media.items() if k == 'media_url']\n",
    "    except:\n",
    "        pass\n",
    "    r['hashtags'] = [v for mention in tweet['entities']['hashtags'] for k,v in mention.items() if k == 'text']\n",
    "    r['in_reply_to_status_id'] = tweet['in_reply_to_status_id']\n",
    "    r['in_reply_to_screen_name'] = tweet['in_reply_to_screen_name']\n",
    "    if r['in_reply_to_status_id'] is not None:\n",
    "        try:\n",
    "            main_tweet = twitter.show_status(id=r['in_reply_to_status_id'])\n",
    "            r['in_reply_to_status_text'] = main_tweet['text']\n",
    "        except:\n",
    "            pass\n",
    "    \n",
    "    return r"
   ]
  },
  {
   "cell_type": "markdown",
   "metadata": {},
   "source": [
    "## Export web scraping data in train set"
   ]
  },
  {
   "cell_type": "code",
   "execution_count": null,
   "metadata": {
    "scrolled": true
   },
   "outputs": [],
   "source": [
    "extra_infos = []\n",
    "for tweet_id in log_progress(df_train['tweet_id'][3400:] , every = 1):\n",
    "    extra_infos.append(add_more_info(tweet_id))"
   ]
  },
  {
   "cell_type": "code",
   "execution_count": 110,
   "metadata": {},
   "outputs": [],
   "source": [
    "df_train_merge = pd.concat([df_train, pd.DataFrame(extra_infos)], axis = 1)"
   ]
  },
  {
   "cell_type": "code",
   "execution_count": 112,
   "metadata": {},
   "outputs": [],
   "source": [
    "df_train_merge.to_csv('./processed_data/train_with_scraping.csv')"
   ]
  },
  {
   "cell_type": "markdown",
   "metadata": {},
   "source": [
    "## Export web scraping data in test set"
   ]
  },
  {
   "cell_type": "code",
   "execution_count": null,
   "metadata": {},
   "outputs": [
    {
     "data": {
      "application/vnd.jupyter.widget-view+json": {
       "model_id": "81a17588c0224f18a753c86a0defda10",
       "version_major": 2,
       "version_minor": 0
      },
      "text/plain": [
       "VBox(children=(HTML(value=''), IntProgress(value=0, max=22840)))"
      ]
     },
     "metadata": {},
     "output_type": "display_data"
    },
    {
     "name": "stdout",
     "output_type": "stream",
     "text": [
      "Twitter API returned a 429 (Too Many Requests), Rate limit exceeded\n",
      "Sleeping for a min ......\n",
      "Twitter API returned a 429 (Too Many Requests), Rate limit exceeded\n",
      "Sleeping for a min ......\n",
      "Twitter API returned a 429 (Too Many Requests), Rate limit exceeded\n",
      "Sleeping for a min ......\n",
      "Twitter API returned a 429 (Too Many Requests), Rate limit exceeded\n",
      "Sleeping for a min ......\n",
      "Twitter API returned a 429 (Too Many Requests), Rate limit exceeded\n",
      "Sleeping for a min ......\n",
      "Twitter API returned a 429 (Too Many Requests), Rate limit exceeded\n",
      "Sleeping for a min ......\n",
      "Twitter API returned a 429 (Too Many Requests), Rate limit exceeded\n",
      "Sleeping for a min ......\n"
     ]
    }
   ],
   "source": [
    "extra_infos = []\n",
    "for tweet_id in log_progress(df_test['tweet_id'] , every = 1):\n",
    "    extra_infos.append(add_more_info(tweet_id))"
   ]
  },
  {
   "cell_type": "code",
   "execution_count": null,
   "metadata": {},
   "outputs": [],
   "source": [
    "df_extra_infos = pd.DataFrame(extra_infos)\n",
    "df_test_merge = pd.concat([df_test, df_extra_infos], axis = 1)"
   ]
  },
  {
   "cell_type": "code",
   "execution_count": null,
   "metadata": {},
   "outputs": [],
   "source": [
    "df_test_merge.to_csv('./processed_data/test_with_scraping.csv', index = False)"
   ]
  },
  {
   "cell_type": "markdown",
   "metadata": {
    "heading_collapsed": true
   },
   "source": [
    "# Distribution on Train data"
   ]
  },
  {
   "cell_type": "code",
   "execution_count": 14,
   "metadata": {
    "hidden": true
   },
   "outputs": [
    {
     "data": {
      "text/plain": [
       "<matplotlib.axes._subplots.AxesSubplot at 0x13c0f28d0>"
      ]
     },
     "execution_count": 14,
     "metadata": {},
     "output_type": "execute_result"
    },
    {
     "data": {
      "image/png": "[encoded data removed]",
      "text/plain": [
       "<Figure size 432x288 with 1 Axes>"
      ]
     },
     "metadata": {
      "needs_background": "light"
     },
     "output_type": "display_data"
    }
   ],
   "source": [
    "sns.countplot(x='Event ID', data=df_train)"
   ]
  },
  {
   "cell_type": "code",
   "execution_count": 15,
   "metadata": {
    "hidden": true
   },
   "outputs": [
    {
     "data": {
      "text/plain": [
       "<matplotlib.axes._subplots.AxesSubplot at 0x13cf0cc50>"
      ]
     },
     "execution_count": 15,
     "metadata": {},
     "output_type": "execute_result"
    },
    {
     "data": {
      "image/png": "[encoded data removed]",
      "text/plain": [
       "<Figure size 432x288 with 1 Axes>"
      ]
     },
     "metadata": {
      "needs_background": "light"
     },
     "output_type": "display_data"
    }
   ],
   "source": [
    "sns.countplot(x='Is_Food', data=df_train)"
   ]
  },
  {
   "cell_type": "code",
   "execution_count": 16,
   "metadata": {
    "hidden": true
   },
   "outputs": [
    {
     "data": {
      "text/plain": [
       "(array([ 0,  1,  2,  3,  4,  5,  6,  7,  8,  9, 10, 11, 12, 13, 14, 15]),\n",
       " <a list of 16 Text xticklabel objects>)"
      ]
     },
     "execution_count": 16,
     "metadata": {},
     "output_type": "execute_result"
    },
    {
     "data": {
      "image/png": "[encoded data removed]",
      "text/plain": [
       "<Figure size 432x288 with 1 Axes>"
      ]
     },
     "metadata": {
      "needs_background": "light"
     },
     "output_type": "display_data"
    }
   ],
   "source": [
    "sns.countplot(x='Date', data=df_train, order = sorted(set(df_train['Date'])))\n",
    "plt.xticks(rotation=90)"
   ]
  },
  {
   "cell_type": "code",
   "execution_count": 17,
   "metadata": {
    "hidden": true
   },
   "outputs": [
    {
     "data": {
      "text/plain": [
       "<matplotlib.axes._subplots.AxesSubplot at 0x13cf4b748>"
      ]
     },
     "execution_count": 17,
     "metadata": {},
     "output_type": "execute_result"
    },
    {
     "data": {
      "image/png": "[encoded data removed]",
      "text/plain": [
       "<Figure size 1152x432 with 2 Axes>"
      ]
     },
     "metadata": {
      "needs_background": "light"
     },
     "output_type": "display_data"
    }
   ],
   "source": [
    "plt.figure(figsize=(16, 6))\n",
    "pivot = df_train.groupby(['Date','Event ID'], as_index=False)['Link'].\\\n",
    "            agg({'count':len}).\\\n",
    "            pivot('Date','Event ID','count')\n",
    "sns.heatmap(pivot, robust=True, annot=True, fmt='.4g')"
   ]
  },
  {
   "cell_type": "markdown",
   "metadata": {
    "heading_collapsed": true
   },
   "source": [
    "# NLP on Abstract"
   ]
  },
  {
   "cell_type": "markdown",
   "metadata": {
    "hidden": true
   },
   "source": [
    "## Remove stop words, and tokenize"
   ]
  },
  {
   "cell_type": "code",
   "execution_count": 18,
   "metadata": {
    "hidden": true
   },
   "outputs": [],
   "source": [
    "stop_words_getter = lambda token: token.is_stop or token.lemma_ in STOP_WORDS\n",
    "Token.set_extension('is_stop', getter=stop_words_getter, force=True)  # set attribute with getter"
   ]
  },
  {
   "cell_type": "code",
   "execution_count": 19,
   "metadata": {
    "hidden": true
   },
   "outputs": [],
   "source": [
    "def filter_token(token):\n",
    "    if(token.is_punct or \\\n",
    "       token.is_digit or \\\n",
    "       token.is_space or \\\n",
    "       token.like_num or \\\n",
    "       not token.text.isalpha() or \\\n",
    "       token.lemma_ == '-PRON-' or \\\n",
    "       'http' in token.text or \\\n",
    "       '@' in token.text or \\\n",
    "       \"’s\" in token.text or \\\n",
    "       \"'s\" in token.text or \\\n",
    "       token.text == 'rt' or \\\n",
    "       len(token.text) <= 1 or \\\n",
    "       token._.is_stop):\n",
    "        return(False)\n",
    "    else:\n",
    "        return(True)"
   ]
  },
  {
   "cell_type": "code",
   "execution_count": 20,
   "metadata": {
    "hidden": true
   },
   "outputs": [],
   "source": [
    "def clean(text):\n",
    "    return [token.lemma_ for token in nlp(str(text).lower()) if filter_token(token)]"
   ]
  },
  {
   "cell_type": "markdown",
   "metadata": {
    "hidden": true
   },
   "source": [
    "### Train"
   ]
  },
  {
   "cell_type": "code",
   "execution_count": 21,
   "metadata": {
    "hidden": true
   },
   "outputs": [
    {
     "data": {
      "application/vnd.jupyter.widget-view+json": {
       "model_id": "92129e826f5a4f04a144c02623c9eedf",
       "version_major": 2,
       "version_minor": 0
      },
      "text/plain": [
       "VBox(children=(HTML(value=''), IntProgress(value=0, max=4183)))"
      ]
     },
     "metadata": {},
     "output_type": "display_data"
    },
    {
     "name": "stdout",
     "output_type": "stream",
     "text": [
      "CPU times: user 3min 17s, sys: 25.8 s, total: 3min 42s\n",
      "Wall time: 37.8 s\n"
     ]
    }
   ],
   "source": [
    "%%time\n",
    "temp = []\n",
    "for text in log_progress(df_train['Abstract'], every = 100):\n",
    "    temp.append(clean(text))\n",
    "df_train['ab_clean'] = temp"
   ]
  },
  {
   "cell_type": "code",
   "execution_count": 22,
   "metadata": {
    "hidden": true
   },
   "outputs": [
    {
     "data": {
      "text/html": [
       "<div>\n",
       "<style scoped>\n",
       "    .dataframe tbody tr th:only-of-type {\n",
       "        vertical-align: middle;\n",
       "    }\n",
       "\n",
       "    .dataframe tbody tr th {\n",
       "        vertical-align: top;\n",
       "    }\n",
       "\n",
       "    .dataframe thead th {\n",
       "        text-align: right;\n",
       "    }\n",
       "</style>\n",
       "<table border=\"1\" class=\"dataframe\">\n",
       "  <thead>\n",
       "    <tr style=\"text-align: right;\">\n",
       "      <th></th>\n",
       "      <th>Abstract</th>\n",
       "      <th>ab_clean</th>\n",
       "    </tr>\n",
       "  </thead>\n",
       "  <tbody>\n",
       "    <tr>\n",
       "      <th>0</th>\n",
       "      <td>New dog food recall and latest warning on grain-free foods #SmartNews https://t.co/nS49e7r63l</td>\n",
       "      <td>[new, dog, food, recall, late, warning, grain, free, food, smartnew]</td>\n",
       "    </tr>\n",
       "    <tr>\n",
       "      <th>1</th>\n",
       "      <td>New Dog Food Recall And The Latest Warning On Grain-Free Foods... https://t.co/brx3qW4t4L https://t.co/5XcIAt9g4p</td>\n",
       "      <td>[new, dog, food, recall, late, warning, grain, free, food]</td>\n",
       "    </tr>\n",
       "    <tr>\n",
       "      <th>2</th>\n",
       "      <td>RT @BaybeeReade: Another dog food recall over dangerous levels of vitamin D - Fox News https://t.co/z0w17ubVay</td>\n",
       "      <td>[dog, food, recall, dangerous, level, vitamin, fox, news]</td>\n",
       "    </tr>\n",
       "  </tbody>\n",
       "</table>\n",
       "</div>"
      ],
      "text/plain": [
       "                                                                                                            Abstract  \\\n",
       "0                      New dog food recall and latest warning on grain-free foods #SmartNews https://t.co/nS49e7r63l   \n",
       "1  New Dog Food Recall And The Latest Warning On Grain-Free Foods... https://t.co/brx3qW4t4L https://t.co/5XcIAt9g4p   \n",
       "2     RT @BaybeeReade: Another dog food recall over dangerous levels of vitamin D - Fox News https://t.co/z0w17ubVay   \n",
       "\n",
       "                                                               ab_clean  \n",
       "0  [new, dog, food, recall, late, warning, grain, free, food, smartnew]  \n",
       "1            [new, dog, food, recall, late, warning, grain, free, food]  \n",
       "2             [dog, food, recall, dangerous, level, vitamin, fox, news]  "
      ]
     },
     "execution_count": 22,
     "metadata": {},
     "output_type": "execute_result"
    }
   ],
   "source": [
    "df_train[['Abstract','ab_clean']].head(3)"
   ]
  },
  {
   "cell_type": "markdown",
   "metadata": {
    "hidden": true
   },
   "source": [
    "### Test"
   ]
  },
  {
   "cell_type": "code",
   "execution_count": 23,
   "metadata": {
    "hidden": true
   },
   "outputs": [
    {
     "data": {
      "application/vnd.jupyter.widget-view+json": {
       "model_id": "425c8c2f44474a7a9793b8f1740c2e55",
       "version_major": 2,
       "version_minor": 0
      },
      "text/plain": [
       "VBox(children=(HTML(value=''), IntProgress(value=0, max=22840)))"
      ]
     },
     "metadata": {},
     "output_type": "display_data"
    },
    {
     "name": "stdout",
     "output_type": "stream",
     "text": [
      "CPU times: user 16min 18s, sys: 1min 57s, total: 18min 15s\n",
      "Wall time: 3min 4s\n"
     ]
    }
   ],
   "source": [
    "%%time\n",
    "temp = []\n",
    "for text in log_progress(df_test['Abstract'], every = 100):\n",
    "    temp.append(clean(text))\n",
    "df_test['ab_clean'] = temp"
   ]
  },
  {
   "cell_type": "code",
   "execution_count": 24,
   "metadata": {
    "hidden": true
   },
   "outputs": [
    {
     "data": {
      "text/html": [
       "<div>\n",
       "<style scoped>\n",
       "    .dataframe tbody tr th:only-of-type {\n",
       "        vertical-align: middle;\n",
       "    }\n",
       "\n",
       "    .dataframe tbody tr th {\n",
       "        vertical-align: top;\n",
       "    }\n",
       "\n",
       "    .dataframe thead th {\n",
       "        text-align: right;\n",
       "    }\n",
       "</style>\n",
       "<table border=\"1\" class=\"dataframe\">\n",
       "  <thead>\n",
       "    <tr style=\"text-align: right;\">\n",
       "      <th></th>\n",
       "      <th>Abstract</th>\n",
       "      <th>ab_clean</th>\n",
       "    </tr>\n",
       "  </thead>\n",
       "  <tbody>\n",
       "    <tr>\n",
       "      <th>0</th>\n",
       "      <td>@pccs_heron Salmonella</td>\n",
       "      <td>[salmonella]</td>\n",
       "    </tr>\n",
       "    <tr>\n",
       "      <th>1</th>\n",
       "      <td>@richardlanigan @trishgreenhalgh No. It's not feaces alone. Not at all. Polio virus is transmitted by the feacal… https://t.co/8ziThZHccA</td>\n",
       "      <td>[feace, polio, virus, transmit, feacal]</td>\n",
       "    </tr>\n",
       "    <tr>\n",
       "      <th>2</th>\n",
       "      <td>@PatchouliW @BecciCath @MavenOfMayhem @SwiftOnSecurity For a while I thought I was allergic to water because of the… https://t.co/XoMGCuQLcs</td>\n",
       "      <td>[think, allergic, water]</td>\n",
       "    </tr>\n",
       "  </tbody>\n",
       "</table>\n",
       "</div>"
      ],
      "text/plain": [
       "                                                                                                                                       Abstract  \\\n",
       "0                                                                                                                        @pccs_heron Salmonella   \n",
       "1     @richardlanigan @trishgreenhalgh No. It's not feaces alone. Not at all. Polio virus is transmitted by the feacal… https://t.co/8ziThZHccA   \n",
       "2  @PatchouliW @BecciCath @MavenOfMayhem @SwiftOnSecurity For a while I thought I was allergic to water because of the… https://t.co/XoMGCuQLcs   \n",
       "\n",
       "                                  ab_clean  \n",
       "0                             [salmonella]  \n",
       "1  [feace, polio, virus, transmit, feacal]  \n",
       "2                 [think, allergic, water]  "
      ]
     },
     "execution_count": 24,
     "metadata": {},
     "output_type": "execute_result"
    }
   ],
   "source": [
    "df_test[['Abstract','ab_clean']].head(3)"
   ]
  },
  {
   "cell_type": "markdown",
   "metadata": {
    "hidden": true
   },
   "source": [
    "## Apply Phrase model"
   ]
  },
  {
   "cell_type": "code",
   "execution_count": 25,
   "metadata": {
    "hidden": true
   },
   "outputs": [],
   "source": [
    "bigram_model = Phraser(Phrases(list(df_train['ab_clean']) + list(df_test['ab_clean'])))"
   ]
  },
  {
   "cell_type": "code",
   "execution_count": 26,
   "metadata": {
    "hidden": true
   },
   "outputs": [],
   "source": [
    "df_train['ab_clean_ph'] = df_train['ab_clean'].apply(lambda text: bigram_model[text])\n",
    "df_test['ab_clean_ph']  = df_test['ab_clean'].apply(lambda text: bigram_model[text])"
   ]
  },
  {
   "cell_type": "code",
   "execution_count": 27,
   "metadata": {
    "hidden": true
   },
   "outputs": [
    {
     "data": {
      "text/html": [
       "<div>\n",
       "<style scoped>\n",
       "    .dataframe tbody tr th:only-of-type {\n",
       "        vertical-align: middle;\n",
       "    }\n",
       "\n",
       "    .dataframe tbody tr th {\n",
       "        vertical-align: top;\n",
       "    }\n",
       "\n",
       "    .dataframe thead th {\n",
       "        text-align: right;\n",
       "    }\n",
       "</style>\n",
       "<table border=\"1\" class=\"dataframe\">\n",
       "  <thead>\n",
       "    <tr style=\"text-align: right;\">\n",
       "      <th></th>\n",
       "      <th>Abstract</th>\n",
       "      <th>ab_clean</th>\n",
       "      <th>ab_clean_ph</th>\n",
       "    </tr>\n",
       "  </thead>\n",
       "  <tbody>\n",
       "    <tr>\n",
       "      <th>0</th>\n",
       "      <td>New dog food recall and latest warning on grain-free foods #SmartNews https://t.co/nS49e7r63l</td>\n",
       "      <td>[new, dog, food, recall, late, warning, grain, free, food, smartnew]</td>\n",
       "      <td>[new, dog, food, recall, late_warning, grain_free, food, smartnew]</td>\n",
       "    </tr>\n",
       "    <tr>\n",
       "      <th>1</th>\n",
       "      <td>New Dog Food Recall And The Latest Warning On Grain-Free Foods... https://t.co/brx3qW4t4L https://t.co/5XcIAt9g4p</td>\n",
       "      <td>[new, dog, food, recall, late, warning, grain, free, food]</td>\n",
       "      <td>[new, dog, food, recall, late_warning, grain_free, food]</td>\n",
       "    </tr>\n",
       "    <tr>\n",
       "      <th>2</th>\n",
       "      <td>RT @BaybeeReade: Another dog food recall over dangerous levels of vitamin D - Fox News https://t.co/z0w17ubVay</td>\n",
       "      <td>[dog, food, recall, dangerous, level, vitamin, fox, news]</td>\n",
       "      <td>[dog, food, recall, dangerous_level, vitamin_fox, news]</td>\n",
       "    </tr>\n",
       "  </tbody>\n",
       "</table>\n",
       "</div>"
      ],
      "text/plain": [
       "                                                                                                            Abstract  \\\n",
       "0                      New dog food recall and latest warning on grain-free foods #SmartNews https://t.co/nS49e7r63l   \n",
       "1  New Dog Food Recall And The Latest Warning On Grain-Free Foods... https://t.co/brx3qW4t4L https://t.co/5XcIAt9g4p   \n",
       "2     RT @BaybeeReade: Another dog food recall over dangerous levels of vitamin D - Fox News https://t.co/z0w17ubVay   \n",
       "\n",
       "                                                               ab_clean  \\\n",
       "0  [new, dog, food, recall, late, warning, grain, free, food, smartnew]   \n",
       "1            [new, dog, food, recall, late, warning, grain, free, food]   \n",
       "2             [dog, food, recall, dangerous, level, vitamin, fox, news]   \n",
       "\n",
       "                                                          ab_clean_ph  \n",
       "0  [new, dog, food, recall, late_warning, grain_free, food, smartnew]  \n",
       "1            [new, dog, food, recall, late_warning, grain_free, food]  \n",
       "2             [dog, food, recall, dangerous_level, vitamin_fox, news]  "
      ]
     },
     "execution_count": 27,
     "metadata": {},
     "output_type": "execute_result"
    }
   ],
   "source": [
    "df_train[['Abstract','ab_clean','ab_clean_ph']].head(3)"
   ]
  },
  {
   "cell_type": "code",
   "execution_count": 28,
   "metadata": {
    "hidden": true
   },
   "outputs": [
    {
     "data": {
      "text/html": [
       "<div>\n",
       "<style scoped>\n",
       "    .dataframe tbody tr th:only-of-type {\n",
       "        vertical-align: middle;\n",
       "    }\n",
       "\n",
       "    .dataframe tbody tr th {\n",
       "        vertical-align: top;\n",
       "    }\n",
       "\n",
       "    .dataframe thead th {\n",
       "        text-align: right;\n",
       "    }\n",
       "</style>\n",
       "<table border=\"1\" class=\"dataframe\">\n",
       "  <thead>\n",
       "    <tr style=\"text-align: right;\">\n",
       "      <th></th>\n",
       "      <th>Abstract</th>\n",
       "      <th>ab_clean</th>\n",
       "      <th>ab_clean_ph</th>\n",
       "    </tr>\n",
       "  </thead>\n",
       "  <tbody>\n",
       "    <tr>\n",
       "      <th>0</th>\n",
       "      <td>@pccs_heron Salmonella</td>\n",
       "      <td>[salmonella]</td>\n",
       "      <td>[salmonella]</td>\n",
       "    </tr>\n",
       "    <tr>\n",
       "      <th>1</th>\n",
       "      <td>@richardlanigan @trishgreenhalgh No. It's not feaces alone. Not at all. Polio virus is transmitted by the feacal… https://t.co/8ziThZHccA</td>\n",
       "      <td>[feace, polio, virus, transmit, feacal]</td>\n",
       "      <td>[feace, polio, virus, transmit, feacal]</td>\n",
       "    </tr>\n",
       "    <tr>\n",
       "      <th>2</th>\n",
       "      <td>@PatchouliW @BecciCath @MavenOfMayhem @SwiftOnSecurity For a while I thought I was allergic to water because of the… https://t.co/XoMGCuQLcs</td>\n",
       "      <td>[think, allergic, water]</td>\n",
       "      <td>[think, allergic, water]</td>\n",
       "    </tr>\n",
       "  </tbody>\n",
       "</table>\n",
       "</div>"
      ],
      "text/plain": [
       "                                                                                                                                       Abstract  \\\n",
       "0                                                                                                                        @pccs_heron Salmonella   \n",
       "1     @richardlanigan @trishgreenhalgh No. It's not feaces alone. Not at all. Polio virus is transmitted by the feacal… https://t.co/8ziThZHccA   \n",
       "2  @PatchouliW @BecciCath @MavenOfMayhem @SwiftOnSecurity For a while I thought I was allergic to water because of the… https://t.co/XoMGCuQLcs   \n",
       "\n",
       "                                  ab_clean  \\\n",
       "0                             [salmonella]   \n",
       "1  [feace, polio, virus, transmit, feacal]   \n",
       "2                 [think, allergic, water]   \n",
       "\n",
       "                               ab_clean_ph  \n",
       "0                             [salmonella]  \n",
       "1  [feace, polio, virus, transmit, feacal]  \n",
       "2                 [think, allergic, water]  "
      ]
     },
     "execution_count": 28,
     "metadata": {},
     "output_type": "execute_result"
    }
   ],
   "source": [
    "df_test[['Abstract','ab_clean','ab_clean_ph']].head(3)"
   ]
  },
  {
   "cell_type": "markdown",
   "metadata": {
    "hidden": true
   },
   "source": [
    "## Highlight zero length abstract"
   ]
  },
  {
   "cell_type": "code",
   "execution_count": 29,
   "metadata": {
    "hidden": true
   },
   "outputs": [
    {
     "data": {
      "text/plain": [
       "<matplotlib.axes._subplots.AxesSubplot at 0x14d8e9320>"
      ]
     },
     "execution_count": 29,
     "metadata": {},
     "output_type": "execute_result"
    },
    {
     "data": {
      "image/png": "[encoded data removed]",
      "text/plain": [
       "<Figure size 432x288 with 1 Axes>"
      ]
     },
     "metadata": {
      "needs_background": "light"
     },
     "output_type": "display_data"
    }
   ],
   "source": [
    "sns.distplot([len(x) for x in df_train['ab_clean_ph']], kde = False)"
   ]
  },
  {
   "cell_type": "code",
   "execution_count": 30,
   "metadata": {
    "hidden": true
   },
   "outputs": [
    {
     "data": {
      "text/plain": [
       "<matplotlib.axes._subplots.AxesSubplot at 0x14d90c5c0>"
      ]
     },
     "execution_count": 30,
     "metadata": {},
     "output_type": "execute_result"
    },
    {
     "data": {
      "image/png": "[encoded data removed]",
      "text/plain": [
       "<Figure size 432x288 with 1 Axes>"
      ]
     },
     "metadata": {
      "needs_background": "light"
     },
     "output_type": "display_data"
    }
   ],
   "source": [
    "sns.distplot([len(x) for x in df_test['ab_clean_ph']], kde = False)"
   ]
  },
  {
   "cell_type": "code",
   "execution_count": 31,
   "metadata": {
    "hidden": true
   },
   "outputs": [],
   "source": [
    "df_train['zero_length'] = df_train['ab_clean_ph'].apply(lambda x: True if len(x) == 0 or x == ['nan'] else False)\n",
    "df_test['zero_length'] = df_test['ab_clean_ph'].apply(lambda x: True if len(x) == 0 or x == ['nan'] else False)"
   ]
  },
  {
   "cell_type": "code",
   "execution_count": 32,
   "metadata": {
    "hidden": true
   },
   "outputs": [
    {
     "name": "stdout",
     "output_type": "stream",
     "text": [
      "8 zero length cleaned abstract in training set.\n",
      "1443 zero length cleaned abstract in test set.\n"
     ]
    }
   ],
   "source": [
    "print(sum(df_train['zero_length']), 'zero length cleaned abstract in training set.')\n",
    "print(sum(df_test['zero_length']), 'zero length cleaned abstract in test set.')"
   ]
  },
  {
   "cell_type": "markdown",
   "metadata": {},
   "source": [
    "# Try: Explore what makes a news `Is_Food`"
   ]
  },
  {
   "cell_type": "code",
   "execution_count": 37,
   "metadata": {},
   "outputs": [],
   "source": [
    "all_events_top_words = dict()\n",
    "for event_id in range(16):\n",
    "    event_subset = df_train[df_train['Event ID'] == event_id]\n",
    "    corpus = list(event_subset['ab_clean_ph'].apply(lambda x: ' '.join(x)))\n",
    "    vectorizer = CountVectorizer(binary = True) # if in sentence or not\n",
    "    X = vectorizer.fit_transform(corpus)\n",
    "    words = vectorizer.get_feature_names()\n",
    "    frequencies = X.toarray().sum(axis = 0)\n",
    "    word_freq = {k:v for k, v in zip(words, frequencies)}\n",
    "    word_freq = sorted(word_freq.items(), key = lambda x: x[1], reverse = True)\n",
    "    all_events_top_words['Event ID: '+ str(event_id)] = word_freq[:10]"
   ]
  },
  {
   "cell_type": "markdown",
   "metadata": {},
   "source": [
    "For each event, what is the top 10 words in terms of corpus frequency\n",
    "- Event ID = 0 means not a labeled event"
   ]
  },
  {
   "cell_type": "code",
   "execution_count": 38,
   "metadata": {},
   "outputs": [
    {
     "data": {
      "text/html": [
       "<div>\n",
       "<style scoped>\n",
       "    .dataframe tbody tr th:only-of-type {\n",
       "        vertical-align: middle;\n",
       "    }\n",
       "\n",
       "    .dataframe tbody tr th {\n",
       "        vertical-align: top;\n",
       "    }\n",
       "\n",
       "    .dataframe thead th {\n",
       "        text-align: right;\n",
       "    }\n",
       "</style>\n",
       "<table border=\"1\" class=\"dataframe\">\n",
       "  <thead>\n",
       "    <tr style=\"text-align: right;\">\n",
       "      <th></th>\n",
       "      <th>Event ID: 0</th>\n",
       "      <th>Event ID: 1</th>\n",
       "      <th>Event ID: 2</th>\n",
       "      <th>Event ID: 3</th>\n",
       "      <th>Event ID: 4</th>\n",
       "      <th>Event ID: 5</th>\n",
       "      <th>Event ID: 6</th>\n",
       "      <th>Event ID: 7</th>\n",
       "      <th>Event ID: 8</th>\n",
       "      <th>Event ID: 9</th>\n",
       "      <th>Event ID: 10</th>\n",
       "      <th>Event ID: 11</th>\n",
       "      <th>Event ID: 12</th>\n",
       "      <th>Event ID: 13</th>\n",
       "      <th>Event ID: 14</th>\n",
       "      <th>Event ID: 15</th>\n",
       "    </tr>\n",
       "  </thead>\n",
       "  <tbody>\n",
       "    <tr>\n",
       "      <th>0</th>\n",
       "      <td>(salmonella, 638)</td>\n",
       "      <td>(food, 240)</td>\n",
       "      <td>(frito_lie, 26)</td>\n",
       "      <td>(food, 18)</td>\n",
       "      <td>(aflatoxin, 19)</td>\n",
       "      <td>(chicken_nugget, 95)</td>\n",
       "      <td>(gorgonzola_dop, 13)</td>\n",
       "      <td>(general_mill, 1297)</td>\n",
       "      <td>(recall, 122)</td>\n",
       "      <td>(nut_butter, 66)</td>\n",
       "      <td>(recall, 33)</td>\n",
       "      <td>(crisp_delicious, 10)</td>\n",
       "      <td>(feta, 8)</td>\n",
       "      <td>(ground_turkey, 4)</td>\n",
       "      <td>(honey_smack, 5)</td>\n",
       "      <td>(brie_cheese, 7)</td>\n",
       "    </tr>\n",
       "    <tr>\n",
       "      <th>1</th>\n",
       "      <td>(food, 185)</td>\n",
       "      <td>(recall, 219)</td>\n",
       "      <td>(recall, 25)</td>\n",
       "      <td>(allergy_alert, 16)</td>\n",
       "      <td>(peanut_butter, 12)</td>\n",
       "      <td>(tyson, 94)</td>\n",
       "      <td>(presenza_di, 11)</td>\n",
       "      <td>(recall, 1187)</td>\n",
       "      <td>(baby_spinach, 96)</td>\n",
       "      <td>(possible_listeria, 44)</td>\n",
       "      <td>(chicken_nugget, 30)</td>\n",
       "      <td>(recall, 10)</td>\n",
       "      <td>(recall, 8)</td>\n",
       "      <td>(jennie, 4)</td>\n",
       "      <td>(kellogg, 5)</td>\n",
       "      <td>(england, 7)</td>\n",
       "    </tr>\n",
       "    <tr>\n",
       "      <th>2</th>\n",
       "      <td>(outbreak, 119)</td>\n",
       "      <td>(dog, 163)</td>\n",
       "      <td>(stacy_simply, 23)</td>\n",
       "      <td>(issue_santa, 16)</td>\n",
       "      <td>(butter, 11)</td>\n",
       "      <td>(food, 93)</td>\n",
       "      <td>(listeria, 10)</td>\n",
       "      <td>(flour, 1105)</td>\n",
       "      <td>(food, 76)</td>\n",
       "      <td>(oskri_recall, 41)</td>\n",
       "      <td>(food, 27)</td>\n",
       "      <td>(brand, 8)</td>\n",
       "      <td>(contamination, 7)</td>\n",
       "      <td>(recall_pound, 4)</td>\n",
       "      <td>(cereal, 4)</td>\n",
       "      <td>(recall, 7)</td>\n",
       "    </tr>\n",
       "    <tr>\n",
       "      <th>3</th>\n",
       "      <td>(chicken, 110)</td>\n",
       "      <td>(hill_pet, 64)</td>\n",
       "      <td>(naked_pita, 19)</td>\n",
       "      <td>(rosa, 16)</td>\n",
       "      <td>(kenya, 9)</td>\n",
       "      <td>(recall, 81)</td>\n",
       "      <td>(dolce, 9)</td>\n",
       "      <td>(gold_medal, 525)</td>\n",
       "      <td>(salmonella, 59)</td>\n",
       "      <td>(recall, 31)</td>\n",
       "      <td>(perdue, 27)</td>\n",
       "      <td>(nugget, 8)</td>\n",
       "      <td>(cheese, 6)</td>\n",
       "      <td>(outbreak, 3)</td>\n",
       "      <td>(outbreak, 3)</td>\n",
       "      <td>(warning, 7)</td>\n",
       "    </tr>\n",
       "    <tr>\n",
       "      <th>4</th>\n",
       "      <td>(recall, 101)</td>\n",
       "      <td>(pet, 45)</td>\n",
       "      <td>(chip, 18)</td>\n",
       "      <td>(walnut_milk, 16)</td>\n",
       "      <td>(nuteez_peanut, 8)</td>\n",
       "      <td>(recall_pound, 48)</td>\n",
       "      <td>(marchi, 9)</td>\n",
       "      <td>(salmonella_concern, 503)</td>\n",
       "      <td>(possible_salmonella, 53)</td>\n",
       "      <td>(listeria, 22)</td>\n",
       "      <td>(fun_shape, 12)</td>\n",
       "      <td>(salmonella, 8)</td>\n",
       "      <td>(garlic, 4)</td>\n",
       "      <td>(salmonella, 3)</td>\n",
       "      <td>(recall, 3)</td>\n",
       "      <td>(listeria_monocytogene, 5)</td>\n",
       "    </tr>\n",
       "    <tr>\n",
       "      <th>5</th>\n",
       "      <td>(eat, 83)</td>\n",
       "      <td>(vitamin, 38)</td>\n",
       "      <td>(undeclared_milk, 18)</td>\n",
       "      <td>(market_undeclared, 15)</td>\n",
       "      <td>(contaminate_peanut, 7)</td>\n",
       "      <td>(contamination, 27)</td>\n",
       "      <td>(lotti_di, 8)</td>\n",
       "      <td>(bag_gold, 460)</td>\n",
       "      <td>(contamination, 49)</td>\n",
       "      <td>(thrive_market, 22)</td>\n",
       "      <td>(chicken_breast, 11)</td>\n",
       "      <td>(chicken_breast, 7)</td>\n",
       "      <td>(health, 4)</td>\n",
       "      <td>(widen, 3)</td>\n",
       "      <td>(salmonella, 3)</td>\n",
       "      <td>(affect, 3)</td>\n",
       "    </tr>\n",
       "    <tr>\n",
       "      <th>6</th>\n",
       "      <td>(cookie_dough, 80)</td>\n",
       "      <td>(nutrition, 33)</td>\n",
       "      <td>(allergy_alert, 15)</td>\n",
       "      <td>(egg_hipster, 11)</td>\n",
       "      <td>(find, 7)</td>\n",
       "      <td>(possible_rubber, 25)</td>\n",
       "      <td>(lotti, 7)</td>\n",
       "      <td>(medal_unbleached, 389)</td>\n",
       "      <td>(spinach, 34)</td>\n",
       "      <td>(butter, 18)</td>\n",
       "      <td>(undeclared_allergen, 10)</td>\n",
       "      <td>(chicken_nugget, 5)</td>\n",
       "      <td>(herb, 4)</td>\n",
       "      <td>(washington_post, 2)</td>\n",
       "      <td>(product, 2)</td>\n",
       "      <td>(batch, 2)</td>\n",
       "    </tr>\n",
       "    <tr>\n",
       "      <th>7</th>\n",
       "      <td>(eat_raw, 67)</td>\n",
       "      <td>(hill_dog, 30)</td>\n",
       "      <td>(issue_voluntary, 15)</td>\n",
       "      <td>(chipster, 5)</td>\n",
       "      <td>(food, 7)</td>\n",
       "      <td>(recall_alert, 25)</td>\n",
       "      <td>(il, 6)</td>\n",
       "      <td>(salmonella, 378)</td>\n",
       "      <td>(state, 33)</td>\n",
       "      <td>(contamination, 12)</td>\n",
       "      <td>(undeclared_milk, 10)</td>\n",
       "      <td>(food, 5)</td>\n",
       "      <td>(maleny, 4)</td>\n",
       "      <td>(cgan, 1)</td>\n",
       "      <td>(state, 2)</td>\n",
       "      <td>(find, 2)</td>\n",
       "    </tr>\n",
       "    <tr>\n",
       "      <th>8</th>\n",
       "      <td>(egg, 63)</td>\n",
       "      <td>(pet_owner, 28)</td>\n",
       "      <td>(pita_chip, 14)</td>\n",
       "      <td>(egg, 5)</td>\n",
       "      <td>(brand, 6)</td>\n",
       "      <td>(nugget, 23)</td>\n",
       "      <td>(richiamato, 6)</td>\n",
       "      <td>(salmonella_fear, 314)</td>\n",
       "      <td>(product, 24)</td>\n",
       "      <td>(recall_nut, 10)</td>\n",
       "      <td>(allergen, 8)</td>\n",
       "      <td>(canada, 3)</td>\n",
       "      <td>(advice, 3)</td>\n",
       "      <td>(icc, 1)</td>\n",
       "      <td>(accord, 1)</td>\n",
       "      <td>(listeria, 2)</td>\n",
       "    </tr>\n",
       "    <tr>\n",
       "      <th>9</th>\n",
       "      <td>(listeria, 58)</td>\n",
       "      <td>(voluntary_recall, 23)</td>\n",
       "      <td>(small_number, 13)</td>\n",
       "      <td>(chipster_cookie, 4)</td>\n",
       "      <td>(government, 5)</td>\n",
       "      <td>(rubber, 20)</td>\n",
       "      <td>(di, 5)</td>\n",
       "      <td>(unbleached_flour, 312)</td>\n",
       "      <td>(product_contain, 22)</td>\n",
       "      <td>(fruit_nut, 9)</td>\n",
       "      <td>(allergy, 6)</td>\n",
       "      <td>(canadian, 3)</td>\n",
       "      <td>(alert, 3)</td>\n",
       "      <td>(salmonella_concern, 1)</td>\n",
       "      <td>(amid_salmonella, 1)</td>\n",
       "      <td>(money, 2)</td>\n",
       "    </tr>\n",
       "  </tbody>\n",
       "</table>\n",
       "</div>"
      ],
      "text/plain": [
       "          Event ID: 0             Event ID: 1            Event ID: 2  \\\n",
       "0   (salmonella, 638)             (food, 240)        (frito_lie, 26)   \n",
       "1         (food, 185)           (recall, 219)           (recall, 25)   \n",
       "2     (outbreak, 119)              (dog, 163)     (stacy_simply, 23)   \n",
       "3      (chicken, 110)          (hill_pet, 64)       (naked_pita, 19)   \n",
       "4       (recall, 101)               (pet, 45)             (chip, 18)   \n",
       "5           (eat, 83)           (vitamin, 38)  (undeclared_milk, 18)   \n",
       "6  (cookie_dough, 80)         (nutrition, 33)    (allergy_alert, 15)   \n",
       "7       (eat_raw, 67)          (hill_dog, 30)  (issue_voluntary, 15)   \n",
       "8           (egg, 63)         (pet_owner, 28)        (pita_chip, 14)   \n",
       "9      (listeria, 58)  (voluntary_recall, 23)     (small_number, 13)   \n",
       "\n",
       "               Event ID: 3              Event ID: 4            Event ID: 5  \\\n",
       "0               (food, 18)          (aflatoxin, 19)   (chicken_nugget, 95)   \n",
       "1      (allergy_alert, 16)      (peanut_butter, 12)            (tyson, 94)   \n",
       "2        (issue_santa, 16)             (butter, 11)             (food, 93)   \n",
       "3               (rosa, 16)               (kenya, 9)           (recall, 81)   \n",
       "4        (walnut_milk, 16)       (nuteez_peanut, 8)     (recall_pound, 48)   \n",
       "5  (market_undeclared, 15)  (contaminate_peanut, 7)    (contamination, 27)   \n",
       "6        (egg_hipster, 11)                (find, 7)  (possible_rubber, 25)   \n",
       "7            (chipster, 5)                (food, 7)     (recall_alert, 25)   \n",
       "8                 (egg, 5)               (brand, 6)           (nugget, 23)   \n",
       "9     (chipster_cookie, 4)          (government, 5)           (rubber, 20)   \n",
       "\n",
       "            Event ID: 6                Event ID: 7                Event ID: 8  \\\n",
       "0  (gorgonzola_dop, 13)       (general_mill, 1297)              (recall, 122)   \n",
       "1     (presenza_di, 11)             (recall, 1187)         (baby_spinach, 96)   \n",
       "2        (listeria, 10)              (flour, 1105)                 (food, 76)   \n",
       "3            (dolce, 9)          (gold_medal, 525)           (salmonella, 59)   \n",
       "4           (marchi, 9)  (salmonella_concern, 503)  (possible_salmonella, 53)   \n",
       "5         (lotti_di, 8)            (bag_gold, 460)        (contamination, 49)   \n",
       "6            (lotti, 7)    (medal_unbleached, 389)              (spinach, 34)   \n",
       "7               (il, 6)          (salmonella, 378)                (state, 33)   \n",
       "8       (richiamato, 6)     (salmonella_fear, 314)              (product, 24)   \n",
       "9               (di, 5)    (unbleached_flour, 312)      (product_contain, 22)   \n",
       "\n",
       "               Event ID: 9               Event ID: 10           Event ID: 11  \\\n",
       "0         (nut_butter, 66)               (recall, 33)  (crisp_delicious, 10)   \n",
       "1  (possible_listeria, 44)       (chicken_nugget, 30)           (recall, 10)   \n",
       "2       (oskri_recall, 41)                 (food, 27)             (brand, 8)   \n",
       "3             (recall, 31)               (perdue, 27)            (nugget, 8)   \n",
       "4           (listeria, 22)            (fun_shape, 12)        (salmonella, 8)   \n",
       "5      (thrive_market, 22)       (chicken_breast, 11)    (chicken_breast, 7)   \n",
       "6             (butter, 18)  (undeclared_allergen, 10)    (chicken_nugget, 5)   \n",
       "7      (contamination, 12)      (undeclared_milk, 10)              (food, 5)   \n",
       "8         (recall_nut, 10)              (allergen, 8)            (canada, 3)   \n",
       "9           (fruit_nut, 9)               (allergy, 6)          (canadian, 3)   \n",
       "\n",
       "         Event ID: 12             Event ID: 13          Event ID: 14  \\\n",
       "0           (feta, 8)       (ground_turkey, 4)      (honey_smack, 5)   \n",
       "1         (recall, 8)              (jennie, 4)          (kellogg, 5)   \n",
       "2  (contamination, 7)        (recall_pound, 4)           (cereal, 4)   \n",
       "3         (cheese, 6)            (outbreak, 3)         (outbreak, 3)   \n",
       "4         (garlic, 4)          (salmonella, 3)           (recall, 3)   \n",
       "5         (health, 4)               (widen, 3)       (salmonella, 3)   \n",
       "6           (herb, 4)     (washington_post, 2)          (product, 2)   \n",
       "7         (maleny, 4)                (cgan, 1)            (state, 2)   \n",
       "8         (advice, 3)                 (icc, 1)           (accord, 1)   \n",
       "9          (alert, 3)  (salmonella_concern, 1)  (amid_salmonella, 1)   \n",
       "\n",
       "                 Event ID: 15  \n",
       "0            (brie_cheese, 7)  \n",
       "1                (england, 7)  \n",
       "2                 (recall, 7)  \n",
       "3                (warning, 7)  \n",
       "4  (listeria_monocytogene, 5)  \n",
       "5                 (affect, 3)  \n",
       "6                  (batch, 2)  \n",
       "7                   (find, 2)  \n",
       "8               (listeria, 2)  \n",
       "9                  (money, 2)  "
      ]
     },
     "execution_count": 38,
     "metadata": {},
     "output_type": "execute_result"
    }
   ],
   "source": [
    "all_events_top_words = pd.DataFrame(all_events_top_words)\n",
    "all_events_top_words"
   ]
  },
  {
   "cell_type": "markdown",
   "metadata": {},
   "source": [
    "Any words that shows in multiple top 10 for **event id >=1**"
   ]
  },
  {
   "cell_type": "code",
   "execution_count": 39,
   "metadata": {},
   "outputs": [
    {
     "data": {
      "text/html": [
       "<div>\n",
       "<style scoped>\n",
       "    .dataframe tbody tr th:only-of-type {\n",
       "        vertical-align: middle;\n",
       "    }\n",
       "\n",
       "    .dataframe tbody tr th {\n",
       "        vertical-align: top;\n",
       "    }\n",
       "\n",
       "    .dataframe thead th {\n",
       "        text-align: right;\n",
       "    }\n",
       "</style>\n",
       "<table border=\"1\" class=\"dataframe\">\n",
       "  <thead>\n",
       "    <tr style=\"text-align: right;\">\n",
       "      <th></th>\n",
       "      <th>word</th>\n",
       "      <th># of events as top ten</th>\n",
       "    </tr>\n",
       "  </thead>\n",
       "  <tbody>\n",
       "    <tr>\n",
       "      <th>0</th>\n",
       "      <td>recall</td>\n",
       "      <td>11</td>\n",
       "    </tr>\n",
       "    <tr>\n",
       "      <th>1</th>\n",
       "      <td>food</td>\n",
       "      <td>7</td>\n",
       "    </tr>\n",
       "    <tr>\n",
       "      <th>2</th>\n",
       "      <td>salmonella</td>\n",
       "      <td>5</td>\n",
       "    </tr>\n",
       "    <tr>\n",
       "      <th>3</th>\n",
       "      <td>contamination</td>\n",
       "      <td>4</td>\n",
       "    </tr>\n",
       "    <tr>\n",
       "      <th>4</th>\n",
       "      <td>chicken_nugget</td>\n",
       "      <td>3</td>\n",
       "    </tr>\n",
       "    <tr>\n",
       "      <th>5</th>\n",
       "      <td>listeria</td>\n",
       "      <td>3</td>\n",
       "    </tr>\n",
       "    <tr>\n",
       "      <th>6</th>\n",
       "      <td>undeclared_milk</td>\n",
       "      <td>2</td>\n",
       "    </tr>\n",
       "    <tr>\n",
       "      <th>7</th>\n",
       "      <td>allergy_alert</td>\n",
       "      <td>2</td>\n",
       "    </tr>\n",
       "    <tr>\n",
       "      <th>8</th>\n",
       "      <td>butter</td>\n",
       "      <td>2</td>\n",
       "    </tr>\n",
       "    <tr>\n",
       "      <th>9</th>\n",
       "      <td>find</td>\n",
       "      <td>2</td>\n",
       "    </tr>\n",
       "  </tbody>\n",
       "</table>\n",
       "</div>"
      ],
      "text/plain": [
       "              word  # of events as top ten\n",
       "0           recall                      11\n",
       "1             food                       7\n",
       "2       salmonella                       5\n",
       "3    contamination                       4\n",
       "4   chicken_nugget                       3\n",
       "5         listeria                       3\n",
       "6  undeclared_milk                       2\n",
       "7    allergy_alert                       2\n",
       "8           butter                       2\n",
       "9             find                       2"
      ]
     },
     "execution_count": 39,
     "metadata": {},
     "output_type": "execute_result"
    }
   ],
   "source": [
    "counts = {}\n",
    "for event_id, word_freq in all_events_top_words.items():\n",
    "    if int(event_id.split(':')[-1]) >= 1:\n",
    "        for word, freq in word_freq:\n",
    "            try:\n",
    "                counts[word] += 1\n",
    "            except:\n",
    "                counts[word] = 1\n",
    "pd.DataFrame(sorted(counts.items(), key = lambda x:x[1], reverse = True)[:10], columns = ['word', '# of events as top ten'])"
   ]
  },
  {
   "cell_type": "markdown",
   "metadata": {
    "heading_collapsed": true
   },
   "source": [
    "# (Not used) Try: Binary Classification Model on `Is_Food`"
   ]
  },
  {
   "cell_type": "markdown",
   "metadata": {
    "hidden": true
   },
   "source": [
    "**Generate TF-IDF matrix**"
   ]
  },
  {
   "cell_type": "markdown",
   "metadata": {
    "hidden": true
   },
   "source": [
    "- Without zero length abstracts"
   ]
  },
  {
   "cell_type": "code",
   "execution_count": 867,
   "metadata": {
    "hidden": true
   },
   "outputs": [],
   "source": [
    "df_train_clean = df_train[~df_train['zero_length']]\n",
    "df_test_clean = df_test[~df_test['zero_length']]"
   ]
  },
  {
   "cell_type": "code",
   "execution_count": 868,
   "metadata": {
    "hidden": true
   },
   "outputs": [],
   "source": [
    "vectorizer = TfidfVectorizer(min_df=3, sublinear_tf=True, max_df=0.5)\n",
    "corpus = list(df_train_clean['ab_clean_ph']) + list(df_test_clean['ab_clean_ph'])\n",
    "vectorizer.fit([' '.join(text) for text in corpus])\n",
    "X_train  = vectorizer.transform([' '.join(text) for text in df_train_clean['ab_clean_ph']])\n",
    "X_test = vectorizer.transform([' '.join(text) for text in df_test_clean['ab_clean_ph']])\n",
    "y_train = df_train_clean['Is_Food'].apply(lambda x: 1 if x else 0)"
   ]
  },
  {
   "cell_type": "code",
   "execution_count": 869,
   "metadata": {
    "hidden": true
   },
   "outputs": [],
   "source": [
    "x_columns = [word for word, index in sorted(vectorizer.vocabulary_.items(), key = lambda x:x[1])]"
   ]
  },
  {
   "cell_type": "markdown",
   "metadata": {
    "hidden": true
   },
   "source": [
    "**Fit Regularized Logistic Regression**"
   ]
  },
  {
   "cell_type": "code",
   "execution_count": 870,
   "metadata": {
    "hidden": true
   },
   "outputs": [
    {
     "data": {
      "text/plain": [
       "[0.001, 0.01, 0.1, 1, 10, 100, 1000]"
      ]
     },
     "execution_count": 870,
     "metadata": {},
     "output_type": "execute_result"
    }
   ],
   "source": [
    "param_test_lr =  {'C' :[10 ** x for x in list(range(-3,4,1))]}\n",
    "param_test_lr['C']"
   ]
  },
  {
   "cell_type": "code",
   "execution_count": 871,
   "metadata": {
    "hidden": true
   },
   "outputs": [],
   "source": [
    "gsearch_lr = GridSearchCV(estimator = LogisticRegression( \n",
    "        penalty='l2', \n",
    "        solver='liblinear',\n",
    "        max_iter=1000,\n",
    "        class_weight = 'balanced'\n",
    "    ),                   \n",
    "    param_grid = param_test_lr, \n",
    "        scoring = {'AUC': 'roc_auc'},\n",
    "        cv = 5,\n",
    "        n_jobs = 4, \n",
    "        refit = 'AUC')"
   ]
  },
  {
   "cell_type": "code",
   "execution_count": 872,
   "metadata": {
    "hidden": true
   },
   "outputs": [
    {
     "data": {
      "text/plain": [
       "GridSearchCV(cv=5, error_score='raise-deprecating',\n",
       "       estimator=LogisticRegression(C=1.0, class_weight='balanced', dual=False,\n",
       "          fit_intercept=True, intercept_scaling=1, max_iter=1000,\n",
       "          multi_class='warn', n_jobs=None, penalty='l2', random_state=None,\n",
       "          solver='liblinear', tol=0.0001, verbose=0, warm_start=False),\n",
       "       fit_params=None, iid='warn', n_jobs=4,\n",
       "       param_grid={'C': [0.001, 0.01, 0.1, 1, 10, 100, 1000]},\n",
       "       pre_dispatch='2*n_jobs', refit='AUC', return_train_score='warn',\n",
       "       scoring={'AUC': 'roc_auc'}, verbose=0)"
      ]
     },
     "execution_count": 872,
     "metadata": {},
     "output_type": "execute_result"
    }
   ],
   "source": [
    "gsearch_lr.fit(X_train, y_train)"
   ]
  },
  {
   "cell_type": "markdown",
   "metadata": {
    "hidden": true
   },
   "source": [
    "**Take a look at impact of penalty param**"
   ]
  },
  {
   "cell_type": "code",
   "execution_count": 873,
   "metadata": {
    "hidden": true
   },
   "outputs": [
    {
     "data": {
      "image/png": "[encoded data removed]",
      "text/plain": [
       "<Figure size 1368x504 with 1 Axes>"
      ]
     },
     "metadata": {
      "needs_background": "light"
     },
     "output_type": "display_data"
    }
   ],
   "source": [
    "plot_auc(gsearch_lr)"
   ]
  },
  {
   "cell_type": "markdown",
   "metadata": {
    "hidden": true
   },
   "source": [
    "**Refit the model with best C**"
   ]
  },
  {
   "cell_type": "code",
   "execution_count": 874,
   "metadata": {
    "hidden": true
   },
   "outputs": [
    {
     "name": "stdout",
     "output_type": "stream",
     "text": [
      "The best C is 1\n"
     ]
    }
   ],
   "source": [
    "best_C = gsearch_lr.best_params_['C']\n",
    "print('The best C is '+ str(best_C))"
   ]
  },
  {
   "cell_type": "code",
   "execution_count": 875,
   "metadata": {
    "hidden": true
   },
   "outputs": [
    {
     "name": "stdout",
     "output_type": "stream",
     "text": [
      "The best AUC is 0.9801560151874916\n"
     ]
    }
   ],
   "source": [
    "best_AUC_lr = gsearch_lr.best_score_\n",
    "print('The best AUC is '+ str(best_AUC_lr))"
   ]
  },
  {
   "cell_type": "code",
   "execution_count": 876,
   "metadata": {
    "hidden": true
   },
   "outputs": [],
   "source": [
    "lr_ = LogisticRegression(penalty='l2', solver='liblinear', C=best_C, max_iter=1000,class_weight = 'balanced')\n",
    "lr_ = lr_.fit(X = X_train, y = y_train)"
   ]
  },
  {
   "cell_type": "markdown",
   "metadata": {
    "hidden": true
   },
   "source": [
    "**Investigate Coefficients**"
   ]
  },
  {
   "cell_type": "markdown",
   "metadata": {
    "hidden": true
   },
   "source": [
    "Some of the words do not make sense because they are too event-specific"
   ]
  },
  {
   "cell_type": "code",
   "execution_count": 877,
   "metadata": {
    "hidden": true
   },
   "outputs": [
    {
     "data": {
      "text/html": [
       "<div>\n",
       "<style scoped>\n",
       "    .dataframe tbody tr th:only-of-type {\n",
       "        vertical-align: middle;\n",
       "    }\n",
       "\n",
       "    .dataframe tbody tr th {\n",
       "        vertical-align: top;\n",
       "    }\n",
       "\n",
       "    .dataframe thead th {\n",
       "        text-align: right;\n",
       "    }\n",
       "</style>\n",
       "<table border=\"1\" class=\"dataframe\">\n",
       "  <thead>\n",
       "    <tr style=\"text-align: right;\">\n",
       "      <th></th>\n",
       "      <th>variable</th>\n",
       "      <th>coefficient</th>\n",
       "    </tr>\n",
       "  </thead>\n",
       "  <tbody>\n",
       "    <tr>\n",
       "      <th>7656</th>\n",
       "      <td>salmonella</td>\n",
       "      <td>-3.460950</td>\n",
       "    </tr>\n",
       "    <tr>\n",
       "      <th>6251</th>\n",
       "      <td>outbreak</td>\n",
       "      <td>-2.511981</td>\n",
       "    </tr>\n",
       "    <tr>\n",
       "      <th>1453</th>\n",
       "      <td>chicken</td>\n",
       "      <td>-2.078008</td>\n",
       "    </tr>\n",
       "    <tr>\n",
       "      <th>3201</th>\n",
       "      <td>february</td>\n",
       "      <td>-1.596218</td>\n",
       "    </tr>\n",
       "    <tr>\n",
       "      <th>4166</th>\n",
       "      <td>homemade</td>\n",
       "      <td>-1.565159</td>\n",
       "    </tr>\n",
       "    <tr>\n",
       "      <th>5473</th>\n",
       "      <td>meat</td>\n",
       "      <td>-1.527458</td>\n",
       "    </tr>\n",
       "    <tr>\n",
       "      <th>1906</th>\n",
       "      <td>cookie_dough</td>\n",
       "      <td>-1.480451</td>\n",
       "    </tr>\n",
       "    <tr>\n",
       "      <th>2745</th>\n",
       "      <td>egg</td>\n",
       "      <td>-1.473853</td>\n",
       "    </tr>\n",
       "    <tr>\n",
       "      <th>2687</th>\n",
       "      <td>eat_raw</td>\n",
       "      <td>-1.338956</td>\n",
       "    </tr>\n",
       "    <tr>\n",
       "      <th>5133</th>\n",
       "      <td>like</td>\n",
       "      <td>-1.246233</td>\n",
       "    </tr>\n",
       "  </tbody>\n",
       "</table>\n",
       "</div>"
      ],
      "text/plain": [
       "          variable  coefficient\n",
       "7656    salmonella    -3.460950\n",
       "6251      outbreak    -2.511981\n",
       "1453       chicken    -2.078008\n",
       "3201      february    -1.596218\n",
       "4166      homemade    -1.565159\n",
       "5473          meat    -1.527458\n",
       "1906  cookie_dough    -1.480451\n",
       "2745           egg    -1.473853\n",
       "2687       eat_raw    -1.338956\n",
       "5133          like    -1.246233"
      ]
     },
     "execution_count": 877,
     "metadata": {},
     "output_type": "execute_result"
    }
   ],
   "source": [
    "coef_df = pd.DataFrame({'variable':x_columns, 'coefficient':lr_.coef_[0]})\n",
    "coef_df.sort_values(by = 'coefficient').head(10)"
   ]
  },
  {
   "cell_type": "code",
   "execution_count": 878,
   "metadata": {
    "hidden": true
   },
   "outputs": [
    {
     "data": {
      "text/html": [
       "<div>\n",
       "<style scoped>\n",
       "    .dataframe tbody tr th:only-of-type {\n",
       "        vertical-align: middle;\n",
       "    }\n",
       "\n",
       "    .dataframe tbody tr th {\n",
       "        vertical-align: top;\n",
       "    }\n",
       "\n",
       "    .dataframe thead th {\n",
       "        text-align: right;\n",
       "    }\n",
       "</style>\n",
       "<table border=\"1\" class=\"dataframe\">\n",
       "  <thead>\n",
       "    <tr style=\"text-align: right;\">\n",
       "      <th></th>\n",
       "      <th>variable</th>\n",
       "      <th>coefficient</th>\n",
       "    </tr>\n",
       "  </thead>\n",
       "  <tbody>\n",
       "    <tr>\n",
       "      <th>6086</th>\n",
       "      <td>nut_butter</td>\n",
       "      <td>2.554491</td>\n",
       "    </tr>\n",
       "    <tr>\n",
       "      <th>5924</th>\n",
       "      <td>nectarine</td>\n",
       "      <td>2.654673</td>\n",
       "    </tr>\n",
       "    <tr>\n",
       "      <th>7222</th>\n",
       "      <td>recall_pound</td>\n",
       "      <td>2.884865</td>\n",
       "    </tr>\n",
       "    <tr>\n",
       "      <th>3797</th>\n",
       "      <td>gold_medal</td>\n",
       "      <td>3.029194</td>\n",
       "    </tr>\n",
       "    <tr>\n",
       "      <th>6421</th>\n",
       "      <td>peach_nectarine</td>\n",
       "      <td>3.549054</td>\n",
       "    </tr>\n",
       "    <tr>\n",
       "      <th>661</th>\n",
       "      <td>baby_spinach</td>\n",
       "      <td>3.818809</td>\n",
       "    </tr>\n",
       "    <tr>\n",
       "      <th>1456</th>\n",
       "      <td>chicken_nugget</td>\n",
       "      <td>3.835997</td>\n",
       "    </tr>\n",
       "    <tr>\n",
       "      <th>3332</th>\n",
       "      <td>flour</td>\n",
       "      <td>4.546971</td>\n",
       "    </tr>\n",
       "    <tr>\n",
       "      <th>3695</th>\n",
       "      <td>general_mill</td>\n",
       "      <td>5.502666</td>\n",
       "    </tr>\n",
       "    <tr>\n",
       "      <th>7218</th>\n",
       "      <td>recall</td>\n",
       "      <td>7.695421</td>\n",
       "    </tr>\n",
       "  </tbody>\n",
       "</table>\n",
       "</div>"
      ],
      "text/plain": [
       "             variable  coefficient\n",
       "6086       nut_butter     2.554491\n",
       "5924        nectarine     2.654673\n",
       "7222     recall_pound     2.884865\n",
       "3797       gold_medal     3.029194\n",
       "6421  peach_nectarine     3.549054\n",
       "661      baby_spinach     3.818809\n",
       "1456   chicken_nugget     3.835997\n",
       "3332            flour     4.546971\n",
       "3695     general_mill     5.502666\n",
       "7218           recall     7.695421"
      ]
     },
     "execution_count": 878,
     "metadata": {},
     "output_type": "execute_result"
    }
   ],
   "source": [
    "coef_df.sort_values(by = 'coefficient').tail(10)"
   ]
  },
  {
   "cell_type": "markdown",
   "metadata": {
    "hidden": true
   },
   "source": [
    "**Apply to test set**"
   ]
  },
  {
   "cell_type": "code",
   "execution_count": 879,
   "metadata": {
    "hidden": true
   },
   "outputs": [
    {
     "name": "stdout",
     "output_type": "stream",
     "text": [
      "There is a total of 22840 in test set\n",
      "There is a total of 21397 in cleaned test set\n",
      "There is a total of 1297 predicted to be food-related events\n"
     ]
    }
   ],
   "source": [
    "print('There is a total of', len(df_test), 'in test set')\n",
    "print('There is a total of', len(df_test_clean), 'in cleaned test set')\n",
    "pred_probs = [x[1] for x in lr_.predict_proba(X_test)]\n",
    "preds = lr_.predict(X_test)\n",
    "print('There is a total of', sum(preds), 'predicted to be food-related events')"
   ]
  },
  {
   "cell_type": "code",
   "execution_count": 885,
   "metadata": {
    "hidden": true
   },
   "outputs": [
    {
     "data": {
      "text/plain": [
       "<matplotlib.axes._subplots.AxesSubplot at 0x18cee24e0>"
      ]
     },
     "execution_count": 885,
     "metadata": {},
     "output_type": "execute_result"
    },
    {
     "data": {
      "image/png": "[encoded data removed]",
      "text/plain": [
       "<Figure size 432x288 with 1 Axes>"
      ]
     },
     "metadata": {
      "needs_background": "light"
     },
     "output_type": "display_data"
    }
   ],
   "source": [
    "df_test_clean['preds'] = preds\n",
    "df_test_clean['pred_probs'] = pred_probs\n",
    "sns.distplot(pred_probs, kde = False)"
   ]
  },
  {
   "cell_type": "markdown",
   "metadata": {
    "heading_collapsed": true
   },
   "source": [
    "# (TBD) Topic Modelling on test data predicted to be food-safety related"
   ]
  },
  {
   "cell_type": "code",
   "execution_count": 911,
   "metadata": {
    "hidden": true
   },
   "outputs": [],
   "source": [
    "df_test_pred_true = df_test_clean[df_test_clean['preds'] == 1]"
   ]
  },
  {
   "cell_type": "code",
   "execution_count": 912,
   "metadata": {
    "hidden": true
   },
   "outputs": [
    {
     "name": "stdout",
     "output_type": "stream",
     "text": [
      "Dictionary(801 unique tokens: ['additive', 'bacteria', 'dailyrecall', 'potentially_deadly', 'recall']...)\n"
     ]
    }
   ],
   "source": [
    "dictionary = corpora.Dictionary(df_test_pred_true['ab_clean_ph'])\n",
    "print(dictionary)"
   ]
  },
  {
   "cell_type": "code",
   "execution_count": 913,
   "metadata": {
    "hidden": true
   },
   "outputs": [
    {
     "name": "stdout",
     "output_type": "stream",
     "text": [
      "Dictionary(280 unique tokens: ['bacteria', 'water', 'information', 'march', 'volkswagen']...)\n"
     ]
    }
   ],
   "source": [
    "dictionary.filter_extremes(no_below = 3, no_above = 0.25)\n",
    "print(dictionary)"
   ]
  },
  {
   "cell_type": "code",
   "execution_count": 916,
   "metadata": {
    "hidden": true
   },
   "outputs": [
    {
     "data": {
      "text/plain": [
       "[(0, 1), (1, 1)]"
      ]
     },
     "execution_count": 916,
     "metadata": {},
     "output_type": "execute_result"
    }
   ],
   "source": [
    "corpus = [dictionary.doc2bow(text) for text in df_test_pred_true['ab_clean_ph']]\n",
    "corpus[0]"
   ]
  },
  {
   "cell_type": "code",
   "execution_count": 917,
   "metadata": {
    "hidden": true
   },
   "outputs": [],
   "source": [
    "lda = LdaMulticore(corpus, num_topics = 4, id2word = dictionary)"
   ]
  },
  {
   "cell_type": "code",
   "execution_count": 918,
   "metadata": {
    "hidden": true
   },
   "outputs": [
    {
     "data": {
      "text/html": [
       "\n",
       "<link rel=\"stylesheet\" type=\"text/css\" href=\"https://cdn.rawgit.com/bmabey/pyLDAvis/files/ldavis.v1.0.0.css\">\n",
       "\n",
       "\n",
       "<div id=\"ldavis_el6476561884861128529765838\"></div>\n",
       "<script type=\"text/javascript\">\n",
       "\n",
       "var ldavis_el6476561884861128529765838_data = {\"mdsDat\": {\"x\": [0.133870666814043, 0.0037653089858599997, -0.11534636133505899, -0.02228961446484401], \"y\": [-0.05283877117977369, 0.056478014803614876, -0.07285648000315312, 0.06921723637931194], \"topics\": [1, 2, 3, 4], \"cluster\": [1, 1, 1, 1], \"Freq\": [29.525333404541016, 25.23188591003418, 23.171066284179688, 22.071718215942383]}, \"tinfo\": {\"Category\": [\"Default\", \"Default\", \"Default\", \"Default\", \"Default\", \"Default\", \"Default\", \"Default\", \"Default\", \"Default\", \"Default\", \"Default\", \"Default\", \"Default\", \"Default\", \"Default\", \"Default\", \"Default\", \"Default\", \"Default\", \"Default\", \"Default\", \"Default\", \"Default\", \"Default\", \"Default\", \"Default\", \"Default\", \"Default\", \"Default\", \"Topic1\", \"Topic1\", \"Topic1\", \"Topic1\", \"Topic1\", \"Topic1\", \"Topic1\", \"Topic1\", \"Topic1\", \"Topic1\", \"Topic1\", \"Topic1\", \"Topic1\", \"Topic1\", \"Topic1\", \"Topic1\", \"Topic1\", \"Topic1\", \"Topic1\", \"Topic1\", \"Topic1\", \"Topic1\", \"Topic1\", \"Topic1\", \"Topic1\", \"Topic1\", \"Topic1\", \"Topic1\", \"Topic1\", \"Topic1\", \"Topic1\", \"Topic1\", \"Topic1\", \"Topic1\", \"Topic1\", \"Topic1\", \"Topic1\", \"Topic1\", \"Topic1\", \"Topic1\", \"Topic1\", \"Topic1\", \"Topic1\", \"Topic1\", \"Topic1\", \"Topic1\", \"Topic1\", \"Topic1\", \"Topic1\", \"Topic1\", \"Topic1\", \"Topic1\", \"Topic1\", \"Topic2\", \"Topic2\", \"Topic2\", \"Topic2\", \"Topic2\", \"Topic2\", \"Topic2\", \"Topic2\", \"Topic2\", \"Topic2\", \"Topic2\", \"Topic2\", \"Topic2\", \"Topic2\", \"Topic2\", \"Topic2\", \"Topic2\", \"Topic2\", \"Topic2\", \"Topic2\", \"Topic2\", \"Topic2\", \"Topic2\", \"Topic2\", \"Topic2\", \"Topic2\", \"Topic2\", \"Topic2\", \"Topic2\", \"Topic2\", \"Topic2\", \"Topic2\", \"Topic2\", \"Topic2\", \"Topic2\", \"Topic2\", \"Topic2\", \"Topic2\", \"Topic2\", \"Topic2\", \"Topic2\", \"Topic2\", \"Topic2\", \"Topic2\", \"Topic2\", \"Topic2\", \"Topic2\", \"Topic2\", \"Topic2\", \"Topic2\", \"Topic2\", \"Topic2\", \"Topic2\", \"Topic2\", \"Topic3\", \"Topic3\", \"Topic3\", \"Topic3\", \"Topic3\", \"Topic3\", \"Topic3\", \"Topic3\", \"Topic3\", \"Topic3\", \"Topic3\", \"Topic3\", \"Topic3\", \"Topic3\", \"Topic3\", \"Topic3\", \"Topic3\", \"Topic3\", \"Topic3\", \"Topic3\", \"Topic3\", \"Topic3\", \"Topic3\", \"Topic3\", \"Topic3\", \"Topic3\", \"Topic3\", \"Topic3\", \"Topic3\", \"Topic3\", \"Topic3\", \"Topic3\", \"Topic3\", \"Topic3\", \"Topic3\", \"Topic3\", \"Topic3\", \"Topic3\", \"Topic3\", \"Topic3\", \"Topic3\", \"Topic3\", \"Topic3\", \"Topic3\", \"Topic3\", \"Topic3\", \"Topic3\", \"Topic3\", \"Topic3\", \"Topic3\", \"Topic3\", \"Topic3\", \"Topic3\", \"Topic3\", \"Topic3\", \"Topic3\", \"Topic3\", \"Topic3\", \"Topic3\", \"Topic4\", \"Topic4\", \"Topic4\", \"Topic4\", \"Topic4\", \"Topic4\", \"Topic4\", \"Topic4\", \"Topic4\", \"Topic4\", \"Topic4\", \"Topic4\", \"Topic4\", \"Topic4\", \"Topic4\", \"Topic4\", \"Topic4\", \"Topic4\", \"Topic4\", \"Topic4\", \"Topic4\", \"Topic4\", \"Topic4\", \"Topic4\", \"Topic4\", \"Topic4\", \"Topic4\", \"Topic4\", \"Topic4\", \"Topic4\", \"Topic4\", \"Topic4\", \"Topic4\", \"Topic4\", \"Topic4\", \"Topic4\", \"Topic4\", \"Topic4\", \"Topic4\", \"Topic4\", \"Topic4\", \"Topic4\", \"Topic4\", \"Topic4\", \"Topic4\", \"Topic4\", \"Topic4\", \"Topic4\", \"Topic4\", \"Topic4\", \"Topic4\", \"Topic4\", \"Topic4\", \"Topic4\", \"Topic4\", \"Topic4\"], \"Freq\": [89.0, 159.0, 122.0, 274.0, 44.0, 56.0, 59.0, 46.0, 170.0, 38.0, 100.0, 26.0, 142.0, 54.0, 56.0, 120.0, 192.0, 16.0, 14.0, 57.0, 18.0, 62.0, 40.0, 16.0, 31.0, 20.0, 15.0, 15.0, 18.0, 34.0, 17.540925979614258, 15.640616416931152, 14.587600708007812, 40.677425384521484, 34.83463668823242, 15.562512397766113, 16.363130569458008, 17.486658096313477, 5.750085830688477, 4.062460422515869, 6.3970232009887695, 17.537111282348633, 6.368452072143555, 17.52751922607422, 7.1068902015686035, 3.1164915561676025, 3.112126588821411, 3.1093716621398926, 3.0842738151550293, 3.0790932178497314, 3.0591588020324707, 8.250720024108887, 7.41029167175293, 40.369415283203125, 4.982757091522217, 5.512383937835693, 11.776810646057129, 7.331212043762207, 6.625538349151611, 20.84553337097168, 36.39136505126953, 25.344600677490234, 17.578134536743164, 76.47633361816406, 11.255637168884277, 9.395994186401367, 85.11042022705078, 21.956199645996094, 28.233949661254883, 24.38819694519043, 14.55325698852539, 21.35107421875, 44.98130416870117, 38.55803680419922, 11.682601928710938, 16.067001342773438, 49.1276741027832, 20.465015411376953, 31.661190032958984, 16.622716903686523, 16.6054630279541, 16.074573516845703, 14.790543556213379, 13.52653694152832, 3.2675681114196777, 3.253692865371704, 10.249700546264648, 4.435207843780518, 6.247742176055908, 8.735074043273926, 3.2786431312561035, 6.663120746612549, 3.2427661418914795, 8.37561321258545, 3.233368158340454, 3.2430593967437744, 101.5302963256836, 5.546901702880859, 11.674713134765625, 5.294638156890869, 7.872883319854736, 2.2554357051849365, 13.610642433166504, 9.771916389465332, 2.0776305198669434, 5.672106742858887, 7.7687835693359375, 2.025683641433716, 5.048217296600342, 2.9260380268096924, 4.288000583648682, 135.46060180664062, 3.302072763442993, 81.78325653076172, 29.795785903930664, 9.023638725280762, 27.64400863647461, 7.304878234863281, 12.319665908813477, 23.326250076293945, 38.23270034790039, 21.335506439208984, 17.02871322631836, 16.741941452026367, 16.19869613647461, 37.01738739013672, 10.704587936401367, 16.17922019958496, 25.669538497924805, 23.375944137573242, 18.972326278686523, 12.417288780212402, 10.865141868591309, 10.500414848327637, 11.372194290161133, 10.419839859008789, 11.064759254455566, 13.934319496154785, 9.977096557617188, 8.253158569335938, 5.699419021606445, 8.14804458618164, 12.072431564331055, 6.398625373840332, 6.375401973724365, 6.318863868713379, 6.302206993103027, 3.917217493057251, 6.276346683502197, 6.271289825439453, 3.899158239364624, 6.253701210021973, 3.867021322250366, 6.206614971160889, 6.203610420227051, 6.165943145751953, 8.442477226257324, 22.0048885345459, 3.821045398712158, 6.049735069274902, 2.989264726638794, 2.9689767360687256, 2.955030679702759, 2.953620672225952, 5.702912330627441, 8.426091194152832, 35.05278015136719, 34.17652130126953, 8.442425727844238, 10.936147689819336, 12.160290718078613, 57.68425369262695, 14.233148574829102, 51.34760284423828, 28.77532196044922, 9.397096633911133, 44.211585998535156, 29.361753463745117, 21.778675079345703, 18.956602096557617, 42.31615447998047, 14.642203330993652, 14.86142349243164, 7.895160675048828, 26.16656494140625, 7.959802150726318, 14.175247192382812, 13.024479866027832, 13.54446029663086, 13.076546669006348, 15.314452171325684, 15.8177490234375, 11.956208229064941, 10.815834045410156, 10.392541885375977, 11.623808860778809, 15.197915077209473, 6.274153709411621, 4.447166919708252, 3.6795246601104736, 3.655703067779541, 3.595095157623291, 2.8182475566864014, 2.8137588500976562, 2.806701421737671, 6.276154518127441, 2.729631185531616, 2.718923330307007, 67.44547271728516, 4.519874095916748, 2.555866241455078, 12.560310363769531, 10.611868858337402, 19.49454689025879, 2.763425350189209, 2.61626935005188, 2.0113918781280518, 1.9599719047546387, 1.9418431520462036, 1.9295629262924194, 1.9523332118988037, 1.931127667427063, 1.951100468635559, 1.94823157787323, 1.9478886127471924, 1.9467263221740723, 29.30138397216797, 17.56169891357422, 19.314664840698242, 6.2408766746521, 42.58071517944336, 58.569087982177734, 25.334796905517578, 8.032124519348145, 14.811341285705566, 54.80076599121094, 19.2445011138916, 17.59454917907715, 18.45293617248535, 47.31298828125, 31.128440856933594, 30.420978546142578, 14.09908676147461, 23.905912399291992, 19.974740982055664, 11.085777282714844, 9.49722957611084, 10.54599666595459, 9.34832763671875, 13.11502456665039, 8.174180030822754, 7.597148895263672], \"Term\": [\"case\", \"case_pillsbury\", \"salmonella_fear\", \"salmonella_concern\", \"pound_ground\", \"issue\", \"ground_turkey\", \"risk\", \"product\", \"undeclared_allergen\", \"pillsbury\", \"grocer_pillsbury\", \"recall_alert\", \"turkey\", \"salmonella_trace\", \"salmonella\", \"possible_salmonella\", \"affected_product\", \"sell_winn\", \"march\", \"inc\", \"nearly_pound\", \"nationwide\", \"conagra_brand\", \"butterball\", \"rice_skillet\", \"listeria\", \"fox_news\", \"dixie_announce\", \"recall_pound\", \"inc\", \"conagra_brand\", \"fox_news\", \"pound_ground\", \"undeclared_allergen\", \"product_misbrand\", \"dixie_announce\", \"rice_skillet\", \"wsb_atlanta\", \"turkey_possible\", \"product_distribute\", \"meal\", \"roughly_case\", \"chicken_rice\", \"popular_pillsbury\", \"indian\", \"motorcycle\", \"bean\", \"pantry\", \"acura\", \"waitrose\", \"publix_website\", \"specific_lot\", \"turkey\", \"dinner_tonight\", \"accord_winn\", \"schwarzengrund_contamination\", \"select\", \"flour_package\", \"chicken_fry\", \"march\", \"purpose_flour\", \"salmonella_schwarzengrund\", \"contamination\", \"thousand_case\", \"pillsbury_unbleach\", \"possible_salmonella\", \"pillsbury_unbleached\", \"concern\", \"publix_winn\", \"check_pantry\", \"butterball_recall\", \"recall_alert\", \"salmonella\", \"info\", \"contaminate\", \"salmonella_concern\", \"hometown_food\", \"product\", \"select_pillsbury\", \"turkey_product\", \"case_pillsbury\", \"unbleached_purpose\", \"listeria\", \"pound_chicken\", \"wow\", \"lot_code\", \"fda\", \"read\", \"good_date\", \"consume\", \"product_amid\", \"unsafe\", \"follow\", \"montreal_bakery\", \"matter\", \"case_pillsbury\", \"raw\", \"april\", \"new\", \"misbrand_undeclared\", \"mislabel\", \"winn_dixie\", \"cnn\", \"ship\", \"post\", \"allergen\", \"people\", \"include_publix\", \"distributor\", \"rice\", \"salmonella_concern\", \"label\", \"product\", \"nearly_pound\", \"issue_voluntary\", \"company\", \"health\", \"foodsafety\", \"food\", \"salmonella_fear\", \"hometown_food\", \"select_pillsbury\", \"announce\", \"turkey_product\", \"possible_salmonella\", \"bag\", \"salmonella_trace\", \"contamination\", \"recall_alert\", \"pillsbury\", \"unbleached_purpose\", \"contaminate\", \"butterball_recall\", \"case\", \"concern\", \"salmonella\", \"sell_winn\", \"monogram_meat\", \"snack_llc\", \"bake\", \"tamper\", \"dixie_publix\", \"popular_ready\", \"variety_duke\", \"initiate_product\", \"accord_fsis\", \"pork_sausage\", \"sausage_product\", \"shelf_stable\", \"nbc\", \"production_process\", \"kia\", \"pork_product\", \"tamper_follow\", \"eat_pork\", \"microwaveable_meal\", \"grocer_pillsbury\", \"day\", \"heat_treat\", \"recall_approximately\", \"taint\", \"merced\", \"volkswagen\", \"fsis\", \"information\", \"risk\", \"issue\", \"new_york\", \"possible\", \"chef_boyardee\", \"salmonella_fear\", \"food_safety\", \"salmonella\", \"ground_turkey\", \"pound_raw\", \"product\", \"pillsbury\", \"nearly_pound\", \"announce\", \"salmonella_concern\", \"dixie\", \"nationwide\", \"fsis_announce\", \"contamination\", \"inspection_service\", \"march\", \"publix_winn\", \"concern\", \"hometown_food\", \"recall_alert\", \"possible_salmonella\", \"company\", \"salmonella_contamination\", \"recall_pound\", \"case_pillsbury\", \"affected_product\", \"store_chain\", \"look\", \"lb_flour\", \"smartnew\", \"spread_word\", \"schwarzengrund\", \"detail\", \"butterball_kroger\", \"sell_grocery\", \"dog\", \"folk\", \"case\", \"amid_salmonella\", \"customer\", \"raw_ground\", \"unbleached_flour\", \"butterball\", \"item\", \"chain\", \"lion\", \"discover\", \"salmonell\", \"winndixie\", \"thousand_pound\", \"pilsbury\", \"con\", \"htt\", \"advise\", \"conta\", \"salmonella_trace\", \"recall_pound\", \"nationwide\", \"ton_butterball\", \"pillsbury\", \"recall_alert\", \"ground_turkey\", \"pound\", \"salmonella_contamination\", \"possible_salmonella\", \"issue\", \"turkey_product\", \"food\", \"salmonella_concern\", \"contamination\", \"case_pillsbury\", \"unbleached_purpose\", \"salmonella_fear\", \"salmonella\", \"announce\", \"dixie\", \"publix_winn\", \"purpose_flour\", \"product\", \"pillsbury_unbleached\", \"select_pillsbury\"], \"Total\": [89.0, 159.0, 122.0, 274.0, 44.0, 56.0, 59.0, 46.0, 170.0, 38.0, 100.0, 26.0, 142.0, 54.0, 56.0, 120.0, 192.0, 16.0, 14.0, 57.0, 18.0, 62.0, 40.0, 16.0, 31.0, 20.0, 15.0, 15.0, 18.0, 34.0, 18.416290283203125, 16.476730346679688, 15.503623008728027, 44.75739288330078, 38.55772018432617, 17.400699615478516, 18.326662063598633, 20.161239624023438, 6.771960735321045, 4.8278350830078125, 7.712396144866943, 21.17536163330078, 7.711045742034912, 21.370296478271484, 8.705184936523438, 3.857393264770508, 3.8572745323181152, 3.857724189758301, 3.856515645980835, 3.8564770221710205, 3.855515480041504, 10.682927131652832, 9.63315200805664, 54.23191833496094, 6.807976722717285, 7.667963027954102, 16.510013580322266, 10.563237190246582, 9.556307792663574, 30.706886291503906, 57.67491912841797, 40.81707000732422, 27.77507972717285, 159.44088745117188, 17.625789642333984, 14.261920928955078, 192.74632263183594, 40.929100036621094, 57.447120666503906, 48.69189453125, 25.894542694091797, 46.06208038330078, 142.24078369140625, 120.94513702392578, 20.026325225830078, 34.79732131958008, 274.2174072265625, 59.03791046142578, 170.77105712890625, 46.24409103393555, 52.04954528808594, 159.649658203125, 47.212467193603516, 15.072272300720215, 3.9880025386810303, 3.9866769313812256, 12.876440048217773, 5.962625980377197, 8.775151252746582, 12.86219596862793, 4.863494873046875, 9.924461364746094, 4.910743713378906, 12.704117774963379, 4.9104180335998535, 4.955941200256348, 159.649658203125, 8.824070930480957, 18.664377212524414, 8.641073226928711, 12.922494888305664, 3.898561477661133, 23.60517692565918, 17.192792892456055, 3.8622827529907227, 10.644149780273438, 14.766480445861816, 3.878154993057251, 9.83474349975586, 5.855960369110107, 8.646405220031738, 274.2174072265625, 6.712517261505127, 170.77105712890625, 62.636905670166016, 18.594886779785156, 60.927005767822266, 15.141399383544922, 27.71047592163086, 58.846229553222656, 122.33638000488281, 59.03791046142578, 46.24409103393555, 53.88743591308594, 52.04954528808594, 192.74632263183594, 27.93844223022461, 56.33521270751953, 159.44088745117188, 142.24078369140625, 100.42650604248047, 47.212467193603516, 34.79732131958008, 46.06208038330078, 89.0260238647461, 57.447120666503906, 120.94513702392578, 14.827756881713867, 11.16130542755127, 9.30070686340332, 6.499121189117432, 9.309773445129395, 13.864665985107422, 7.450669765472412, 7.452953338623047, 7.4585466384887695, 7.460179805755615, 4.646856307983398, 7.462435245513916, 7.463226795196533, 4.6475653648376465, 7.464505195617676, 4.649195671081543, 7.4687676429748535, 7.469831943511963, 7.472924709320068, 10.246160507202148, 26.748937606811523, 4.649333953857422, 7.48326301574707, 3.721869468688965, 3.7223408222198486, 3.7231245040893555, 3.7228751182556152, 7.513286113739014, 11.124250411987305, 46.44603729248047, 56.431007385253906, 11.951574325561523, 16.691030502319336, 19.059965133666992, 122.33638000488281, 23.301101684570312, 120.94513702392578, 59.04108810424805, 15.131583213806152, 170.77105712890625, 100.42650604248047, 62.636905670166016, 53.88743591308594, 274.2174072265625, 38.04848861694336, 40.89207458496094, 12.142661094665527, 159.44088745117188, 13.115382194519043, 57.67491912841797, 48.69189453125, 57.447120666503906, 59.03791046142578, 142.24078369140625, 192.74632263183594, 60.927005767822266, 38.690731048583984, 34.64368438720703, 159.649658203125, 16.741193771362305, 7.063462257385254, 5.327899932861328, 4.442046642303467, 4.444606781005859, 4.447393894195557, 3.5674662590026855, 3.567960262298584, 3.568746566772461, 8.03031063079834, 3.576892137527466, 3.5745656490325928, 89.0260238647461, 6.28908634185791, 3.597752094268799, 18.010787963867188, 16.286792755126953, 31.74193572998047, 4.580280303955078, 4.5607829093933105, 3.698702812194824, 3.618070602416992, 3.6200976371765137, 3.6216344833374023, 3.6644225120544434, 3.66678524017334, 3.708052635192871, 3.70843243598938, 3.7079083919525146, 3.708589553833008, 56.33521270751953, 34.64368438720703, 40.89207458496094, 12.626955032348633, 100.42650604248047, 142.24078369140625, 59.04108810424805, 17.493408203125, 38.690731048583984, 192.74632263183594, 56.431007385253906, 52.04954528808594, 58.846229553222656, 274.2174072265625, 159.44088745117188, 159.649658203125, 47.212467193603516, 122.33638000488281, 120.94513702392578, 53.88743591308594, 38.04848861694336, 48.69189453125, 40.81707000732422, 170.77105712890625, 40.929100036621094, 46.24409103393555], \"loglift\": [30.0, 29.0, 28.0, 27.0, 26.0, 25.0, 24.0, 23.0, 22.0, 21.0, 20.0, 19.0, 18.0, 17.0, 16.0, 15.0, 14.0, 13.0, 12.0, 11.0, 10.0, 9.0, 8.0, 7.0, 6.0, 5.0, 4.0, 3.0, 2.0, 1.0, 1.1712000370025635, 1.167799949645996, 1.159000039100647, 1.1243000030517578, 1.118399977684021, 1.108299970626831, 1.106600046157837, 1.0776000022888184, 1.0563000440597534, 1.0472999811172485, 1.0328999757766724, 1.0313999652862549, 1.0285999774932861, 1.0217000246047974, 1.0170999765396118, 1.006600022315979, 1.0053000450134277, 1.0042999982833862, 0.9965000152587891, 0.9947999715805054, 0.9886000156402588, 0.9616000056266785, 0.9575999975204468, 0.9247000217437744, 0.907800018787384, 0.8899000287055969, 0.882099986076355, 0.8547000288963318, 0.8536999821662903, 0.8325999975204468, 0.7594000101089478, 0.743399977684021, 0.7623999714851379, 0.4851999878883362, 0.771399974822998, 0.8026000261306763, 0.4025000035762787, 0.597100019454956, 0.5095999836921692, 0.5285000205039978, 0.6437000036239624, 0.45100000500679016, 0.06859999895095825, 0.07670000195503235, 0.6809999942779541, 0.4471000134944916, -0.49959999322891235, 0.16050000488758087, -0.4652999937534332, 0.19679999351501465, 0.07750000059604645, -1.0757999420166016, 0.059300001710653305, 1.2689000368118286, 1.1778000593185425, 1.1739000082015991, 1.148900032043457, 1.0810999870300293, 1.0374000072479248, 0.9901000261306763, 0.982699990272522, 0.978600025177002, 0.9621000289916992, 0.9605000019073486, 0.9592000246047974, 0.953000009059906, 0.9243999719619751, 0.9128000140190125, 0.9078999757766724, 0.8871999979019165, 0.8815000057220459, 0.829800009727478, 0.8263999819755554, 0.8120999932289124, 0.7570000290870667, 0.7476000189781189, 0.7347999811172485, 0.7275999784469604, 0.7102000117301941, 0.6833000183105469, 0.6757000088691711, 0.6718000173568726, 0.6675999760627747, 0.6407999992370605, 0.6341000199317932, 0.6539999842643738, 0.5867999792098999, 0.6481999754905701, 0.5663999915122986, 0.45170000195503235, 0.21400000154972076, 0.35929998755455017, 0.3779999911785126, 0.20810000598430634, 0.20980000495910645, -0.2728999853134155, 0.41769999265670776, 0.12950000166893005, -0.44929999113082886, -0.42879998683929443, -0.28940001130104065, 0.04149999842047691, 0.21310000121593475, -0.1014999970793724, -0.6807000041007996, -0.33009999990463257, -1.0145000219345093, 1.4000999927520752, 1.350100040435791, 1.3428000211715698, 1.3309999704360962, 1.3289999961853027, 1.323799967765808, 1.309999942779541, 1.3061000108718872, 1.2963999509811401, 1.2935999631881714, 1.2914999723434448, 1.289199948310852, 1.2883000373840332, 1.2867000102996826, 1.2853000164031982, 1.2781000137329102, 1.2771999835968018, 1.2764999866485596, 1.2699999809265137, 1.2685999870300293, 1.2669999599456787, 1.2661000490188599, 1.2496000528335571, 1.2431000471115112, 1.2360999584197998, 1.2311999797821045, 1.2308000326156616, 1.1865999698638916, 1.184499979019165, 1.180799961090088, 0.9607999920845032, 1.1146999597549438, 1.0394999980926514, 1.0128999948501587, 0.7105000019073486, 0.9692999720573425, 0.6054999828338623, 0.7436000108718872, 0.9858999848365784, 0.11089999973773956, 0.23250000178813934, 0.4058000147342682, 0.41749998927116394, -0.4065000116825104, 0.5073000192642212, 0.45010000467300415, 1.0318000316619873, -0.3449000120162964, 0.9628999829292297, 0.05889999866485596, 0.1436000019311905, 0.017400000244379044, -0.045099999755620956, -0.7664999961853027, -1.0379999876022339, -0.16619999706745148, 0.18770000338554382, 0.2581999897956848, -1.1576999425888062, 1.414199948310852, 1.3924000263214111, 1.330199956893921, 1.3224999904632568, 1.315500020980835, 1.2980999946594238, 1.2750999927520752, 1.2733999490737915, 1.2706999778747559, 1.2644000053405762, 1.2404999732971191, 1.2373000383377075, 1.233299970626831, 1.1805000305175781, 1.1690000295639038, 1.1504000425338745, 1.0824999809265137, 1.0233999490737915, 1.0055999755859375, 0.9550999999046326, 0.9017000198364258, 0.8978999853134155, 0.8880000114440918, 0.8812000155448914, 0.8812000155448914, 0.869700014591217, 0.8687999844551086, 0.8672000169754028, 0.8672000169754028, 0.8664000034332275, 0.857200026512146, 0.8314999938011169, 0.7608000040054321, 0.8062000274658203, 0.6528000235557556, 0.6236000061035156, 0.6647999882698059, 0.7325000166893005, 0.5507000088691711, 0.2531999945640564, 0.4350999891757965, 0.4262999892234802, 0.35120001435279846, -0.24629999697208405, -0.12269999831914902, -0.1469999998807907, 0.30230000615119934, -0.121799997985363, -0.28999999165534973, -0.07039999961853027, 0.12300000339746475, -0.01889999955892563, 0.03700000047683716, -1.0556999444961548, -0.10000000149011612, -0.2953000068664551], \"logprob\": [30.0, 29.0, 28.0, 27.0, 26.0, 25.0, 24.0, 23.0, 22.0, 21.0, 20.0, 19.0, 18.0, 17.0, 16.0, 15.0, 14.0, 13.0, 12.0, 11.0, 10.0, 9.0, 8.0, 7.0, 6.0, 5.0, 4.0, 3.0, 2.0, 1.0, -4.43310022354126, -4.547800064086914, -4.617499828338623, -3.5920000076293945, -3.7471001148223877, -4.552800178527832, -4.502600193023682, -4.436200141906738, -5.548500061035156, -5.895899772644043, -5.441800117492676, -4.4334001541137695, -5.446300029754639, -4.433899879455566, -5.336599826812744, -6.160999774932861, -6.162399768829346, -6.163300037384033, -6.17140007019043, -6.172999858856201, -6.179500102996826, -5.187399864196777, -5.2947998046875, -3.599600076675415, -5.691699981689453, -5.590700149536133, -4.831500053405762, -5.305500030517578, -5.406700134277344, -4.260499954223633, -3.7032999992370605, -4.065100193023682, -4.431000232696533, -2.960700035095215, -4.876800060272217, -5.057400226593018, -2.8536999225616455, -4.208600044250488, -3.9570999145507812, -4.103600025177002, -4.619900226593018, -4.236599922180176, -3.4914000034332275, -3.6454999446868896, -4.839600086212158, -4.520899772644043, -3.4031999111175537, -4.2789998054504395, -3.842600107192993, -4.4868998527526855, -4.4878997802734375, -4.520400047302246, -4.603700160980225, -4.535900115966797, -5.956500053405762, -5.960700035095215, -4.813300132751465, -5.651000022888184, -5.308300018310547, -4.973199844360352, -5.953100204467773, -5.243899822235107, -5.964099884033203, -5.015200138092041, -5.9670000076293945, -5.964000225067139, -2.52020001411438, -5.427299976348877, -4.68310022354126, -5.473800182342529, -5.077099800109863, -6.327199935913086, -4.529699802398682, -4.861000061035156, -6.409299850463867, -5.40500020980835, -5.090400218963623, -6.434599876403809, -5.521500110626221, -6.06689977645874, -5.684700012207031, -2.2318999767303467, -5.946000099182129, -2.7365000247955322, -3.7462000846862793, -4.940700054168701, -3.8210999965667725, -5.1519999504089355, -4.629300117492676, -3.990999937057495, -3.496799945831299, -4.0802001953125, -4.305600166320801, -4.3225998878479, -4.355599880218506, -3.529099941253662, -4.769899845123291, -4.356800079345703, -3.89520001411438, -3.988800048828125, -4.1975998878479, -4.621399879455566, -4.755000114440918, -4.789100170135498, -4.709400177001953, -4.796800136566162, -4.736800193786621, -4.421000003814697, -4.755000114440918, -4.944699764251709, -5.315000057220459, -4.957499980926514, -4.5644001960754395, -5.19920015335083, -5.202899932861328, -5.2118000984191895, -5.214399814605713, -5.689899921417236, -5.218500137329102, -5.219299793243408, -5.6946001052856445, -5.2221999168396, -5.7027997970581055, -5.229700088500977, -5.230199813842773, -5.236299991607666, -4.922100067138672, -3.964099884033203, -5.714799880981445, -5.255300045013428, -5.960299968719482, -5.967100143432617, -5.971799850463867, -5.972300052642822, -5.3144001960754395, -4.923999786376953, -3.498500108718872, -3.5237998962402344, -4.922100067138672, -4.663300037384033, -4.557199954986572, -3.0002999305725098, -4.399799823760986, -3.1166999340057373, -3.6958000659942627, -4.814899921417236, -3.2662999629974365, -3.675600051879883, -3.974400043487549, -4.1132001876831055, -3.3101999759674072, -4.371399879455566, -4.356599807739258, -4.989099979400635, -3.790800094604492, -4.980899810791016, -4.403800010681152, -4.488500118255615, -4.4492998123168945, -4.484499931335449, -4.326499938964844, -4.2941999435424805, -4.574100017547607, -4.674300193786621, -4.714200019836426, -4.60230016708374, -4.285600185394287, -5.170300006866455, -5.514500141143799, -5.70389986038208, -5.710400104522705, -5.727099895477295, -5.970600128173828, -5.9721999168396, -5.974699974060059, -5.170000076293945, -6.002600193023682, -6.006499767303467, -2.7953999042510986, -5.498199939727783, -6.068299770355225, -4.476200103759766, -4.644700050354004, -4.036600112915039, -5.990200042724609, -6.045000076293945, -6.3078999519348145, -6.333799839019775, -6.343100070953369, -6.349400043487549, -6.337699890136719, -6.348599910736084, -6.3383002281188965, -6.339799880981445, -6.340000152587891, -6.34060001373291, -3.6291000843048096, -4.140999794006348, -4.045899868011475, -5.175600051879883, -3.2553000450134277, -2.936500072479248, -3.7744998931884766, -4.923299789428711, -4.311299800872803, -3.003000020980835, -4.049499988555908, -4.139100074768066, -4.0914998054504395, -3.149899959564209, -3.5685999393463135, -3.591599941253662, -4.360599994659424, -3.8326001167297363, -4.01230001449585, -4.601099967956543, -4.75570011138916, -4.651000022888184, -4.771500110626221, -4.433000087738037, -4.905700206756592, -4.978899955749512]}, \"token.table\": {\"Topic\": [2, 3, 1, 2, 3, 4, 1, 2, 4, 1, 2, 3, 4, 1, 2, 3, 1, 4, 1, 2, 3, 4, 1, 2, 3, 4, 1, 2, 3, 4, 3, 1, 1, 2, 3, 4, 4, 1, 2, 3, 4, 1, 2, 3, 4, 1, 2, 3, 4, 1, 4, 1, 2, 3, 4, 2, 3, 1, 2, 3, 4, 1, 2, 3, 1, 2, 4, 1, 2, 3, 4, 2, 4, 1, 1, 2, 3, 4, 2, 4, 2, 4, 1, 2, 3, 4, 1, 2, 3, 4, 1, 4, 3, 4, 1, 2, 3, 4, 1, 2, 4, 1, 2, 3, 4, 1, 2, 4, 3, 4, 4, 2, 3, 1, 2, 3, 1, 2, 3, 4, 4, 1, 2, 3, 4, 1, 2, 3, 4, 1, 2, 3, 4, 1, 2, 3, 4, 1, 2, 3, 2, 3, 4, 1, 2, 4, 1, 3, 4, 2, 3, 4, 2, 3, 4, 2, 3, 1, 2, 3, 4, 2, 4, 1, 1, 2, 4, 1, 1, 2, 3, 4, 1, 3, 4, 2, 3, 2, 3, 4, 1, 2, 3, 4, 1, 2, 4, 1, 2, 4, 3, 1, 2, 4, 4, 2, 4, 1, 2, 3, 4, 1, 2, 4, 1, 2, 3, 4, 1, 2, 1, 2, 4, 3, 1, 3, 1, 2, 2, 3, 2, 3, 2, 3, 1, 1, 2, 3, 4, 3, 1, 2, 3, 4, 2, 4, 2, 3, 4, 1, 2, 3, 1, 2, 3, 4, 1, 2, 3, 4, 1, 2, 3, 4, 1, 4, 1, 2, 3, 2, 3, 2, 3, 3, 1, 2, 3, 4, 1, 2, 3, 4, 1, 2, 3, 4, 1, 2, 3, 4, 2, 1, 2, 2, 3, 4, 1, 2, 3, 4, 1, 2, 4, 1, 3, 1, 3, 2, 3, 1, 2, 3, 1, 2, 3, 4, 1, 2, 3, 4, 1, 2, 4, 2, 3, 4, 2, 4, 1, 2, 3, 4, 3, 1, 2, 3, 4, 1, 2, 3, 4, 1, 4, 1, 2, 3, 4, 1, 3, 3, 4, 1, 2, 3, 4, 1, 2, 3, 4, 1, 2, 3, 4, 1, 2, 3, 4, 1, 2, 3, 4, 1, 2, 3, 4, 2, 3, 4, 1, 2, 4, 1, 2, 3, 1, 2, 3, 4, 1, 3, 4, 3, 2, 3, 1, 2, 4, 4, 2, 3, 1, 2, 3, 4, 4, 4, 3, 2, 3, 2, 3, 1, 2, 3, 1, 4, 3, 4, 1, 2, 3, 4, 1, 1, 2, 3, 4, 1, 4, 1, 2, 3, 4, 1, 3, 4, 2, 3, 2, 3, 3, 1, 1, 2, 4, 3, 4, 2, 1], \"Freq\": [0.13404501974582672, 0.8042701482772827, 0.7824763655662537, 0.1304127275943756, 0.1304127275943756, 0.1304127275943756, 0.7779120802879333, 0.2696938216686249, 0.5393876433372498, 0.05973289534449577, 0.05973289534449577, 0.05973289534449577, 0.8959934711456299, 0.33860471844673157, 0.5417675375938416, 0.1354418843984604, 0.15900561213493347, 0.795028030872345, 0.12990041077136993, 0.31547242403030396, 0.3525868356227875, 0.20412921905517578, 0.21431200206279755, 0.6429359912872314, 0.05357800051569939, 0.10715600103139877, 0.2863438129425049, 0.3937227427959442, 0.17896488308906555, 0.14317190647125244, 0.9232017397880554, 0.7776605486869812, 0.0630081295967102, 0.1575203239917755, 0.1575203239917755, 0.5985772013664246, 0.8406313061714172, 0.4559064507484436, 0.23880814015865326, 0.21709831058979034, 0.10854915529489517, 0.11232670396566391, 0.1235593780875206, 0.011232670396566391, 0.7525889277458191, 0.10021944344043732, 0.6388989686965942, 0.07516458630561829, 0.18791145086288452, 0.21926060318946838, 0.6577817797660828, 0.5792726278305054, 0.11585452407598495, 0.27032724022865295, 0.03861817717552185, 0.31479597091674805, 0.6295919418334961, 0.6838856935501099, 0.13026393949985504, 0.06513196974992752, 0.13026393949985504, 0.8422905802726746, 0.09358784556388855, 0.046793922781944275, 0.05816390737891197, 0.5816390514373779, 0.34898343682289124, 0.22978316247463226, 0.4595663249492645, 0.19695699214935303, 0.13130466639995575, 0.2696833312511444, 0.5393666625022888, 0.9710664749145508, 0.4874047636985779, 0.17407312989234924, 0.24370238184928894, 0.08703656494617462, 0.6168403625488281, 0.20561346411705017, 0.26964429020881653, 0.5392885804176331, 0.45980551838874817, 0.3161162734031677, 0.11495137959718704, 0.11495137959718704, 0.4766656756401062, 0.16306984424591064, 0.16306984424591064, 0.1944294273853302, 0.27795132994651794, 0.8338540196418762, 0.8603382706642151, 0.8408165574073792, 0.734432578086853, 0.14688651263713837, 0.27639040350914, 0.55278080701828, 0.3415323793888092, 0.5122985243797302, 0.1707661896944046, 0.3416692912578583, 0.026282252743840218, 0.3942337930202484, 0.2365402728319168, 0.8730449676513672, 0.05456531047821045, 0.05456531047821045, 0.8655095100402832, 0.07212579250335693, 0.8387169241905212, 0.1338164210319519, 0.8028984665870667, 0.16771134734153748, 0.6708453893661499, 0.16771134734153748, 0.7325004935264587, 0.10464292764663696, 0.10464292764663696, 0.10464292764663696, 0.8392627835273743, 0.07871463894844055, 0.6297171115875244, 0.1574292778968811, 0.1574292778968811, 0.18692786991596222, 0.39084917306900024, 0.10196065157651901, 0.30588194727897644, 0.08583284914493561, 0.128749281167984, 0.6008299589157104, 0.17166569828987122, 0.036087434738874435, 0.4330492317676544, 0.324786901473999, 0.18043717741966248, 0.967515766620636, 0.1330975592136383, 0.7985852956771851, 0.16470853984355927, 0.6588341593742371, 0.16470853984355927, 0.23324166238307953, 0.6997249722480774, 0.07774721831083298, 0.03738466277718544, 0.8224625587463379, 0.11215398460626602, 0.08468678593635559, 0.4911833703517914, 0.42343392968177795, 0.4623086452484131, 0.13208818435668945, 0.33022046089172363, 0.13363154232501984, 0.8017892837524414, 0.33876538276672363, 0.3557036519050598, 0.22019749879837036, 0.06775307655334473, 0.269655704498291, 0.539311408996582, 0.9773955345153809, 0.4067213237285614, 0.5084016919136047, 0.10168033093214035, 0.7777273058891296, 0.5992112755775452, 0.049934271723032, 0.2996056377887726, 0.049934271723032, 0.08989369869232178, 0.7191495895385742, 0.08989369869232178, 0.1340743750333786, 0.804446280002594, 0.22873903810977936, 0.6099708080291748, 0.1524927020072937, 0.017720753327012062, 0.035441506654024124, 0.602505624294281, 0.3366943299770355, 0.37644755840301514, 0.48400402069091797, 0.10755644738674164, 0.21832725405693054, 0.21832725405693054, 0.6549817323684692, 0.8603639006614685, 0.1489754021167755, 0.4469262361526489, 0.297950804233551, 0.9004858136177063, 0.27036505937576294, 0.5407301187515259, 0.06634699553251266, 0.9288579821586609, 0.06634699553251266, 0.7507648468017578, 0.07766121625900269, 0.7766121625900269, 0.15532243251800537, 0.6241881251335144, 0.10403135418891907, 0.24273982644081116, 0.01733855903148651, 0.20177802443504333, 0.6053340435028076, 0.8500444889068604, 0.04722469672560692, 0.09444939345121384, 0.8057748079299927, 0.09759753197431564, 0.7807802557945251, 0.3869221806526184, 0.6190754771232605, 0.5130097270011902, 0.2565048635005951, 0.0895952507853508, 0.8959525227546692, 0.6109459400177002, 0.2036486566066742, 0.7777512073516846, 0.09781846404075623, 0.04890923202037811, 0.36681923270225525, 0.46463772654533386, 0.8606656789779663, 0.07982514053583145, 0.4789508581161499, 0.3512306213378906, 0.09579017013311386, 0.5786318182945251, 0.3471790850162506, 0.08367098867893219, 0.6693679094314575, 0.2510129511356354, 0.7779042720794678, 0.5157091617584229, 0.2578545808792114, 0.09957530349493027, 0.18919308483600616, 0.28876838088035583, 0.42817381024360657, 0.6310510635375977, 0.07011678069829941, 0.07011678069829941, 0.21035034954547882, 0.537514865398407, 0.17102746665477753, 0.09772997349500656, 0.19545994699001312, 0.2727184593677521, 0.5454369187355042, 0.8041184544563293, 0.11487406492233276, 0.11487406492233276, 0.13421611487865448, 0.8052967190742493, 0.13389089703559875, 0.8033453822135925, 0.8607969880104065, 0.05991241708397865, 0.1198248341679573, 0.6590365767478943, 0.17973725497722626, 0.44099414348602295, 0.19196215271949768, 0.08301066607236862, 0.28534916043281555, 0.18789663910865784, 0.5636899471282959, 0.09394831955432892, 0.18789663910865784, 0.1143287792801857, 0.17149317264556885, 0.2286575585603714, 0.4573151171207428, 0.7522562742233276, 0.9160497784614563, 0.06702803075313568, 0.26434776186943054, 0.5947824120521545, 0.06608694046735764, 0.18738538026809692, 0.48017504811286926, 0.25765490531921387, 0.07612530887126923, 0.20152227580547333, 0.7053279280662537, 0.10076113790273666, 0.7779683470726013, 0.12966139614582062, 0.9195032715797424, 0.0574689544737339, 0.1339673548936844, 0.8038040995597839, 0.7488584518432617, 0.09360730648040771, 0.09360730648040771, 0.4928951859474182, 0.020537298172712326, 0.26698487997055054, 0.22591029107570648, 0.612488865852356, 0.12249776721000671, 0.048999108374118805, 0.22049598395824432, 0.22665275633335114, 0.6799582839012146, 0.11332637816667557, 0.16656683385372162, 0.11104455590248108, 0.7217896580696106, 0.6837489008903503, 0.22791630029678345, 0.31636497378349304, 0.1616976410150528, 0.10545498877763748, 0.414789617061615, 0.8060465455055237, 0.02886529080569744, 0.14432644844055176, 0.2886528968811035, 0.5195752382278442, 0.11565499752759933, 0.46261999011039734, 0.11565499752759933, 0.23130999505519867, 0.8432021141052246, 0.09920024871826172, 0.12918217480182648, 0.021530361846089363, 0.7535626888275146, 0.08612144738435745, 0.7781046032905579, 0.12968409061431885, 0.2762356400489807, 0.5524712800979614, 0.32246026396751404, 0.09095033258199692, 0.4216788113117218, 0.16536423563957214, 0.1786903291940689, 0.492310106754303, 0.1531631499528885, 0.17139685153961182, 0.2843058109283447, 0.051691967993974686, 0.2843058109283447, 0.3876897394657135, 0.024522550404071808, 0.31061896681785583, 0.474102646112442, 0.19618040323257446, 0.6480629444122314, 0.10801049321889877, 0.21602098643779755, 0.07200699299573898, 0.08875443786382675, 0.28401419520378113, 0.10650531947612762, 0.5147757530212402, 0.13400451838970184, 0.8040270805358887, 0.8409329652786255, 0.7268316149711609, 0.18170790374279022, 0.06056930124759674, 0.6626756191253662, 0.094667948782444, 0.189335897564888, 0.3676145374774933, 0.3676145374774933, 0.10812192410230637, 0.17299507558345795, 0.1245281845331192, 0.1245281845331192, 0.7471690773963928, 0.9441751837730408, 0.1339903026819229, 0.8039417862892151, 0.2589142322540283, 0.5178284645080566, 0.2589142322540283, 0.8999671339988708, 0.10751871019601822, 0.8601496815681458, 0.7266572713851929, 0.10380817949771881, 0.10380817949771881, 0.10380817949771881, 0.8994031548500061, 0.8494417667388916, 0.8059444427490234, 0.10741399973630905, 0.8593119978904724, 0.13387182354927063, 0.8032309412956238, 0.6240854859352112, 0.2836752235889435, 0.056735046207904816, 0.2728942930698395, 0.545788586139679, 0.4751739501953125, 0.4751739501953125, 0.7375730276107788, 0.16595393419265747, 0.01843932643532753, 0.07375730574131012, 0.8285287022590637, 0.32661187648773193, 0.3073994219303131, 0.03842492774128914, 0.34582436084747314, 0.3069972097873688, 0.6753938794136047, 0.3177126944065094, 0.25417014956474304, 0.12708507478237152, 0.2965318560600281, 0.9077300429344177, 0.02593514323234558, 0.05187028646469116, 0.6109054088592529, 0.20363514125347137, 0.13417500257492065, 0.8050500154495239, 0.8058288097381592, 0.7781060934066772, 0.2965451180934906, 0.5930902361869812, 0.08472717553377151, 0.2761184275150299, 0.5522368550300598, 0.75250643491745, 0.8860062956809998], \"Term\": [\"accord_fsis\", \"accord_fsis\", \"accord_winn\", \"accord_winn\", \"accord_winn\", \"accord_winn\", \"acura\", \"advise\", \"advise\", \"affected_product\", \"affected_product\", \"affected_product\", \"affected_product\", \"allergen\", \"allergen\", \"allergen\", \"amid_salmonella\", \"amid_salmonella\", \"announce\", \"announce\", \"announce\", \"announce\", \"april\", \"april\", \"april\", \"april\", \"bag\", \"bag\", \"bag\", \"bag\", \"bake\", \"bean\", \"butterball\", \"butterball\", \"butterball\", \"butterball\", \"butterball_kroger\", \"butterball_recall\", \"butterball_recall\", \"butterball_recall\", \"butterball_recall\", \"case\", \"case\", \"case\", \"case\", \"case_pillsbury\", \"case_pillsbury\", \"case_pillsbury\", \"case_pillsbury\", \"chain\", \"chain\", \"check_pantry\", \"check_pantry\", \"check_pantry\", \"check_pantry\", \"chef_boyardee\", \"chef_boyardee\", \"chicken_fry\", \"chicken_fry\", \"chicken_fry\", \"chicken_fry\", \"chicken_rice\", \"chicken_rice\", \"chicken_rice\", \"cnn\", \"cnn\", \"cnn\", \"company\", \"company\", \"company\", \"company\", \"con\", \"con\", \"conagra_brand\", \"concern\", \"concern\", \"concern\", \"concern\", \"consume\", \"consume\", \"conta\", \"conta\", \"contaminate\", \"contaminate\", \"contaminate\", \"contaminate\", \"contamination\", \"contamination\", \"contamination\", \"contamination\", \"customer\", \"customer\", \"day\", \"detail\", \"dinner_tonight\", \"dinner_tonight\", \"discover\", \"discover\", \"distributor\", \"distributor\", \"distributor\", \"dixie\", \"dixie\", \"dixie\", \"dixie\", \"dixie_announce\", \"dixie_announce\", \"dixie_announce\", \"dixie_publix\", \"dixie_publix\", \"dog\", \"eat_pork\", \"eat_pork\", \"fda\", \"fda\", \"fda\", \"flour_package\", \"flour_package\", \"flour_package\", \"flour_package\", \"folk\", \"follow\", \"follow\", \"follow\", \"follow\", \"food\", \"food\", \"food\", \"food\", \"food_safety\", \"food_safety\", \"food_safety\", \"food_safety\", \"foodsafety\", \"foodsafety\", \"foodsafety\", \"foodsafety\", \"fox_news\", \"fsis\", \"fsis\", \"fsis_announce\", \"fsis_announce\", \"fsis_announce\", \"good_date\", \"good_date\", \"good_date\", \"grocer_pillsbury\", \"grocer_pillsbury\", \"grocer_pillsbury\", \"ground_turkey\", \"ground_turkey\", \"ground_turkey\", \"health\", \"health\", \"health\", \"heat_treat\", \"heat_treat\", \"hometown_food\", \"hometown_food\", \"hometown_food\", \"hometown_food\", \"htt\", \"htt\", \"inc\", \"include_publix\", \"include_publix\", \"include_publix\", \"indian\", \"info\", \"info\", \"info\", \"info\", \"information\", \"information\", \"information\", \"initiate_product\", \"initiate_product\", \"inspection_service\", \"inspection_service\", \"inspection_service\", \"issue\", \"issue\", \"issue\", \"issue\", \"issue_voluntary\", \"issue_voluntary\", \"issue_voluntary\", \"item\", \"item\", \"item\", \"kia\", \"label\", \"label\", \"label\", \"lb_flour\", \"lion\", \"lion\", \"listeria\", \"listeria\", \"listeria\", \"look\", \"lot_code\", \"lot_code\", \"lot_code\", \"march\", \"march\", \"march\", \"march\", \"matter\", \"matter\", \"meal\", \"meal\", \"meal\", \"merced\", \"microwaveable_meal\", \"microwaveable_meal\", \"misbrand_undeclared\", \"misbrand_undeclared\", \"mislabel\", \"mislabel\", \"monogram_meat\", \"monogram_meat\", \"montreal_bakery\", \"montreal_bakery\", \"motorcycle\", \"nationwide\", \"nationwide\", \"nationwide\", \"nationwide\", \"nbc\", \"nearly_pound\", \"nearly_pound\", \"nearly_pound\", \"nearly_pound\", \"new\", \"new\", \"new_york\", \"new_york\", \"new_york\", \"pantry\", \"people\", \"people\", \"pillsbury\", \"pillsbury\", \"pillsbury\", \"pillsbury\", \"pillsbury_unbleach\", \"pillsbury_unbleach\", \"pillsbury_unbleach\", \"pillsbury_unbleach\", \"pillsbury_unbleached\", \"pillsbury_unbleached\", \"pillsbury_unbleached\", \"pillsbury_unbleached\", \"pilsbury\", \"pilsbury\", \"popular_pillsbury\", \"popular_pillsbury\", \"popular_pillsbury\", \"popular_ready\", \"popular_ready\", \"pork_product\", \"pork_product\", \"pork_sausage\", \"possible\", \"possible\", \"possible\", \"possible\", \"possible_salmonella\", \"possible_salmonella\", \"possible_salmonella\", \"possible_salmonella\", \"post\", \"post\", \"post\", \"post\", \"pound\", \"pound\", \"pound\", \"pound\", \"pound_chicken\", \"pound_ground\", \"pound_ground\", \"pound_raw\", \"pound_raw\", \"pound_raw\", \"product\", \"product\", \"product\", \"product\", \"product_amid\", \"product_amid\", \"product_amid\", \"product_distribute\", \"product_distribute\", \"product_misbrand\", \"product_misbrand\", \"production_process\", \"production_process\", \"publix_website\", \"publix_website\", \"publix_website\", \"publix_winn\", \"publix_winn\", \"publix_winn\", \"publix_winn\", \"purpose_flour\", \"purpose_flour\", \"purpose_flour\", \"purpose_flour\", \"raw\", \"raw\", \"raw\", \"raw_ground\", \"raw_ground\", \"raw_ground\", \"read\", \"read\", \"recall_alert\", \"recall_alert\", \"recall_alert\", \"recall_alert\", \"recall_approximately\", \"recall_pound\", \"recall_pound\", \"recall_pound\", \"recall_pound\", \"rice\", \"rice\", \"rice\", \"rice\", \"rice_skillet\", \"rice_skillet\", \"risk\", \"risk\", \"risk\", \"risk\", \"roughly_case\", \"roughly_case\", \"salmonell\", \"salmonell\", \"salmonella\", \"salmonella\", \"salmonella\", \"salmonella\", \"salmonella_concern\", \"salmonella_concern\", \"salmonella_concern\", \"salmonella_concern\", \"salmonella_contamination\", \"salmonella_contamination\", \"salmonella_contamination\", \"salmonella_contamination\", \"salmonella_fear\", \"salmonella_fear\", \"salmonella_fear\", \"salmonella_fear\", \"salmonella_schwarzengrund\", \"salmonella_schwarzengrund\", \"salmonella_schwarzengrund\", \"salmonella_schwarzengrund\", \"salmonella_trace\", \"salmonella_trace\", \"salmonella_trace\", \"salmonella_trace\", \"sausage_product\", \"sausage_product\", \"schwarzengrund\", \"schwarzengrund_contamination\", \"schwarzengrund_contamination\", \"schwarzengrund_contamination\", \"select\", \"select\", \"select\", \"select_pillsbury\", \"select_pillsbury\", \"select_pillsbury\", \"select_pillsbury\", \"sell_grocery\", \"sell_grocery\", \"sell_grocery\", \"sell_winn\", \"shelf_stable\", \"shelf_stable\", \"ship\", \"ship\", \"ship\", \"smartnew\", \"snack_llc\", \"snack_llc\", \"specific_lot\", \"specific_lot\", \"specific_lot\", \"specific_lot\", \"spread_word\", \"store_chain\", \"taint\", \"tamper\", \"tamper\", \"tamper_follow\", \"tamper_follow\", \"thousand_case\", \"thousand_case\", \"thousand_case\", \"thousand_pound\", \"thousand_pound\", \"ton_butterball\", \"ton_butterball\", \"turkey\", \"turkey\", \"turkey\", \"turkey\", \"turkey_possible\", \"turkey_product\", \"turkey_product\", \"turkey_product\", \"turkey_product\", \"unbleached_flour\", \"unbleached_flour\", \"unbleached_purpose\", \"unbleached_purpose\", \"unbleached_purpose\", \"unbleached_purpose\", \"undeclared_allergen\", \"undeclared_allergen\", \"undeclared_allergen\", \"unsafe\", \"unsafe\", \"variety_duke\", \"variety_duke\", \"volkswagen\", \"waitrose\", \"winn_dixie\", \"winn_dixie\", \"winn_dixie\", \"winndixie\", \"winndixie\", \"wow\", \"wsb_atlanta\"]}, \"R\": 30, \"lambda.step\": 0.01, \"plot.opts\": {\"xlab\": \"PC1\", \"ylab\": \"PC2\"}, \"topic.order\": [4, 3, 1, 2]};\n",
       "\n",
       "function LDAvis_load_lib(url, callback){\n",
       "  var s = document.createElement('script');\n",
       "  s.src = url;\n",
       "  s.async = true;\n",
       "  s.onreadystatechange = s.onload = callback;\n",
       "  s.onerror = function(){console.warn(\"failed to load library \" + url);};\n",
       "  document.getElementsByTagName(\"head\")[0].appendChild(s);\n",
       "}\n",
       "\n",
       "if(typeof(LDAvis) !== \"undefined\"){\n",
       "   // already loaded: just create the visualization\n",
       "   !function(LDAvis){\n",
       "       new LDAvis(\"#\" + \"ldavis_el6476561884861128529765838\", ldavis_el6476561884861128529765838_data);\n",
       "   }(LDAvis);\n",
       "}else if(typeof define === \"function\" && define.amd){\n",
       "   // require.js is available: use it to load d3/LDAvis\n",
       "   require.config({paths: {d3: \"https://cdnjs.cloudflare.com/ajax/libs/d3/3.5.5/d3.min\"}});\n",
       "   require([\"d3\"], function(d3){\n",
       "      window.d3 = d3;\n",
       "      LDAvis_load_lib(\"https://cdn.rawgit.com/bmabey/pyLDAvis/files/ldavis.v1.0.0.js\", function(){\n",
       "        new LDAvis(\"#\" + \"ldavis_el6476561884861128529765838\", ldavis_el6476561884861128529765838_data);\n",
       "      });\n",
       "    });\n",
       "}else{\n",
       "    // require.js not available: dynamically load d3 & LDAvis\n",
       "    LDAvis_load_lib(\"https://cdnjs.cloudflare.com/ajax/libs/d3/3.5.5/d3.min.js\", function(){\n",
       "         LDAvis_load_lib(\"https://cdn.rawgit.com/bmabey/pyLDAvis/files/ldavis.v1.0.0.js\", function(){\n",
       "                 new LDAvis(\"#\" + \"ldavis_el6476561884861128529765838\", ldavis_el6476561884861128529765838_data);\n",
       "            })\n",
       "         });\n",
       "}\n",
       "</script>"
      ],
      "text/plain": [
       "<IPython.core.display.HTML object>"
      ]
     },
     "execution_count": 918,
     "metadata": {},
     "output_type": "execute_result"
    }
   ],
   "source": [
    "vis_data  = gensimvis.prepare(lda, corpus, dictionary)\n",
    "pyLDAvis.display(vis_data)"
   ]
  },
  {
   "cell_type": "markdown",
   "metadata": {
    "heading_collapsed": true
   },
   "source": [
    "# (Not used) Baseline of supervised model on `Event ID`"
   ]
  },
  {
   "cell_type": "code",
   "execution_count": 255,
   "metadata": {
    "hidden": true
   },
   "outputs": [],
   "source": [
    "vectorizer = TfidfVectorizer(min_df=2, sublinear_tf=True)"
   ]
  },
  {
   "cell_type": "code",
   "execution_count": 267,
   "metadata": {
    "hidden": true
   },
   "outputs": [],
   "source": [
    "text_tfidf = vectorizer.fit_transform([' '.join(text) for text in df_train['ab_clean_ph']])\n",
    "X_train = text_tfidf\n",
    "y_train = df_train['Event ID']"
   ]
  },
  {
   "cell_type": "code",
   "execution_count": 269,
   "metadata": {
    "hidden": true
   },
   "outputs": [
    {
     "data": {
      "text/plain": [
       "GridSearchCV(cv=5, error_score='raise-deprecating',\n",
       "       estimator=LogisticRegression(C=1.0, class_weight='balanced', dual=False,\n",
       "          fit_intercept=True, intercept_scaling=1, max_iter=1000,\n",
       "          multi_class='warn', n_jobs=None, penalty='l1', random_state=None,\n",
       "          solver='liblinear', tol=0.0001, verbose=0, warm_start=False),\n",
       "       fit_params=None, iid='warn', n_jobs=4,\n",
       "       param_grid={'C': [0.0001, 0.001, 0.01, 0.1, 1, 10, 100, 1000, 10000]},\n",
       "       pre_dispatch='2*n_jobs', refit=True, return_train_score='warn',\n",
       "       scoring=None, verbose=0)"
      ]
     },
     "execution_count": 269,
     "metadata": {},
     "output_type": "execute_result"
    }
   ],
   "source": [
    "param_test_lr =  {'C' :[10 ** x for x in list(range(-4,5,1))]}\n",
    "param_test_lr['C']\n",
    "gsearch_lr = GridSearchCV(estimator = LogisticRegression( \n",
    "        penalty='l1', \n",
    "        solver='liblinear',\n",
    "        max_iter=1000,\n",
    "        class_weight = 'balanced'\n",
    "    ),                   \n",
    "    param_grid = param_test_lr, \n",
    "    cv = 5,\n",
    "    n_jobs = 4)\n",
    "\n",
    "gsearch_lr.fit(X_train,y_train)"
   ]
  },
  {
   "cell_type": "code",
   "execution_count": 274,
   "metadata": {
    "hidden": true
   },
   "outputs": [
    {
     "data": {
      "text/plain": [
       "{'C': 1000}"
      ]
     },
     "execution_count": 274,
     "metadata": {},
     "output_type": "execute_result"
    }
   ],
   "source": [
    "gsearch_lr.best_params_"
   ]
  },
  {
   "cell_type": "code",
   "execution_count": 273,
   "metadata": {
    "hidden": true
   },
   "outputs": [
    {
     "data": {
      "text/plain": [
       "0.9792015300023906"
      ]
     },
     "execution_count": 273,
     "metadata": {},
     "output_type": "execute_result"
    }
   ],
   "source": [
    "gsearch_lr.best_score_"
   ]
  }
 ],
 "metadata": {
  "kernelspec": {
   "display_name": "Python 3",
   "language": "python",
   "name": "python3"
  },
  "language_info": {
   "codemirror_mode": {
    "name": "ipython",
    "version": 3
   },
   "file_extension": ".py",
   "mimetype": "text/x-python",
   "name": "python",
   "nbconvert_exporter": "python",
   "pygments_lexer": "ipython3",
   "version": "3.7.2"
  },
  "toc": {
   "base_numbering": 1,
   "nav_menu": {},
   "number_sections": true,
   "sideBar": true,
   "skip_h1_title": false,
   "title_cell": "Table of Contents",
   "title_sidebar": "Contents",
   "toc_cell": false,
   "toc_position": {},
   "toc_section_display": true,
   "toc_window_display": false
  }
 },
 "nbformat": 4,
 "nbformat_minor": 2
}
