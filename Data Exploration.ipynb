{
 "cells": [
  {
   "cell_type": "markdown",
   "metadata": {},
   "source": [
    "Link to the competition: https://tianchi.aliyun.com/competition/entrance/231705/introduction"
   ]
  },
  {
   "cell_type": "code",
   "execution_count": 2,
   "metadata": {},
   "outputs": [
    {
     "name": "stderr",
     "output_type": "stream",
     "text": [
      "Using TensorFlow backend.\n"
     ]
    }
   ],
   "source": [
    "import sys\n",
    "import pickle\n",
    "import warnings\n",
    "import spacy\n",
    "import time\n",
    "from spacy.lang.en.stop_words import STOP_WORDS\n",
    "import numpy as np\n",
    "import pandas as pd \n",
    "import json\n",
    "import seaborn as sns\n",
    "from bs4 import BeautifulSoup\n",
    "import urllib.parse\n",
    "from urllib.request import urlopen, Request\n",
    "from urllib.error import HTTPError\n",
    "from keras import optimizers\n",
    "import matplotlib.pyplot as plt\n",
    "from gensim import corpora\n",
    "from gensim.models import Phrases\n",
    "from gensim.models.phrases import Phraser\n",
    "from gensim.models import LdaModel, TfidfModel\n",
    "import pyLDAvis.gensim as gensimvis\n",
    "import pyLDAvis\n",
    "from spacy.tokens import Token\n",
    "from spacy.lang.en.stop_words import STOP_WORDS  # import stop words from language data\n",
    "from sklearn.feature_extraction.text import TfidfVectorizer\n",
    "from sklearn.feature_extraction.text import CountVectorizer\n",
    "from sklearn.model_selection import KFold, StratifiedKFold\n",
    "from sklearn.linear_model import LogisticRegression\n",
    "from sklearn.metrics import f1_score,accuracy_score\n",
    "from sklearn.model_selection import train_test_split, GridSearchCV\n",
    "from utils.plot_functions import *\n",
    "%matplotlib inline\n",
    "nlp = spacy.load(\"en_core_web_sm\")\n",
    "pd.set_option('display.max_colwidth', 500)\n",
    "%load_ext autoreload\n",
    "%autoreload 2\n",
    "if not sys.warnoptions:\n",
    "    warnings.simplefilter(\"ignore\")"
   ]
  },
  {
   "cell_type": "code",
   "execution_count": 3,
   "metadata": {},
   "outputs": [],
   "source": [
    "def extract_tweet_id(link):\n",
    "    try:\n",
    "        return int(link.split('/')[-1])\n",
    "    except:\n",
    "        return -1"
   ]
  },
  {
   "cell_type": "code",
   "execution_count": 40,
   "metadata": {},
   "outputs": [],
   "source": [
    "def get_url(text):\n",
    "    try:\n",
    "        url =  text.split(' ')[-1]\n",
    "        if 'https://' in url or 'http://' in url:\n",
    "            return url\n",
    "    except:\n",
    "        return None"
   ]
  },
  {
   "cell_type": "markdown",
   "metadata": {},
   "source": [
    "# Load Raw Data"
   ]
  },
  {
   "cell_type": "code",
   "execution_count": 41,
   "metadata": {},
   "outputs": [],
   "source": [
    "df_train = pd.read_table('./data/[Updated] Training Set for Competition.txt',sep='\\t')"
   ]
  },
  {
   "cell_type": "code",
   "execution_count": 42,
   "metadata": {},
   "outputs": [],
   "source": [
    "df_train['Date'] = pd.to_datetime(df_train['Date'], format='%d.%m.%Y').dt.date\n",
    "df_train['Event ID'] = df_train['Event ID'].fillna(0)\n",
    "df_train['Is_Food'] = df_train['Event ID'] > 0\n",
    "df_train['tweet_id'] = df_train['Link'].apply(extract_tweet_id)\n",
    "df_train['external_url'] = df_train['Abstract'].apply(get_url)"
   ]
  },
  {
   "cell_type": "code",
   "execution_count": 43,
   "metadata": {},
   "outputs": [
    {
     "data": {
      "text/html": [
       "<div>\n",
       "<style scoped>\n",
       "    .dataframe tbody tr th:only-of-type {\n",
       "        vertical-align: middle;\n",
       "    }\n",
       "\n",
       "    .dataframe tbody tr th {\n",
       "        vertical-align: top;\n",
       "    }\n",
       "\n",
       "    .dataframe thead th {\n",
       "        text-align: right;\n",
       "    }\n",
       "</style>\n",
       "<table border=\"1\" class=\"dataframe\">\n",
       "  <thead>\n",
       "    <tr style=\"text-align: right;\">\n",
       "      <th></th>\n",
       "      <th>Date</th>\n",
       "      <th>Time</th>\n",
       "      <th>Trainig/Test</th>\n",
       "      <th>Event ID</th>\n",
       "      <th>Title</th>\n",
       "      <th>Link</th>\n",
       "      <th>Abstract</th>\n",
       "      <th>Is_Food</th>\n",
       "      <th>tweet_id</th>\n",
       "      <th>external_url</th>\n",
       "    </tr>\n",
       "  </thead>\n",
       "  <tbody>\n",
       "    <tr>\n",
       "      <th>0</th>\n",
       "      <td>2019-02-05</td>\n",
       "      <td>18:45:44</td>\n",
       "      <td>Training</td>\n",
       "      <td>1.0</td>\n",
       "      <td>New dog food recall and latest warning on grain-free foods #SmartNews</td>\n",
       "      <td>https://twitter.com/tweet/status/1092857075753861125</td>\n",
       "      <td>New dog food recall and latest warning on grain-free foods #SmartNews https://t.co/nS49e7r63l</td>\n",
       "      <td>True</td>\n",
       "      <td>1092857075753861125</td>\n",
       "      <td>https://t.co/nS49e7r63l</td>\n",
       "    </tr>\n",
       "    <tr>\n",
       "      <th>1</th>\n",
       "      <td>2019-02-05</td>\n",
       "      <td>06:29:38</td>\n",
       "      <td>Training</td>\n",
       "      <td>1.0</td>\n",
       "      <td>New Dog Food Recall And The Latest Warning On Grain-Free Foods... https://t.co/brx3qW4t4L</td>\n",
       "      <td>https://twitter.com/tweet/status/1092671572400373760</td>\n",
       "      <td>New Dog Food Recall And The Latest Warning On Grain-Free Foods... https://t.co/brx3qW4t4L https://t.co/5XcIAt9g4p</td>\n",
       "      <td>True</td>\n",
       "      <td>1092671572400373760</td>\n",
       "      <td>https://t.co/5XcIAt9g4p</td>\n",
       "    </tr>\n",
       "    <tr>\n",
       "      <th>2</th>\n",
       "      <td>2019-02-05</td>\n",
       "      <td>18:40:20</td>\n",
       "      <td>Training</td>\n",
       "      <td>1.0</td>\n",
       "      <td>RT @BaybeeReade: Another dog food recall over dangerous levels of vitamin D - Fox News</td>\n",
       "      <td>https://twitter.com/tweet/status/1092855599233150977</td>\n",
       "      <td>RT @BaybeeReade: Another dog food recall over dangerous levels of vitamin D - Fox News https://t.co/z0w17ubVay</td>\n",
       "      <td>True</td>\n",
       "      <td>1092855599233150977</td>\n",
       "      <td>https://t.co/z0w17ubVay</td>\n",
       "    </tr>\n",
       "  </tbody>\n",
       "</table>\n",
       "</div>"
      ],
      "text/plain": [
       "         Date      Time Trainig/Test  Event ID  \\\n",
       "0  2019-02-05  18:45:44     Training       1.0   \n",
       "1  2019-02-05  06:29:38     Training       1.0   \n",
       "2  2019-02-05  18:40:20     Training       1.0   \n",
       "\n",
       "                                                                                       Title  \\\n",
       "0                      New dog food recall and latest warning on grain-free foods #SmartNews   \n",
       "1  New Dog Food Recall And The Latest Warning On Grain-Free Foods... https://t.co/brx3qW4t4L   \n",
       "2     RT @BaybeeReade: Another dog food recall over dangerous levels of vitamin D - Fox News   \n",
       "\n",
       "                                                   Link  \\\n",
       "0  https://twitter.com/tweet/status/1092857075753861125   \n",
       "1  https://twitter.com/tweet/status/1092671572400373760   \n",
       "2  https://twitter.com/tweet/status/1092855599233150977   \n",
       "\n",
       "                                                                                                            Abstract  \\\n",
       "0                      New dog food recall and latest warning on grain-free foods #SmartNews https://t.co/nS49e7r63l   \n",
       "1  New Dog Food Recall And The Latest Warning On Grain-Free Foods... https://t.co/brx3qW4t4L https://t.co/5XcIAt9g4p   \n",
       "2     RT @BaybeeReade: Another dog food recall over dangerous levels of vitamin D - Fox News https://t.co/z0w17ubVay   \n",
       "\n",
       "   Is_Food             tweet_id             external_url  \n",
       "0     True  1092857075753861125  https://t.co/nS49e7r63l  \n",
       "1     True  1092671572400373760  https://t.co/5XcIAt9g4p  \n",
       "2     True  1092855599233150977  https://t.co/z0w17ubVay  "
      ]
     },
     "execution_count": 43,
     "metadata": {},
     "output_type": "execute_result"
    }
   ],
   "source": [
    "df_train.head(3)"
   ]
  },
  {
   "cell_type": "code",
   "execution_count": 45,
   "metadata": {},
   "outputs": [],
   "source": [
    "df_test = pd.read_table('./data/[Updated] Test Set for Competition.txt',sep='\\t')\n",
    "df_test['tweet_id'] = df_test['Link'].apply(extract_tweet_id)\n",
    "df_test['external_url'] = df_test['Abstract'].apply(get_url)"
   ]
  },
  {
   "cell_type": "code",
   "execution_count": 46,
   "metadata": {},
   "outputs": [
    {
     "data": {
      "text/html": [
       "<div>\n",
       "<style scoped>\n",
       "    .dataframe tbody tr th:only-of-type {\n",
       "        vertical-align: middle;\n",
       "    }\n",
       "\n",
       "    .dataframe tbody tr th {\n",
       "        vertical-align: top;\n",
       "    }\n",
       "\n",
       "    .dataframe thead th {\n",
       "        text-align: right;\n",
       "    }\n",
       "</style>\n",
       "<table border=\"1\" class=\"dataframe\">\n",
       "  <thead>\n",
       "    <tr style=\"text-align: right;\">\n",
       "      <th></th>\n",
       "      <th>Date</th>\n",
       "      <th>Time</th>\n",
       "      <th>Training/Test</th>\n",
       "      <th>Title</th>\n",
       "      <th>Link</th>\n",
       "      <th>Abstract</th>\n",
       "      <th>tweet_id</th>\n",
       "      <th>external_url</th>\n",
       "    </tr>\n",
       "  </thead>\n",
       "  <tbody>\n",
       "    <tr>\n",
       "      <th>0</th>\n",
       "      <td>2019-03-07</td>\n",
       "      <td>23:59:31</td>\n",
       "      <td>Test</td>\n",
       "      <td>@pccs_heron Salmonella</td>\n",
       "      <td>https://twitter.com/tweet/status/1103807421800202242</td>\n",
       "      <td>@pccs_heron Salmonella</td>\n",
       "      <td>1103807421800202242</td>\n",
       "      <td>None</td>\n",
       "    </tr>\n",
       "    <tr>\n",
       "      <th>1</th>\n",
       "      <td>2019-03-07</td>\n",
       "      <td>23:59:20</td>\n",
       "      <td>Test</td>\n",
       "      <td>@richardlanigan @trishgreenhalgh No. It's not feaces alone. Not at all. Polio virus is transmitted by the feacal…</td>\n",
       "      <td>https://twitter.com/tweet/status/1103807373196623873</td>\n",
       "      <td>@richardlanigan @trishgreenhalgh No. It's not feaces alone. Not at all. Polio virus is transmitted by the feacal… https://t.co/8ziThZHccA</td>\n",
       "      <td>1103807373196623873</td>\n",
       "      <td>https://t.co/8ziThZHccA</td>\n",
       "    </tr>\n",
       "    <tr>\n",
       "      <th>2</th>\n",
       "      <td>2019-03-07</td>\n",
       "      <td>23:59:02</td>\n",
       "      <td>Test</td>\n",
       "      <td>@PatchouliW @BecciCath @MavenOfMayhem @SwiftOnSecurity For a while I thought I was allergic to water because of the…</td>\n",
       "      <td>https://twitter.com/tweet/status/1103807299389349889</td>\n",
       "      <td>@PatchouliW @BecciCath @MavenOfMayhem @SwiftOnSecurity For a while I thought I was allergic to water because of the… https://t.co/XoMGCuQLcs</td>\n",
       "      <td>1103807299389349889</td>\n",
       "      <td>https://t.co/XoMGCuQLcs</td>\n",
       "    </tr>\n",
       "  </tbody>\n",
       "</table>\n",
       "</div>"
      ],
      "text/plain": [
       "         Date      Time Training/Test  \\\n",
       "0  2019-03-07  23:59:31          Test   \n",
       "1  2019-03-07  23:59:20          Test   \n",
       "2  2019-03-07  23:59:02          Test   \n",
       "\n",
       "                                                                                                                  Title  \\\n",
       "0                                                                                                @pccs_heron Salmonella   \n",
       "1     @richardlanigan @trishgreenhalgh No. It's not feaces alone. Not at all. Polio virus is transmitted by the feacal…   \n",
       "2  @PatchouliW @BecciCath @MavenOfMayhem @SwiftOnSecurity For a while I thought I was allergic to water because of the…   \n",
       "\n",
       "                                                   Link  \\\n",
       "0  https://twitter.com/tweet/status/1103807421800202242   \n",
       "1  https://twitter.com/tweet/status/1103807373196623873   \n",
       "2  https://twitter.com/tweet/status/1103807299389349889   \n",
       "\n",
       "                                                                                                                                       Abstract  \\\n",
       "0                                                                                                                        @pccs_heron Salmonella   \n",
       "1     @richardlanigan @trishgreenhalgh No. It's not feaces alone. Not at all. Polio virus is transmitted by the feacal… https://t.co/8ziThZHccA   \n",
       "2  @PatchouliW @BecciCath @MavenOfMayhem @SwiftOnSecurity For a while I thought I was allergic to water because of the… https://t.co/XoMGCuQLcs   \n",
       "\n",
       "              tweet_id             external_url  \n",
       "0  1103807421800202242                     None  \n",
       "1  1103807373196623873  https://t.co/8ziThZHccA  \n",
       "2  1103807299389349889  https://t.co/XoMGCuQLcs  "
      ]
     },
     "execution_count": 46,
     "metadata": {},
     "output_type": "execute_result"
    }
   ],
   "source": [
    "df_test.head(3)"
   ]
  },
  {
   "cell_type": "markdown",
   "metadata": {},
   "source": [
    "# Web Scraping"
   ]
  },
  {
   "cell_type": "markdown",
   "metadata": {},
   "source": [
    "## Web Scrapping on external link title"
   ]
  },
  {
   "cell_type": "code",
   "execution_count": 10,
   "metadata": {
    "deletable": false,
    "editable": false,
    "run_control": {
     "frozen": true
    }
   },
   "outputs": [],
   "source": [
    "def get_title(url):\n",
    "    try:\n",
    "        r = Request(url, headers={'User-Agent': 'Mozilla/5.0'})\n",
    "        html = urlopen(r)\n",
    "    except:\n",
    "        return(None)\n",
    "    try:\n",
    "         title = BeautifulSoup(html.read()).title.text\n",
    "    except:\n",
    "        return(None)\n",
    "    return(title)"
   ]
  },
  {
   "cell_type": "code",
   "execution_count": 43,
   "metadata": {
    "deletable": false,
    "editable": false,
    "run_control": {
     "frozen": true
    }
   },
   "outputs": [],
   "source": [
    "df_test['external_url'] = df_test['Abstract'].apply(get_url)"
   ]
  },
  {
   "cell_type": "code",
   "execution_count": null,
   "metadata": {
    "deletable": false,
    "editable": false,
    "run_control": {
     "frozen": true
    }
   },
   "outputs": [],
   "source": [
    "%%time\n",
    "temp = []\n",
    "for url in log_progress(df_test['external_url'], every = 1):\n",
    "    temp.append(get_title(url))\n",
    "df_test['external_url_title'] = temp"
   ]
  },
  {
   "cell_type": "code",
   "execution_count": 142,
   "metadata": {
    "deletable": false,
    "editable": false,
    "run_control": {
     "frozen": true
    }
   },
   "outputs": [],
   "source": [
    "external_title_columns = ['external_url','external_url_title']"
   ]
  },
  {
   "cell_type": "code",
   "execution_count": 145,
   "metadata": {
    "deletable": false,
    "editable": false,
    "run_control": {
     "frozen": true
    }
   },
   "outputs": [],
   "source": [
    "df_test.drop_duplicates(subset = 'external_url')[external_title_columns].to_csv('./processed_data/test_external_title.csv', index = False)"
   ]
  },
  {
   "cell_type": "markdown",
   "metadata": {},
   "source": [
    "## Web Scraping on Tweet Data"
   ]
  },
  {
   "cell_type": "code",
   "execution_count": null,
   "metadata": {
    "deletable": false,
    "editable": false,
    "run_control": {
     "frozen": true
    }
   },
   "outputs": [],
   "source": [
    "!pip install Twython"
   ]
  },
  {
   "cell_type": "code",
   "execution_count": 48,
   "metadata": {
    "deletable": false,
    "editable": false,
    "run_control": {
     "frozen": true
    }
   },
   "outputs": [],
   "source": [
    "from twython import Twython\n",
    "with open('api_key.txt','r') as inf:\n",
    "    key_dict = eval(inf.read())"
   ]
  },
  {
   "cell_type": "code",
   "execution_count": 49,
   "metadata": {
    "deletable": false,
    "editable": false,
    "run_control": {
     "frozen": true
    }
   },
   "outputs": [],
   "source": [
    "CONSUMER_KEY = key_dict['CONSUMER_KEY']\n",
    "CONSUMER_SECRET = key_dict['CONSUMER_SECRET']\n",
    "OAUTH_TOKEN = key_dict['OAUTH_TOKEN']\n",
    "OAUTH_TOKEN_SECRET = key_dict['OAUTH_TOKEN_SECRET']\n",
    "twitter = Twython(\n",
    "    CONSUMER_KEY, CONSUMER_SECRET,\n",
    "    OAUTH_TOKEN, OAUTH_TOKEN_SECRET)"
   ]
  },
  {
   "cell_type": "code",
   "execution_count": 103,
   "metadata": {
    "deletable": false,
    "editable": false,
    "run_control": {
     "frozen": true
    }
   },
   "outputs": [],
   "source": [
    "def add_more_info(tweet_id):\n",
    "    r = {\n",
    "        'tweet_found':True,\n",
    "        'user_name':'',\n",
    "        'mentions':[],\n",
    "        'medias':None,\n",
    "        'hashtags':[],\n",
    "        'in_reply_to_status_id':None,\n",
    "        'in_reply_to_screen_name':None,\n",
    "        'in_reply_to_status_text':None\n",
    "    }\n",
    "    \n",
    "    if tweet_id == -1:\n",
    "        return r\n",
    "    \n",
    "    flag = True\n",
    "    while(flag):\n",
    "        try:\n",
    "            tweet = twitter.show_status(id=tweet_id)\n",
    "            flag = False\n",
    "\n",
    "        except Exception as e:\n",
    "            if e.msg != 'Twitter API returned a 429 (Too Many Requests), Rate limit exceeded':\n",
    "                r['tweet_found'] = False\n",
    "                flag = False\n",
    "                return r\n",
    "            else:\n",
    "                print(e.msg)\n",
    "                print('Sleeping for a min ......')\n",
    "                time.sleep(60)\n",
    "                \n",
    "    r['user_name'] = tweet['user']['name']\n",
    "    r['mentions'] = [v for mention in tweet['entities']['user_mentions'] for k,v in mention.items() if k == 'screen_name'] \n",
    "    try:\n",
    "        r['medias'] = [v for media in tweet['entities']['media'] for k,v in media.items() if k == 'media_url']\n",
    "    except:\n",
    "        pass\n",
    "    r['hashtags'] = [v for mention in tweet['entities']['hashtags'] for k,v in mention.items() if k == 'text']\n",
    "    r['in_reply_to_status_id'] = tweet['in_reply_to_status_id']\n",
    "    r['in_reply_to_screen_name'] = tweet['in_reply_to_screen_name']\n",
    "    if r['in_reply_to_status_id'] is not None:\n",
    "        try:\n",
    "            main_tweet = twitter.show_status(id=r['in_reply_to_status_id'])\n",
    "            r['in_reply_to_status_text'] = main_tweet['text']\n",
    "        except:\n",
    "            pass\n",
    "    \n",
    "    return r"
   ]
  },
  {
   "cell_type": "markdown",
   "metadata": {},
   "source": [
    "Train"
   ]
  },
  {
   "cell_type": "code",
   "execution_count": null,
   "metadata": {
    "deletable": false,
    "editable": false,
    "run_control": {
     "frozen": true
    },
    "scrolled": true
   },
   "outputs": [],
   "source": [
    "extra_infos = []\n",
    "for tweet_id in log_progress(df_train['tweet_id'][3400:] , every = 1):\n",
    "    extra_infos.append(add_more_info(tweet_id))"
   ]
  },
  {
   "cell_type": "code",
   "execution_count": 110,
   "metadata": {
    "deletable": false,
    "editable": false,
    "run_control": {
     "frozen": true
    }
   },
   "outputs": [],
   "source": [
    "df_train_merge = pd.concat([df_train, pd.DataFrame(extra_infos)], axis = 1)"
   ]
  },
  {
   "cell_type": "markdown",
   "metadata": {},
   "source": [
    "Test"
   ]
  },
  {
   "cell_type": "code",
   "execution_count": null,
   "metadata": {
    "deletable": false,
    "editable": false,
    "run_control": {
     "frozen": true
    },
    "scrolled": false
   },
   "outputs": [],
   "source": [
    "extra_infos = []\n",
    "for tweet_id in log_progress(df_test['tweet_id'] , every = 1):\n",
    "    extra_infos.append(add_more_info(tweet_id))"
   ]
  },
  {
   "cell_type": "code",
   "execution_count": 115,
   "metadata": {
    "deletable": false,
    "editable": false,
    "run_control": {
     "frozen": true
    }
   },
   "outputs": [],
   "source": [
    "df_extra_infos = pd.DataFrame(extra_infos)\n",
    "df_test_merge = pd.concat([df_test, df_extra_infos], axis = 1)"
   ]
  },
  {
   "cell_type": "code",
   "execution_count": 15,
   "metadata": {
    "deletable": false,
    "editable": false,
    "run_control": {
     "frozen": true
    }
   },
   "outputs": [],
   "source": [
    "tweet_api_columns =  [\n",
    "    'Link', \n",
    "    'tweet_found',\n",
    "    'user_name',\n",
    "    'mentions',\n",
    "    'medias',\n",
    "    'hashtags',\n",
    "    'in_reply_to_status_id',\n",
    "    'in_reply_to_screen_name',\n",
    "    'in_reply_to_status_text'\n",
    "]"
   ]
  },
  {
   "cell_type": "code",
   "execution_count": 16,
   "metadata": {
    "deletable": false,
    "editable": false,
    "run_control": {
     "frozen": true
    }
   },
   "outputs": [],
   "source": [
    "df_train_merge.drop_duplicates(subset = 'Link')[tweet_api_columns].to_csv('./processed_data/train_external_tweet.csv', index = False)\n",
    "df_test_merge.drop_duplicates(subset = 'Link')[tweet_api_columns].to_csv('./processed_data/test_external_tweet.csv', index = False)"
   ]
  },
  {
   "cell_type": "markdown",
   "metadata": {},
   "source": [
    "## Merge Back"
   ]
  },
  {
   "cell_type": "code",
   "execution_count": 47,
   "metadata": {},
   "outputs": [],
   "source": [
    "train_external_tweet = pd.read_csv('./processed_data/train_external_tweet.csv')\n",
    "test_external_tweet = pd.read_csv('./processed_data/test_external_tweet.csv')\n",
    "test_external_title = pd.read_csv('./processed_data/test_external_title.csv')"
   ]
  },
  {
   "cell_type": "code",
   "execution_count": 53,
   "metadata": {},
   "outputs": [],
   "source": [
    "df_train_merge = df_train.merge(train_external_tweet, on = 'Link', how = 'left')"
   ]
  },
  {
   "cell_type": "code",
   "execution_count": 54,
   "metadata": {},
   "outputs": [],
   "source": [
    "df_test_merge = df_test.merge(test_external_tweet, on = 'Link', how = 'left')\\\n",
    "                       .merge(test_external_title, on = 'external_url', how = 'left')"
   ]
  },
  {
   "cell_type": "markdown",
   "metadata": {},
   "source": [
    "# NLP on Abstract"
   ]
  },
  {
   "cell_type": "markdown",
   "metadata": {},
   "source": [
    "## Pre-process"
   ]
  },
  {
   "cell_type": "markdown",
   "metadata": {},
   "source": [
    "- Use title instead of abstract to mitigate noise\n",
    "- Replace title text with in_reply_to_status_text\n",
    "- Replace title text with external_url_title"
   ]
  },
  {
   "cell_type": "code",
   "execution_count": 55,
   "metadata": {},
   "outputs": [],
   "source": [
    "df_train_merge['New_Title'] = df_train_merge['Title']\n",
    "subset = df_train_merge['in_reply_to_status_text'].notnull()\n",
    "df_train_merge.loc[subset, 'New_Title'] = df_train_merge[subset]['in_reply_to_status_text']"
   ]
  },
  {
   "cell_type": "code",
   "execution_count": 56,
   "metadata": {},
   "outputs": [],
   "source": [
    "df_test_merge['New_Title'] = df_test_merge['Title']\n",
    "subset = df_test_merge['in_reply_to_status_text'].notnull()\n",
    "subset2 = df_test_merge['in_reply_to_status_text'].isnull() & df_test_merge['external_url_title'].notnull()\n",
    "df_test_merge.loc[subset, 'New_Title'] = df_test_merge[subset]['in_reply_to_status_text']\n",
    "df_test_merge.loc[subset2, 'New_Title'] = df_test_merge[subset2]['external_url_title']"
   ]
  },
  {
   "cell_type": "markdown",
   "metadata": {},
   "source": [
    "## Remove stop words, and tokenize"
   ]
  },
  {
   "cell_type": "code",
   "execution_count": 59,
   "metadata": {},
   "outputs": [],
   "source": [
    "stop_words_getter = lambda token: token.is_stop or token.lemma_ in STOP_WORDS\n",
    "Token.set_extension('is_stop', getter=stop_words_getter, force=True)  # set attribute with getter"
   ]
  },
  {
   "cell_type": "code",
   "execution_count": 60,
   "metadata": {},
   "outputs": [],
   "source": [
    "def filter_token(token):\n",
    "    if(token.is_punct or \\\n",
    "       token.is_digit or \\\n",
    "       token.is_space or \\\n",
    "       token.like_num or \\\n",
    "       not token.text.isalpha() or \\\n",
    "       token.lemma_ == '-PRON-' or \\\n",
    "       'http' in token.text or \\\n",
    "       '@' in token.text or \\\n",
    "       '#' in token.text or \\\n",
    "       \"’s\" in token.text or \\\n",
    "       \"'s\" in token.text or \\\n",
    "       token.text == 'rt' or \\\n",
    "       len(token.text) <= 1 or \\\n",
    "       token._.is_stop):\n",
    "        return(False)\n",
    "    else:\n",
    "        return(True)"
   ]
  },
  {
   "cell_type": "code",
   "execution_count": 61,
   "metadata": {},
   "outputs": [],
   "source": [
    "def clean(text):\n",
    "    return [token.lemma_ for token in nlp(str(text).lower()) if filter_token(token)]"
   ]
  },
  {
   "cell_type": "code",
   "execution_count": 62,
   "metadata": {},
   "outputs": [],
   "source": [
    "def get_num(text):\n",
    "    return [token.text for token in nlp(str(text).lower()) if token.like_num]"
   ]
  },
  {
   "cell_type": "code",
   "execution_count": 63,
   "metadata": {},
   "outputs": [],
   "source": [
    "def clean_sentence(sentence):\n",
    "    output = []\n",
    "    for w in sentence.split(' '):\n",
    "        if 'http' in w or \\\n",
    "           '@' in w or \\\n",
    "           '#' in w or \\\n",
    "           'RT' in w:\n",
    "            pass\n",
    "        else:\n",
    "            output.append(w)\n",
    "    return ' '.join(output)"
   ]
  },
  {
   "cell_type": "markdown",
   "metadata": {},
   "source": [
    "### Train"
   ]
  },
  {
   "cell_type": "code",
   "execution_count": 65,
   "metadata": {},
   "outputs": [
    {
     "data": {
      "application/vnd.jupyter.widget-view+json": {
       "model_id": "8830da2977ec4612ae30512d64d686ce",
       "version_major": 2,
       "version_minor": 0
      },
      "text/plain": [
       "VBox(children=(HTML(value=''), IntProgress(value=0, max=4183)))"
      ]
     },
     "metadata": {},
     "output_type": "display_data"
    },
    {
     "name": "stdout",
     "output_type": "stream",
     "text": [
      "CPU times: user 3min 7s, sys: 28.4 s, total: 3min 35s\n",
      "Wall time: 36.7 s\n"
     ]
    }
   ],
   "source": [
    "%%time\n",
    "temp = []\n",
    "for text in log_progress(df_train_merge['New_Title'], every = 100):\n",
    "    temp.append(clean(text))\n",
    "df_train_merge['ab_clean'] = temp"
   ]
  },
  {
   "cell_type": "code",
   "execution_count": 66,
   "metadata": {},
   "outputs": [
    {
     "data": {
      "text/html": [
       "<div>\n",
       "<style scoped>\n",
       "    .dataframe tbody tr th:only-of-type {\n",
       "        vertical-align: middle;\n",
       "    }\n",
       "\n",
       "    .dataframe tbody tr th {\n",
       "        vertical-align: top;\n",
       "    }\n",
       "\n",
       "    .dataframe thead th {\n",
       "        text-align: right;\n",
       "    }\n",
       "</style>\n",
       "<table border=\"1\" class=\"dataframe\">\n",
       "  <thead>\n",
       "    <tr style=\"text-align: right;\">\n",
       "      <th></th>\n",
       "      <th>New_Title</th>\n",
       "      <th>ab_clean</th>\n",
       "    </tr>\n",
       "  </thead>\n",
       "  <tbody>\n",
       "    <tr>\n",
       "      <th>0</th>\n",
       "      <td>New dog food recall and latest warning on grain-free foods #SmartNews</td>\n",
       "      <td>[new, dog, food, recall, late, warning, grain, free, food, smartnew]</td>\n",
       "    </tr>\n",
       "    <tr>\n",
       "      <th>1</th>\n",
       "      <td>New Dog Food Recall And The Latest Warning On Grain-Free Foods... https://t.co/brx3qW4t4L</td>\n",
       "      <td>[new, dog, food, recall, late, warning, grain, free, food]</td>\n",
       "    </tr>\n",
       "    <tr>\n",
       "      <th>2</th>\n",
       "      <td>RT @BaybeeReade: Another dog food recall over dangerous levels of vitamin D - Fox News</td>\n",
       "      <td>[dog, food, recall, dangerous, level, vitamin, fox, news]</td>\n",
       "    </tr>\n",
       "  </tbody>\n",
       "</table>\n",
       "</div>"
      ],
      "text/plain": [
       "                                                                                   New_Title  \\\n",
       "0                      New dog food recall and latest warning on grain-free foods #SmartNews   \n",
       "1  New Dog Food Recall And The Latest Warning On Grain-Free Foods... https://t.co/brx3qW4t4L   \n",
       "2     RT @BaybeeReade: Another dog food recall over dangerous levels of vitamin D - Fox News   \n",
       "\n",
       "                                                               ab_clean  \n",
       "0  [new, dog, food, recall, late, warning, grain, free, food, smartnew]  \n",
       "1            [new, dog, food, recall, late, warning, grain, free, food]  \n",
       "2             [dog, food, recall, dangerous, level, vitamin, fox, news]  "
      ]
     },
     "execution_count": 66,
     "metadata": {},
     "output_type": "execute_result"
    }
   ],
   "source": [
    "df_train_merge[['New_Title','ab_clean']].head(3)"
   ]
  },
  {
   "cell_type": "markdown",
   "metadata": {
    "deletable": false,
    "editable": false,
    "run_control": {
     "frozen": true
    }
   },
   "source": [
    "### Test"
   ]
  },
  {
   "cell_type": "code",
   "execution_count": 67,
   "metadata": {},
   "outputs": [
    {
     "data": {
      "application/vnd.jupyter.widget-view+json": {
       "model_id": "ef3ce50106d94364841ce25dbc828bb2",
       "version_major": 2,
       "version_minor": 0
      },
      "text/plain": [
       "VBox(children=(HTML(value=''), IntProgress(value=0, max=22840)))"
      ]
     },
     "metadata": {},
     "output_type": "display_data"
    },
    {
     "name": "stdout",
     "output_type": "stream",
     "text": [
      "CPU times: user 18min 54s, sys: 2min 41s, total: 21min 36s\n",
      "Wall time: 3min 39s\n"
     ]
    }
   ],
   "source": [
    "%%time\n",
    "temp = []\n",
    "for text in log_progress(df_test_merge['New_Title'], every = 100):\n",
    "    temp.append(clean(text))\n",
    "df_test_merge['ab_clean'] = temp"
   ]
  },
  {
   "cell_type": "code",
   "execution_count": 70,
   "metadata": {},
   "outputs": [
    {
     "data": {
      "text/html": [
       "<div>\n",
       "<style scoped>\n",
       "    .dataframe tbody tr th:only-of-type {\n",
       "        vertical-align: middle;\n",
       "    }\n",
       "\n",
       "    .dataframe tbody tr th {\n",
       "        vertical-align: top;\n",
       "    }\n",
       "\n",
       "    .dataframe thead th {\n",
       "        text-align: right;\n",
       "    }\n",
       "</style>\n",
       "<table border=\"1\" class=\"dataframe\">\n",
       "  <thead>\n",
       "    <tr style=\"text-align: right;\">\n",
       "      <th></th>\n",
       "      <th>New_Title</th>\n",
       "      <th>ab_clean</th>\n",
       "    </tr>\n",
       "  </thead>\n",
       "  <tbody>\n",
       "    <tr>\n",
       "      <th>0</th>\n",
       "      <td>My fourth and fifth grade class is studying microbes and wants to run a March Microbe Madness (Fungi/Algae/Virus/Ba… https://t.co/nFhdS2Edjq</td>\n",
       "      <td>[fourth, fifth, grade, class, study, microbe, want, run, march, microbe, madness, fungus, algae, virus, ba]</td>\n",
       "    </tr>\n",
       "    <tr>\n",
       "      <th>1</th>\n",
       "      <td>@Doctorshaib @trishgreenhalgh But you have to come in contact with the faces of the infected person to catch polio.… https://t.co/2ZSz8RqCgU</td>\n",
       "      <td>[come, contact, face, infected, person, catch, polio]</td>\n",
       "    </tr>\n",
       "    <tr>\n",
       "      <th>2</th>\n",
       "      <td>@PatchouliW @BecciCath @MavenOfMayhem @SwiftOnSecurity Going gluten free was a total walk in the park compared to c… https://t.co/n8SRWjlv92</td>\n",
       "      <td>[gluten, free, total, walk, park, compare]</td>\n",
       "    </tr>\n",
       "  </tbody>\n",
       "</table>\n",
       "</div>"
      ],
      "text/plain": [
       "                                                                                                                                      New_Title  \\\n",
       "0  My fourth and fifth grade class is studying microbes and wants to run a March Microbe Madness (Fungi/Algae/Virus/Ba… https://t.co/nFhdS2Edjq   \n",
       "1  @Doctorshaib @trishgreenhalgh But you have to come in contact with the faces of the infected person to catch polio.… https://t.co/2ZSz8RqCgU   \n",
       "2  @PatchouliW @BecciCath @MavenOfMayhem @SwiftOnSecurity Going gluten free was a total walk in the park compared to c… https://t.co/n8SRWjlv92   \n",
       "\n",
       "                                                                                                      ab_clean  \n",
       "0  [fourth, fifth, grade, class, study, microbe, want, run, march, microbe, madness, fungus, algae, virus, ba]  \n",
       "1                                                        [come, contact, face, infected, person, catch, polio]  \n",
       "2                                                                   [gluten, free, total, walk, park, compare]  "
      ]
     },
     "execution_count": 70,
     "metadata": {},
     "output_type": "execute_result"
    }
   ],
   "source": [
    "df_test_merge[['New_Title','ab_clean']].head(3)"
   ]
  },
  {
   "cell_type": "markdown",
   "metadata": {},
   "source": [
    "## Extract Numbers"
   ]
  },
  {
   "cell_type": "code",
   "execution_count": 68,
   "metadata": {},
   "outputs": [
    {
     "data": {
      "application/vnd.jupyter.widget-view+json": {
       "model_id": "68939b45313a426882a470be1e3abd91",
       "version_major": 2,
       "version_minor": 0
      },
      "text/plain": [
       "VBox(children=(HTML(value=''), IntProgress(value=0, max=4183)))"
      ]
     },
     "metadata": {},
     "output_type": "display_data"
    },
    {
     "name": "stdout",
     "output_type": "stream",
     "text": [
      "CPU times: user 2min 54s, sys: 24.4 s, total: 3min 18s\n",
      "Wall time: 33.7 s\n"
     ]
    }
   ],
   "source": [
    "%%time\n",
    "temp = []\n",
    "for text in log_progress(df_train_merge['New_Title'], every = 100):\n",
    "    temp.append(get_num(text))\n",
    "df_train_merge['numbers'] = temp"
   ]
  },
  {
   "cell_type": "code",
   "execution_count": 69,
   "metadata": {},
   "outputs": [
    {
     "data": {
      "application/vnd.jupyter.widget-view+json": {
       "model_id": "12cf488e8a2142799c1f46c5f755d9ab",
       "version_major": 2,
       "version_minor": 0
      },
      "text/plain": [
       "VBox(children=(HTML(value=''), IntProgress(value=0, max=22840)))"
      ]
     },
     "metadata": {},
     "output_type": "display_data"
    },
    {
     "name": "stdout",
     "output_type": "stream",
     "text": [
      "CPU times: user 18min 7s, sys: 2min 31s, total: 20min 38s\n",
      "Wall time: 3min 29s\n"
     ]
    }
   ],
   "source": [
    "%%time\n",
    "temp = []\n",
    "for text in log_progress(df_test_merge['New_Title'], every = 100):\n",
    "    temp.append(get_num(text))\n",
    "df_test_merge['numbers'] = temp"
   ]
  },
  {
   "cell_type": "markdown",
   "metadata": {},
   "source": [
    "## Remove Garbage words from 宝石\n"
   ]
  },
  {
   "cell_type": "code",
   "execution_count": 74,
   "metadata": {},
   "outputs": [],
   "source": [
    "import pickle\n",
    "fr = open('./data/garbage.txt', 'rb')\n",
    "garbage = pickle.load(fr)\n",
    "fr.close()"
   ]
  },
  {
   "cell_type": "code",
   "execution_count": 75,
   "metadata": {},
   "outputs": [],
   "source": [
    "garbage = set([t[0] for t in garbage])"
   ]
  },
  {
   "cell_type": "code",
   "execution_count": 76,
   "metadata": {},
   "outputs": [],
   "source": [
    "def remove_garbage(x):\n",
    "    return [xx for xx in x if xx not in garbage]"
   ]
  },
  {
   "cell_type": "code",
   "execution_count": 77,
   "metadata": {},
   "outputs": [],
   "source": [
    "df_train_merge['ab_clean'] = df_train_merge['ab_clean'].apply(remove_garbage)\n",
    "df_test_merge['ab_clean'] = df_test_merge['ab_clean'].apply(remove_garbage)"
   ]
  },
  {
   "cell_type": "markdown",
   "metadata": {},
   "source": [
    "## Highlight zero length abstract"
   ]
  },
  {
   "cell_type": "code",
   "execution_count": 79,
   "metadata": {},
   "outputs": [],
   "source": [
    "df_train_merge['zero_length'] = df_train_merge['ab_clean'].apply(lambda x: True if len(x) == 0 or x == ['nan'] else False)\n",
    "df_test_merge['zero_length'] = df_test_merge['ab_clean'].apply(lambda x: True if len(x) == 0 or x == ['nan'] else False)"
   ]
  },
  {
   "cell_type": "code",
   "execution_count": 80,
   "metadata": {},
   "outputs": [
    {
     "name": "stdout",
     "output_type": "stream",
     "text": [
      "8 zero length cleaned abstract in training set.\n",
      "1684 zero length cleaned abstract in test set.\n"
     ]
    }
   ],
   "source": [
    "print(sum(df_train_merge['zero_length']), 'zero length cleaned abstract in training set.')\n",
    "print(sum(df_test_merge['zero_length']), 'zero length cleaned abstract in test set.')"
   ]
  },
  {
   "cell_type": "markdown",
   "metadata": {},
   "source": [
    "# Create features for binary classification"
   ]
  },
  {
   "cell_type": "code",
   "execution_count": 81,
   "metadata": {},
   "outputs": [],
   "source": [
    "features = set()"
   ]
  },
  {
   "cell_type": "markdown",
   "metadata": {},
   "source": [
    "## Bacteria Names"
   ]
  },
  {
   "cell_type": "code",
   "execution_count": 82,
   "metadata": {},
   "outputs": [],
   "source": [
    "#http://www.bacterio.net/-alintro.html\n",
    "f = open('./data/bacteria.txt')\n",
    "bacterias = []\n",
    "for line in f:\n",
    "    if ' ' in line:\n",
    "        bacterias.append(line.lower().split(' ')[1])\n",
    "bacterias = set(bacterias)"
   ]
  },
  {
   "cell_type": "code",
   "execution_count": 83,
   "metadata": {},
   "outputs": [],
   "source": [
    "def has_bacteria(words, bacterias):\n",
    "    output = []\n",
    "    for word in words:\n",
    "        if word in bacterias:\n",
    "            output.append(word)\n",
    "    return output"
   ]
  },
  {
   "cell_type": "code",
   "execution_count": 84,
   "metadata": {},
   "outputs": [
    {
     "name": "stdout",
     "output_type": "stream",
     "text": [
      "CPU times: user 4.65 ms, sys: 58 µs, total: 4.71 ms\n",
      "Wall time: 4.68 ms\n"
     ]
    }
   ],
   "source": [
    "%%time\n",
    "df_train_merge['bacteria'] = df_train_merge['ab_clean'].apply(lambda x: has_bacteria(x, bacterias))"
   ]
  },
  {
   "cell_type": "code",
   "execution_count": 85,
   "metadata": {},
   "outputs": [],
   "source": [
    "y_1_bac = [xx for x in df_train_merge[df_train_merge['Event ID'] >= 1]['bacteria'] for xx in x if x ]\n",
    "y_0_bac = [xx for x in df_train_merge[df_train_merge['Event ID'] == 0]['bacteria'] for xx in x if x ]"
   ]
  },
  {
   "cell_type": "code",
   "execution_count": 86,
   "metadata": {},
   "outputs": [
    {
     "data": {
      "text/plain": [
       "salmonella       531\n",
       "listeria          49\n",
       "bacteria          12\n",
       "list              11\n",
       "type              11\n",
       "bacillus           6\n",
       "article            3\n",
       "campylobacter      3\n",
       "support            3\n",
       "escherichia        2\n",
       "strain             2\n",
       "information        2\n",
       "legal              1\n",
       "mycobacterium      1\n",
       "für                1\n",
       "dtype: int64"
      ]
     },
     "execution_count": 86,
     "metadata": {},
     "output_type": "execute_result"
    }
   ],
   "source": [
    "pd.Series(y_0_bac).value_counts().head(15)"
   ]
  },
  {
   "cell_type": "code",
   "execution_count": 87,
   "metadata": {},
   "outputs": [
    {
     "data": {
      "text/plain": [
       "salmonella     1402\n",
       "listeria        790\n",
       "bacteria         10\n",
       "type              6\n",
       "information       5\n",
       "list              4\n",
       "dtype: int64"
      ]
     },
     "execution_count": 87,
     "metadata": {},
     "output_type": "execute_result"
    }
   ],
   "source": [
    "pd.Series(y_1_bac).value_counts().head(15)"
   ]
  },
  {
   "cell_type": "markdown",
   "metadata": {},
   "source": [
    "***Feature***\n",
    "- None"
   ]
  },
  {
   "cell_type": "markdown",
   "metadata": {},
   "source": [
    "## NLP Features"
   ]
  },
  {
   "cell_type": "markdown",
   "metadata": {},
   "source": [
    "### Verbs"
   ]
  },
  {
   "cell_type": "code",
   "execution_count": 88,
   "metadata": {},
   "outputs": [],
   "source": [
    "def get_verb(text):\n",
    "    try:\n",
    "        doc = nlp(text)\n",
    "        output = []\n",
    "        for token in doc:\n",
    "            if token.pos_ in ['VERB']:\n",
    "                output.append(token.lemma_)\n",
    "        return output\n",
    "    except:\n",
    "        return []"
   ]
  },
  {
   "cell_type": "code",
   "execution_count": 89,
   "metadata": {},
   "outputs": [
    {
     "name": "stdout",
     "output_type": "stream",
     "text": [
      "CPU times: user 2min 34s, sys: 21.4 s, total: 2min 55s\n",
      "Wall time: 29.8 s\n"
     ]
    }
   ],
   "source": [
    "%%time\n",
    "df_train_merge['verbs'] = df_train_merge['New_Title'].apply(clean_sentence).apply(get_verb)"
   ]
  },
  {
   "cell_type": "code",
   "execution_count": 90,
   "metadata": {},
   "outputs": [],
   "source": [
    "y_1_verbs = [xx for x in df_train_merge[df_train_merge['Event ID'] >= 1]['verbs'] for xx in x if x ]\n",
    "y_0_verbs = [xx for x in df_train_merge[df_train_merge['Event ID'] == 0]['verbs'] for xx in x if x ]"
   ]
  },
  {
   "cell_type": "code",
   "execution_count": 91,
   "metadata": {},
   "outputs": [
    {
     "data": {
      "text/plain": [
       "be        500\n",
       "get       186\n",
       "eat       165\n",
       "have      144\n",
       "do        128\n",
       "can        83\n",
       "recall     45\n",
       "will       45\n",
       "go         42\n",
       "make       38\n",
       "link       37\n",
       "think      34\n",
       "would      34\n",
       "know       33\n",
       "’          33\n",
       "dtype: int64"
      ]
     },
     "execution_count": 91,
     "metadata": {},
     "output_type": "execute_result"
    }
   ],
   "source": [
    "pd.Series(y_0_verbs).value_counts().head(15)"
   ]
  },
  {
   "cell_type": "code",
   "execution_count": 92,
   "metadata": {},
   "outputs": [
    {
     "data": {
      "text/plain": [
       "recall         1848\n",
       "be              603\n",
       "sell            353\n",
       "have            256\n",
       "may             120\n",
       "announce        104\n",
       "contain          82\n",
       "issue            75\n",
       "check            60\n",
       "fear             56\n",
       "contaminate      53\n",
       "can              46\n",
       "find             44\n",
       "prompt           40\n",
       "say              33\n",
       "could            26\n",
       "eat              25\n",
       "do               22\n",
       "get              19\n",
       "discover         18\n",
       "read             17\n",
       "blame            16\n",
       "include          15\n",
       "affect           13\n",
       "remind           13\n",
       "share            12\n",
       "hit              12\n",
       "avoid            12\n",
       "wrap             12\n",
       "make             11\n",
       "dtype: int64"
      ]
     },
     "execution_count": 92,
     "metadata": {},
     "output_type": "execute_result"
    }
   ],
   "source": [
    "pd.Series(y_1_verbs).value_counts().head(30)"
   ]
  },
  {
   "cell_type": "markdown",
   "metadata": {},
   "source": [
    "***Features***\n",
    "- None"
   ]
  },
  {
   "cell_type": "markdown",
   "metadata": {},
   "source": [
    "### Noun"
   ]
  },
  {
   "cell_type": "code",
   "execution_count": 93,
   "metadata": {},
   "outputs": [],
   "source": [
    "def get_noun_chunk(text):\n",
    "    try:\n",
    "        doc = nlp(text)\n",
    "        output = []\n",
    "        for chunk in doc.noun_chunks:\n",
    "            output.append(chunk.root.text)\n",
    "        return output\n",
    "    except:\n",
    "        return []"
   ]
  },
  {
   "cell_type": "code",
   "execution_count": 94,
   "metadata": {},
   "outputs": [
    {
     "name": "stdout",
     "output_type": "stream",
     "text": [
      "CPU times: user 19min 33s, sys: 2min 53s, total: 22min 27s\n",
      "Wall time: 3min 49s\n"
     ]
    }
   ],
   "source": [
    "%%time\n",
    "df_train_merge['nouns'] = df_train_merge['New_Title'].apply(clean_sentence).apply(get_noun_chunk)\n",
    "df_test_merge['nouns'] = df_test_merge['New_Title'].apply(clean_sentence).apply(get_noun_chunk)"
   ]
  },
  {
   "cell_type": "code",
   "execution_count": 95,
   "metadata": {},
   "outputs": [],
   "source": [
    "y_1_nouns = [xx for x in df_train_merge[df_train_merge['Event ID'] >= 1]['nouns'] for xx in x if x ]\n",
    "y_0_nouns = [xx for x in df_train_merge[df_train_merge['Event ID'] == 0]['nouns'] for xx in x if x ]"
   ]
  },
  {
   "cell_type": "code",
   "execution_count": 96,
   "metadata": {},
   "outputs": [
    {
     "data": {
      "text/plain": [
       "salmonella       309\n",
       "I                204\n",
       "you              150\n",
       "it               122\n",
       "dough            106\n",
       "i                 94\n",
       "food              67\n",
       "chicken           65\n",
       "me                64\n",
       "side              49\n",
       "outbreaks         48\n",
       "Salmonella        47\n",
       "eggs              43\n",
       "we                42\n",
       "salmon            37\n",
       "outbreak          35\n",
       "hedgehogs         34\n",
       "CDC               33\n",
       "What              29\n",
       "Outbreak          28\n",
       "people            27\n",
       "recall            25\n",
       "Hedgehogs         25\n",
       "they              24\n",
       "coli              23\n",
       "You               22\n",
       "who               21\n",
       "contamination     21\n",
       "anyone            20\n",
       "hands             20\n",
       "dtype: int64"
      ]
     },
     "execution_count": 96,
     "metadata": {},
     "output_type": "execute_result"
    }
   ],
   "source": [
    "pd.Series(y_0_nouns).value_counts().head(30)"
   ]
  },
  {
   "cell_type": "code",
   "execution_count": 97,
   "metadata": {},
   "outputs": [
    {
     "data": {
      "text/plain": [
       "Mills            983\n",
       "flour            776\n",
       "concerns         534\n",
       "bags             504\n",
       "Flour            500\n",
       "nectarines       496\n",
       "plums            351\n",
       "contamination    288\n",
       "recall           279\n",
       "Peaches          277\n",
       "Listeria         268\n",
       "Walmart          249\n",
       "fears            232\n",
       "Salmonella       209\n",
       "peaches          170\n",
       "food             153\n",
       "Costco           153\n",
       "stores           146\n",
       "Recall           120\n",
       "Foods            119\n",
       "salmonella       113\n",
       "Bags             110\n",
       "nuggets          106\n",
       "RECALL           104\n",
       "Fears            102\n",
       "listeria         100\n",
       "Aldi              99\n",
       "Concerns          98\n",
       "Fruit             93\n",
       "Nectarines        78\n",
       "dtype: int64"
      ]
     },
     "execution_count": 97,
     "metadata": {},
     "output_type": "execute_result"
    }
   ],
   "source": [
    "pd.Series(y_1_nouns).value_counts().head(30)"
   ]
  },
  {
   "cell_type": "markdown",
   "metadata": {},
   "source": [
    "***Features***"
   ]
  },
  {
   "cell_type": "code",
   "execution_count": 98,
   "metadata": {},
   "outputs": [],
   "source": [
    "bad_nouns = ['I', 'you', 'i', 'me', 'we', 'they', 'It', 'You']"
   ]
  },
  {
   "cell_type": "code",
   "execution_count": 99,
   "metadata": {},
   "outputs": [],
   "source": [
    "for temp in [df_train_merge, df_test_merge]:\n",
    "    for col in bad_nouns:\n",
    "        temp['neg_noun_' + col] = temp['nouns'].apply(lambda x: col in x)\n",
    "        features.add('neg_noun_' + col)"
   ]
  },
  {
   "cell_type": "markdown",
   "metadata": {},
   "source": [
    "### NNP"
   ]
  },
  {
   "cell_type": "code",
   "execution_count": 100,
   "metadata": {},
   "outputs": [],
   "source": [
    "def get_nnp(text):\n",
    "    count = 0\n",
    "    try:\n",
    "        doc = nlp(text)\n",
    "        for token in doc:\n",
    "            if token.tag_ in ['NNP']:\n",
    "                count +=1\n",
    "        return count\n",
    "    except:\n",
    "        return count"
   ]
  },
  {
   "cell_type": "code",
   "execution_count": 101,
   "metadata": {},
   "outputs": [
    {
     "name": "stdout",
     "output_type": "stream",
     "text": [
      "CPU times: user 19min 28s, sys: 3min 3s, total: 22min 32s\n",
      "Wall time: 3min 51s\n"
     ]
    }
   ],
   "source": [
    "%%time\n",
    "df_train_merge['nnp'] = df_train_merge['New_Title'].apply(clean_sentence).apply(get_nnp)\n",
    "df_test_merge['nnp'] = df_test_merge['New_Title'].apply(clean_sentence).apply(get_nnp)"
   ]
  },
  {
   "cell_type": "code",
   "execution_count": 102,
   "metadata": {},
   "outputs": [],
   "source": [
    "y_1_nnp = df_train_merge[df_train_merge['Event ID'] >= 1]['nnp']\n",
    "y_0_nnp = df_train_merge[df_train_merge['Event ID'] == 0]['nnp']  "
   ]
  },
  {
   "cell_type": "code",
   "execution_count": 103,
   "metadata": {},
   "outputs": [
    {
     "data": {
      "text/plain": [
       "0    580\n",
       "1    227\n",
       "2    118\n",
       "3    102\n",
       "4     54\n",
       "Name: nnp, dtype: int64"
      ]
     },
     "execution_count": 103,
     "metadata": {},
     "output_type": "execute_result"
    }
   ],
   "source": [
    "pd.Series(y_0_nnp).value_counts()[:5]"
   ]
  },
  {
   "cell_type": "code",
   "execution_count": 104,
   "metadata": {},
   "outputs": [
    {
     "data": {
      "text/plain": [
       "1    763\n",
       "3    419\n",
       "2    404\n",
       "4    313\n",
       "5    281\n",
       "Name: nnp, dtype: int64"
      ]
     },
     "execution_count": 104,
     "metadata": {},
     "output_type": "execute_result"
    }
   ],
   "source": [
    "pd.Series(y_1_nnp).value_counts()[:5]"
   ]
  },
  {
   "cell_type": "markdown",
   "metadata": {},
   "source": [
    "***Features***"
   ]
  },
  {
   "cell_type": "code",
   "execution_count": 105,
   "metadata": {},
   "outputs": [],
   "source": [
    "df_train_merge['nnp'] = df_train_merge['nnp'] > 0\n",
    "df_test_merge['nnp'] = df_test_merge['nnp'] > 0"
   ]
  },
  {
   "cell_type": "code",
   "execution_count": 106,
   "metadata": {},
   "outputs": [],
   "source": [
    "features.add('nnp')"
   ]
  },
  {
   "cell_type": "markdown",
   "metadata": {},
   "source": [
    "## Words"
   ]
  },
  {
   "cell_type": "code",
   "execution_count": 109,
   "metadata": {},
   "outputs": [],
   "source": [
    "all_events_top_words = dict()\n",
    "for event_id in range(16):\n",
    "    event_subset = df_train_merge[df_train_merge['Event ID'] == event_id]\n",
    "    corpus = list(event_subset['ab_clean'].apply(lambda x: ' '.join(x)))\n",
    "    vectorizer = CountVectorizer(binary = True) # if in sentence or not\n",
    "    X = vectorizer.fit_transform(corpus)\n",
    "    words = vectorizer.get_feature_names()\n",
    "    frequencies = X.toarray().sum(axis = 0)\n",
    "    word_freq = {k:v for k, v in zip(words, frequencies)}\n",
    "    word_freq = sorted(word_freq.items(), key = lambda x: x[1], reverse = True)\n",
    "    all_events_top_words['Event ID: '+ str(event_id)] = word_freq[:10]"
   ]
  },
  {
   "cell_type": "markdown",
   "metadata": {},
   "source": [
    "For each event, what is the top 10 words in terms of corpus frequency\n",
    "- Event ID = 0 means not a labeled event"
   ]
  },
  {
   "cell_type": "code",
   "execution_count": 110,
   "metadata": {},
   "outputs": [
    {
     "data": {
      "text/html": [
       "<div>\n",
       "<style scoped>\n",
       "    .dataframe tbody tr th:only-of-type {\n",
       "        vertical-align: middle;\n",
       "    }\n",
       "\n",
       "    .dataframe tbody tr th {\n",
       "        vertical-align: top;\n",
       "    }\n",
       "\n",
       "    .dataframe thead th {\n",
       "        text-align: right;\n",
       "    }\n",
       "</style>\n",
       "<table border=\"1\" class=\"dataframe\">\n",
       "  <thead>\n",
       "    <tr style=\"text-align: right;\">\n",
       "      <th></th>\n",
       "      <th>Event ID: 0</th>\n",
       "      <th>Event ID: 1</th>\n",
       "      <th>Event ID: 2</th>\n",
       "      <th>Event ID: 3</th>\n",
       "      <th>Event ID: 4</th>\n",
       "      <th>Event ID: 5</th>\n",
       "      <th>Event ID: 6</th>\n",
       "      <th>Event ID: 7</th>\n",
       "      <th>Event ID: 8</th>\n",
       "      <th>Event ID: 9</th>\n",
       "      <th>Event ID: 10</th>\n",
       "      <th>Event ID: 11</th>\n",
       "      <th>Event ID: 12</th>\n",
       "      <th>Event ID: 13</th>\n",
       "      <th>Event ID: 14</th>\n",
       "      <th>Event ID: 15</th>\n",
       "    </tr>\n",
       "  </thead>\n",
       "  <tbody>\n",
       "    <tr>\n",
       "      <th>0</th>\n",
       "      <td>(salmonella, 522)</td>\n",
       "      <td>(recall, 241)</td>\n",
       "      <td>(frito, 32)</td>\n",
       "      <td>(alert, 18)</td>\n",
       "      <td>(peanut, 23)</td>\n",
       "      <td>(recall, 118)</td>\n",
       "      <td>(gorgonzola, 18)</td>\n",
       "      <td>(recall, 1446)</td>\n",
       "      <td>(recall, 128)</td>\n",
       "      <td>(butter, 89)</td>\n",
       "      <td>(recall, 40)</td>\n",
       "      <td>(chicken, 13)</td>\n",
       "      <td>(recall, 7)</td>\n",
       "      <td>(ground, 4)</td>\n",
       "      <td>(honey, 5)</td>\n",
       "      <td>(brie, 7)</td>\n",
       "    </tr>\n",
       "    <tr>\n",
       "      <th>1</th>\n",
       "      <td>(food, 172)</td>\n",
       "      <td>(food, 240)</td>\n",
       "      <td>(chip, 31)</td>\n",
       "      <td>(allergy, 18)</td>\n",
       "      <td>(butter, 21)</td>\n",
       "      <td>(chicken, 115)</td>\n",
       "      <td>(listeria, 17)</td>\n",
       "      <td>(flour, 1411)</td>\n",
       "      <td>(salmonella, 121)</td>\n",
       "      <td>(nut, 83)</td>\n",
       "      <td>(chicken, 39)</td>\n",
       "      <td>(nugget, 13)</td>\n",
       "      <td>(cheese, 6)</td>\n",
       "      <td>(pound, 4)</td>\n",
       "      <td>(smack, 5)</td>\n",
       "      <td>(cheese, 7)</td>\n",
       "    </tr>\n",
       "    <tr>\n",
       "      <th>2</th>\n",
       "      <td>(eat, 165)</td>\n",
       "      <td>(dog, 211)</td>\n",
       "      <td>(lie, 27)</td>\n",
       "      <td>(food, 18)</td>\n",
       "      <td>(aflatoxin, 20)</td>\n",
       "      <td>(nugget, 115)</td>\n",
       "      <td>(di, 13)</td>\n",
       "      <td>(general, 1371)</td>\n",
       "      <td>(baby, 98)</td>\n",
       "      <td>(recall, 77)</td>\n",
       "      <td>(nugget, 39)</td>\n",
       "      <td>(salmonella, 11)</td>\n",
       "      <td>(contamination, 6)</td>\n",
       "      <td>(recall, 4)</td>\n",
       "      <td>(salmonella, 4)</td>\n",
       "      <td>(england, 7)</td>\n",
       "    </tr>\n",
       "    <tr>\n",
       "      <th>3</th>\n",
       "      <td>(outbreak, 143)</td>\n",
       "      <td>(pet, 132)</td>\n",
       "      <td>(recall, 27)</td>\n",
       "      <td>(issue, 18)</td>\n",
       "      <td>(nuteez, 9)</td>\n",
       "      <td>(food, 75)</td>\n",
       "      <td>(dop, 13)</td>\n",
       "      <td>(salmonella, 1257)</td>\n",
       "      <td>(food, 71)</td>\n",
       "      <td>(listeria, 76)</td>\n",
       "      <td>(perdue, 33)</td>\n",
       "      <td>(recall, 10)</td>\n",
       "      <td>(feta, 6)</td>\n",
       "      <td>(salmonella, 4)</td>\n",
       "      <td>(outbreak, 3)</td>\n",
       "      <td>(listeria, 7)</td>\n",
       "    </tr>\n",
       "    <tr>\n",
       "      <th>4</th>\n",
       "      <td>(raw, 122)</td>\n",
       "      <td>(hill, 128)</td>\n",
       "      <td>(alert, 26)</td>\n",
       "      <td>(market, 17)</td>\n",
       "      <td>(contaminate, 8)</td>\n",
       "      <td>(pound, 46)</td>\n",
       "      <td>(presenza, 9)</td>\n",
       "      <td>(gold, 733)</td>\n",
       "      <td>(possible, 55)</td>\n",
       "      <td>(possible, 47)</td>\n",
       "      <td>(food, 26)</td>\n",
       "      <td>(delicious, 9)</td>\n",
       "      <td>(fear, 4)</td>\n",
       "      <td>(turkey, 4)</td>\n",
       "      <td>(recall, 2)</td>\n",
       "      <td>(recall, 7)</td>\n",
       "    </tr>\n",
       "    <tr>\n",
       "      <th>5</th>\n",
       "      <td>(chicken, 118)</td>\n",
       "      <td>(vitamin, 89)</td>\n",
       "      <td>(simply, 24)</td>\n",
       "      <td>(undeclared, 17)</td>\n",
       "      <td>(brand, 6)</td>\n",
       "      <td>(contamination, 36)</td>\n",
       "      <td>(dolce, 7)</td>\n",
       "      <td>(bag, 608)</td>\n",
       "      <td>(contamination, 53)</td>\n",
       "      <td>(oskri, 46)</td>\n",
       "      <td>(undeclared, 22)</td>\n",
       "      <td>(breast, 8)</td>\n",
       "      <td>(maleny, 4)</td>\n",
       "      <td>(outbreak, 3)</td>\n",
       "      <td>(affect, 1)</td>\n",
       "      <td>(warning, 7)</td>\n",
       "    </tr>\n",
       "    <tr>\n",
       "      <th>6</th>\n",
       "      <td>(cookie, 117)</td>\n",
       "      <td>(level, 64)</td>\n",
       "      <td>(naked, 22)</td>\n",
       "      <td>(egg, 16)</td>\n",
       "      <td>(government, 6)</td>\n",
       "      <td>(possible, 34)</td>\n",
       "      <td>(igor, 7)</td>\n",
       "      <td>(concern, 543)</td>\n",
       "      <td>(product, 46)</td>\n",
       "      <td>(market, 22)</td>\n",
       "      <td>(allergen, 14)</td>\n",
       "      <td>(brand, 7)</td>\n",
       "      <td>(popular, 3)</td>\n",
       "      <td>(widen, 3)</td>\n",
       "      <td>(alert, 1)</td>\n",
       "      <td>(monocytogene, 5)</td>\n",
       "    </tr>\n",
       "    <tr>\n",
       "      <th>7</th>\n",
       "      <td>(dough, 113)</td>\n",
       "      <td>(nutrition, 58)</td>\n",
       "      <td>(issue, 21)</td>\n",
       "      <td>(milk, 16)</td>\n",
       "      <td>(health, 6)</td>\n",
       "      <td>(alert, 24)</td>\n",
       "      <td>(richiamato, 6)</td>\n",
       "      <td>(unbleached, 405)</td>\n",
       "      <td>(contain, 27)</td>\n",
       "      <td>(thrive, 22)</td>\n",
       "      <td>(milk, 11)</td>\n",
       "      <td>(food, 4)</td>\n",
       "      <td>(food, 2)</td>\n",
       "      <td>(post, 2)</td>\n",
       "      <td>(amid, 1)</td>\n",
       "      <td>(affect, 3)</td>\n",
       "    </tr>\n",
       "    <tr>\n",
       "      <th>8</th>\n",
       "      <td>(recall, 106)</td>\n",
       "      <td>(owner, 39)</td>\n",
       "      <td>(milk, 20)</td>\n",
       "      <td>(walnut, 16)</td>\n",
       "      <td>(poison, 5)</td>\n",
       "      <td>(piece, 14)</td>\n",
       "      <td>(ministero, 5)</td>\n",
       "      <td>(fear, 378)</td>\n",
       "      <td>(state, 25)</td>\n",
       "      <td>(contamination, 14)</td>\n",
       "      <td>(breast, 9)</td>\n",
       "      <td>(canada, 3)</td>\n",
       "      <td>(microbiological, 2)</td>\n",
       "      <td>(washington, 2)</td>\n",
       "      <td>(appropriately, 1)</td>\n",
       "      <td>(batch, 2)</td>\n",
       "    </tr>\n",
       "    <tr>\n",
       "      <th>9</th>\n",
       "      <td>(egg, 62)</td>\n",
       "      <td>(voluntary, 35)</td>\n",
       "      <td>(undeclared, 20)</td>\n",
       "      <td>(chipster, 12)</td>\n",
       "      <td>(recall, 5)</td>\n",
       "      <td>(foodsafety, 12)</td>\n",
       "      <td>(marchi, 4)</td>\n",
       "      <td>(pound, 157)</td>\n",
       "      <td>(salad, 22)</td>\n",
       "      <td>(unexpired, 12)</td>\n",
       "      <td>(fun, 9)</td>\n",
       "      <td>(contamination, 3)</td>\n",
       "      <td>(alert, 1)</td>\n",
       "      <td>(concern, 1)</td>\n",
       "      <td>(case, 1)</td>\n",
       "      <td>(find, 2)</td>\n",
       "    </tr>\n",
       "  </tbody>\n",
       "</table>\n",
       "</div>"
      ],
      "text/plain": [
       "         Event ID: 0      Event ID: 1       Event ID: 2       Event ID: 3  \\\n",
       "0  (salmonella, 522)    (recall, 241)       (frito, 32)       (alert, 18)   \n",
       "1        (food, 172)      (food, 240)        (chip, 31)     (allergy, 18)   \n",
       "2         (eat, 165)       (dog, 211)         (lie, 27)        (food, 18)   \n",
       "3    (outbreak, 143)       (pet, 132)      (recall, 27)       (issue, 18)   \n",
       "4         (raw, 122)      (hill, 128)       (alert, 26)      (market, 17)   \n",
       "5     (chicken, 118)    (vitamin, 89)      (simply, 24)  (undeclared, 17)   \n",
       "6      (cookie, 117)      (level, 64)       (naked, 22)         (egg, 16)   \n",
       "7       (dough, 113)  (nutrition, 58)       (issue, 21)        (milk, 16)   \n",
       "8      (recall, 106)      (owner, 39)        (milk, 20)      (walnut, 16)   \n",
       "9          (egg, 62)  (voluntary, 35)  (undeclared, 20)    (chipster, 12)   \n",
       "\n",
       "        Event ID: 4          Event ID: 5       Event ID: 6  \\\n",
       "0      (peanut, 23)        (recall, 118)  (gorgonzola, 18)   \n",
       "1      (butter, 21)       (chicken, 115)    (listeria, 17)   \n",
       "2   (aflatoxin, 20)        (nugget, 115)          (di, 13)   \n",
       "3       (nuteez, 9)           (food, 75)         (dop, 13)   \n",
       "4  (contaminate, 8)          (pound, 46)     (presenza, 9)   \n",
       "5        (brand, 6)  (contamination, 36)        (dolce, 7)   \n",
       "6   (government, 6)       (possible, 34)         (igor, 7)   \n",
       "7       (health, 6)          (alert, 24)   (richiamato, 6)   \n",
       "8       (poison, 5)          (piece, 14)    (ministero, 5)   \n",
       "9       (recall, 5)     (foodsafety, 12)       (marchi, 4)   \n",
       "\n",
       "          Event ID: 7          Event ID: 8          Event ID: 9  \\\n",
       "0      (recall, 1446)        (recall, 128)         (butter, 89)   \n",
       "1       (flour, 1411)    (salmonella, 121)            (nut, 83)   \n",
       "2     (general, 1371)           (baby, 98)         (recall, 77)   \n",
       "3  (salmonella, 1257)           (food, 71)       (listeria, 76)   \n",
       "4         (gold, 733)       (possible, 55)       (possible, 47)   \n",
       "5          (bag, 608)  (contamination, 53)          (oskri, 46)   \n",
       "6      (concern, 543)        (product, 46)         (market, 22)   \n",
       "7   (unbleached, 405)        (contain, 27)         (thrive, 22)   \n",
       "8         (fear, 378)          (state, 25)  (contamination, 14)   \n",
       "9        (pound, 157)          (salad, 22)      (unexpired, 12)   \n",
       "\n",
       "       Event ID: 10        Event ID: 11          Event ID: 12  \\\n",
       "0      (recall, 40)       (chicken, 13)           (recall, 7)   \n",
       "1     (chicken, 39)        (nugget, 13)           (cheese, 6)   \n",
       "2      (nugget, 39)    (salmonella, 11)    (contamination, 6)   \n",
       "3      (perdue, 33)        (recall, 10)             (feta, 6)   \n",
       "4        (food, 26)      (delicious, 9)             (fear, 4)   \n",
       "5  (undeclared, 22)         (breast, 8)           (maleny, 4)   \n",
       "6    (allergen, 14)          (brand, 7)          (popular, 3)   \n",
       "7        (milk, 11)           (food, 4)             (food, 2)   \n",
       "8       (breast, 9)         (canada, 3)  (microbiological, 2)   \n",
       "9          (fun, 9)  (contamination, 3)            (alert, 1)   \n",
       "\n",
       "      Event ID: 13        Event ID: 14       Event ID: 15  \n",
       "0      (ground, 4)          (honey, 5)          (brie, 7)  \n",
       "1       (pound, 4)          (smack, 5)        (cheese, 7)  \n",
       "2      (recall, 4)     (salmonella, 4)       (england, 7)  \n",
       "3  (salmonella, 4)       (outbreak, 3)      (listeria, 7)  \n",
       "4      (turkey, 4)         (recall, 2)        (recall, 7)  \n",
       "5    (outbreak, 3)         (affect, 1)       (warning, 7)  \n",
       "6       (widen, 3)          (alert, 1)  (monocytogene, 5)  \n",
       "7        (post, 2)           (amid, 1)        (affect, 3)  \n",
       "8  (washington, 2)  (appropriately, 1)         (batch, 2)  \n",
       "9     (concern, 1)           (case, 1)          (find, 2)  "
      ]
     },
     "execution_count": 110,
     "metadata": {},
     "output_type": "execute_result"
    }
   ],
   "source": [
    "all_events_top_words = pd.DataFrame(all_events_top_words)\n",
    "all_events_top_words"
   ]
  },
  {
   "cell_type": "markdown",
   "metadata": {},
   "source": [
    "***Features***\n"
   ]
  },
  {
   "cell_type": "code",
   "execution_count": 111,
   "metadata": {},
   "outputs": [],
   "source": [
    "words = ['recall', 'alert', 'allergy', 'outbreak']"
   ]
  },
  {
   "cell_type": "code",
   "execution_count": 112,
   "metadata": {},
   "outputs": [],
   "source": [
    "for temp in [df_train_merge, df_test_merge]:\n",
    "    for col in words:\n",
    "        temp['word_' + col] = temp['ab_clean'].apply(lambda x: col in x)\n",
    "        features.add('word_' + col)"
   ]
  },
  {
   "cell_type": "markdown",
   "metadata": {},
   "source": [
    "## Hashtags"
   ]
  },
  {
   "cell_type": "code",
   "execution_count": 127,
   "metadata": {},
   "outputs": [
    {
     "data": {
      "text/plain": [
       "[]"
      ]
     },
     "execution_count": 127,
     "metadata": {},
     "output_type": "execute_result"
    }
   ],
   "source": [
    "df_train_merge['hashtags'][2]"
   ]
  },
  {
   "cell_type": "code",
   "execution_count": 130,
   "metadata": {},
   "outputs": [],
   "source": [
    "y_1_tags = [xx for x in df_train_merge[df_train_merge['Event ID'] >= 1]['hashtags'] for xx in x if x ]\n",
    "y_0_tags = [xx for x in df_train_merge[df_train_merge['Event ID'] == 0]['hashtags'] for xx in x if x ]"
   ]
  },
  {
   "cell_type": "code",
   "execution_count": 131,
   "metadata": {},
   "outputs": [
    {
     "data": {
      "text/plain": [
       "Salmonella       19\n",
       "ChadFact         12\n",
       "CDC               9\n",
       "foodfraud         9\n",
       "food              8\n",
       "foodsafety        8\n",
       "OneHealthKIPM     8\n",
       "FoodSafety        7\n",
       "Listeria          6\n",
       "Publix            5\n",
       "salmonella        5\n",
       "aflatoxin         5\n",
       "Campylobacter     4\n",
       "recalls           3\n",
       "Foodsafety        3\n",
       "dtype: int64"
      ]
     },
     "execution_count": 131,
     "metadata": {},
     "output_type": "execute_result"
    }
   ],
   "source": [
    "pd.Series(y_0_tags).value_counts().head(15)"
   ]
  },
  {
   "cell_type": "code",
   "execution_count": 132,
   "metadata": {},
   "outputs": [
    {
     "data": {
      "text/plain": [
       "RECALL        52\n",
       "Recall        48\n",
       "Listeria      26\n",
       "salmonella    22\n",
       "recall        22\n",
       "SmartNews     21\n",
       "foodsafety    17\n",
       "recalls       16\n",
       "Foodsafety    12\n",
       "Salmonella    11\n",
       "Walmart       10\n",
       "flour          9\n",
       "peaches        8\n",
       "FDA            8\n",
       "Flour          7\n",
       "dtype: int64"
      ]
     },
     "execution_count": 132,
     "metadata": {},
     "output_type": "execute_result"
    }
   ],
   "source": [
    "pd.Series(y_1_tags).value_counts().head(15)"
   ]
  },
  {
   "cell_type": "markdown",
   "metadata": {},
   "source": [
    "***Features***"
   ]
  },
  {
   "cell_type": "code",
   "execution_count": 133,
   "metadata": {},
   "outputs": [],
   "source": [
    "hashtags = ['RECALL', 'Recall', 'SmartNews']"
   ]
  },
  {
   "cell_type": "code",
   "execution_count": 135,
   "metadata": {},
   "outputs": [],
   "source": [
    "for temp in [df_train_merge, df_test_merge]:\n",
    "    for col in hashtags:\n",
    "        temp['hashtag_' + col] = temp['hashtags'].fillna('').apply(lambda x: col in x)\n",
    "        features.add('hashtag_' + col)"
   ]
  },
  {
   "cell_type": "markdown",
   "metadata": {},
   "source": [
    "## Mentions"
   ]
  },
  {
   "cell_type": "code",
   "execution_count": 136,
   "metadata": {},
   "outputs": [],
   "source": [
    "y_1_mentions = [xx for x in df_train_merge[df_train_merge['Event ID'] >= 1]['mentions'] for xx in x if x ]\n",
    "y_0_mentions = [xx for x in df_train_merge[df_train_merge['Event ID'] == 0]['mentions'] for xx in x if x ]"
   ]
  },
  {
   "cell_type": "code",
   "execution_count": 137,
   "metadata": {},
   "outputs": [
    {
     "data": {
      "text/plain": [
       "uk_rants           10\n",
       "LivingSafely        6\n",
       "destinyangel5       5\n",
       "HumasBKIPM          5\n",
       "GorgeousVegan       4\n",
       "rinajanwar2201      4\n",
       "CNN                 4\n",
       "AVMAvets            4\n",
       "BKIPMBaubau         4\n",
       "realDonaldTrump     4\n",
       "joeschwarcz         4\n",
       "Veggiefact          4\n",
       "foodsafetynews      4\n",
       "CFIA_Food           3\n",
       "TasteThisSass       3\n",
       "dtype: int64"
      ]
     },
     "execution_count": 137,
     "metadata": {},
     "output_type": "execute_result"
    }
   ],
   "source": [
    "pd.Series(y_0_mentions).value_counts().head(15)"
   ]
  },
  {
   "cell_type": "code",
   "execution_count": 138,
   "metadata": {},
   "outputs": [
    {
     "data": {
      "text/plain": [
       "googlenews         16\n",
       "USATODAY           14\n",
       "WebMD              11\n",
       "CNN                10\n",
       "ConsumerReports     8\n",
       "ABC7                8\n",
       "wusa9               8\n",
       "NBCNews             8\n",
       "abc13houston        7\n",
       "ABC7Chicago         7\n",
       "foodsafetynews      6\n",
       "UPI                 6\n",
       "SFGate              6\n",
       "wfaa                6\n",
       "environmentguru     5\n",
       "dtype: int64"
      ]
     },
     "execution_count": 138,
     "metadata": {},
     "output_type": "execute_result"
    }
   ],
   "source": [
    "pd.Series(y_1_mentions).value_counts().head(15)"
   ]
  },
  {
   "cell_type": "markdown",
   "metadata": {},
   "source": [
    "***Features***"
   ]
  },
  {
   "cell_type": "code",
   "execution_count": 139,
   "metadata": {},
   "outputs": [],
   "source": [
    "mentions = ['googlenews']"
   ]
  },
  {
   "cell_type": "code",
   "execution_count": 141,
   "metadata": {},
   "outputs": [],
   "source": [
    "for temp in [df_train_merge, df_test_merge]:\n",
    "    for col in mentions:\n",
    "        temp['mention_' + col] = temp['mentions'].fillna('').apply(lambda x: col in x)\n",
    "        features.add('mention_' + col)"
   ]
  },
  {
   "cell_type": "markdown",
   "metadata": {},
   "source": [
    "## Length of Text"
   ]
  },
  {
   "cell_type": "code",
   "execution_count": 144,
   "metadata": {},
   "outputs": [],
   "source": [
    "y_1_len = df_train_merge[df_train_merge['Event ID'] >= 1]['ab_clean'].apply(len)\n",
    "y_0_len = df_train_merge[df_train_merge['Event ID'] == 0]['ab_clean'].apply(len)\n",
    "y_1_len_5 = y_1_len < 5\n",
    "y_0_len_5 = y_0_len < 5"
   ]
  },
  {
   "cell_type": "code",
   "execution_count": 145,
   "metadata": {},
   "outputs": [
    {
     "data": {
      "text/plain": [
       "<matplotlib.axes._subplots.AxesSubplot at 0x15915dfd0>"
      ]
     },
     "execution_count": 145,
     "metadata": {},
     "output_type": "execute_result"
    },
    {
     "data": {
      "image/png": "[encoded data removed]",
      "text/plain": [
       "<Figure size 432x288 with 1 Axes>"
      ]
     },
     "metadata": {
      "needs_background": "light"
     },
     "output_type": "display_data"
    }
   ],
   "source": [
    "sns.distplot(y_1_len)"
   ]
  },
  {
   "cell_type": "code",
   "execution_count": 146,
   "metadata": {},
   "outputs": [
    {
     "data": {
      "text/plain": [
       "False    981\n",
       "True     244\n",
       "Name: ab_clean, dtype: int64"
      ]
     },
     "execution_count": 146,
     "metadata": {},
     "output_type": "execute_result"
    }
   ],
   "source": [
    "y_0_len_5.value_counts().head(10)"
   ]
  },
  {
   "cell_type": "code",
   "execution_count": 147,
   "metadata": {},
   "outputs": [
    {
     "data": {
      "text/plain": [
       "<matplotlib.axes._subplots.AxesSubplot at 0x159bb8e48>"
      ]
     },
     "execution_count": 147,
     "metadata": {},
     "output_type": "execute_result"
    },
    {
     "data": {
      "image/png": "[encoded data removed]",
      "text/plain": [
       "<Figure size 432x288 with 1 Axes>"
      ]
     },
     "metadata": {
      "needs_background": "light"
     },
     "output_type": "display_data"
    }
   ],
   "source": [
    "sns.distplot(y_0_len)"
   ]
  },
  {
   "cell_type": "code",
   "execution_count": 148,
   "metadata": {},
   "outputs": [
    {
     "data": {
      "text/plain": [
       "False    2864\n",
       "True       94\n",
       "Name: ab_clean, dtype: int64"
      ]
     },
     "execution_count": 148,
     "metadata": {},
     "output_type": "execute_result"
    }
   ],
   "source": [
    "y_1_len_5.value_counts().head(10)"
   ]
  },
  {
   "cell_type": "markdown",
   "metadata": {},
   "source": [
    "***Features***"
   ]
  },
  {
   "cell_type": "code",
   "execution_count": 149,
   "metadata": {},
   "outputs": [],
   "source": [
    "df_train_merge['num_words'] = df_train_merge['ab_clean'].apply(len) > 5\n",
    "df_test_merge['num_words'] = df_test_merge['ab_clean'].apply(len) > 5\n",
    "features.add('num_words')"
   ]
  },
  {
   "cell_type": "markdown",
   "metadata": {},
   "source": [
    "## User Name"
   ]
  },
  {
   "cell_type": "code",
   "execution_count": 150,
   "metadata": {},
   "outputs": [],
   "source": [
    "df_train_merge['user_name'] = df_train_merge['user_name'].fillna('')\n",
    "df_test_merge['user_name'] = df_test_merge['user_name'].fillna('')\n",
    "y_1_usr = [xx for x in df_train_merge[df_train_merge['Event ID'] >= 1]['user_name'].apply(lambda x:x.split(' ')) for xx in x if len(xx) > 0]\n",
    "y_0_usr = [xx for x in df_train_merge[df_train_merge['Event ID'] == 0]['user_name'].apply(lambda x:x.split(' ')) for xx in x if len(xx) > 0]"
   ]
  },
  {
   "cell_type": "code",
   "execution_count": 151,
   "metadata": {},
   "outputs": [
    {
     "data": {
      "text/plain": [
       "@EVKDailyMenu    43\n",
       "the              20\n",
       "Living           15\n",
       "Food             14\n",
       "Safely™          14\n",
       "David            13\n",
       "Chad             12\n",
       "HandWashBot      12\n",
       "News             10\n",
       "of                8\n",
       "dtype: int64"
      ]
     },
     "execution_count": 151,
     "metadata": {},
     "output_type": "execute_result"
    }
   ],
   "source": [
    "pd.Series(y_0_usr).value_counts().head(10)"
   ]
  },
  {
   "cell_type": "code",
   "execution_count": 152,
   "metadata": {},
   "outputs": [
    {
     "data": {
      "text/plain": [
       "News      228\n",
       "The        41\n",
       "Health     37\n",
       "FOX        26\n",
       "&          21\n",
       "Food       21\n",
       "Report     19\n",
       "NBC        17\n",
       "11         16\n",
       "12         15\n",
       "dtype: int64"
      ]
     },
     "execution_count": 152,
     "metadata": {},
     "output_type": "execute_result"
    }
   ],
   "source": [
    "pd.Series(y_1_usr).value_counts().head(10)"
   ]
  },
  {
   "cell_type": "code",
   "execution_count": 153,
   "metadata": {},
   "outputs": [],
   "source": [
    "df_train_merge['user_name_words'] = df_train_merge['user_name'].apply(lambda x:x.split(' '))\n",
    "df_test_merge['user_name_words'] = df_test_merge['user_name'].apply(lambda x:x.split(' '))"
   ]
  },
  {
   "cell_type": "markdown",
   "metadata": {},
   "source": [
    "***Feature***"
   ]
  },
  {
   "cell_type": "code",
   "execution_count": 154,
   "metadata": {},
   "outputs": [],
   "source": [
    "user_name_words = ['News']"
   ]
  },
  {
   "cell_type": "code",
   "execution_count": 155,
   "metadata": {},
   "outputs": [],
   "source": [
    "for temp in [df_train_merge, df_test_merge]:\n",
    "    for col in user_name_words:\n",
    "        temp['user_name_word_' + col] = temp['user_name_words'].apply(lambda x: col in x)\n",
    "        features.add('user_name_word_' + col)"
   ]
  },
  {
   "cell_type": "markdown",
   "metadata": {},
   "source": [
    "## Media"
   ]
  },
  {
   "cell_type": "code",
   "execution_count": 156,
   "metadata": {},
   "outputs": [],
   "source": [
    "df_train_merge['medias'] = df_train_merge['medias'].fillna('')\n",
    "df_test_merge['medias'] = df_test_merge['medias'].fillna('')"
   ]
  },
  {
   "cell_type": "code",
   "execution_count": 157,
   "metadata": {},
   "outputs": [],
   "source": [
    "y_1_media = df_train_merge[df_train_merge['Event ID'] >= 1]['medias'].apply(lambda x: len(x) if x else 0)\n",
    "y_0_media = df_train_merge[df_train_merge['Event ID'] == 0]['medias'].apply(lambda x: len(x) if x else 0)"
   ]
  },
  {
   "cell_type": "code",
   "execution_count": 158,
   "metadata": {},
   "outputs": [
    {
     "data": {
      "text/plain": [
       "0     1172\n",
       "50      38\n",
       "62      12\n",
       "91       3\n",
       "Name: medias, dtype: int64"
      ]
     },
     "execution_count": 158,
     "metadata": {},
     "output_type": "execute_result"
    }
   ],
   "source": [
    "pd.Series(y_0_media).value_counts().head(10)"
   ]
  },
  {
   "cell_type": "code",
   "execution_count": 159,
   "metadata": {},
   "outputs": [
    {
     "data": {
      "text/plain": [
       "0     2425\n",
       "50     532\n",
       "62       1\n",
       "Name: medias, dtype: int64"
      ]
     },
     "execution_count": 159,
     "metadata": {},
     "output_type": "execute_result"
    }
   ],
   "source": [
    "pd.Series(y_1_media).value_counts().head(10)"
   ]
  },
  {
   "cell_type": "code",
   "execution_count": 160,
   "metadata": {},
   "outputs": [],
   "source": [
    "df_train_merge['has_media'] = df_train_merge['medias'].apply(lambda x: True if len(x) > 0 else False)\n",
    "df_test_merge['has_media'] = df_test_merge['medias'].apply(lambda x: True if len(x) > 0 else False)\n",
    "features.add('has_media')"
   ]
  },
  {
   "cell_type": "markdown",
   "metadata": {},
   "source": [
    "## Question Mark"
   ]
  },
  {
   "cell_type": "code",
   "execution_count": 161,
   "metadata": {},
   "outputs": [],
   "source": [
    "df_train_merge['Abstract'] = df_train_merge['Abstract'].fillna('')\n",
    "df_test_merge['Abstract'] = df_test_merge['Abstract'].fillna('')"
   ]
  },
  {
   "cell_type": "code",
   "execution_count": 162,
   "metadata": {},
   "outputs": [],
   "source": [
    "df_train_merge['question_mark'] = df_train_merge['Abstract'].apply(lambda x: len([c for c in x if c == '?']))\n",
    "df_test_merge['question_mark'] = df_test_merge['Abstract'].apply(lambda x: len([c for c in x if c == '?']))\n",
    "features.add('question_mark')"
   ]
  },
  {
   "cell_type": "markdown",
   "metadata": {},
   "source": [
    "# Run Binary Classification Model with Manual Feature"
   ]
  },
  {
   "cell_type": "markdown",
   "metadata": {},
   "source": [
    "## New Manual Features"
   ]
  },
  {
   "cell_type": "code",
   "execution_count": 163,
   "metadata": {
    "scrolled": false
   },
   "outputs": [
    {
     "name": "stdout",
     "output_type": "stream",
     "text": [
      "user_name_word_News\n"
     ]
    },
    {
     "data": {
      "text/html": [
       "<div>\n",
       "<style scoped>\n",
       "    .dataframe tbody tr th:only-of-type {\n",
       "        vertical-align: middle;\n",
       "    }\n",
       "\n",
       "    .dataframe tbody tr th {\n",
       "        vertical-align: top;\n",
       "    }\n",
       "\n",
       "    .dataframe thead th {\n",
       "        text-align: right;\n",
       "    }\n",
       "</style>\n",
       "<table border=\"1\" class=\"dataframe\">\n",
       "  <thead>\n",
       "    <tr style=\"text-align: right;\">\n",
       "      <th></th>\n",
       "      <th>user_name_word_News</th>\n",
       "    </tr>\n",
       "  </thead>\n",
       "  <tbody>\n",
       "    <tr>\n",
       "      <th>False</th>\n",
       "      <td>3945</td>\n",
       "    </tr>\n",
       "    <tr>\n",
       "      <th>True</th>\n",
       "      <td>238</td>\n",
       "    </tr>\n",
       "  </tbody>\n",
       "</table>\n",
       "</div>"
      ],
      "text/plain": [
       "       user_name_word_News\n",
       "False                 3945\n",
       "True                   238"
      ]
     },
     "metadata": {},
     "output_type": "display_data"
    },
    {
     "name": "stdout",
     "output_type": "stream",
     "text": [
      "neg_noun_me\n"
     ]
    },
    {
     "data": {
      "text/html": [
       "<div>\n",
       "<style scoped>\n",
       "    .dataframe tbody tr th:only-of-type {\n",
       "        vertical-align: middle;\n",
       "    }\n",
       "\n",
       "    .dataframe tbody tr th {\n",
       "        vertical-align: top;\n",
       "    }\n",
       "\n",
       "    .dataframe thead th {\n",
       "        text-align: right;\n",
       "    }\n",
       "</style>\n",
       "<table border=\"1\" class=\"dataframe\">\n",
       "  <thead>\n",
       "    <tr style=\"text-align: right;\">\n",
       "      <th></th>\n",
       "      <th>neg_noun_me</th>\n",
       "    </tr>\n",
       "  </thead>\n",
       "  <tbody>\n",
       "    <tr>\n",
       "      <th>False</th>\n",
       "      <td>4126</td>\n",
       "    </tr>\n",
       "    <tr>\n",
       "      <th>True</th>\n",
       "      <td>57</td>\n",
       "    </tr>\n",
       "  </tbody>\n",
       "</table>\n",
       "</div>"
      ],
      "text/plain": [
       "       neg_noun_me\n",
       "False         4126\n",
       "True            57"
      ]
     },
     "metadata": {},
     "output_type": "display_data"
    },
    {
     "name": "stdout",
     "output_type": "stream",
     "text": [
      "neg_noun_I\n"
     ]
    },
    {
     "data": {
      "text/html": [
       "<div>\n",
       "<style scoped>\n",
       "    .dataframe tbody tr th:only-of-type {\n",
       "        vertical-align: middle;\n",
       "    }\n",
       "\n",
       "    .dataframe tbody tr th {\n",
       "        vertical-align: top;\n",
       "    }\n",
       "\n",
       "    .dataframe thead th {\n",
       "        text-align: right;\n",
       "    }\n",
       "</style>\n",
       "<table border=\"1\" class=\"dataframe\">\n",
       "  <thead>\n",
       "    <tr style=\"text-align: right;\">\n",
       "      <th></th>\n",
       "      <th>neg_noun_I</th>\n",
       "    </tr>\n",
       "  </thead>\n",
       "  <tbody>\n",
       "    <tr>\n",
       "      <th>False</th>\n",
       "      <td>4023</td>\n",
       "    </tr>\n",
       "    <tr>\n",
       "      <th>True</th>\n",
       "      <td>160</td>\n",
       "    </tr>\n",
       "  </tbody>\n",
       "</table>\n",
       "</div>"
      ],
      "text/plain": [
       "       neg_noun_I\n",
       "False        4023\n",
       "True          160"
      ]
     },
     "metadata": {},
     "output_type": "display_data"
    },
    {
     "name": "stdout",
     "output_type": "stream",
     "text": [
      "num_words\n"
     ]
    },
    {
     "data": {
      "text/html": [
       "<div>\n",
       "<style scoped>\n",
       "    .dataframe tbody tr th:only-of-type {\n",
       "        vertical-align: middle;\n",
       "    }\n",
       "\n",
       "    .dataframe tbody tr th {\n",
       "        vertical-align: top;\n",
       "    }\n",
       "\n",
       "    .dataframe thead th {\n",
       "        text-align: right;\n",
       "    }\n",
       "</style>\n",
       "<table border=\"1\" class=\"dataframe\">\n",
       "  <thead>\n",
       "    <tr style=\"text-align: right;\">\n",
       "      <th></th>\n",
       "      <th>num_words</th>\n",
       "    </tr>\n",
       "  </thead>\n",
       "  <tbody>\n",
       "    <tr>\n",
       "      <th>True</th>\n",
       "      <td>3435</td>\n",
       "    </tr>\n",
       "    <tr>\n",
       "      <th>False</th>\n",
       "      <td>748</td>\n",
       "    </tr>\n",
       "  </tbody>\n",
       "</table>\n",
       "</div>"
      ],
      "text/plain": [
       "       num_words\n",
       "True        3435\n",
       "False        748"
      ]
     },
     "metadata": {},
     "output_type": "display_data"
    },
    {
     "name": "stdout",
     "output_type": "stream",
     "text": [
      "hashtag_RECALL\n"
     ]
    },
    {
     "data": {
      "text/html": [
       "<div>\n",
       "<style scoped>\n",
       "    .dataframe tbody tr th:only-of-type {\n",
       "        vertical-align: middle;\n",
       "    }\n",
       "\n",
       "    .dataframe tbody tr th {\n",
       "        vertical-align: top;\n",
       "    }\n",
       "\n",
       "    .dataframe thead th {\n",
       "        text-align: right;\n",
       "    }\n",
       "</style>\n",
       "<table border=\"1\" class=\"dataframe\">\n",
       "  <thead>\n",
       "    <tr style=\"text-align: right;\">\n",
       "      <th></th>\n",
       "      <th>hashtag_RECALL</th>\n",
       "    </tr>\n",
       "  </thead>\n",
       "  <tbody>\n",
       "    <tr>\n",
       "      <th>False</th>\n",
       "      <td>4131</td>\n",
       "    </tr>\n",
       "    <tr>\n",
       "      <th>True</th>\n",
       "      <td>52</td>\n",
       "    </tr>\n",
       "  </tbody>\n",
       "</table>\n",
       "</div>"
      ],
      "text/plain": [
       "       hashtag_RECALL\n",
       "False            4131\n",
       "True               52"
      ]
     },
     "metadata": {},
     "output_type": "display_data"
    },
    {
     "name": "stdout",
     "output_type": "stream",
     "text": [
      "hashtag_SmartNews\n"
     ]
    },
    {
     "data": {
      "text/html": [
       "<div>\n",
       "<style scoped>\n",
       "    .dataframe tbody tr th:only-of-type {\n",
       "        vertical-align: middle;\n",
       "    }\n",
       "\n",
       "    .dataframe tbody tr th {\n",
       "        vertical-align: top;\n",
       "    }\n",
       "\n",
       "    .dataframe thead th {\n",
       "        text-align: right;\n",
       "    }\n",
       "</style>\n",
       "<table border=\"1\" class=\"dataframe\">\n",
       "  <thead>\n",
       "    <tr style=\"text-align: right;\">\n",
       "      <th></th>\n",
       "      <th>hashtag_SmartNews</th>\n",
       "    </tr>\n",
       "  </thead>\n",
       "  <tbody>\n",
       "    <tr>\n",
       "      <th>False</th>\n",
       "      <td>4162</td>\n",
       "    </tr>\n",
       "    <tr>\n",
       "      <th>True</th>\n",
       "      <td>21</td>\n",
       "    </tr>\n",
       "  </tbody>\n",
       "</table>\n",
       "</div>"
      ],
      "text/plain": [
       "       hashtag_SmartNews\n",
       "False               4162\n",
       "True                  21"
      ]
     },
     "metadata": {},
     "output_type": "display_data"
    },
    {
     "name": "stdout",
     "output_type": "stream",
     "text": [
      "word_allergy\n"
     ]
    },
    {
     "data": {
      "text/html": [
       "<div>\n",
       "<style scoped>\n",
       "    .dataframe tbody tr th:only-of-type {\n",
       "        vertical-align: middle;\n",
       "    }\n",
       "\n",
       "    .dataframe tbody tr th {\n",
       "        vertical-align: top;\n",
       "    }\n",
       "\n",
       "    .dataframe thead th {\n",
       "        text-align: right;\n",
       "    }\n",
       "</style>\n",
       "<table border=\"1\" class=\"dataframe\">\n",
       "  <thead>\n",
       "    <tr style=\"text-align: right;\">\n",
       "      <th></th>\n",
       "      <th>word_allergy</th>\n",
       "    </tr>\n",
       "  </thead>\n",
       "  <tbody>\n",
       "    <tr>\n",
       "      <th>False</th>\n",
       "      <td>4140</td>\n",
       "    </tr>\n",
       "    <tr>\n",
       "      <th>True</th>\n",
       "      <td>43</td>\n",
       "    </tr>\n",
       "  </tbody>\n",
       "</table>\n",
       "</div>"
      ],
      "text/plain": [
       "       word_allergy\n",
       "False          4140\n",
       "True             43"
      ]
     },
     "metadata": {},
     "output_type": "display_data"
    },
    {
     "name": "stdout",
     "output_type": "stream",
     "text": [
      "nnp\n"
     ]
    },
    {
     "data": {
      "text/html": [
       "<div>\n",
       "<style scoped>\n",
       "    .dataframe tbody tr th:only-of-type {\n",
       "        vertical-align: middle;\n",
       "    }\n",
       "\n",
       "    .dataframe tbody tr th {\n",
       "        vertical-align: top;\n",
       "    }\n",
       "\n",
       "    .dataframe thead th {\n",
       "        text-align: right;\n",
       "    }\n",
       "</style>\n",
       "<table border=\"1\" class=\"dataframe\">\n",
       "  <thead>\n",
       "    <tr style=\"text-align: right;\">\n",
       "      <th></th>\n",
       "      <th>nnp</th>\n",
       "    </tr>\n",
       "  </thead>\n",
       "  <tbody>\n",
       "    <tr>\n",
       "      <th>True</th>\n",
       "      <td>3384</td>\n",
       "    </tr>\n",
       "    <tr>\n",
       "      <th>False</th>\n",
       "      <td>799</td>\n",
       "    </tr>\n",
       "  </tbody>\n",
       "</table>\n",
       "</div>"
      ],
      "text/plain": [
       "        nnp\n",
       "True   3384\n",
       "False   799"
      ]
     },
     "metadata": {},
     "output_type": "display_data"
    },
    {
     "name": "stdout",
     "output_type": "stream",
     "text": [
      "hashtag_Recall\n"
     ]
    },
    {
     "data": {
      "text/html": [
       "<div>\n",
       "<style scoped>\n",
       "    .dataframe tbody tr th:only-of-type {\n",
       "        vertical-align: middle;\n",
       "    }\n",
       "\n",
       "    .dataframe tbody tr th {\n",
       "        vertical-align: top;\n",
       "    }\n",
       "\n",
       "    .dataframe thead th {\n",
       "        text-align: right;\n",
       "    }\n",
       "</style>\n",
       "<table border=\"1\" class=\"dataframe\">\n",
       "  <thead>\n",
       "    <tr style=\"text-align: right;\">\n",
       "      <th></th>\n",
       "      <th>hashtag_Recall</th>\n",
       "    </tr>\n",
       "  </thead>\n",
       "  <tbody>\n",
       "    <tr>\n",
       "      <th>False</th>\n",
       "      <td>4134</td>\n",
       "    </tr>\n",
       "    <tr>\n",
       "      <th>True</th>\n",
       "      <td>49</td>\n",
       "    </tr>\n",
       "  </tbody>\n",
       "</table>\n",
       "</div>"
      ],
      "text/plain": [
       "       hashtag_Recall\n",
       "False            4134\n",
       "True               49"
      ]
     },
     "metadata": {},
     "output_type": "display_data"
    },
    {
     "name": "stdout",
     "output_type": "stream",
     "text": [
      "neg_noun_i\n"
     ]
    },
    {
     "data": {
      "text/html": [
       "<div>\n",
       "<style scoped>\n",
       "    .dataframe tbody tr th:only-of-type {\n",
       "        vertical-align: middle;\n",
       "    }\n",
       "\n",
       "    .dataframe tbody tr th {\n",
       "        vertical-align: top;\n",
       "    }\n",
       "\n",
       "    .dataframe thead th {\n",
       "        text-align: right;\n",
       "    }\n",
       "</style>\n",
       "<table border=\"1\" class=\"dataframe\">\n",
       "  <thead>\n",
       "    <tr style=\"text-align: right;\">\n",
       "      <th></th>\n",
       "      <th>neg_noun_i</th>\n",
       "    </tr>\n",
       "  </thead>\n",
       "  <tbody>\n",
       "    <tr>\n",
       "      <th>False</th>\n",
       "      <td>4108</td>\n",
       "    </tr>\n",
       "    <tr>\n",
       "      <th>True</th>\n",
       "      <td>75</td>\n",
       "    </tr>\n",
       "  </tbody>\n",
       "</table>\n",
       "</div>"
      ],
      "text/plain": [
       "       neg_noun_i\n",
       "False        4108\n",
       "True           75"
      ]
     },
     "metadata": {},
     "output_type": "display_data"
    },
    {
     "name": "stdout",
     "output_type": "stream",
     "text": [
      "has_media\n"
     ]
    },
    {
     "data": {
      "text/html": [
       "<div>\n",
       "<style scoped>\n",
       "    .dataframe tbody tr th:only-of-type {\n",
       "        vertical-align: middle;\n",
       "    }\n",
       "\n",
       "    .dataframe tbody tr th {\n",
       "        vertical-align: top;\n",
       "    }\n",
       "\n",
       "    .dataframe thead th {\n",
       "        text-align: right;\n",
       "    }\n",
       "</style>\n",
       "<table border=\"1\" class=\"dataframe\">\n",
       "  <thead>\n",
       "    <tr style=\"text-align: right;\">\n",
       "      <th></th>\n",
       "      <th>has_media</th>\n",
       "    </tr>\n",
       "  </thead>\n",
       "  <tbody>\n",
       "    <tr>\n",
       "      <th>False</th>\n",
       "      <td>3597</td>\n",
       "    </tr>\n",
       "    <tr>\n",
       "      <th>True</th>\n",
       "      <td>586</td>\n",
       "    </tr>\n",
       "  </tbody>\n",
       "</table>\n",
       "</div>"
      ],
      "text/plain": [
       "       has_media\n",
       "False       3597\n",
       "True         586"
      ]
     },
     "metadata": {},
     "output_type": "display_data"
    },
    {
     "name": "stdout",
     "output_type": "stream",
     "text": [
      "neg_noun_You\n"
     ]
    },
    {
     "data": {
      "text/html": [
       "<div>\n",
       "<style scoped>\n",
       "    .dataframe tbody tr th:only-of-type {\n",
       "        vertical-align: middle;\n",
       "    }\n",
       "\n",
       "    .dataframe tbody tr th {\n",
       "        vertical-align: top;\n",
       "    }\n",
       "\n",
       "    .dataframe thead th {\n",
       "        text-align: right;\n",
       "    }\n",
       "</style>\n",
       "<table border=\"1\" class=\"dataframe\">\n",
       "  <thead>\n",
       "    <tr style=\"text-align: right;\">\n",
       "      <th></th>\n",
       "      <th>neg_noun_You</th>\n",
       "    </tr>\n",
       "  </thead>\n",
       "  <tbody>\n",
       "    <tr>\n",
       "      <th>False</th>\n",
       "      <td>4156</td>\n",
       "    </tr>\n",
       "    <tr>\n",
       "      <th>True</th>\n",
       "      <td>27</td>\n",
       "    </tr>\n",
       "  </tbody>\n",
       "</table>\n",
       "</div>"
      ],
      "text/plain": [
       "       neg_noun_You\n",
       "False          4156\n",
       "True             27"
      ]
     },
     "metadata": {},
     "output_type": "display_data"
    },
    {
     "name": "stdout",
     "output_type": "stream",
     "text": [
      "question_mark\n"
     ]
    },
    {
     "data": {
      "text/html": [
       "<div>\n",
       "<style scoped>\n",
       "    .dataframe tbody tr th:only-of-type {\n",
       "        vertical-align: middle;\n",
       "    }\n",
       "\n",
       "    .dataframe tbody tr th {\n",
       "        vertical-align: top;\n",
       "    }\n",
       "\n",
       "    .dataframe thead th {\n",
       "        text-align: right;\n",
       "    }\n",
       "</style>\n",
       "<table border=\"1\" class=\"dataframe\">\n",
       "  <thead>\n",
       "    <tr style=\"text-align: right;\">\n",
       "      <th></th>\n",
       "      <th>question_mark</th>\n",
       "    </tr>\n",
       "  </thead>\n",
       "  <tbody>\n",
       "    <tr>\n",
       "      <th>0</th>\n",
       "      <td>3759</td>\n",
       "    </tr>\n",
       "    <tr>\n",
       "      <th>1</th>\n",
       "      <td>181</td>\n",
       "    </tr>\n",
       "    <tr>\n",
       "      <th>2</th>\n",
       "      <td>111</td>\n",
       "    </tr>\n",
       "    <tr>\n",
       "      <th>4</th>\n",
       "      <td>53</td>\n",
       "    </tr>\n",
       "    <tr>\n",
       "      <th>3</th>\n",
       "      <td>23</td>\n",
       "    </tr>\n",
       "  </tbody>\n",
       "</table>\n",
       "</div>"
      ],
      "text/plain": [
       "   question_mark\n",
       "0           3759\n",
       "1            181\n",
       "2            111\n",
       "4             53\n",
       "3             23"
      ]
     },
     "metadata": {},
     "output_type": "display_data"
    },
    {
     "name": "stdout",
     "output_type": "stream",
     "text": [
      "mention_googlenews\n"
     ]
    },
    {
     "data": {
      "text/html": [
       "<div>\n",
       "<style scoped>\n",
       "    .dataframe tbody tr th:only-of-type {\n",
       "        vertical-align: middle;\n",
       "    }\n",
       "\n",
       "    .dataframe tbody tr th {\n",
       "        vertical-align: top;\n",
       "    }\n",
       "\n",
       "    .dataframe thead th {\n",
       "        text-align: right;\n",
       "    }\n",
       "</style>\n",
       "<table border=\"1\" class=\"dataframe\">\n",
       "  <thead>\n",
       "    <tr style=\"text-align: right;\">\n",
       "      <th></th>\n",
       "      <th>mention_googlenews</th>\n",
       "    </tr>\n",
       "  </thead>\n",
       "  <tbody>\n",
       "    <tr>\n",
       "      <th>False</th>\n",
       "      <td>4167</td>\n",
       "    </tr>\n",
       "    <tr>\n",
       "      <th>True</th>\n",
       "      <td>16</td>\n",
       "    </tr>\n",
       "  </tbody>\n",
       "</table>\n",
       "</div>"
      ],
      "text/plain": [
       "       mention_googlenews\n",
       "False                4167\n",
       "True                   16"
      ]
     },
     "metadata": {},
     "output_type": "display_data"
    },
    {
     "name": "stdout",
     "output_type": "stream",
     "text": [
      "word_alert\n"
     ]
    },
    {
     "data": {
      "text/html": [
       "<div>\n",
       "<style scoped>\n",
       "    .dataframe tbody tr th:only-of-type {\n",
       "        vertical-align: middle;\n",
       "    }\n",
       "\n",
       "    .dataframe tbody tr th {\n",
       "        vertical-align: top;\n",
       "    }\n",
       "\n",
       "    .dataframe thead th {\n",
       "        text-align: right;\n",
       "    }\n",
       "</style>\n",
       "<table border=\"1\" class=\"dataframe\">\n",
       "  <thead>\n",
       "    <tr style=\"text-align: right;\">\n",
       "      <th></th>\n",
       "      <th>word_alert</th>\n",
       "    </tr>\n",
       "  </thead>\n",
       "  <tbody>\n",
       "    <tr>\n",
       "      <th>False</th>\n",
       "      <td>3810</td>\n",
       "    </tr>\n",
       "    <tr>\n",
       "      <th>True</th>\n",
       "      <td>373</td>\n",
       "    </tr>\n",
       "  </tbody>\n",
       "</table>\n",
       "</div>"
      ],
      "text/plain": [
       "       word_alert\n",
       "False        3810\n",
       "True          373"
      ]
     },
     "metadata": {},
     "output_type": "display_data"
    },
    {
     "name": "stdout",
     "output_type": "stream",
     "text": [
      "neg_noun_they\n"
     ]
    },
    {
     "data": {
      "text/html": [
       "<div>\n",
       "<style scoped>\n",
       "    .dataframe tbody tr th:only-of-type {\n",
       "        vertical-align: middle;\n",
       "    }\n",
       "\n",
       "    .dataframe tbody tr th {\n",
       "        vertical-align: top;\n",
       "    }\n",
       "\n",
       "    .dataframe thead th {\n",
       "        text-align: right;\n",
       "    }\n",
       "</style>\n",
       "<table border=\"1\" class=\"dataframe\">\n",
       "  <thead>\n",
       "    <tr style=\"text-align: right;\">\n",
       "      <th></th>\n",
       "      <th>neg_noun_they</th>\n",
       "    </tr>\n",
       "  </thead>\n",
       "  <tbody>\n",
       "    <tr>\n",
       "      <th>False</th>\n",
       "      <td>4143</td>\n",
       "    </tr>\n",
       "    <tr>\n",
       "      <th>True</th>\n",
       "      <td>40</td>\n",
       "    </tr>\n",
       "  </tbody>\n",
       "</table>\n",
       "</div>"
      ],
      "text/plain": [
       "       neg_noun_they\n",
       "False           4143\n",
       "True              40"
      ]
     },
     "metadata": {},
     "output_type": "display_data"
    },
    {
     "name": "stdout",
     "output_type": "stream",
     "text": [
      "word_outbreak\n"
     ]
    },
    {
     "data": {
      "text/html": [
       "<div>\n",
       "<style scoped>\n",
       "    .dataframe tbody tr th:only-of-type {\n",
       "        vertical-align: middle;\n",
       "    }\n",
       "\n",
       "    .dataframe tbody tr th {\n",
       "        vertical-align: top;\n",
       "    }\n",
       "\n",
       "    .dataframe thead th {\n",
       "        text-align: right;\n",
       "    }\n",
       "</style>\n",
       "<table border=\"1\" class=\"dataframe\">\n",
       "  <thead>\n",
       "    <tr style=\"text-align: right;\">\n",
       "      <th></th>\n",
       "      <th>word_outbreak</th>\n",
       "    </tr>\n",
       "  </thead>\n",
       "  <tbody>\n",
       "    <tr>\n",
       "      <th>False</th>\n",
       "      <td>4027</td>\n",
       "    </tr>\n",
       "    <tr>\n",
       "      <th>True</th>\n",
       "      <td>156</td>\n",
       "    </tr>\n",
       "  </tbody>\n",
       "</table>\n",
       "</div>"
      ],
      "text/plain": [
       "       word_outbreak\n",
       "False           4027\n",
       "True             156"
      ]
     },
     "metadata": {},
     "output_type": "display_data"
    },
    {
     "name": "stdout",
     "output_type": "stream",
     "text": [
      "word_recall\n"
     ]
    },
    {
     "data": {
      "text/html": [
       "<div>\n",
       "<style scoped>\n",
       "    .dataframe tbody tr th:only-of-type {\n",
       "        vertical-align: middle;\n",
       "    }\n",
       "\n",
       "    .dataframe tbody tr th {\n",
       "        vertical-align: top;\n",
       "    }\n",
       "\n",
       "    .dataframe thead th {\n",
       "        text-align: right;\n",
       "    }\n",
       "</style>\n",
       "<table border=\"1\" class=\"dataframe\">\n",
       "  <thead>\n",
       "    <tr style=\"text-align: right;\">\n",
       "      <th></th>\n",
       "      <th>word_recall</th>\n",
       "    </tr>\n",
       "  </thead>\n",
       "  <tbody>\n",
       "    <tr>\n",
       "      <th>True</th>\n",
       "      <td>2922</td>\n",
       "    </tr>\n",
       "    <tr>\n",
       "      <th>False</th>\n",
       "      <td>1261</td>\n",
       "    </tr>\n",
       "  </tbody>\n",
       "</table>\n",
       "</div>"
      ],
      "text/plain": [
       "       word_recall\n",
       "True          2922\n",
       "False         1261"
      ]
     },
     "metadata": {},
     "output_type": "display_data"
    },
    {
     "name": "stdout",
     "output_type": "stream",
     "text": [
      "neg_noun_you\n"
     ]
    },
    {
     "data": {
      "text/html": [
       "<div>\n",
       "<style scoped>\n",
       "    .dataframe tbody tr th:only-of-type {\n",
       "        vertical-align: middle;\n",
       "    }\n",
       "\n",
       "    .dataframe tbody tr th {\n",
       "        vertical-align: top;\n",
       "    }\n",
       "\n",
       "    .dataframe thead th {\n",
       "        text-align: right;\n",
       "    }\n",
       "</style>\n",
       "<table border=\"1\" class=\"dataframe\">\n",
       "  <thead>\n",
       "    <tr style=\"text-align: right;\">\n",
       "      <th></th>\n",
       "      <th>neg_noun_you</th>\n",
       "    </tr>\n",
       "  </thead>\n",
       "  <tbody>\n",
       "    <tr>\n",
       "      <th>False</th>\n",
       "      <td>4009</td>\n",
       "    </tr>\n",
       "    <tr>\n",
       "      <th>True</th>\n",
       "      <td>174</td>\n",
       "    </tr>\n",
       "  </tbody>\n",
       "</table>\n",
       "</div>"
      ],
      "text/plain": [
       "       neg_noun_you\n",
       "False          4009\n",
       "True            174"
      ]
     },
     "metadata": {},
     "output_type": "display_data"
    },
    {
     "name": "stdout",
     "output_type": "stream",
     "text": [
      "neg_noun_It\n"
     ]
    },
    {
     "data": {
      "text/html": [
       "<div>\n",
       "<style scoped>\n",
       "    .dataframe tbody tr th:only-of-type {\n",
       "        vertical-align: middle;\n",
       "    }\n",
       "\n",
       "    .dataframe tbody tr th {\n",
       "        vertical-align: top;\n",
       "    }\n",
       "\n",
       "    .dataframe thead th {\n",
       "        text-align: right;\n",
       "    }\n",
       "</style>\n",
       "<table border=\"1\" class=\"dataframe\">\n",
       "  <thead>\n",
       "    <tr style=\"text-align: right;\">\n",
       "      <th></th>\n",
       "      <th>neg_noun_It</th>\n",
       "    </tr>\n",
       "  </thead>\n",
       "  <tbody>\n",
       "    <tr>\n",
       "      <th>False</th>\n",
       "      <td>4158</td>\n",
       "    </tr>\n",
       "    <tr>\n",
       "      <th>True</th>\n",
       "      <td>25</td>\n",
       "    </tr>\n",
       "  </tbody>\n",
       "</table>\n",
       "</div>"
      ],
      "text/plain": [
       "       neg_noun_It\n",
       "False         4158\n",
       "True            25"
      ]
     },
     "metadata": {},
     "output_type": "display_data"
    },
    {
     "name": "stdout",
     "output_type": "stream",
     "text": [
      "neg_noun_we\n"
     ]
    },
    {
     "data": {
      "text/html": [
       "<div>\n",
       "<style scoped>\n",
       "    .dataframe tbody tr th:only-of-type {\n",
       "        vertical-align: middle;\n",
       "    }\n",
       "\n",
       "    .dataframe tbody tr th {\n",
       "        vertical-align: top;\n",
       "    }\n",
       "\n",
       "    .dataframe thead th {\n",
       "        text-align: right;\n",
       "    }\n",
       "</style>\n",
       "<table border=\"1\" class=\"dataframe\">\n",
       "  <thead>\n",
       "    <tr style=\"text-align: right;\">\n",
       "      <th></th>\n",
       "      <th>neg_noun_we</th>\n",
       "    </tr>\n",
       "  </thead>\n",
       "  <tbody>\n",
       "    <tr>\n",
       "      <th>False</th>\n",
       "      <td>4141</td>\n",
       "    </tr>\n",
       "    <tr>\n",
       "      <th>True</th>\n",
       "      <td>42</td>\n",
       "    </tr>\n",
       "  </tbody>\n",
       "</table>\n",
       "</div>"
      ],
      "text/plain": [
       "       neg_noun_we\n",
       "False         4141\n",
       "True            42"
      ]
     },
     "metadata": {},
     "output_type": "display_data"
    }
   ],
   "source": [
    "for feature in features:\n",
    "    print(feature)\n",
    "    display(pd.DataFrame(df_train_merge[feature].value_counts()).head(5))"
   ]
  },
  {
   "cell_type": "code",
   "execution_count": 164,
   "metadata": {},
   "outputs": [
    {
     "data": {
      "text/html": [
       "<div>\n",
       "<style scoped>\n",
       "    .dataframe tbody tr th:only-of-type {\n",
       "        vertical-align: middle;\n",
       "    }\n",
       "\n",
       "    .dataframe tbody tr th {\n",
       "        vertical-align: top;\n",
       "    }\n",
       "\n",
       "    .dataframe thead th {\n",
       "        text-align: right;\n",
       "    }\n",
       "</style>\n",
       "<table border=\"1\" class=\"dataframe\">\n",
       "  <thead>\n",
       "    <tr style=\"text-align: right;\">\n",
       "      <th></th>\n",
       "      <th>user_name_word_News</th>\n",
       "      <th>neg_noun_me</th>\n",
       "      <th>neg_noun_I</th>\n",
       "      <th>num_words</th>\n",
       "      <th>hashtag_RECALL</th>\n",
       "      <th>hashtag_SmartNews</th>\n",
       "      <th>word_allergy</th>\n",
       "      <th>nnp</th>\n",
       "      <th>hashtag_Recall</th>\n",
       "      <th>neg_noun_i</th>\n",
       "      <th>...</th>\n",
       "      <th>neg_noun_You</th>\n",
       "      <th>question_mark</th>\n",
       "      <th>mention_googlenews</th>\n",
       "      <th>word_alert</th>\n",
       "      <th>neg_noun_they</th>\n",
       "      <th>word_outbreak</th>\n",
       "      <th>word_recall</th>\n",
       "      <th>neg_noun_you</th>\n",
       "      <th>neg_noun_It</th>\n",
       "      <th>neg_noun_we</th>\n",
       "    </tr>\n",
       "  </thead>\n",
       "  <tbody>\n",
       "    <tr>\n",
       "      <th>0</th>\n",
       "      <td>False</td>\n",
       "      <td>False</td>\n",
       "      <td>False</td>\n",
       "      <td>True</td>\n",
       "      <td>False</td>\n",
       "      <td>True</td>\n",
       "      <td>False</td>\n",
       "      <td>False</td>\n",
       "      <td>False</td>\n",
       "      <td>False</td>\n",
       "      <td>...</td>\n",
       "      <td>False</td>\n",
       "      <td>0</td>\n",
       "      <td>False</td>\n",
       "      <td>False</td>\n",
       "      <td>False</td>\n",
       "      <td>False</td>\n",
       "      <td>True</td>\n",
       "      <td>False</td>\n",
       "      <td>False</td>\n",
       "      <td>False</td>\n",
       "    </tr>\n",
       "    <tr>\n",
       "      <th>1</th>\n",
       "      <td>False</td>\n",
       "      <td>False</td>\n",
       "      <td>False</td>\n",
       "      <td>True</td>\n",
       "      <td>False</td>\n",
       "      <td>False</td>\n",
       "      <td>False</td>\n",
       "      <td>True</td>\n",
       "      <td>False</td>\n",
       "      <td>False</td>\n",
       "      <td>...</td>\n",
       "      <td>False</td>\n",
       "      <td>0</td>\n",
       "      <td>False</td>\n",
       "      <td>False</td>\n",
       "      <td>False</td>\n",
       "      <td>False</td>\n",
       "      <td>True</td>\n",
       "      <td>False</td>\n",
       "      <td>False</td>\n",
       "      <td>False</td>\n",
       "    </tr>\n",
       "    <tr>\n",
       "      <th>2</th>\n",
       "      <td>False</td>\n",
       "      <td>False</td>\n",
       "      <td>False</td>\n",
       "      <td>True</td>\n",
       "      <td>False</td>\n",
       "      <td>False</td>\n",
       "      <td>False</td>\n",
       "      <td>True</td>\n",
       "      <td>False</td>\n",
       "      <td>False</td>\n",
       "      <td>...</td>\n",
       "      <td>False</td>\n",
       "      <td>0</td>\n",
       "      <td>False</td>\n",
       "      <td>False</td>\n",
       "      <td>False</td>\n",
       "      <td>False</td>\n",
       "      <td>True</td>\n",
       "      <td>False</td>\n",
       "      <td>False</td>\n",
       "      <td>False</td>\n",
       "    </tr>\n",
       "    <tr>\n",
       "      <th>3</th>\n",
       "      <td>False</td>\n",
       "      <td>False</td>\n",
       "      <td>False</td>\n",
       "      <td>True</td>\n",
       "      <td>False</td>\n",
       "      <td>False</td>\n",
       "      <td>False</td>\n",
       "      <td>True</td>\n",
       "      <td>False</td>\n",
       "      <td>False</td>\n",
       "      <td>...</td>\n",
       "      <td>False</td>\n",
       "      <td>0</td>\n",
       "      <td>False</td>\n",
       "      <td>False</td>\n",
       "      <td>False</td>\n",
       "      <td>False</td>\n",
       "      <td>True</td>\n",
       "      <td>False</td>\n",
       "      <td>False</td>\n",
       "      <td>False</td>\n",
       "    </tr>\n",
       "    <tr>\n",
       "      <th>4</th>\n",
       "      <td>False</td>\n",
       "      <td>False</td>\n",
       "      <td>False</td>\n",
       "      <td>True</td>\n",
       "      <td>False</td>\n",
       "      <td>False</td>\n",
       "      <td>False</td>\n",
       "      <td>False</td>\n",
       "      <td>False</td>\n",
       "      <td>False</td>\n",
       "      <td>...</td>\n",
       "      <td>False</td>\n",
       "      <td>0</td>\n",
       "      <td>False</td>\n",
       "      <td>False</td>\n",
       "      <td>False</td>\n",
       "      <td>False</td>\n",
       "      <td>True</td>\n",
       "      <td>False</td>\n",
       "      <td>False</td>\n",
       "      <td>False</td>\n",
       "    </tr>\n",
       "  </tbody>\n",
       "</table>\n",
       "<p>5 rows × 21 columns</p>\n",
       "</div>"
      ],
      "text/plain": [
       "   user_name_word_News  neg_noun_me  neg_noun_I  num_words  hashtag_RECALL  \\\n",
       "0                False        False       False       True           False   \n",
       "1                False        False       False       True           False   \n",
       "2                False        False       False       True           False   \n",
       "3                False        False       False       True           False   \n",
       "4                False        False       False       True           False   \n",
       "\n",
       "   hashtag_SmartNews  word_allergy    nnp  hashtag_Recall  neg_noun_i  ...  \\\n",
       "0               True         False  False           False       False  ...   \n",
       "1              False         False   True           False       False  ...   \n",
       "2              False         False   True           False       False  ...   \n",
       "3              False         False   True           False       False  ...   \n",
       "4              False         False  False           False       False  ...   \n",
       "\n",
       "   neg_noun_You  question_mark  mention_googlenews  word_alert  neg_noun_they  \\\n",
       "0         False              0               False       False          False   \n",
       "1         False              0               False       False          False   \n",
       "2         False              0               False       False          False   \n",
       "3         False              0               False       False          False   \n",
       "4         False              0               False       False          False   \n",
       "\n",
       "   word_outbreak  word_recall  neg_noun_you  neg_noun_It  neg_noun_we  \n",
       "0          False         True         False        False        False  \n",
       "1          False         True         False        False        False  \n",
       "2          False         True         False        False        False  \n",
       "3          False         True         False        False        False  \n",
       "4          False         True         False        False        False  \n",
       "\n",
       "[5 rows x 21 columns]"
      ]
     },
     "execution_count": 164,
     "metadata": {},
     "output_type": "execute_result"
    }
   ],
   "source": [
    "df_train_merge[features].head()"
   ]
  },
  {
   "cell_type": "markdown",
   "metadata": {},
   "source": [
    "## Quick Logistic Regression"
   ]
  },
  {
   "cell_type": "code",
   "execution_count": 165,
   "metadata": {},
   "outputs": [],
   "source": [
    "features_ = list(features)"
   ]
  },
  {
   "cell_type": "code",
   "execution_count": 166,
   "metadata": {},
   "outputs": [],
   "source": [
    "X_train = df_train_merge[features_]\n",
    "y_train = df_train_merge['Is_Food']"
   ]
  },
  {
   "cell_type": "code",
   "execution_count": 167,
   "metadata": {},
   "outputs": [
    {
     "data": {
      "text/plain": [
       "[0.001, 0.01, 0.1, 1, 10, 100, 1000]"
      ]
     },
     "execution_count": 167,
     "metadata": {},
     "output_type": "execute_result"
    }
   ],
   "source": [
    "param_test_lr =  {'C' :[10 ** x for x in list(range(-3,4,1))]}\n",
    "param_test_lr['C']"
   ]
  },
  {
   "cell_type": "code",
   "execution_count": 168,
   "metadata": {},
   "outputs": [],
   "source": [
    "gsearch_lr = GridSearchCV(estimator = LogisticRegression( \n",
    "        penalty='l2', \n",
    "        solver='liblinear',\n",
    "        max_iter=1000,\n",
    "        class_weight = 'balanced'\n",
    "    ),                   \n",
    "    param_grid = param_test_lr, \n",
    "        scoring = {'AUC': 'roc_auc'},\n",
    "        cv = 5,\n",
    "        n_jobs = 4, \n",
    "        refit = 'AUC')"
   ]
  },
  {
   "cell_type": "code",
   "execution_count": 169,
   "metadata": {},
   "outputs": [
    {
     "data": {
      "text/plain": [
       "GridSearchCV(cv=5, error_score='raise-deprecating',\n",
       "       estimator=LogisticRegression(C=1.0, class_weight='balanced', dual=False,\n",
       "          fit_intercept=True, intercept_scaling=1, max_iter=1000,\n",
       "          multi_class='warn', n_jobs=None, penalty='l2', random_state=None,\n",
       "          solver='liblinear', tol=0.0001, verbose=0, warm_start=False),\n",
       "       fit_params=None, iid='warn', n_jobs=4,\n",
       "       param_grid={'C': [0.001, 0.01, 0.1, 1, 10, 100, 1000]},\n",
       "       pre_dispatch='2*n_jobs', refit='AUC', return_train_score='warn',\n",
       "       scoring={'AUC': 'roc_auc'}, verbose=0)"
      ]
     },
     "execution_count": 169,
     "metadata": {},
     "output_type": "execute_result"
    }
   ],
   "source": [
    "gsearch_lr.fit(X_train, y_train)"
   ]
  },
  {
   "cell_type": "markdown",
   "metadata": {},
   "source": [
    "**Take a look at impact of penalty param**"
   ]
  },
  {
   "cell_type": "code",
   "execution_count": 170,
   "metadata": {},
   "outputs": [
    {
     "data": {
      "image/png": "[encoded data removed]",
      "text/plain": [
       "<Figure size 1368x504 with 1 Axes>"
      ]
     },
     "metadata": {
      "needs_background": "light"
     },
     "output_type": "display_data"
    }
   ],
   "source": [
    "plot_auc(gsearch_lr)"
   ]
  },
  {
   "cell_type": "markdown",
   "metadata": {},
   "source": [
    "**Refit the model with best C**"
   ]
  },
  {
   "cell_type": "code",
   "execution_count": 171,
   "metadata": {},
   "outputs": [
    {
     "name": "stdout",
     "output_type": "stream",
     "text": [
      "The best C is 1\n"
     ]
    }
   ],
   "source": [
    "best_C = gsearch_lr.best_params_['C']\n",
    "print('The best C is '+ str(best_C))"
   ]
  },
  {
   "cell_type": "code",
   "execution_count": 172,
   "metadata": {},
   "outputs": [
    {
     "name": "stdout",
     "output_type": "stream",
     "text": [
      "The best AUC is 0.9695744541036666\n"
     ]
    }
   ],
   "source": [
    "best_AUC_lr = gsearch_lr.best_score_\n",
    "print('The best AUC is '+ str(best_AUC_lr))"
   ]
  },
  {
   "cell_type": "code",
   "execution_count": 173,
   "metadata": {},
   "outputs": [],
   "source": [
    "lr_ = LogisticRegression(penalty='l2', solver='liblinear', C=best_C, max_iter=1000,class_weight = 'balanced')\n",
    "lr_ = lr_.fit(X = X_train, y = y_train)"
   ]
  },
  {
   "cell_type": "markdown",
   "metadata": {},
   "source": [
    "**Investigate Coefficients**"
   ]
  },
  {
   "cell_type": "markdown",
   "metadata": {},
   "source": [
    "Some of the words do not make sense because they are too event-specific"
   ]
  },
  {
   "cell_type": "code",
   "execution_count": 174,
   "metadata": {},
   "outputs": [
    {
     "data": {
      "text/html": [
       "<div>\n",
       "<style scoped>\n",
       "    .dataframe tbody tr th:only-of-type {\n",
       "        vertical-align: middle;\n",
       "    }\n",
       "\n",
       "    .dataframe tbody tr th {\n",
       "        vertical-align: top;\n",
       "    }\n",
       "\n",
       "    .dataframe thead th {\n",
       "        text-align: right;\n",
       "    }\n",
       "</style>\n",
       "<table border=\"1\" class=\"dataframe\">\n",
       "  <thead>\n",
       "    <tr style=\"text-align: right;\">\n",
       "      <th></th>\n",
       "      <th>variable</th>\n",
       "      <th>coefficient</th>\n",
       "    </tr>\n",
       "  </thead>\n",
       "  <tbody>\n",
       "    <tr>\n",
       "      <th>1</th>\n",
       "      <td>neg_noun_me</td>\n",
       "      <td>-2.062773</td>\n",
       "    </tr>\n",
       "    <tr>\n",
       "      <th>20</th>\n",
       "      <td>neg_noun_we</td>\n",
       "      <td>-1.748697</td>\n",
       "    </tr>\n",
       "    <tr>\n",
       "      <th>19</th>\n",
       "      <td>neg_noun_It</td>\n",
       "      <td>-1.720656</td>\n",
       "    </tr>\n",
       "    <tr>\n",
       "      <th>16</th>\n",
       "      <td>word_outbreak</td>\n",
       "      <td>-1.498803</td>\n",
       "    </tr>\n",
       "    <tr>\n",
       "      <th>18</th>\n",
       "      <td>neg_noun_you</td>\n",
       "      <td>-1.231425</td>\n",
       "    </tr>\n",
       "    <tr>\n",
       "      <th>11</th>\n",
       "      <td>neg_noun_You</td>\n",
       "      <td>-1.067861</td>\n",
       "    </tr>\n",
       "    <tr>\n",
       "      <th>2</th>\n",
       "      <td>neg_noun_I</td>\n",
       "      <td>-0.920462</td>\n",
       "    </tr>\n",
       "    <tr>\n",
       "      <th>9</th>\n",
       "      <td>neg_noun_i</td>\n",
       "      <td>-0.249350</td>\n",
       "    </tr>\n",
       "    <tr>\n",
       "      <th>12</th>\n",
       "      <td>question_mark</td>\n",
       "      <td>-0.162100</td>\n",
       "    </tr>\n",
       "    <tr>\n",
       "      <th>15</th>\n",
       "      <td>neg_noun_they</td>\n",
       "      <td>-0.144311</td>\n",
       "    </tr>\n",
       "    <tr>\n",
       "      <th>8</th>\n",
       "      <td>hashtag_Recall</td>\n",
       "      <td>0.082552</td>\n",
       "    </tr>\n",
       "    <tr>\n",
       "      <th>13</th>\n",
       "      <td>mention_googlenews</td>\n",
       "      <td>0.410158</td>\n",
       "    </tr>\n",
       "    <tr>\n",
       "      <th>10</th>\n",
       "      <td>has_media</td>\n",
       "      <td>0.523052</td>\n",
       "    </tr>\n",
       "    <tr>\n",
       "      <th>5</th>\n",
       "      <td>hashtag_SmartNews</td>\n",
       "      <td>0.594624</td>\n",
       "    </tr>\n",
       "    <tr>\n",
       "      <th>3</th>\n",
       "      <td>num_words</td>\n",
       "      <td>0.609094</td>\n",
       "    </tr>\n",
       "    <tr>\n",
       "      <th>14</th>\n",
       "      <td>word_alert</td>\n",
       "      <td>0.677506</td>\n",
       "    </tr>\n",
       "    <tr>\n",
       "      <th>0</th>\n",
       "      <td>user_name_word_News</td>\n",
       "      <td>0.702570</td>\n",
       "    </tr>\n",
       "    <tr>\n",
       "      <th>4</th>\n",
       "      <td>hashtag_RECALL</td>\n",
       "      <td>0.981535</td>\n",
       "    </tr>\n",
       "    <tr>\n",
       "      <th>7</th>\n",
       "      <td>nnp</td>\n",
       "      <td>1.580912</td>\n",
       "    </tr>\n",
       "    <tr>\n",
       "      <th>6</th>\n",
       "      <td>word_allergy</td>\n",
       "      <td>3.062551</td>\n",
       "    </tr>\n",
       "    <tr>\n",
       "      <th>17</th>\n",
       "      <td>word_recall</td>\n",
       "      <td>4.804327</td>\n",
       "    </tr>\n",
       "  </tbody>\n",
       "</table>\n",
       "</div>"
      ],
      "text/plain": [
       "               variable  coefficient\n",
       "1           neg_noun_me    -2.062773\n",
       "20          neg_noun_we    -1.748697\n",
       "19          neg_noun_It    -1.720656\n",
       "16        word_outbreak    -1.498803\n",
       "18         neg_noun_you    -1.231425\n",
       "11         neg_noun_You    -1.067861\n",
       "2            neg_noun_I    -0.920462\n",
       "9            neg_noun_i    -0.249350\n",
       "12        question_mark    -0.162100\n",
       "15        neg_noun_they    -0.144311\n",
       "8        hashtag_Recall     0.082552\n",
       "13   mention_googlenews     0.410158\n",
       "10            has_media     0.523052\n",
       "5     hashtag_SmartNews     0.594624\n",
       "3             num_words     0.609094\n",
       "14           word_alert     0.677506\n",
       "0   user_name_word_News     0.702570\n",
       "4        hashtag_RECALL     0.981535\n",
       "7                   nnp     1.580912\n",
       "6          word_allergy     3.062551\n",
       "17          word_recall     4.804327"
      ]
     },
     "execution_count": 174,
     "metadata": {},
     "output_type": "execute_result"
    }
   ],
   "source": [
    "coef_df = pd.DataFrame({'variable':features_, 'coefficient':lr_.coef_[0]})\n",
    "coef_df.sort_values(by = 'coefficient')"
   ]
  },
  {
   "cell_type": "markdown",
   "metadata": {},
   "source": [
    "**Apply to test set**"
   ]
  },
  {
   "cell_type": "code",
   "execution_count": 178,
   "metadata": {},
   "outputs": [],
   "source": [
    "subset = ~df_test_merge['zero_length']\n",
    "X_test = df_test_merge.loc[subset, features_]"
   ]
  },
  {
   "cell_type": "code",
   "execution_count": 179,
   "metadata": {},
   "outputs": [
    {
     "name": "stdout",
     "output_type": "stream",
     "text": [
      "There is a total of 22840 in test set\n",
      "There is a total of 21156 in test set with non-zero length\n",
      "There is a total of 2289 predicted to be food-related events\n"
     ]
    }
   ],
   "source": [
    "print('There is a total of', len(df_test_merge), 'in test set')\n",
    "print('There is a total of', len(df_test_merge[subset]), 'in test set with non-zero length')\n",
    "pred_probs = [x[1] for x in lr_.predict_proba(X_test)]\n",
    "preds = lr_.predict(X_test)\n",
    "print('There is a total of', sum(preds), 'predicted to be food-related events')"
   ]
  },
  {
   "cell_type": "code",
   "execution_count": 184,
   "metadata": {},
   "outputs": [
    {
     "data": {
      "text/plain": [
       "<matplotlib.axes._subplots.AxesSubplot at 0x15f203400>"
      ]
     },
     "execution_count": 184,
     "metadata": {},
     "output_type": "execute_result"
    },
    {
     "data": {
      "image/png": "[encoded data removed]",
      "text/plain": [
       "<Figure size 432x288 with 1 Axes>"
      ]
     },
     "metadata": {
      "needs_background": "light"
     },
     "output_type": "display_data"
    }
   ],
   "source": [
    "df_test_merge.loc[subset, 'preds'] = preds\n",
    "df_test_merge.loc[subset, 'pred_probs'] = pred_probs\n",
    "df_test_merge.loc[~subset, 'preds'] = False\n",
    "df_test_merge.loc[~subset, 'pred_probs'] = 0\n",
    "sns.distplot(df_test_merge['pred_probs'], kde = False)"
   ]
  },
  {
   "cell_type": "code",
   "execution_count": 185,
   "metadata": {},
   "outputs": [],
   "source": [
    "X = df_test_merge\n",
    "X['has_recall'] = X['ab_clean'].apply(lambda x: 'recall' in x)"
   ]
  },
  {
   "cell_type": "code",
   "execution_count": 186,
   "metadata": {},
   "outputs": [
    {
     "data": {
      "text/plain": [
       "preds  has_recall\n",
       "False  False         20517\n",
       "       True             34\n",
       "True   False            29\n",
       "       True           2260\n",
       "Name: Date, dtype: int64"
      ]
     },
     "execution_count": 186,
     "metadata": {},
     "output_type": "execute_result"
    }
   ],
   "source": [
    "X.groupby(['preds', 'has_recall'])['Date'].agg(len)"
   ]
  },
  {
   "cell_type": "markdown",
   "metadata": {},
   "source": [
    "# Export results"
   ]
  },
  {
   "cell_type": "code",
   "execution_count": 214,
   "metadata": {},
   "outputs": [],
   "source": [
    "outputs = {'df_train_merge': df_train_merge,\n",
    "           'df_test_merge': df_test_merge,}\n",
    "with open('./processed_data/outputs.pickle', 'wb') as handle:\n",
    "    pickle.dump(outputs, handle)"
   ]
  },
  {
   "cell_type": "code",
   "execution_count": 217,
   "metadata": {},
   "outputs": [],
   "source": [
    "with open('./outputs.pickle', 'rb') as handle:\n",
    "    outputs = pickle.load(handle)\n",
    "df_train_merge = outputs['df_train_merge']\n",
    "df_test_merge = outputs['df_test_merge']"
   ]
  },
  {
   "cell_type": "code",
   "execution_count": 218,
   "metadata": {},
   "outputs": [
    {
     "data": {
      "text/html": [
       "<div>\n",
       "<style scoped>\n",
       "    .dataframe tbody tr th:only-of-type {\n",
       "        vertical-align: middle;\n",
       "    }\n",
       "\n",
       "    .dataframe tbody tr th {\n",
       "        vertical-align: top;\n",
       "    }\n",
       "\n",
       "    .dataframe thead th {\n",
       "        text-align: right;\n",
       "    }\n",
       "</style>\n",
       "<table border=\"1\" class=\"dataframe\">\n",
       "  <thead>\n",
       "    <tr style=\"text-align: right;\">\n",
       "      <th></th>\n",
       "      <th>Date</th>\n",
       "      <th>Time</th>\n",
       "      <th>Trainig/Test</th>\n",
       "      <th>Event ID</th>\n",
       "      <th>Title</th>\n",
       "      <th>Link</th>\n",
       "      <th>Abstract</th>\n",
       "      <th>Is_Food</th>\n",
       "      <th>tweet_id</th>\n",
       "      <th>external_url</th>\n",
       "      <th>...</th>\n",
       "      <th>word_outbreak</th>\n",
       "      <th>hashtag_RECALL</th>\n",
       "      <th>hashtag_Recall</th>\n",
       "      <th>hashtag_SmartNews</th>\n",
       "      <th>mention_googlenews</th>\n",
       "      <th>num_words</th>\n",
       "      <th>user_name_words</th>\n",
       "      <th>user_name_word_News</th>\n",
       "      <th>has_media</th>\n",
       "      <th>question_mark</th>\n",
       "    </tr>\n",
       "  </thead>\n",
       "  <tbody>\n",
       "    <tr>\n",
       "      <th>0</th>\n",
       "      <td>2019-02-05</td>\n",
       "      <td>18:45:44</td>\n",
       "      <td>Training</td>\n",
       "      <td>1.0</td>\n",
       "      <td>New dog food recall and latest warning on grain-free foods #SmartNews</td>\n",
       "      <td>https://twitter.com/tweet/status/1092857075753861125</td>\n",
       "      <td>New dog food recall and latest warning on grain-free foods #SmartNews https://t.co/nS49e7r63l</td>\n",
       "      <td>True</td>\n",
       "      <td>1092857075753861125</td>\n",
       "      <td>https://t.co/nS49e7r63l</td>\n",
       "      <td>...</td>\n",
       "      <td>False</td>\n",
       "      <td>False</td>\n",
       "      <td>False</td>\n",
       "      <td>True</td>\n",
       "      <td>False</td>\n",
       "      <td>True</td>\n",
       "      <td>[Sondra, Gail, Adam]</td>\n",
       "      <td>False</td>\n",
       "      <td>False</td>\n",
       "      <td>0</td>\n",
       "    </tr>\n",
       "  </tbody>\n",
       "</table>\n",
       "<p>1 rows × 47 columns</p>\n",
       "</div>"
      ],
      "text/plain": [
       "         Date      Time Trainig/Test  Event ID  \\\n",
       "0  2019-02-05  18:45:44     Training       1.0   \n",
       "\n",
       "                                                                   Title  \\\n",
       "0  New dog food recall and latest warning on grain-free foods #SmartNews   \n",
       "\n",
       "                                                   Link  \\\n",
       "0  https://twitter.com/tweet/status/1092857075753861125   \n",
       "\n",
       "                                                                                        Abstract  \\\n",
       "0  New dog food recall and latest warning on grain-free foods #SmartNews https://t.co/nS49e7r63l   \n",
       "\n",
       "   Is_Food             tweet_id             external_url  ... word_outbreak  \\\n",
       "0     True  1092857075753861125  https://t.co/nS49e7r63l  ...         False   \n",
       "\n",
       "  hashtag_RECALL hashtag_Recall hashtag_SmartNews mention_googlenews  \\\n",
       "0          False          False              True              False   \n",
       "\n",
       "   num_words       user_name_words user_name_word_News has_media question_mark  \n",
       "0       True  [Sondra, Gail, Adam]               False     False             0  \n",
       "\n",
       "[1 rows x 47 columns]"
      ]
     },
     "execution_count": 218,
     "metadata": {},
     "output_type": "execute_result"
    }
   ],
   "source": [
    "df_train_merge.head(1)"
   ]
  },
  {
   "cell_type": "code",
   "execution_count": 219,
   "metadata": {},
   "outputs": [
    {
     "data": {
      "text/html": [
       "<div>\n",
       "<style scoped>\n",
       "    .dataframe tbody tr th:only-of-type {\n",
       "        vertical-align: middle;\n",
       "    }\n",
       "\n",
       "    .dataframe tbody tr th {\n",
       "        vertical-align: top;\n",
       "    }\n",
       "\n",
       "    .dataframe thead th {\n",
       "        text-align: right;\n",
       "    }\n",
       "</style>\n",
       "<table border=\"1\" class=\"dataframe\">\n",
       "  <thead>\n",
       "    <tr style=\"text-align: right;\">\n",
       "      <th></th>\n",
       "      <th>Date</th>\n",
       "      <th>Time</th>\n",
       "      <th>Training/Test</th>\n",
       "      <th>Title</th>\n",
       "      <th>Link</th>\n",
       "      <th>Abstract</th>\n",
       "      <th>tweet_id</th>\n",
       "      <th>external_url</th>\n",
       "      <th>tweet_found</th>\n",
       "      <th>user_name</th>\n",
       "      <th>...</th>\n",
       "      <th>hashtag_SmartNews</th>\n",
       "      <th>mention_googlenews</th>\n",
       "      <th>num_words</th>\n",
       "      <th>user_name_words</th>\n",
       "      <th>user_name_word_News</th>\n",
       "      <th>has_media</th>\n",
       "      <th>question_mark</th>\n",
       "      <th>preds</th>\n",
       "      <th>pred_probs</th>\n",
       "      <th>has_recall</th>\n",
       "    </tr>\n",
       "  </thead>\n",
       "  <tbody>\n",
       "    <tr>\n",
       "      <th>0</th>\n",
       "      <td>2019-03-07</td>\n",
       "      <td>23:59:31</td>\n",
       "      <td>Test</td>\n",
       "      <td>@pccs_heron Salmonella</td>\n",
       "      <td>https://twitter.com/tweet/status/1103807421800202242</td>\n",
       "      <td>@pccs_heron Salmonella</td>\n",
       "      <td>1103807421800202242</td>\n",
       "      <td>None</td>\n",
       "      <td>True</td>\n",
       "      <td>Tabb_Science</td>\n",
       "      <td>...</td>\n",
       "      <td>False</td>\n",
       "      <td>False</td>\n",
       "      <td>True</td>\n",
       "      <td>[Tabb_Science]</td>\n",
       "      <td>False</td>\n",
       "      <td>False</td>\n",
       "      <td>0</td>\n",
       "      <td>False</td>\n",
       "      <td>0.115345</td>\n",
       "      <td>False</td>\n",
       "    </tr>\n",
       "  </tbody>\n",
       "</table>\n",
       "<p>1 rows × 47 columns</p>\n",
       "</div>"
      ],
      "text/plain": [
       "         Date      Time Training/Test                   Title  \\\n",
       "0  2019-03-07  23:59:31          Test  @pccs_heron Salmonella   \n",
       "\n",
       "                                                   Link  \\\n",
       "0  https://twitter.com/tweet/status/1103807421800202242   \n",
       "\n",
       "                 Abstract             tweet_id external_url tweet_found  \\\n",
       "0  @pccs_heron Salmonella  1103807421800202242         None        True   \n",
       "\n",
       "      user_name  ... hashtag_SmartNews mention_googlenews num_words  \\\n",
       "0  Tabb_Science  ...             False              False      True   \n",
       "\n",
       "   user_name_words user_name_word_News has_media question_mark  preds  \\\n",
       "0   [Tabb_Science]               False     False             0  False   \n",
       "\n",
       "  pred_probs has_recall  \n",
       "0   0.115345      False  \n",
       "\n",
       "[1 rows x 47 columns]"
      ]
     },
     "execution_count": 219,
     "metadata": {},
     "output_type": "execute_result"
    }
   ],
   "source": [
    "df_test_merge.head(1)"
   ]
  }
 ],
 "metadata": {
  "kernelspec": {
   "display_name": "Python 3",
   "language": "python",
   "name": "python3"
  },
  "language_info": {
   "codemirror_mode": {
    "name": "ipython",
    "version": 3
   },
   "file_extension": ".py",
   "mimetype": "text/x-python",
   "name": "python",
   "nbconvert_exporter": "python",
   "pygments_lexer": "ipython3",
   "version": "3.7.2"
  },
  "toc": {
   "base_numbering": 1,
   "nav_menu": {},
   "number_sections": true,
   "sideBar": true,
   "skip_h1_title": false,
   "title_cell": "Table of Contents",
   "title_sidebar": "Contents",
   "toc_cell": false,
   "toc_position": {
    "height": "766px",
    "left": "38px",
    "top": "418px",
    "width": "279px"
   },
   "toc_section_display": true,
   "toc_window_display": true
  }
 },
 "nbformat": 4,
 "nbformat_minor": 2
}
