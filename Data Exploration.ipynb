{
 "cells": [
  {
   "cell_type": "markdown",
   "metadata": {},
   "source": [
    "Link to the competition: https://tianchi.aliyun.com/competition/entrance/231705/introduction"
   ]
  },
  {
   "cell_type": "code",
   "execution_count": 216,
   "metadata": {},
   "outputs": [
    {
     "name": "stdout",
     "output_type": "stream",
     "text": [
      "The autoreload extension is already loaded. To reload it, use:\n",
      "  %reload_ext autoreload\n"
     ]
    }
   ],
   "source": [
    "import sys\n",
    "import pickle\n",
    "import warnings\n",
    "import spacy\n",
    "import time\n",
    "from spacy.lang.en.stop_words import STOP_WORDS\n",
    "import numpy as np\n",
    "import pandas as pd \n",
    "import json\n",
    "import seaborn as sns\n",
    "from keras import optimizers\n",
    "import matplotlib.pyplot as plt\n",
    "from gensim import corpora\n",
    "from gensim.models import Phrases\n",
    "from gensim.models.phrases import Phraser\n",
    "from gensim.models import LdaModel, TfidfModel\n",
    "import pyLDAvis.gensim as gensimvis\n",
    "import pyLDAvis\n",
    "from spacy.tokens import Token\n",
    "from spacy.lang.en.stop_words import STOP_WORDS  # import stop words from language data\n",
    "from sklearn.feature_extraction.text import TfidfVectorizer\n",
    "from sklearn.feature_extraction.text import CountVectorizer\n",
    "from sklearn.model_selection import KFold, StratifiedKFold\n",
    "from sklearn.linear_model import LogisticRegression\n",
    "from sklearn.metrics import f1_score,accuracy_score\n",
    "from sklearn.model_selection import train_test_split, GridSearchCV\n",
    "from utils.plot_functions import *\n",
    "%matplotlib inline\n",
    "nlp = spacy.load(\"en_core_web_sm\")\n",
    "pd.set_option('display.max_colwidth', 500)\n",
    "%load_ext autoreload\n",
    "%autoreload 2\n",
    "if not sys.warnoptions:\n",
    "    warnings.simplefilter(\"ignore\")"
   ]
  },
  {
   "cell_type": "code",
   "execution_count": 47,
   "metadata": {},
   "outputs": [],
   "source": [
    "def extract_tweet_id(link):\n",
    "    try:\n",
    "        return int(link.split('/')[-1])\n",
    "    except:\n",
    "        return -1"
   ]
  },
  {
   "cell_type": "markdown",
   "metadata": {},
   "source": [
    "# Load Raw Data"
   ]
  },
  {
   "cell_type": "code",
   "execution_count": 6,
   "metadata": {},
   "outputs": [],
   "source": [
    "df_train = pd.read_table('./data/[Updated] Training Set for Competition.txt',sep='\\t')"
   ]
  },
  {
   "cell_type": "code",
   "execution_count": 7,
   "metadata": {},
   "outputs": [],
   "source": [
    "df_train['Date'] = pd.to_datetime(df_train['Date'], format='%d.%m.%Y').dt.date\n",
    "df_train['Event ID'] = df_train['Event ID'].fillna(0)\n",
    "df_train['Is_Food'] = df_train['Event ID'] > 0\n",
    "df_train['tweet_id'] = df_train['Link'].apply(extract_tweet_id)"
   ]
  },
  {
   "cell_type": "code",
   "execution_count": 8,
   "metadata": {},
   "outputs": [
    {
     "data": {
      "text/html": [
       "<div>\n",
       "<style scoped>\n",
       "    .dataframe tbody tr th:only-of-type {\n",
       "        vertical-align: middle;\n",
       "    }\n",
       "\n",
       "    .dataframe tbody tr th {\n",
       "        vertical-align: top;\n",
       "    }\n",
       "\n",
       "    .dataframe thead th {\n",
       "        text-align: right;\n",
       "    }\n",
       "</style>\n",
       "<table border=\"1\" class=\"dataframe\">\n",
       "  <thead>\n",
       "    <tr style=\"text-align: right;\">\n",
       "      <th></th>\n",
       "      <th>Date</th>\n",
       "      <th>Time</th>\n",
       "      <th>Trainig/Test</th>\n",
       "      <th>Event ID</th>\n",
       "      <th>Title</th>\n",
       "      <th>Link</th>\n",
       "      <th>Abstract</th>\n",
       "      <th>Is_Food</th>\n",
       "      <th>tweet_id</th>\n",
       "    </tr>\n",
       "  </thead>\n",
       "  <tbody>\n",
       "    <tr>\n",
       "      <th>0</th>\n",
       "      <td>2019-02-05</td>\n",
       "      <td>18:45:44</td>\n",
       "      <td>Training</td>\n",
       "      <td>1.0</td>\n",
       "      <td>New dog food recall and latest warning on grain-free foods #SmartNews</td>\n",
       "      <td>https://twitter.com/tweet/status/1092857075753861125</td>\n",
       "      <td>New dog food recall and latest warning on grain-free foods #SmartNews https://t.co/nS49e7r63l</td>\n",
       "      <td>True</td>\n",
       "      <td>1092857075753861125</td>\n",
       "    </tr>\n",
       "    <tr>\n",
       "      <th>1</th>\n",
       "      <td>2019-02-05</td>\n",
       "      <td>06:29:38</td>\n",
       "      <td>Training</td>\n",
       "      <td>1.0</td>\n",
       "      <td>New Dog Food Recall And The Latest Warning On Grain-Free Foods... https://t.co/brx3qW4t4L</td>\n",
       "      <td>https://twitter.com/tweet/status/1092671572400373760</td>\n",
       "      <td>New Dog Food Recall And The Latest Warning On Grain-Free Foods... https://t.co/brx3qW4t4L https://t.co/5XcIAt9g4p</td>\n",
       "      <td>True</td>\n",
       "      <td>1092671572400373760</td>\n",
       "    </tr>\n",
       "    <tr>\n",
       "      <th>2</th>\n",
       "      <td>2019-02-05</td>\n",
       "      <td>18:40:20</td>\n",
       "      <td>Training</td>\n",
       "      <td>1.0</td>\n",
       "      <td>RT @BaybeeReade: Another dog food recall over dangerous levels of vitamin D - Fox News</td>\n",
       "      <td>https://twitter.com/tweet/status/1092855599233150977</td>\n",
       "      <td>RT @BaybeeReade: Another dog food recall over dangerous levels of vitamin D - Fox News https://t.co/z0w17ubVay</td>\n",
       "      <td>True</td>\n",
       "      <td>1092855599233150977</td>\n",
       "    </tr>\n",
       "  </tbody>\n",
       "</table>\n",
       "</div>"
      ],
      "text/plain": [
       "         Date      Time Trainig/Test  Event ID  \\\n",
       "0  2019-02-05  18:45:44     Training       1.0   \n",
       "1  2019-02-05  06:29:38     Training       1.0   \n",
       "2  2019-02-05  18:40:20     Training       1.0   \n",
       "\n",
       "                                                                                       Title  \\\n",
       "0                      New dog food recall and latest warning on grain-free foods #SmartNews   \n",
       "1  New Dog Food Recall And The Latest Warning On Grain-Free Foods... https://t.co/brx3qW4t4L   \n",
       "2     RT @BaybeeReade: Another dog food recall over dangerous levels of vitamin D - Fox News   \n",
       "\n",
       "                                                   Link  \\\n",
       "0  https://twitter.com/tweet/status/1092857075753861125   \n",
       "1  https://twitter.com/tweet/status/1092671572400373760   \n",
       "2  https://twitter.com/tweet/status/1092855599233150977   \n",
       "\n",
       "                                                                                                            Abstract  \\\n",
       "0                      New dog food recall and latest warning on grain-free foods #SmartNews https://t.co/nS49e7r63l   \n",
       "1  New Dog Food Recall And The Latest Warning On Grain-Free Foods... https://t.co/brx3qW4t4L https://t.co/5XcIAt9g4p   \n",
       "2     RT @BaybeeReade: Another dog food recall over dangerous levels of vitamin D - Fox News https://t.co/z0w17ubVay   \n",
       "\n",
       "   Is_Food             tweet_id  \n",
       "0     True  1092857075753861125  \n",
       "1     True  1092671572400373760  \n",
       "2     True  1092855599233150977  "
      ]
     },
     "execution_count": 8,
     "metadata": {},
     "output_type": "execute_result"
    }
   ],
   "source": [
    "df_train.head(3)"
   ]
  },
  {
   "cell_type": "code",
   "execution_count": 9,
   "metadata": {},
   "outputs": [],
   "source": [
    "df_test = pd.read_table('./data/[Updated] Test Set for Competition.txt',sep='\\t')\n",
    "df_test['tweet_id'] = df_test['Link'].apply(extract_tweet_id)"
   ]
  },
  {
   "cell_type": "code",
   "execution_count": 10,
   "metadata": {},
   "outputs": [
    {
     "data": {
      "text/html": [
       "<div>\n",
       "<style scoped>\n",
       "    .dataframe tbody tr th:only-of-type {\n",
       "        vertical-align: middle;\n",
       "    }\n",
       "\n",
       "    .dataframe tbody tr th {\n",
       "        vertical-align: top;\n",
       "    }\n",
       "\n",
       "    .dataframe thead th {\n",
       "        text-align: right;\n",
       "    }\n",
       "</style>\n",
       "<table border=\"1\" class=\"dataframe\">\n",
       "  <thead>\n",
       "    <tr style=\"text-align: right;\">\n",
       "      <th></th>\n",
       "      <th>Date</th>\n",
       "      <th>Time</th>\n",
       "      <th>Training/Test</th>\n",
       "      <th>Title</th>\n",
       "      <th>Link</th>\n",
       "      <th>Abstract</th>\n",
       "      <th>tweet_id</th>\n",
       "    </tr>\n",
       "  </thead>\n",
       "  <tbody>\n",
       "    <tr>\n",
       "      <th>0</th>\n",
       "      <td>2019-03-07</td>\n",
       "      <td>23:59:31</td>\n",
       "      <td>Test</td>\n",
       "      <td>@pccs_heron Salmonella</td>\n",
       "      <td>https://twitter.com/tweet/status/1103807421800202242</td>\n",
       "      <td>@pccs_heron Salmonella</td>\n",
       "      <td>1103807421800202242</td>\n",
       "    </tr>\n",
       "    <tr>\n",
       "      <th>1</th>\n",
       "      <td>2019-03-07</td>\n",
       "      <td>23:59:20</td>\n",
       "      <td>Test</td>\n",
       "      <td>@richardlanigan @trishgreenhalgh No. It's not feaces alone. Not at all. Polio virus is transmitted by the feacal…</td>\n",
       "      <td>https://twitter.com/tweet/status/1103807373196623873</td>\n",
       "      <td>@richardlanigan @trishgreenhalgh No. It's not feaces alone. Not at all. Polio virus is transmitted by the feacal… https://t.co/8ziThZHccA</td>\n",
       "      <td>1103807373196623873</td>\n",
       "    </tr>\n",
       "    <tr>\n",
       "      <th>2</th>\n",
       "      <td>2019-03-07</td>\n",
       "      <td>23:59:02</td>\n",
       "      <td>Test</td>\n",
       "      <td>@PatchouliW @BecciCath @MavenOfMayhem @SwiftOnSecurity For a while I thought I was allergic to water because of the…</td>\n",
       "      <td>https://twitter.com/tweet/status/1103807299389349889</td>\n",
       "      <td>@PatchouliW @BecciCath @MavenOfMayhem @SwiftOnSecurity For a while I thought I was allergic to water because of the… https://t.co/XoMGCuQLcs</td>\n",
       "      <td>1103807299389349889</td>\n",
       "    </tr>\n",
       "  </tbody>\n",
       "</table>\n",
       "</div>"
      ],
      "text/plain": [
       "         Date      Time Training/Test  \\\n",
       "0  2019-03-07  23:59:31          Test   \n",
       "1  2019-03-07  23:59:20          Test   \n",
       "2  2019-03-07  23:59:02          Test   \n",
       "\n",
       "                                                                                                                  Title  \\\n",
       "0                                                                                                @pccs_heron Salmonella   \n",
       "1     @richardlanigan @trishgreenhalgh No. It's not feaces alone. Not at all. Polio virus is transmitted by the feacal…   \n",
       "2  @PatchouliW @BecciCath @MavenOfMayhem @SwiftOnSecurity For a while I thought I was allergic to water because of the…   \n",
       "\n",
       "                                                   Link  \\\n",
       "0  https://twitter.com/tweet/status/1103807421800202242   \n",
       "1  https://twitter.com/tweet/status/1103807373196623873   \n",
       "2  https://twitter.com/tweet/status/1103807299389349889   \n",
       "\n",
       "                                                                                                                                       Abstract  \\\n",
       "0                                                                                                                        @pccs_heron Salmonella   \n",
       "1     @richardlanigan @trishgreenhalgh No. It's not feaces alone. Not at all. Polio virus is transmitted by the feacal… https://t.co/8ziThZHccA   \n",
       "2  @PatchouliW @BecciCath @MavenOfMayhem @SwiftOnSecurity For a while I thought I was allergic to water because of the… https://t.co/XoMGCuQLcs   \n",
       "\n",
       "              tweet_id  \n",
       "0  1103807421800202242  \n",
       "1  1103807373196623873  \n",
       "2  1103807299389349889  "
      ]
     },
     "execution_count": 10,
     "metadata": {},
     "output_type": "execute_result"
    }
   ],
   "source": [
    "df_test.head(3)"
   ]
  },
  {
   "cell_type": "markdown",
   "metadata": {
    "heading_collapsed": true
   },
   "source": [
    "# Distribution on Train data"
   ]
  },
  {
   "cell_type": "code",
   "execution_count": 14,
   "metadata": {
    "hidden": true
   },
   "outputs": [
    {
     "data": {
      "text/plain": [
       "<matplotlib.axes._subplots.AxesSubplot at 0x13c0f28d0>"
      ]
     },
     "execution_count": 14,
     "metadata": {},
     "output_type": "execute_result"
    },
    {
     "data": {
      "image/png": "[encoded data removed]",
      "text/plain": [
       "<Figure size 432x288 with 1 Axes>"
      ]
     },
     "metadata": {
      "needs_background": "light"
     },
     "output_type": "display_data"
    }
   ],
   "source": [
    "sns.countplot(x='Event ID', data=df_train)"
   ]
  },
  {
   "cell_type": "code",
   "execution_count": 15,
   "metadata": {
    "hidden": true
   },
   "outputs": [
    {
     "data": {
      "text/plain": [
       "<matplotlib.axes._subplots.AxesSubplot at 0x13cf0cc50>"
      ]
     },
     "execution_count": 15,
     "metadata": {},
     "output_type": "execute_result"
    },
    {
     "data": {
      "image/png": "[encoded data removed]",
      "text/plain": [
       "<Figure size 432x288 with 1 Axes>"
      ]
     },
     "metadata": {
      "needs_background": "light"
     },
     "output_type": "display_data"
    }
   ],
   "source": [
    "sns.countplot(x='Is_Food', data=df_train)"
   ]
  },
  {
   "cell_type": "code",
   "execution_count": 16,
   "metadata": {
    "hidden": true
   },
   "outputs": [
    {
     "data": {
      "text/plain": [
       "(array([ 0,  1,  2,  3,  4,  5,  6,  7,  8,  9, 10, 11, 12, 13, 14, 15]),\n",
       " <a list of 16 Text xticklabel objects>)"
      ]
     },
     "execution_count": 16,
     "metadata": {},
     "output_type": "execute_result"
    },
    {
     "data": {
      "image/png": "[encoded data removed]",
      "text/plain": [
       "<Figure size 432x288 with 1 Axes>"
      ]
     },
     "metadata": {
      "needs_background": "light"
     },
     "output_type": "display_data"
    }
   ],
   "source": [
    "sns.countplot(x='Date', data=df_train, order = sorted(set(df_train['Date'])))\n",
    "plt.xticks(rotation=90)"
   ]
  },
  {
   "cell_type": "code",
   "execution_count": 17,
   "metadata": {
    "hidden": true
   },
   "outputs": [
    {
     "data": {
      "text/plain": [
       "<matplotlib.axes._subplots.AxesSubplot at 0x13cf4b748>"
      ]
     },
     "execution_count": 17,
     "metadata": {},
     "output_type": "execute_result"
    },
    {
     "data": {
      "image/png": "[encoded data removed]",
      "text/plain": [
       "<Figure size 1152x432 with 2 Axes>"
      ]
     },
     "metadata": {
      "needs_background": "light"
     },
     "output_type": "display_data"
    }
   ],
   "source": [
    "plt.figure(figsize=(16, 6))\n",
    "pivot = df_train.groupby(['Date','Event ID'], as_index=False)['Link'].\\\n",
    "            agg({'count':len}).\\\n",
    "            pivot('Date','Event ID','count')\n",
    "sns.heatmap(pivot, robust=True, annot=True, fmt='.4g')"
   ]
  },
  {
   "cell_type": "markdown",
   "metadata": {},
   "source": [
    "# NLP on Abstract"
   ]
  },
  {
   "cell_type": "markdown",
   "metadata": {},
   "source": [
    "## Remove stop words, and tokenize"
   ]
  },
  {
   "cell_type": "code",
   "execution_count": 18,
   "metadata": {},
   "outputs": [],
   "source": [
    "stop_words_getter = lambda token: token.is_stop or token.lemma_ in STOP_WORDS\n",
    "Token.set_extension('is_stop', getter=stop_words_getter, force=True)  # set attribute with getter"
   ]
  },
  {
   "cell_type": "code",
   "execution_count": 19,
   "metadata": {},
   "outputs": [],
   "source": [
    "def filter_token(token):\n",
    "    if(token.is_punct or \\\n",
    "       token.is_digit or \\\n",
    "       token.is_space or \\\n",
    "       token.like_num or \\\n",
    "       not token.text.isalpha() or \\\n",
    "       token.lemma_ == '-PRON-' or \\\n",
    "       'http' in token.text or \\\n",
    "       '@' in token.text or \\\n",
    "       \"’s\" in token.text or \\\n",
    "       \"'s\" in token.text or \\\n",
    "       token.text == 'rt' or \\\n",
    "       len(token.text) <= 1 or \\\n",
    "       token._.is_stop):\n",
    "        return(False)\n",
    "    else:\n",
    "        return(True)"
   ]
  },
  {
   "cell_type": "code",
   "execution_count": 20,
   "metadata": {},
   "outputs": [],
   "source": [
    "def clean(text):\n",
    "    return [token.lemma_ for token in nlp(str(text).lower()) if filter_token(token)]"
   ]
  },
  {
   "cell_type": "markdown",
   "metadata": {},
   "source": [
    "### Train"
   ]
  },
  {
   "cell_type": "code",
   "execution_count": 21,
   "metadata": {},
   "outputs": [
    {
     "data": {
      "application/vnd.jupyter.widget-view+json": {
       "model_id": "92129e826f5a4f04a144c02623c9eedf",
       "version_major": 2,
       "version_minor": 0
      },
      "text/plain": [
       "VBox(children=(HTML(value=''), IntProgress(value=0, max=4183)))"
      ]
     },
     "metadata": {},
     "output_type": "display_data"
    },
    {
     "name": "stdout",
     "output_type": "stream",
     "text": [
      "CPU times: user 3min 17s, sys: 25.8 s, total: 3min 42s\n",
      "Wall time: 37.8 s\n"
     ]
    }
   ],
   "source": [
    "%%time\n",
    "temp = []\n",
    "for text in log_progress(df_train['Abstract'], every = 100):\n",
    "    temp.append(clean(text))\n",
    "df_train['ab_clean'] = temp"
   ]
  },
  {
   "cell_type": "code",
   "execution_count": 22,
   "metadata": {},
   "outputs": [
    {
     "data": {
      "text/html": [
       "<div>\n",
       "<style scoped>\n",
       "    .dataframe tbody tr th:only-of-type {\n",
       "        vertical-align: middle;\n",
       "    }\n",
       "\n",
       "    .dataframe tbody tr th {\n",
       "        vertical-align: top;\n",
       "    }\n",
       "\n",
       "    .dataframe thead th {\n",
       "        text-align: right;\n",
       "    }\n",
       "</style>\n",
       "<table border=\"1\" class=\"dataframe\">\n",
       "  <thead>\n",
       "    <tr style=\"text-align: right;\">\n",
       "      <th></th>\n",
       "      <th>Abstract</th>\n",
       "      <th>ab_clean</th>\n",
       "    </tr>\n",
       "  </thead>\n",
       "  <tbody>\n",
       "    <tr>\n",
       "      <th>0</th>\n",
       "      <td>New dog food recall and latest warning on grain-free foods #SmartNews https://t.co/nS49e7r63l</td>\n",
       "      <td>[new, dog, food, recall, late, warning, grain, free, food, smartnew]</td>\n",
       "    </tr>\n",
       "    <tr>\n",
       "      <th>1</th>\n",
       "      <td>New Dog Food Recall And The Latest Warning On Grain-Free Foods... https://t.co/brx3qW4t4L https://t.co/5XcIAt9g4p</td>\n",
       "      <td>[new, dog, food, recall, late, warning, grain, free, food]</td>\n",
       "    </tr>\n",
       "    <tr>\n",
       "      <th>2</th>\n",
       "      <td>RT @BaybeeReade: Another dog food recall over dangerous levels of vitamin D - Fox News https://t.co/z0w17ubVay</td>\n",
       "      <td>[dog, food, recall, dangerous, level, vitamin, fox, news]</td>\n",
       "    </tr>\n",
       "  </tbody>\n",
       "</table>\n",
       "</div>"
      ],
      "text/plain": [
       "                                                                                                            Abstract  \\\n",
       "0                      New dog food recall and latest warning on grain-free foods #SmartNews https://t.co/nS49e7r63l   \n",
       "1  New Dog Food Recall And The Latest Warning On Grain-Free Foods... https://t.co/brx3qW4t4L https://t.co/5XcIAt9g4p   \n",
       "2     RT @BaybeeReade: Another dog food recall over dangerous levels of vitamin D - Fox News https://t.co/z0w17ubVay   \n",
       "\n",
       "                                                               ab_clean  \n",
       "0  [new, dog, food, recall, late, warning, grain, free, food, smartnew]  \n",
       "1            [new, dog, food, recall, late, warning, grain, free, food]  \n",
       "2             [dog, food, recall, dangerous, level, vitamin, fox, news]  "
      ]
     },
     "execution_count": 22,
     "metadata": {},
     "output_type": "execute_result"
    }
   ],
   "source": [
    "df_train[['Abstract','ab_clean']].head(3)"
   ]
  },
  {
   "cell_type": "markdown",
   "metadata": {},
   "source": [
    "### Test"
   ]
  },
  {
   "cell_type": "code",
   "execution_count": 23,
   "metadata": {},
   "outputs": [
    {
     "data": {
      "application/vnd.jupyter.widget-view+json": {
       "model_id": "425c8c2f44474a7a9793b8f1740c2e55",
       "version_major": 2,
       "version_minor": 0
      },
      "text/plain": [
       "VBox(children=(HTML(value=''), IntProgress(value=0, max=22840)))"
      ]
     },
     "metadata": {},
     "output_type": "display_data"
    },
    {
     "name": "stdout",
     "output_type": "stream",
     "text": [
      "CPU times: user 16min 18s, sys: 1min 57s, total: 18min 15s\n",
      "Wall time: 3min 4s\n"
     ]
    }
   ],
   "source": [
    "%%time\n",
    "temp = []\n",
    "for text in log_progress(df_test['Abstract'], every = 100):\n",
    "    temp.append(clean(text))\n",
    "df_test['ab_clean'] = temp"
   ]
  },
  {
   "cell_type": "code",
   "execution_count": 24,
   "metadata": {},
   "outputs": [
    {
     "data": {
      "text/html": [
       "<div>\n",
       "<style scoped>\n",
       "    .dataframe tbody tr th:only-of-type {\n",
       "        vertical-align: middle;\n",
       "    }\n",
       "\n",
       "    .dataframe tbody tr th {\n",
       "        vertical-align: top;\n",
       "    }\n",
       "\n",
       "    .dataframe thead th {\n",
       "        text-align: right;\n",
       "    }\n",
       "</style>\n",
       "<table border=\"1\" class=\"dataframe\">\n",
       "  <thead>\n",
       "    <tr style=\"text-align: right;\">\n",
       "      <th></th>\n",
       "      <th>Abstract</th>\n",
       "      <th>ab_clean</th>\n",
       "    </tr>\n",
       "  </thead>\n",
       "  <tbody>\n",
       "    <tr>\n",
       "      <th>0</th>\n",
       "      <td>@pccs_heron Salmonella</td>\n",
       "      <td>[salmonella]</td>\n",
       "    </tr>\n",
       "    <tr>\n",
       "      <th>1</th>\n",
       "      <td>@richardlanigan @trishgreenhalgh No. It's not feaces alone. Not at all. Polio virus is transmitted by the feacal… https://t.co/8ziThZHccA</td>\n",
       "      <td>[feace, polio, virus, transmit, feacal]</td>\n",
       "    </tr>\n",
       "    <tr>\n",
       "      <th>2</th>\n",
       "      <td>@PatchouliW @BecciCath @MavenOfMayhem @SwiftOnSecurity For a while I thought I was allergic to water because of the… https://t.co/XoMGCuQLcs</td>\n",
       "      <td>[think, allergic, water]</td>\n",
       "    </tr>\n",
       "  </tbody>\n",
       "</table>\n",
       "</div>"
      ],
      "text/plain": [
       "                                                                                                                                       Abstract  \\\n",
       "0                                                                                                                        @pccs_heron Salmonella   \n",
       "1     @richardlanigan @trishgreenhalgh No. It's not feaces alone. Not at all. Polio virus is transmitted by the feacal… https://t.co/8ziThZHccA   \n",
       "2  @PatchouliW @BecciCath @MavenOfMayhem @SwiftOnSecurity For a while I thought I was allergic to water because of the… https://t.co/XoMGCuQLcs   \n",
       "\n",
       "                                  ab_clean  \n",
       "0                             [salmonella]  \n",
       "1  [feace, polio, virus, transmit, feacal]  \n",
       "2                 [think, allergic, water]  "
      ]
     },
     "execution_count": 24,
     "metadata": {},
     "output_type": "execute_result"
    }
   ],
   "source": [
    "df_test[['Abstract','ab_clean']].head(3)"
   ]
  },
  {
   "cell_type": "markdown",
   "metadata": {},
   "source": [
    "## Apply Phrase model"
   ]
  },
  {
   "cell_type": "code",
   "execution_count": 25,
   "metadata": {},
   "outputs": [],
   "source": [
    "bigram_model = Phraser(Phrases(list(df_train['ab_clean']) + list(df_test['ab_clean'])))"
   ]
  },
  {
   "cell_type": "code",
   "execution_count": 26,
   "metadata": {},
   "outputs": [],
   "source": [
    "df_train['ab_clean_ph'] = df_train['ab_clean'].apply(lambda text: bigram_model[text])\n",
    "df_test['ab_clean_ph']  = df_test['ab_clean'].apply(lambda text: bigram_model[text])"
   ]
  },
  {
   "cell_type": "code",
   "execution_count": 27,
   "metadata": {},
   "outputs": [
    {
     "data": {
      "text/html": [
       "<div>\n",
       "<style scoped>\n",
       "    .dataframe tbody tr th:only-of-type {\n",
       "        vertical-align: middle;\n",
       "    }\n",
       "\n",
       "    .dataframe tbody tr th {\n",
       "        vertical-align: top;\n",
       "    }\n",
       "\n",
       "    .dataframe thead th {\n",
       "        text-align: right;\n",
       "    }\n",
       "</style>\n",
       "<table border=\"1\" class=\"dataframe\">\n",
       "  <thead>\n",
       "    <tr style=\"text-align: right;\">\n",
       "      <th></th>\n",
       "      <th>Abstract</th>\n",
       "      <th>ab_clean</th>\n",
       "      <th>ab_clean_ph</th>\n",
       "    </tr>\n",
       "  </thead>\n",
       "  <tbody>\n",
       "    <tr>\n",
       "      <th>0</th>\n",
       "      <td>New dog food recall and latest warning on grain-free foods #SmartNews https://t.co/nS49e7r63l</td>\n",
       "      <td>[new, dog, food, recall, late, warning, grain, free, food, smartnew]</td>\n",
       "      <td>[new, dog, food, recall, late_warning, grain_free, food, smartnew]</td>\n",
       "    </tr>\n",
       "    <tr>\n",
       "      <th>1</th>\n",
       "      <td>New Dog Food Recall And The Latest Warning On Grain-Free Foods... https://t.co/brx3qW4t4L https://t.co/5XcIAt9g4p</td>\n",
       "      <td>[new, dog, food, recall, late, warning, grain, free, food]</td>\n",
       "      <td>[new, dog, food, recall, late_warning, grain_free, food]</td>\n",
       "    </tr>\n",
       "    <tr>\n",
       "      <th>2</th>\n",
       "      <td>RT @BaybeeReade: Another dog food recall over dangerous levels of vitamin D - Fox News https://t.co/z0w17ubVay</td>\n",
       "      <td>[dog, food, recall, dangerous, level, vitamin, fox, news]</td>\n",
       "      <td>[dog, food, recall, dangerous_level, vitamin_fox, news]</td>\n",
       "    </tr>\n",
       "  </tbody>\n",
       "</table>\n",
       "</div>"
      ],
      "text/plain": [
       "                                                                                                            Abstract  \\\n",
       "0                      New dog food recall and latest warning on grain-free foods #SmartNews https://t.co/nS49e7r63l   \n",
       "1  New Dog Food Recall And The Latest Warning On Grain-Free Foods... https://t.co/brx3qW4t4L https://t.co/5XcIAt9g4p   \n",
       "2     RT @BaybeeReade: Another dog food recall over dangerous levels of vitamin D - Fox News https://t.co/z0w17ubVay   \n",
       "\n",
       "                                                               ab_clean  \\\n",
       "0  [new, dog, food, recall, late, warning, grain, free, food, smartnew]   \n",
       "1            [new, dog, food, recall, late, warning, grain, free, food]   \n",
       "2             [dog, food, recall, dangerous, level, vitamin, fox, news]   \n",
       "\n",
       "                                                          ab_clean_ph  \n",
       "0  [new, dog, food, recall, late_warning, grain_free, food, smartnew]  \n",
       "1            [new, dog, food, recall, late_warning, grain_free, food]  \n",
       "2             [dog, food, recall, dangerous_level, vitamin_fox, news]  "
      ]
     },
     "execution_count": 27,
     "metadata": {},
     "output_type": "execute_result"
    }
   ],
   "source": [
    "df_train[['Abstract','ab_clean','ab_clean_ph']].head(3)"
   ]
  },
  {
   "cell_type": "code",
   "execution_count": 28,
   "metadata": {},
   "outputs": [
    {
     "data": {
      "text/html": [
       "<div>\n",
       "<style scoped>\n",
       "    .dataframe tbody tr th:only-of-type {\n",
       "        vertical-align: middle;\n",
       "    }\n",
       "\n",
       "    .dataframe tbody tr th {\n",
       "        vertical-align: top;\n",
       "    }\n",
       "\n",
       "    .dataframe thead th {\n",
       "        text-align: right;\n",
       "    }\n",
       "</style>\n",
       "<table border=\"1\" class=\"dataframe\">\n",
       "  <thead>\n",
       "    <tr style=\"text-align: right;\">\n",
       "      <th></th>\n",
       "      <th>Abstract</th>\n",
       "      <th>ab_clean</th>\n",
       "      <th>ab_clean_ph</th>\n",
       "    </tr>\n",
       "  </thead>\n",
       "  <tbody>\n",
       "    <tr>\n",
       "      <th>0</th>\n",
       "      <td>@pccs_heron Salmonella</td>\n",
       "      <td>[salmonella]</td>\n",
       "      <td>[salmonella]</td>\n",
       "    </tr>\n",
       "    <tr>\n",
       "      <th>1</th>\n",
       "      <td>@richardlanigan @trishgreenhalgh No. It's not feaces alone. Not at all. Polio virus is transmitted by the feacal… https://t.co/8ziThZHccA</td>\n",
       "      <td>[feace, polio, virus, transmit, feacal]</td>\n",
       "      <td>[feace, polio, virus, transmit, feacal]</td>\n",
       "    </tr>\n",
       "    <tr>\n",
       "      <th>2</th>\n",
       "      <td>@PatchouliW @BecciCath @MavenOfMayhem @SwiftOnSecurity For a while I thought I was allergic to water because of the… https://t.co/XoMGCuQLcs</td>\n",
       "      <td>[think, allergic, water]</td>\n",
       "      <td>[think, allergic, water]</td>\n",
       "    </tr>\n",
       "  </tbody>\n",
       "</table>\n",
       "</div>"
      ],
      "text/plain": [
       "                                                                                                                                       Abstract  \\\n",
       "0                                                                                                                        @pccs_heron Salmonella   \n",
       "1     @richardlanigan @trishgreenhalgh No. It's not feaces alone. Not at all. Polio virus is transmitted by the feacal… https://t.co/8ziThZHccA   \n",
       "2  @PatchouliW @BecciCath @MavenOfMayhem @SwiftOnSecurity For a while I thought I was allergic to water because of the… https://t.co/XoMGCuQLcs   \n",
       "\n",
       "                                  ab_clean  \\\n",
       "0                             [salmonella]   \n",
       "1  [feace, polio, virus, transmit, feacal]   \n",
       "2                 [think, allergic, water]   \n",
       "\n",
       "                               ab_clean_ph  \n",
       "0                             [salmonella]  \n",
       "1  [feace, polio, virus, transmit, feacal]  \n",
       "2                 [think, allergic, water]  "
      ]
     },
     "execution_count": 28,
     "metadata": {},
     "output_type": "execute_result"
    }
   ],
   "source": [
    "df_test[['Abstract','ab_clean','ab_clean_ph']].head(3)"
   ]
  },
  {
   "cell_type": "markdown",
   "metadata": {},
   "source": [
    "## Highlight zero length abstract"
   ]
  },
  {
   "cell_type": "code",
   "execution_count": 29,
   "metadata": {},
   "outputs": [
    {
     "data": {
      "text/plain": [
       "<matplotlib.axes._subplots.AxesSubplot at 0x14d8e9320>"
      ]
     },
     "execution_count": 29,
     "metadata": {},
     "output_type": "execute_result"
    },
    {
     "data": {
      "image/png": "[encoded data removed]",
      "text/plain": [
       "<Figure size 432x288 with 1 Axes>"
      ]
     },
     "metadata": {
      "needs_background": "light"
     },
     "output_type": "display_data"
    }
   ],
   "source": [
    "sns.distplot([len(x) for x in df_train['ab_clean_ph']], kde = False)"
   ]
  },
  {
   "cell_type": "code",
   "execution_count": 30,
   "metadata": {},
   "outputs": [
    {
     "data": {
      "text/plain": [
       "<matplotlib.axes._subplots.AxesSubplot at 0x14d90c5c0>"
      ]
     },
     "execution_count": 30,
     "metadata": {},
     "output_type": "execute_result"
    },
    {
     "data": {
      "image/png": "[encoded data removed]",
      "text/plain": [
       "<Figure size 432x288 with 1 Axes>"
      ]
     },
     "metadata": {
      "needs_background": "light"
     },
     "output_type": "display_data"
    }
   ],
   "source": [
    "sns.distplot([len(x) for x in df_test['ab_clean_ph']], kde = False)"
   ]
  },
  {
   "cell_type": "code",
   "execution_count": 31,
   "metadata": {},
   "outputs": [],
   "source": [
    "df_train['zero_length'] = df_train['ab_clean_ph'].apply(lambda x: True if len(x) == 0 or x == ['nan'] else False)\n",
    "df_test['zero_length'] = df_test['ab_clean_ph'].apply(lambda x: True if len(x) == 0 or x == ['nan'] else False)"
   ]
  },
  {
   "cell_type": "code",
   "execution_count": 32,
   "metadata": {},
   "outputs": [
    {
     "name": "stdout",
     "output_type": "stream",
     "text": [
      "8 zero length cleaned abstract in training set.\n",
      "1443 zero length cleaned abstract in test set.\n"
     ]
    }
   ],
   "source": [
    "print(sum(df_train['zero_length']), 'zero length cleaned abstract in training set.')\n",
    "print(sum(df_test['zero_length']), 'zero length cleaned abstract in test set.')"
   ]
  },
  {
   "cell_type": "markdown",
   "metadata": {},
   "source": [
    "# Web Scraping"
   ]
  },
  {
   "cell_type": "code",
   "execution_count": null,
   "metadata": {
    "deletable": false,
    "editable": false,
    "run_control": {
     "frozen": true
    }
   },
   "outputs": [],
   "source": [
    "!pip install Twython"
   ]
  },
  {
   "cell_type": "code",
   "execution_count": 48,
   "metadata": {},
   "outputs": [],
   "source": [
    "from twython import Twython\n",
    "with open('api_key.txt','r') as inf:\n",
    "    key_dict = eval(inf.read())"
   ]
  },
  {
   "cell_type": "code",
   "execution_count": 49,
   "metadata": {},
   "outputs": [],
   "source": [
    "CONSUMER_KEY = key_dict['CONSUMER_KEY']\n",
    "CONSUMER_SECRET = key_dict['CONSUMER_SECRET']\n",
    "OAUTH_TOKEN = key_dict['OAUTH_TOKEN']\n",
    "OAUTH_TOKEN_SECRET = key_dict['OAUTH_TOKEN_SECRET']\n",
    "twitter = Twython(\n",
    "    CONSUMER_KEY, CONSUMER_SECRET,\n",
    "    OAUTH_TOKEN, OAUTH_TOKEN_SECRET)"
   ]
  },
  {
   "cell_type": "code",
   "execution_count": 103,
   "metadata": {},
   "outputs": [],
   "source": [
    "def add_more_info(tweet_id):\n",
    "    r = {\n",
    "        'tweet_found':True,\n",
    "        'user_name':'',\n",
    "        'mentions':[],\n",
    "        'medias':None,\n",
    "        'hashtags':[],\n",
    "        'in_reply_to_status_id':None,\n",
    "        'in_reply_to_screen_name':None,\n",
    "        'in_reply_to_status_text':None\n",
    "    }\n",
    "    \n",
    "    if tweet_id == -1:\n",
    "        return r\n",
    "    \n",
    "    flag = True\n",
    "    while(flag):\n",
    "        try:\n",
    "            tweet = twitter.show_status(id=tweet_id)\n",
    "            flag = False\n",
    "\n",
    "        except Exception as e:\n",
    "            if e.msg != 'Twitter API returned a 429 (Too Many Requests), Rate limit exceeded':\n",
    "                r['tweet_found'] = False\n",
    "                flag = False\n",
    "                return r\n",
    "            else:\n",
    "                print(e.msg)\n",
    "                print('Sleeping for a min ......')\n",
    "                time.sleep(60)\n",
    "                \n",
    "    r['user_name'] = tweet['user']['name']\n",
    "    r['mentions'] = [v for mention in tweet['entities']['user_mentions'] for k,v in mention.items() if k == 'screen_name'] \n",
    "    try:\n",
    "        r['medias'] = [v for media in tweet['entities']['media'] for k,v in media.items() if k == 'media_url']\n",
    "    except:\n",
    "        pass\n",
    "    r['hashtags'] = [v for mention in tweet['entities']['hashtags'] for k,v in mention.items() if k == 'text']\n",
    "    r['in_reply_to_status_id'] = tweet['in_reply_to_status_id']\n",
    "    r['in_reply_to_screen_name'] = tweet['in_reply_to_screen_name']\n",
    "    if r['in_reply_to_status_id'] is not None:\n",
    "        try:\n",
    "            main_tweet = twitter.show_status(id=r['in_reply_to_status_id'])\n",
    "            r['in_reply_to_status_text'] = main_tweet['text']\n",
    "        except:\n",
    "            pass\n",
    "    \n",
    "    return r"
   ]
  },
  {
   "cell_type": "markdown",
   "metadata": {},
   "source": [
    "## Train"
   ]
  },
  {
   "cell_type": "code",
   "execution_count": null,
   "metadata": {
    "deletable": false,
    "editable": false,
    "run_control": {
     "frozen": true
    },
    "scrolled": true
   },
   "outputs": [],
   "source": [
    "extra_infos = []\n",
    "for tweet_id in log_progress(df_train['tweet_id'][3400:] , every = 1):\n",
    "    extra_infos.append(add_more_info(tweet_id))"
   ]
  },
  {
   "cell_type": "code",
   "execution_count": 110,
   "metadata": {
    "deletable": false,
    "editable": false,
    "run_control": {
     "frozen": true
    }
   },
   "outputs": [],
   "source": [
    "df_train_merge = pd.concat([df_train, pd.DataFrame(extra_infos)], axis = 1)"
   ]
  },
  {
   "cell_type": "code",
   "execution_count": 112,
   "metadata": {
    "deletable": false,
    "editable": false,
    "run_control": {
     "frozen": true
    }
   },
   "outputs": [],
   "source": [
    "df_train_merge.to_csv('./processed_data/train_with_scraping.csv', index = False)"
   ]
  },
  {
   "cell_type": "markdown",
   "metadata": {},
   "source": [
    "## Test"
   ]
  },
  {
   "cell_type": "code",
   "execution_count": null,
   "metadata": {
    "deletable": false,
    "editable": false,
    "run_control": {
     "frozen": true
    },
    "scrolled": false
   },
   "outputs": [],
   "source": [
    "extra_infos = []\n",
    "for tweet_id in log_progress(df_test['tweet_id'] , every = 1):\n",
    "    extra_infos.append(add_more_info(tweet_id))"
   ]
  },
  {
   "cell_type": "code",
   "execution_count": 115,
   "metadata": {
    "deletable": false,
    "editable": false,
    "run_control": {
     "frozen": true
    }
   },
   "outputs": [],
   "source": [
    "df_extra_infos = pd.DataFrame(extra_infos)\n",
    "df_test_merge = pd.concat([df_test, df_extra_infos], axis = 1)"
   ]
  },
  {
   "cell_type": "code",
   "execution_count": 116,
   "metadata": {
    "deletable": false,
    "editable": false,
    "run_control": {
     "frozen": true
    }
   },
   "outputs": [],
   "source": [
    "df_test_merge.to_csv('./processed_data/test_with_scraping.csv', index = False)"
   ]
  },
  {
   "cell_type": "markdown",
   "metadata": {},
   "source": [
    "# Try: Explore what makes a news `Is_Food`"
   ]
  },
  {
   "cell_type": "markdown",
   "metadata": {},
   "source": [
    "## NLP Features"
   ]
  },
  {
   "cell_type": "markdown",
   "metadata": {},
   "source": [
    "### Verbs"
   ]
  },
  {
   "cell_type": "code",
   "execution_count": 397,
   "metadata": {},
   "outputs": [],
   "source": [
    "def get_verb(text):\n",
    "    try:\n",
    "        doc = nlp(text)\n",
    "        output = []\n",
    "        for token in doc:\n",
    "            if token.pos_ in ['VERB']:\n",
    "                output.append(token.lemma_)\n",
    "        return output\n",
    "    except:\n",
    "        return []"
   ]
  },
  {
   "cell_type": "code",
   "execution_count": 400,
   "metadata": {},
   "outputs": [
    {
     "name": "stdout",
     "output_type": "stream",
     "text": [
      "CPU times: user 3min 31s, sys: 30.3 s, total: 4min 1s\n",
      "Wall time: 41 s\n"
     ]
    }
   ],
   "source": [
    "%%time\n",
    "df_train_merge['verbs'] = df_train_merge['Abstract'].apply(get_verb)"
   ]
  },
  {
   "cell_type": "code",
   "execution_count": 403,
   "metadata": {},
   "outputs": [],
   "source": [
    "y_1_verbs = [xx for x in df_train_merge[df_train_merge['Event ID'] >= 1]['verbs'] for xx in x if x ]\n",
    "y_0_verbs = [xx for x in df_train_merge[df_train_merge['Event ID'] == 0]['verbs'] for xx in x if x ]"
   ]
  },
  {
   "cell_type": "code",
   "execution_count": 404,
   "metadata": {},
   "outputs": [
    {
     "data": {
      "text/plain": [
       "be        913\n",
       "have      273\n",
       "get       221\n",
       "eat       173\n",
       "do        161\n",
       "can       105\n",
       "will       79\n",
       "come       53\n",
       "say        52\n",
       "make       51\n",
       "die        48\n",
       "would      47\n",
       "’          47\n",
       "recall     47\n",
       "go         44\n",
       "dtype: int64"
      ]
     },
     "execution_count": 404,
     "metadata": {},
     "output_type": "execute_result"
    }
   ],
   "source": [
    "pd.Series(y_0_verbs).value_counts().head(15)"
   ]
  },
  {
   "cell_type": "code",
   "execution_count": 426,
   "metadata": {},
   "outputs": [
    {
     "data": {
      "text/plain": [
       "recall         2173\n",
       "be             1637\n",
       "have            761\n",
       "sell            362\n",
       "say             311\n",
       "use             278\n",
       "issue           241\n",
       "announce        220\n",
       "may             179\n",
       "fear            166\n",
       "discover        166\n",
       "receive         159\n",
       "confirm         146\n",
       "should          132\n",
       "contaminate     113\n",
       "contain         104\n",
       "discard          99\n",
       "check            91\n",
       "relate           78\n",
       "find             78\n",
       "affect           70\n",
       "can              67\n",
       "sample           57\n",
       "could            52\n",
       "eat              47\n",
       "concern          40\n",
       "get              35\n",
       "include          35\n",
       "publish          35\n",
       "do               35\n",
       "dtype: int64"
      ]
     },
     "execution_count": 426,
     "metadata": {},
     "output_type": "execute_result"
    }
   ],
   "source": [
    "pd.Series(y_1_verbs).value_counts().head(30)"
   ]
  },
  {
   "cell_type": "markdown",
   "metadata": {},
   "source": [
    "### Noun"
   ]
  },
  {
   "cell_type": "code",
   "execution_count": 409,
   "metadata": {},
   "outputs": [],
   "source": [
    "def get_noun_chunk(text):\n",
    "    try:\n",
    "        doc = nlp(text)\n",
    "        output = []\n",
    "        for chunk in doc.noun_chunks:\n",
    "            output.append(chunk.root.text)\n",
    "        return output\n",
    "    except:\n",
    "        return []"
   ]
  },
  {
   "cell_type": "code",
   "execution_count": 410,
   "metadata": {},
   "outputs": [
    {
     "name": "stdout",
     "output_type": "stream",
     "text": [
      "CPU times: user 3min 16s, sys: 25.3 s, total: 3min 41s\n",
      "Wall time: 37.4 s\n"
     ]
    }
   ],
   "source": [
    "%%time\n",
    "df_train_merge['nouns'] = df_train_merge['Abstract'].apply(get_noun_chunk)"
   ]
  },
  {
   "cell_type": "code",
   "execution_count": 411,
   "metadata": {},
   "outputs": [],
   "source": [
    "y_1_nouns = [xx for x in df_train_merge[df_train_merge['Event ID'] >= 1]['nouns'] for xx in x if x ]\n",
    "y_0_nouns = [xx for x in df_train_merge[df_train_merge['Event ID'] == 0]['nouns'] for xx in x if x ]"
   ]
  },
  {
   "cell_type": "code",
   "execution_count": 419,
   "metadata": {},
   "outputs": [
    {
     "data": {
      "text/plain": [
       "salmonella       384\n",
       "I                228\n",
       "you              176\n",
       "it               162\n",
       "dough            114\n",
       "i                101\n",
       "food             100\n",
       "chicken           79\n",
       "me                74\n",
       "Salmonella        67\n",
       "eggs              63\n",
       "outbreaks         56\n",
       "RT                49\n",
       "we                49\n",
       "side              49\n",
       "people            46\n",
       "they              46\n",
       "outbreak          43\n",
       "It                40\n",
       "hedgehogs         37\n",
       "salmon            37\n",
       "recall            37\n",
       "CDC               37\n",
       "products          34\n",
       "meat              28\n",
       "contamination     28\n",
       "You               28\n",
       "coli              27\n",
       "Outbreak          27\n",
       "quarter           27\n",
       "dtype: int64"
      ]
     },
     "execution_count": 419,
     "metadata": {},
     "output_type": "execute_result"
    }
   ],
   "source": [
    "pd.Series(y_0_nouns).value_counts().head(30)"
   ]
  },
  {
   "cell_type": "code",
   "execution_count": 418,
   "metadata": {},
   "outputs": [
    {
     "data": {
      "text/plain": [
       "Mills            1437\n",
       "bags              985\n",
       "flour             928\n",
       "Flour             722\n",
       "recall            634\n",
       "concerns          561\n",
       "nectarines        508\n",
       "plums             363\n",
       "product           323\n",
       "contamination     306\n",
       "Peaches           294\n",
       "salmonella        280\n",
       "date              261\n",
       "it                261\n",
       "Walmart           258\n",
       "company           257\n",
       "April             238\n",
       "Salmonella        205\n",
       "Listeria          195\n",
       "RECALL            195\n",
       "ALERT             187\n",
       "peaches           187\n",
       "fears             171\n",
       "food              166\n",
       "Costco            160\n",
       "reports           159\n",
       "stores            157\n",
       "illnesses         146\n",
       "Medal             141\n",
       "Foods             140\n",
       "dtype: int64"
      ]
     },
     "execution_count": 418,
     "metadata": {},
     "output_type": "execute_result"
    }
   ],
   "source": [
    "pd.Series(y_1_nouns).value_counts().head(30)"
   ]
  },
  {
   "cell_type": "markdown",
   "metadata": {},
   "source": [
    "### NNP"
   ]
  },
  {
   "cell_type": "code",
   "execution_count": 427,
   "metadata": {},
   "outputs": [],
   "source": [
    "def get_nnp(text):\n",
    "    try:\n",
    "        doc = nlp(text)\n",
    "        for token in doc:\n",
    "            if token.tag_ in ['NNP']:\n",
    "                return True\n",
    "        return False\n",
    "    except:\n",
    "        return False"
   ]
  },
  {
   "cell_type": "code",
   "execution_count": 433,
   "metadata": {},
   "outputs": [
    {
     "name": "stdout",
     "output_type": "stream",
     "text": [
      "CPU times: user 3min 14s, sys: 25.7 s, total: 3min 40s\n",
      "Wall time: 37.3 s\n"
     ]
    }
   ],
   "source": [
    "%%time\n",
    "df_train_merge['nnp'] = df_train_merge['Abstract'].apply(get_nnp)"
   ]
  },
  {
   "cell_type": "code",
   "execution_count": 436,
   "metadata": {},
   "outputs": [],
   "source": [
    "y_1_nnp = df_train_merge[df_train_merge['Event ID'] >= 1]['nnp'] \n",
    "y_0_nnp = df_train_merge[df_train_merge['Event ID'] == 0]['nnp']"
   ]
  },
  {
   "cell_type": "code",
   "execution_count": 437,
   "metadata": {},
   "outputs": [
    {
     "data": {
      "text/plain": [
       "True     837\n",
       "False    388\n",
       "Name: nnp, dtype: int64"
      ]
     },
     "execution_count": 437,
     "metadata": {},
     "output_type": "execute_result"
    }
   ],
   "source": [
    "pd.Series(y_0_nnp).value_counts()"
   ]
  },
  {
   "cell_type": "code",
   "execution_count": 438,
   "metadata": {},
   "outputs": [
    {
     "data": {
      "text/plain": [
       "True     2848\n",
       "False     110\n",
       "Name: nnp, dtype: int64"
      ]
     },
     "execution_count": 438,
     "metadata": {},
     "output_type": "execute_result"
    }
   ],
   "source": [
    "pd.Series(y_1_nnp).value_counts()"
   ]
  },
  {
   "cell_type": "markdown",
   "metadata": {},
   "source": [
    "## Words"
   ]
  },
  {
   "cell_type": "code",
   "execution_count": 305,
   "metadata": {},
   "outputs": [],
   "source": [
    "all_events_top_words = dict()\n",
    "for event_id in range(16):\n",
    "    event_subset = df_train[df_train['Event ID'] == event_id]\n",
    "    corpus = list(event_subset['ab_clean_ph'].apply(lambda x: ' '.join(x)))\n",
    "    vectorizer = CountVectorizer(binary = True) # if in sentence or not\n",
    "    X = vectorizer.fit_transform(corpus)\n",
    "    words = vectorizer.get_feature_names()\n",
    "    frequencies = X.toarray().sum(axis = 0)\n",
    "    word_freq = {k:v for k, v in zip(words, frequencies)}\n",
    "    word_freq = sorted(word_freq.items(), key = lambda x: x[1], reverse = True)\n",
    "    all_events_top_words['Event ID: '+ str(event_id)] = word_freq[:10]"
   ]
  },
  {
   "cell_type": "markdown",
   "metadata": {},
   "source": [
    "For each event, what is the top 10 words in terms of corpus frequency\n",
    "- Event ID = 0 means not a labeled event"
   ]
  },
  {
   "cell_type": "code",
   "execution_count": 306,
   "metadata": {},
   "outputs": [
    {
     "data": {
      "text/html": [
       "<div>\n",
       "<style scoped>\n",
       "    .dataframe tbody tr th:only-of-type {\n",
       "        vertical-align: middle;\n",
       "    }\n",
       "\n",
       "    .dataframe tbody tr th {\n",
       "        vertical-align: top;\n",
       "    }\n",
       "\n",
       "    .dataframe thead th {\n",
       "        text-align: right;\n",
       "    }\n",
       "</style>\n",
       "<table border=\"1\" class=\"dataframe\">\n",
       "  <thead>\n",
       "    <tr style=\"text-align: right;\">\n",
       "      <th></th>\n",
       "      <th>Event ID: 0</th>\n",
       "      <th>Event ID: 1</th>\n",
       "      <th>Event ID: 2</th>\n",
       "      <th>Event ID: 3</th>\n",
       "      <th>Event ID: 4</th>\n",
       "      <th>Event ID: 5</th>\n",
       "      <th>Event ID: 6</th>\n",
       "      <th>Event ID: 7</th>\n",
       "      <th>Event ID: 8</th>\n",
       "      <th>Event ID: 9</th>\n",
       "      <th>Event ID: 10</th>\n",
       "      <th>Event ID: 11</th>\n",
       "      <th>Event ID: 12</th>\n",
       "      <th>Event ID: 13</th>\n",
       "      <th>Event ID: 14</th>\n",
       "      <th>Event ID: 15</th>\n",
       "    </tr>\n",
       "  </thead>\n",
       "  <tbody>\n",
       "    <tr>\n",
       "      <th>0</th>\n",
       "      <td>(salmonella, 638)</td>\n",
       "      <td>(food, 240)</td>\n",
       "      <td>(frito_lie, 26)</td>\n",
       "      <td>(food, 18)</td>\n",
       "      <td>(aflatoxin, 19)</td>\n",
       "      <td>(chicken_nugget, 95)</td>\n",
       "      <td>(gorgonzola_dop, 13)</td>\n",
       "      <td>(general_mill, 1297)</td>\n",
       "      <td>(recall, 122)</td>\n",
       "      <td>(nut_butter, 66)</td>\n",
       "      <td>(recall, 33)</td>\n",
       "      <td>(crisp_delicious, 10)</td>\n",
       "      <td>(feta, 8)</td>\n",
       "      <td>(ground_turkey, 4)</td>\n",
       "      <td>(honey_smack, 5)</td>\n",
       "      <td>(brie_cheese, 7)</td>\n",
       "    </tr>\n",
       "    <tr>\n",
       "      <th>1</th>\n",
       "      <td>(food, 185)</td>\n",
       "      <td>(recall, 219)</td>\n",
       "      <td>(recall, 25)</td>\n",
       "      <td>(allergy_alert, 16)</td>\n",
       "      <td>(peanut_butter, 12)</td>\n",
       "      <td>(tyson, 94)</td>\n",
       "      <td>(presenza_di, 11)</td>\n",
       "      <td>(recall, 1187)</td>\n",
       "      <td>(baby_spinach, 96)</td>\n",
       "      <td>(possible_listeria, 44)</td>\n",
       "      <td>(chicken_nugget, 30)</td>\n",
       "      <td>(recall, 10)</td>\n",
       "      <td>(recall, 8)</td>\n",
       "      <td>(jennie, 4)</td>\n",
       "      <td>(kellogg, 5)</td>\n",
       "      <td>(england, 7)</td>\n",
       "    </tr>\n",
       "    <tr>\n",
       "      <th>2</th>\n",
       "      <td>(outbreak, 119)</td>\n",
       "      <td>(dog, 163)</td>\n",
       "      <td>(stacy_simply, 23)</td>\n",
       "      <td>(issue_santa, 16)</td>\n",
       "      <td>(butter, 11)</td>\n",
       "      <td>(food, 93)</td>\n",
       "      <td>(listeria, 10)</td>\n",
       "      <td>(flour, 1105)</td>\n",
       "      <td>(food, 76)</td>\n",
       "      <td>(oskri_recall, 41)</td>\n",
       "      <td>(food, 27)</td>\n",
       "      <td>(brand, 8)</td>\n",
       "      <td>(contamination, 7)</td>\n",
       "      <td>(recall_pound, 4)</td>\n",
       "      <td>(cereal, 4)</td>\n",
       "      <td>(recall, 7)</td>\n",
       "    </tr>\n",
       "    <tr>\n",
       "      <th>3</th>\n",
       "      <td>(chicken, 110)</td>\n",
       "      <td>(hill_pet, 64)</td>\n",
       "      <td>(naked_pita, 19)</td>\n",
       "      <td>(rosa, 16)</td>\n",
       "      <td>(kenya, 9)</td>\n",
       "      <td>(recall, 81)</td>\n",
       "      <td>(dolce, 9)</td>\n",
       "      <td>(gold_medal, 525)</td>\n",
       "      <td>(salmonella, 59)</td>\n",
       "      <td>(recall, 31)</td>\n",
       "      <td>(perdue, 27)</td>\n",
       "      <td>(nugget, 8)</td>\n",
       "      <td>(cheese, 6)</td>\n",
       "      <td>(outbreak, 3)</td>\n",
       "      <td>(outbreak, 3)</td>\n",
       "      <td>(warning, 7)</td>\n",
       "    </tr>\n",
       "    <tr>\n",
       "      <th>4</th>\n",
       "      <td>(recall, 101)</td>\n",
       "      <td>(pet, 45)</td>\n",
       "      <td>(chip, 18)</td>\n",
       "      <td>(walnut_milk, 16)</td>\n",
       "      <td>(nuteez_peanut, 8)</td>\n",
       "      <td>(recall_pound, 48)</td>\n",
       "      <td>(marchi, 9)</td>\n",
       "      <td>(salmonella_concern, 503)</td>\n",
       "      <td>(possible_salmonella, 53)</td>\n",
       "      <td>(listeria, 22)</td>\n",
       "      <td>(fun_shape, 12)</td>\n",
       "      <td>(salmonella, 8)</td>\n",
       "      <td>(garlic, 4)</td>\n",
       "      <td>(salmonella, 3)</td>\n",
       "      <td>(recall, 3)</td>\n",
       "      <td>(listeria_monocytogene, 5)</td>\n",
       "    </tr>\n",
       "    <tr>\n",
       "      <th>5</th>\n",
       "      <td>(eat, 83)</td>\n",
       "      <td>(vitamin, 38)</td>\n",
       "      <td>(undeclared_milk, 18)</td>\n",
       "      <td>(market_undeclared, 15)</td>\n",
       "      <td>(contaminate_peanut, 7)</td>\n",
       "      <td>(contamination, 27)</td>\n",
       "      <td>(lotti_di, 8)</td>\n",
       "      <td>(bag_gold, 460)</td>\n",
       "      <td>(contamination, 49)</td>\n",
       "      <td>(thrive_market, 22)</td>\n",
       "      <td>(chicken_breast, 11)</td>\n",
       "      <td>(chicken_breast, 7)</td>\n",
       "      <td>(health, 4)</td>\n",
       "      <td>(widen, 3)</td>\n",
       "      <td>(salmonella, 3)</td>\n",
       "      <td>(affect, 3)</td>\n",
       "    </tr>\n",
       "    <tr>\n",
       "      <th>6</th>\n",
       "      <td>(cookie_dough, 80)</td>\n",
       "      <td>(nutrition, 33)</td>\n",
       "      <td>(allergy_alert, 15)</td>\n",
       "      <td>(egg_hipster, 11)</td>\n",
       "      <td>(find, 7)</td>\n",
       "      <td>(possible_rubber, 25)</td>\n",
       "      <td>(lotti, 7)</td>\n",
       "      <td>(medal_unbleached, 389)</td>\n",
       "      <td>(spinach, 34)</td>\n",
       "      <td>(butter, 18)</td>\n",
       "      <td>(undeclared_allergen, 10)</td>\n",
       "      <td>(chicken_nugget, 5)</td>\n",
       "      <td>(herb, 4)</td>\n",
       "      <td>(washington_post, 2)</td>\n",
       "      <td>(product, 2)</td>\n",
       "      <td>(batch, 2)</td>\n",
       "    </tr>\n",
       "    <tr>\n",
       "      <th>7</th>\n",
       "      <td>(eat_raw, 67)</td>\n",
       "      <td>(hill_dog, 30)</td>\n",
       "      <td>(issue_voluntary, 15)</td>\n",
       "      <td>(chipster, 5)</td>\n",
       "      <td>(food, 7)</td>\n",
       "      <td>(recall_alert, 25)</td>\n",
       "      <td>(il, 6)</td>\n",
       "      <td>(salmonella, 378)</td>\n",
       "      <td>(state, 33)</td>\n",
       "      <td>(contamination, 12)</td>\n",
       "      <td>(undeclared_milk, 10)</td>\n",
       "      <td>(food, 5)</td>\n",
       "      <td>(maleny, 4)</td>\n",
       "      <td>(cgan, 1)</td>\n",
       "      <td>(state, 2)</td>\n",
       "      <td>(find, 2)</td>\n",
       "    </tr>\n",
       "    <tr>\n",
       "      <th>8</th>\n",
       "      <td>(egg, 63)</td>\n",
       "      <td>(pet_owner, 28)</td>\n",
       "      <td>(pita_chip, 14)</td>\n",
       "      <td>(egg, 5)</td>\n",
       "      <td>(brand, 6)</td>\n",
       "      <td>(nugget, 23)</td>\n",
       "      <td>(richiamato, 6)</td>\n",
       "      <td>(salmonella_fear, 314)</td>\n",
       "      <td>(product, 24)</td>\n",
       "      <td>(recall_nut, 10)</td>\n",
       "      <td>(allergen, 8)</td>\n",
       "      <td>(canada, 3)</td>\n",
       "      <td>(advice, 3)</td>\n",
       "      <td>(icc, 1)</td>\n",
       "      <td>(accord, 1)</td>\n",
       "      <td>(listeria, 2)</td>\n",
       "    </tr>\n",
       "    <tr>\n",
       "      <th>9</th>\n",
       "      <td>(listeria, 58)</td>\n",
       "      <td>(voluntary_recall, 23)</td>\n",
       "      <td>(small_number, 13)</td>\n",
       "      <td>(chipster_cookie, 4)</td>\n",
       "      <td>(government, 5)</td>\n",
       "      <td>(rubber, 20)</td>\n",
       "      <td>(di, 5)</td>\n",
       "      <td>(unbleached_flour, 312)</td>\n",
       "      <td>(product_contain, 22)</td>\n",
       "      <td>(fruit_nut, 9)</td>\n",
       "      <td>(allergy, 6)</td>\n",
       "      <td>(canadian, 3)</td>\n",
       "      <td>(alert, 3)</td>\n",
       "      <td>(salmonella_concern, 1)</td>\n",
       "      <td>(amid_salmonella, 1)</td>\n",
       "      <td>(money, 2)</td>\n",
       "    </tr>\n",
       "  </tbody>\n",
       "</table>\n",
       "</div>"
      ],
      "text/plain": [
       "          Event ID: 0             Event ID: 1            Event ID: 2  \\\n",
       "0   (salmonella, 638)             (food, 240)        (frito_lie, 26)   \n",
       "1         (food, 185)           (recall, 219)           (recall, 25)   \n",
       "2     (outbreak, 119)              (dog, 163)     (stacy_simply, 23)   \n",
       "3      (chicken, 110)          (hill_pet, 64)       (naked_pita, 19)   \n",
       "4       (recall, 101)               (pet, 45)             (chip, 18)   \n",
       "5           (eat, 83)           (vitamin, 38)  (undeclared_milk, 18)   \n",
       "6  (cookie_dough, 80)         (nutrition, 33)    (allergy_alert, 15)   \n",
       "7       (eat_raw, 67)          (hill_dog, 30)  (issue_voluntary, 15)   \n",
       "8           (egg, 63)         (pet_owner, 28)        (pita_chip, 14)   \n",
       "9      (listeria, 58)  (voluntary_recall, 23)     (small_number, 13)   \n",
       "\n",
       "               Event ID: 3              Event ID: 4            Event ID: 5  \\\n",
       "0               (food, 18)          (aflatoxin, 19)   (chicken_nugget, 95)   \n",
       "1      (allergy_alert, 16)      (peanut_butter, 12)            (tyson, 94)   \n",
       "2        (issue_santa, 16)             (butter, 11)             (food, 93)   \n",
       "3               (rosa, 16)               (kenya, 9)           (recall, 81)   \n",
       "4        (walnut_milk, 16)       (nuteez_peanut, 8)     (recall_pound, 48)   \n",
       "5  (market_undeclared, 15)  (contaminate_peanut, 7)    (contamination, 27)   \n",
       "6        (egg_hipster, 11)                (find, 7)  (possible_rubber, 25)   \n",
       "7            (chipster, 5)                (food, 7)     (recall_alert, 25)   \n",
       "8                 (egg, 5)               (brand, 6)           (nugget, 23)   \n",
       "9     (chipster_cookie, 4)          (government, 5)           (rubber, 20)   \n",
       "\n",
       "            Event ID: 6                Event ID: 7                Event ID: 8  \\\n",
       "0  (gorgonzola_dop, 13)       (general_mill, 1297)              (recall, 122)   \n",
       "1     (presenza_di, 11)             (recall, 1187)         (baby_spinach, 96)   \n",
       "2        (listeria, 10)              (flour, 1105)                 (food, 76)   \n",
       "3            (dolce, 9)          (gold_medal, 525)           (salmonella, 59)   \n",
       "4           (marchi, 9)  (salmonella_concern, 503)  (possible_salmonella, 53)   \n",
       "5         (lotti_di, 8)            (bag_gold, 460)        (contamination, 49)   \n",
       "6            (lotti, 7)    (medal_unbleached, 389)              (spinach, 34)   \n",
       "7               (il, 6)          (salmonella, 378)                (state, 33)   \n",
       "8       (richiamato, 6)     (salmonella_fear, 314)              (product, 24)   \n",
       "9               (di, 5)    (unbleached_flour, 312)      (product_contain, 22)   \n",
       "\n",
       "               Event ID: 9               Event ID: 10           Event ID: 11  \\\n",
       "0         (nut_butter, 66)               (recall, 33)  (crisp_delicious, 10)   \n",
       "1  (possible_listeria, 44)       (chicken_nugget, 30)           (recall, 10)   \n",
       "2       (oskri_recall, 41)                 (food, 27)             (brand, 8)   \n",
       "3             (recall, 31)               (perdue, 27)            (nugget, 8)   \n",
       "4           (listeria, 22)            (fun_shape, 12)        (salmonella, 8)   \n",
       "5      (thrive_market, 22)       (chicken_breast, 11)    (chicken_breast, 7)   \n",
       "6             (butter, 18)  (undeclared_allergen, 10)    (chicken_nugget, 5)   \n",
       "7      (contamination, 12)      (undeclared_milk, 10)              (food, 5)   \n",
       "8         (recall_nut, 10)              (allergen, 8)            (canada, 3)   \n",
       "9           (fruit_nut, 9)               (allergy, 6)          (canadian, 3)   \n",
       "\n",
       "         Event ID: 12             Event ID: 13          Event ID: 14  \\\n",
       "0           (feta, 8)       (ground_turkey, 4)      (honey_smack, 5)   \n",
       "1         (recall, 8)              (jennie, 4)          (kellogg, 5)   \n",
       "2  (contamination, 7)        (recall_pound, 4)           (cereal, 4)   \n",
       "3         (cheese, 6)            (outbreak, 3)         (outbreak, 3)   \n",
       "4         (garlic, 4)          (salmonella, 3)           (recall, 3)   \n",
       "5         (health, 4)               (widen, 3)       (salmonella, 3)   \n",
       "6           (herb, 4)     (washington_post, 2)          (product, 2)   \n",
       "7         (maleny, 4)                (cgan, 1)            (state, 2)   \n",
       "8         (advice, 3)                 (icc, 1)           (accord, 1)   \n",
       "9          (alert, 3)  (salmonella_concern, 1)  (amid_salmonella, 1)   \n",
       "\n",
       "                 Event ID: 15  \n",
       "0            (brie_cheese, 7)  \n",
       "1                (england, 7)  \n",
       "2                 (recall, 7)  \n",
       "3                (warning, 7)  \n",
       "4  (listeria_monocytogene, 5)  \n",
       "5                 (affect, 3)  \n",
       "6                  (batch, 2)  \n",
       "7                   (find, 2)  \n",
       "8               (listeria, 2)  \n",
       "9                  (money, 2)  "
      ]
     },
     "execution_count": 306,
     "metadata": {},
     "output_type": "execute_result"
    }
   ],
   "source": [
    "all_events_top_words = pd.DataFrame(all_events_top_words)\n",
    "all_events_top_words"
   ]
  },
  {
   "cell_type": "markdown",
   "metadata": {},
   "source": [
    "## Hashtags"
   ]
  },
  {
   "cell_type": "code",
   "execution_count": 266,
   "metadata": {},
   "outputs": [],
   "source": [
    "y_1_tags = [xx for x in df_train_merge[df_train_merge['Event ID'] >= 1]['hashtags'] for xx in x if x ]\n",
    "y_0_tags = [xx for x in df_train_merge[df_train_merge['Event ID'] == 0]['hashtags'] for xx in x if x ]"
   ]
  },
  {
   "cell_type": "code",
   "execution_count": 330,
   "metadata": {},
   "outputs": [
    {
     "data": {
      "text/plain": [
       "Salmonella       19\n",
       "ChadFact         12\n",
       "foodfraud         9\n",
       "CDC               9\n",
       "OneHealthKIPM     8\n",
       "food              8\n",
       "foodsafety        8\n",
       "FoodSafety        7\n",
       "Listeria          6\n",
       "salmonella        5\n",
       "aflatoxin         5\n",
       "Publix            5\n",
       "Campylobacter     4\n",
       "fish              3\n",
       "recalls           3\n",
       "dtype: int64"
      ]
     },
     "execution_count": 330,
     "metadata": {},
     "output_type": "execute_result"
    }
   ],
   "source": [
    "pd.Series(y_0_tags).value_counts().head(15)"
   ]
  },
  {
   "cell_type": "code",
   "execution_count": 329,
   "metadata": {},
   "outputs": [
    {
     "data": {
      "text/plain": [
       "RECALL        52\n",
       "Recall        48\n",
       "Listeria      26\n",
       "salmonella    22\n",
       "recall        22\n",
       "SmartNews     21\n",
       "foodsafety    17\n",
       "recalls       16\n",
       "Foodsafety    12\n",
       "Salmonella    11\n",
       "Walmart       10\n",
       "flour          9\n",
       "peaches        8\n",
       "FDA            8\n",
       "Flour          7\n",
       "dtype: int64"
      ]
     },
     "execution_count": 329,
     "metadata": {},
     "output_type": "execute_result"
    }
   ],
   "source": [
    "pd.Series(y_1_tags).value_counts().head(15)"
   ]
  },
  {
   "cell_type": "markdown",
   "metadata": {},
   "source": [
    "## Mentions"
   ]
  },
  {
   "cell_type": "code",
   "execution_count": 269,
   "metadata": {},
   "outputs": [],
   "source": [
    "y_1_mentions = [xx for x in df_train_merge[df_train_merge['Event ID'] >= 1]['mentions'] for xx in x if x ]\n",
    "y_0_mentions = [xx for x in df_train_merge[df_train_merge['Event ID'] == 0]['mentions'] for xx in x if x ]"
   ]
  },
  {
   "cell_type": "code",
   "execution_count": 339,
   "metadata": {},
   "outputs": [
    {
     "data": {
      "text/plain": [
       "uk_rants           10\n",
       "LivingSafely        6\n",
       "HumasBKIPM          5\n",
       "destinyangel5       5\n",
       "AVMAvets            4\n",
       "realDonaldTrump     4\n",
       "GorgeousVegan       4\n",
       "BKIPMBaubau         4\n",
       "CNN                 4\n",
       "joeschwarcz         4\n",
       "Veggiefact          4\n",
       "foodsafetynews      4\n",
       "rinajanwar2201      4\n",
       "KEBS_ke             3\n",
       "DavidJNeal          3\n",
       "dtype: int64"
      ]
     },
     "execution_count": 339,
     "metadata": {},
     "output_type": "execute_result"
    }
   ],
   "source": [
    "pd.Series(y_0_mentions).value_counts().head(15)"
   ]
  },
  {
   "cell_type": "code",
   "execution_count": 340,
   "metadata": {},
   "outputs": [
    {
     "data": {
      "text/plain": [
       "googlenews         16\n",
       "USATODAY           14\n",
       "WebMD              11\n",
       "CNN                10\n",
       "wusa9               8\n",
       "ABC7                8\n",
       "NBCNews             8\n",
       "ConsumerReports     8\n",
       "abc13houston        7\n",
       "ABC7Chicago         7\n",
       "wfaa                6\n",
       "foodsafetynews      6\n",
       "SFGate              6\n",
       "UPI                 6\n",
       "FDArecalls          5\n",
       "dtype: int64"
      ]
     },
     "execution_count": 340,
     "metadata": {},
     "output_type": "execute_result"
    }
   ],
   "source": [
    "pd.Series(y_1_mentions).value_counts().head(15)"
   ]
  },
  {
   "cell_type": "markdown",
   "metadata": {},
   "source": [
    "## Length of Text"
   ]
  },
  {
   "cell_type": "code",
   "execution_count": 309,
   "metadata": {},
   "outputs": [],
   "source": [
    "y_1_len = df_train[df_train['Event ID'] >= 1]['ab_clean'].apply(len)\n",
    "y_0_len = df_train[df_train['Event ID'] == 0]['ab_clean'].apply(len)\n",
    "y_1_len_5 = y_1_len < 5\n",
    "y_0_len_5 = y_0_len < 5"
   ]
  },
  {
   "cell_type": "code",
   "execution_count": 279,
   "metadata": {},
   "outputs": [
    {
     "data": {
      "text/plain": [
       "<matplotlib.axes._subplots.AxesSubplot at 0x13ab1eba8>"
      ]
     },
     "execution_count": 279,
     "metadata": {},
     "output_type": "execute_result"
    },
    {
     "data": {
      "image/png": "[encoded data removed]",
      "text/plain": [
       "<Figure size 432x288 with 1 Axes>"
      ]
     },
     "metadata": {
      "needs_background": "light"
     },
     "output_type": "display_data"
    }
   ],
   "source": [
    "sns.distplot(y_1_len)"
   ]
  },
  {
   "cell_type": "code",
   "execution_count": 310,
   "metadata": {},
   "outputs": [
    {
     "data": {
      "text/plain": [
       "False    1117\n",
       "True      108\n",
       "Name: ab_clean, dtype: int64"
      ]
     },
     "execution_count": 310,
     "metadata": {},
     "output_type": "execute_result"
    }
   ],
   "source": [
    "y_0_len_5.value_counts().head(10)"
   ]
  },
  {
   "cell_type": "code",
   "execution_count": 280,
   "metadata": {},
   "outputs": [
    {
     "data": {
      "text/plain": [
       "<matplotlib.axes._subplots.AxesSubplot at 0x13da75ac8>"
      ]
     },
     "execution_count": 280,
     "metadata": {},
     "output_type": "execute_result"
    },
    {
     "data": {
      "image/png": "[encoded data removed]",
      "text/plain": [
       "<Figure size 432x288 with 1 Axes>"
      ]
     },
     "metadata": {
      "needs_background": "light"
     },
     "output_type": "display_data"
    }
   ],
   "source": [
    "sns.distplot(y_0_len)"
   ]
  },
  {
   "cell_type": "code",
   "execution_count": 311,
   "metadata": {},
   "outputs": [
    {
     "data": {
      "text/plain": [
       "False    2922\n",
       "True       36\n",
       "Name: ab_clean, dtype: int64"
      ]
     },
     "execution_count": 311,
     "metadata": {},
     "output_type": "execute_result"
    }
   ],
   "source": [
    "y_1_len_5.value_counts().head(10)"
   ]
  },
  {
   "cell_type": "markdown",
   "metadata": {},
   "source": [
    "## User Name"
   ]
  },
  {
   "cell_type": "code",
   "execution_count": 312,
   "metadata": {},
   "outputs": [],
   "source": [
    "y_1_usr = [xx for x in df_train_merge[df_train_merge['Event ID'] >= 1]['user_name'].apply(lambda x:x.split(' ')) for xx in x if len(xx) > 0]\n",
    "y_0_usr = [xx for x in df_train_merge[df_train_merge['Event ID'] == 0]['user_name'].apply(lambda x:x.split(' ')) for xx in x if len(xx) > 0]"
   ]
  },
  {
   "cell_type": "code",
   "execution_count": 313,
   "metadata": {},
   "outputs": [
    {
     "data": {
      "text/plain": [
       "@EVKDailyMenu    43\n",
       "the              20\n",
       "Living           15\n",
       "Food             14\n",
       "Safely™          14\n",
       "David            13\n",
       "Chad             12\n",
       "HandWashBot      12\n",
       "News             10\n",
       "of                8\n",
       "dtype: int64"
      ]
     },
     "execution_count": 313,
     "metadata": {},
     "output_type": "execute_result"
    }
   ],
   "source": [
    "pd.Series(y_0_usr).value_counts().head(10)"
   ]
  },
  {
   "cell_type": "code",
   "execution_count": 314,
   "metadata": {},
   "outputs": [
    {
     "data": {
      "text/plain": [
       "News      228\n",
       "The        41\n",
       "Health     37\n",
       "FOX        26\n",
       "&          21\n",
       "Food       21\n",
       "Report     19\n",
       "NBC        17\n",
       "11         16\n",
       "ABC        15\n",
       "dtype: int64"
      ]
     },
     "execution_count": 314,
     "metadata": {},
     "output_type": "execute_result"
    }
   ],
   "source": [
    "pd.Series(y_1_usr).value_counts().head(10)"
   ]
  },
  {
   "cell_type": "markdown",
   "metadata": {},
   "source": [
    "## Media"
   ]
  },
  {
   "cell_type": "code",
   "execution_count": 296,
   "metadata": {},
   "outputs": [],
   "source": [
    "y_1_media = df_train_merge[df_train_merge['Event ID'] >= 1]['medias'].apply(lambda x: len(x) if x else 0)\n",
    "y_0_media = df_train_merge[df_train_merge['Event ID'] == 0]['medias'].apply(lambda x: len(x) if x else 0)"
   ]
  },
  {
   "cell_type": "code",
   "execution_count": 297,
   "metadata": {},
   "outputs": [
    {
     "data": {
      "text/plain": [
       "0    1172\n",
       "1      53\n",
       "Name: medias, dtype: int64"
      ]
     },
     "execution_count": 297,
     "metadata": {},
     "output_type": "execute_result"
    }
   ],
   "source": [
    "pd.Series(y_0_media).value_counts().head(10)"
   ]
  },
  {
   "cell_type": "code",
   "execution_count": 298,
   "metadata": {},
   "outputs": [
    {
     "data": {
      "text/plain": [
       "0    2425\n",
       "1     533\n",
       "Name: medias, dtype: int64"
      ]
     },
     "execution_count": 298,
     "metadata": {},
     "output_type": "execute_result"
    }
   ],
   "source": [
    "pd.Series(y_1_media).value_counts().head(10)"
   ]
  },
  {
   "cell_type": "markdown",
   "metadata": {
    "heading_collapsed": true
   },
   "source": [
    "# Try: Topic Modelling on train data"
   ]
  },
  {
   "cell_type": "markdown",
   "metadata": {
    "hidden": true
   },
   "source": [
    "useful reference: https://www.machinelearningplus.com/nlp/topic-modeling-gensim-python/"
   ]
  },
  {
   "cell_type": "markdown",
   "metadata": {
    "hidden": true
   },
   "source": [
    "Only perform LDA on events >1"
   ]
  },
  {
   "cell_type": "code",
   "execution_count": 192,
   "metadata": {
    "hidden": true
   },
   "outputs": [],
   "source": [
    "df_train_subset = df_train[df_train['Event ID'] >= 1]"
   ]
  },
  {
   "cell_type": "code",
   "execution_count": 193,
   "metadata": {
    "hidden": true
   },
   "outputs": [
    {
     "name": "stdout",
     "output_type": "stream",
     "text": [
      "Dictionary(2415 unique tokens: ['dog', 'food', 'grain_free', 'late_warning', 'new']...)\n"
     ]
    }
   ],
   "source": [
    "dictionary = corpora.Dictionary(df_train_subset['ab_clean_ph'])\n",
    "print(dictionary)"
   ]
  },
  {
   "cell_type": "code",
   "execution_count": 194,
   "metadata": {
    "hidden": true
   },
   "outputs": [
    {
     "name": "stdout",
     "output_type": "stream",
     "text": [
      "Dictionary(938 unique tokens: ['dog', 'food', 'grain_free', 'late_warning', 'new']...)\n"
     ]
    }
   ],
   "source": [
    "dictionary.filter_extremes(no_below = 3, no_above = 0.5)\n",
    "print(dictionary)"
   ]
  },
  {
   "cell_type": "code",
   "execution_count": 195,
   "metadata": {
    "hidden": true
   },
   "outputs": [],
   "source": [
    "words = [k[1] for k in dictionary.iteritems()]"
   ]
  },
  {
   "cell_type": "code",
   "execution_count": 196,
   "metadata": {
    "hidden": true
   },
   "outputs": [
    {
     "data": {
      "text/plain": [
       "[(0, 1), (1, 2), (2, 1), (3, 1), (4, 1), (5, 1)]"
      ]
     },
     "execution_count": 196,
     "metadata": {},
     "output_type": "execute_result"
    }
   ],
   "source": [
    "bow_corpus = [dictionary.doc2bow(text) for text in df_train_subset['ab_clean_ph']]\n",
    "bow_corpus[0]"
   ]
  },
  {
   "cell_type": "code",
   "execution_count": 197,
   "metadata": {
    "hidden": true
   },
   "outputs": [
    {
     "data": {
      "text/plain": [
       "[(0, 0.2555732744587509),\n",
       " (1, 0.3042114862374455),\n",
       " (2, 0.48560482406575156),\n",
       " (3, 0.48560482406575156),\n",
       " (4, 0.42448742973688747),\n",
       " (5, 0.4362613949310077)]"
      ]
     },
     "execution_count": 197,
     "metadata": {},
     "output_type": "execute_result"
    }
   ],
   "source": [
    "tfidf = TfidfModel(bow_corpus)\n",
    "tfidf_corpus = tfidf[bow_corpus]\n",
    "tfidf_corpus[0]"
   ]
  },
  {
   "cell_type": "code",
   "execution_count": 234,
   "metadata": {
    "hidden": true
   },
   "outputs": [],
   "source": [
    "no_topics = 16"
   ]
  },
  {
   "cell_type": "code",
   "execution_count": 235,
   "metadata": {
    "hidden": true
   },
   "outputs": [
    {
     "name": "stdout",
     "output_type": "stream",
     "text": [
      "CPU times: user 1min 41s, sys: 116 ms, total: 1min 41s\n",
      "Wall time: 1min 41s\n"
     ]
    }
   ],
   "source": [
    "%%time\n",
    "lda_bow = LdaModel(bow_corpus, num_topics = no_topics, id2word = dictionary, passes = 100)\n",
    "lda_tfidf = LdaModel(tfidf_corpus, num_topics = no_topics, id2word = dictionary, passes = 100)"
   ]
  },
  {
   "cell_type": "code",
   "execution_count": 236,
   "metadata": {
    "hidden": true
   },
   "outputs": [
    {
     "name": "stdout",
     "output_type": "stream",
     "text": [
      "Topic: 0 0.087*\"salmonella_concern\" + 0.067*\"flour\" + 0.065*\"kilogram_bag\" + 0.064*\"good_date\" + 0.061*\"april_upc\" + 0.061*\"code_customer\" + 0.060*\"discard_product\" + 0.054*\"company_discover\" + 0.049*\"salmonella_sampling\" + 0.042*\"general_mill\"\n",
      "Topic: 1 0.229*\"food\" + 0.131*\"dog\" + 0.047*\"hill_pet\" + 0.036*\"pet\" + 0.028*\"vitamin\" + 0.024*\"nutrition\" + 0.022*\"hill_dog\" + 0.021*\"pet_owner\" + 0.018*\"high_level\" + 0.016*\"dangerous_level\"\n",
      "Topic: 2 0.124*\"bag_gold\" + 0.118*\"general_mill\" + 0.097*\"medal_unbleached\" + 0.095*\"flour\" + 0.057*\"salmonella_concern\" + 0.047*\"fruit\" + 0.039*\"voluntarily_recall\" + 0.031*\"recall_pound\" + 0.028*\"medal_flour\" + 0.025*\"walmart_aldi\"\n",
      "Topic: 3 0.069*\"general_mill\" + 0.068*\"flour\" + 0.056*\"fear\" + 0.044*\"salmonella_contamination\" + 0.038*\"issue_abundance\" + 0.036*\"care_general\" + 0.036*\"mill_receive\" + 0.035*\"direct_consumer\" + 0.032*\"illness_relate\" + 0.032*\"report_confirm\"\n",
      "Topic: 4 0.091*\"unbleached_flour\" + 0.087*\"general_mill\" + 0.084*\"gold_medal\" + 0.045*\"pound_bag\" + 0.043*\"product\" + 0.042*\"salmonella\" + 0.039*\"april\" + 0.039*\"good_date\" + 0.038*\"contaminate\" + 0.031*\"flour\"\n",
      "Topic: 5 0.224*\"flour\" + 0.206*\"general_mill\" + 0.089*\"gold_medal\" + 0.082*\"bag\" + 0.081*\"salmonella_concern\" + 0.078*\"salmonella_fear\" + 0.041*\"salmonella\" + 0.016*\"recall_alert\" + 0.014*\"recall_pound\" + 0.010*\"news\"\n",
      "Topic: 6 0.072*\"brand\" + 0.058*\"mill\" + 0.046*\"peanut_butter\" + 0.045*\"flour\" + 0.039*\"prompt_general\" + 0.037*\"salmonella_fear\" + 0.036*\"aflatoxin\" + 0.031*\"know\" + 0.027*\"find\" + 0.026*\"butter\"\n",
      "Topic: 7 0.256*\"peach_nectarine\" + 0.155*\"possible_listeria\" + 0.131*\"plum\" + 0.112*\"contamination\" + 0.090*\"sell_walmart\" + 0.074*\"store_listeria\" + 0.031*\"oskri_recall\" + 0.025*\"recall_alert\" + 0.022*\"state\" + 0.009*\"product_contain\"\n",
      "Topic: 8 0.143*\"listeria\" + 0.076*\"listeria_concern\" + 0.066*\"nectarine\" + 0.065*\"peach_plum\" + 0.051*\"fresh_peach\" + 0.049*\"fruit_sell\" + 0.047*\"walmart_costco\" + 0.042*\"aldi\" + 0.036*\"nut_butter\" + 0.034*\"fda\"\n",
      "Topic: 9 0.152*\"contamination\" + 0.102*\"possible_salmonella\" + 0.079*\"food\" + 0.071*\"store\" + 0.070*\"baby_spinach\" + 0.053*\"product\" + 0.022*\"feta\" + 0.022*\"fox_news\" + 0.018*\"market\" + 0.017*\"label\"\n",
      "Topic: 10 0.087*\"food\" + 0.065*\"perdue\" + 0.053*\"chicken_nugget\" + 0.050*\"nugget\" + 0.040*\"news\" + 0.035*\"smartnew\" + 0.034*\"chicken_breast\" + 0.027*\"food_safety\" + 0.022*\"fun_shape\" + 0.022*\"eat\"\n",
      "Topic: 11 0.091*\"food\" + 0.060*\"plum_sell\" + 0.054*\"sell\" + 0.041*\"new_york\" + 0.041*\"state\" + 0.038*\"fda\" + 0.036*\"recall_alert\" + 0.033*\"drug_administration\" + 0.032*\"salmonella\" + 0.030*\"include\"\n",
      "Topic: 12 0.104*\"salmonella\" + 0.099*\"issue\" + 0.080*\"risk\" + 0.070*\"general_mill\" + 0.068*\"potential\" + 0.046*\"unbleached_flour\" + 0.020*\"find\" + 0.020*\"publish\" + 0.018*\"baby_spinach\" + 0.017*\"cbs\"\n",
      "Topic: 13 0.125*\"food\" + 0.106*\"chicken_nugget\" + 0.062*\"tyson\" + 0.040*\"foodsafety\" + 0.034*\"health\" + 0.033*\"recall_pound\" + 0.032*\"contamination\" + 0.025*\"allergy_alert\" + 0.024*\"undeclared_milk\" + 0.022*\"costco_walmart\"\n",
      "Topic: 14 0.075*\"costco\" + 0.034*\"salmonella\" + 0.031*\"sell_nationwide\" + 0.024*\"de\" + 0.020*\"company\" + 0.017*\"bacteria\" + 0.016*\"contaminate\" + 0.016*\"outbreak\" + 0.014*\"inc\" + 0.013*\"en\"\n",
      "Topic: 15 0.182*\"recall_alert\" + 0.086*\"general_mill\" + 0.070*\"gold_medal\" + 0.067*\"nationwide\" + 0.062*\"national_recall\" + 0.061*\"announce_voluntary\" + 0.052*\"pound_bag\" + 0.042*\"unbleached_flour\" + 0.025*\"concern\" + 0.016*\"flour_potential\"\n"
     ]
    }
   ],
   "source": [
    "for i in range(no_topics):\n",
    "    print('Topic:',i,lda_bow.print_topic(i, 10))"
   ]
  },
  {
   "cell_type": "code",
   "execution_count": 237,
   "metadata": {
    "hidden": true
   },
   "outputs": [
    {
     "name": "stdout",
     "output_type": "stream",
     "text": [
      "Topic: 0 0.056*\"store\" + 0.054*\"thrive_market\" + 0.036*\"hill_dog\" + 0.026*\"listeria\" + 0.026*\"prompt\" + 0.026*\"recall_nut\" + 0.025*\"butter\" + 0.023*\"food\" + 0.020*\"certain\" + 0.019*\"recallalert\"\n",
      "Topic: 1 0.112*\"salmonella_fear\" + 0.111*\"gold_medal\" + 0.094*\"flour\" + 0.085*\"general_mill\" + 0.085*\"bag\" + 0.063*\"salmonella_concern\" + 0.052*\"plum_nectarine\" + 0.043*\"unbleached_flour\" + 0.036*\"sell_nationwide\" + 0.034*\"salmonella\"\n",
      "Topic: 2 0.062*\"dog\" + 0.059*\"baby_spinach\" + 0.053*\"food\" + 0.047*\"find\" + 0.033*\"product\" + 0.031*\"vitamin\" + 0.028*\"share\" + 0.027*\"read\" + 0.026*\"salmonella\" + 0.023*\"dangerous_level\"\n",
      "Topic: 3 0.128*\"listeria\" + 0.088*\"peach_plum\" + 0.081*\"fruit_sell\" + 0.080*\"walmart_costco\" + 0.075*\"fresh_peach\" + 0.075*\"aldi\" + 0.061*\"nectarine\" + 0.048*\"nectarine_plum\" + 0.028*\"chile_recall\" + 0.027*\"fda\"\n",
      "Topic: 4 0.042*\"taint\" + 0.036*\"voluntary_national\" + 0.030*\"distribute\" + 0.029*\"announce_today\" + 0.029*\"se\" + 0.028*\"face\" + 0.026*\"come\" + 0.024*\"late\" + 0.022*\"discover_sample\" + 0.021*\"use\"\n",
      "Topic: 5 0.063*\"voluntarily_recall\" + 0.050*\"medal_unbleached\" + 0.048*\"salmonella_concern\" + 0.047*\"bag_gold\" + 0.033*\"kilogram_bag\" + 0.032*\"code_customer\" + 0.032*\"discard_product\" + 0.031*\"flour\" + 0.030*\"april_upc\" + 0.030*\"salmonella_sampling\"\n",
      "Topic: 6 0.104*\"chicken_nugget\" + 0.074*\"food\" + 0.065*\"tyson\" + 0.045*\"perdue\" + 0.024*\"recall_pound\" + 0.022*\"undeclared_milk\" + 0.019*\"california\" + 0.018*\"fun_shape\" + 0.017*\"prompt_perdue\" + 0.016*\"allergen\"\n",
      "Topic: 7 0.161*\"peach_nectarine\" + 0.119*\"possible_listeria\" + 0.108*\"plum\" + 0.096*\"contamination\" + 0.092*\"sell_walmart\" + 0.087*\"store_listeria\" + 0.046*\"nut_butter\" + 0.039*\"oskri_recall\" + 0.033*\"possible_salmonella\" + 0.023*\"state\"\n",
      "Topic: 8 0.065*\"spinach\" + 0.044*\"possible\" + 0.043*\"costco_aldi\" + 0.041*\"check_pantry\" + 0.028*\"bacteria\" + 0.027*\"food\" + 0.027*\"salmonella\" + 0.026*\"produce\" + 0.022*\"vulnerable\" + 0.021*\"allergy\"\n",
      "Topic: 9 0.060*\"jac_vandenberg\" + 0.050*\"pet\" + 0.047*\"inc\" + 0.046*\"fresh_nectarine\" + 0.039*\"alert\" + 0.037*\"food\" + 0.030*\"dog\" + 0.029*\"high_level\" + 0.028*\"undeclared_allergen\" + 0.025*\"vitamin_toxic\"\n",
      "Topic: 10 0.045*\"issue\" + 0.038*\"potential\" + 0.034*\"unbleached_flour\" + 0.030*\"salmonella\" + 0.026*\"fear\" + 0.025*\"general_mill\" + 0.025*\"salmonella_contamination\" + 0.020*\"gold_medal\" + 0.018*\"flour\" + 0.018*\"april\"\n",
      "Topic: 11 0.153*\"salmonella_concern\" + 0.099*\"flour\" + 0.096*\"general_mill\" + 0.084*\"bag_gold\" + 0.061*\"medal_unbleached\" + 0.053*\"recall_pound\" + 0.047*\"medal_flour\" + 0.042*\"recall_alert\" + 0.024*\"salmonella_fear\" + 0.022*\"bag\"\n",
      "Topic: 12 0.118*\"costco\" + 0.086*\"risk\" + 0.076*\"plum_sell\" + 0.072*\"potential_listeria\" + 0.062*\"fda\" + 0.062*\"nectarine\" + 0.044*\"listeria_contamination\" + 0.028*\"california_possible\" + 0.027*\"contamination\" + 0.027*\"prompt_fda\"\n",
      "Topic: 13 0.156*\"listeria_concern\" + 0.051*\"walmart\" + 0.049*\"peach\" + 0.048*\"fruit\" + 0.043*\"nationwide\" + 0.043*\"walmart_aldi\" + 0.034*\"sell\" + 0.029*\"recall_alert\" + 0.024*\"sell_ohio\" + 0.022*\"prompt_general\"\n",
      "Topic: 14 0.042*\"foodsafety\" + 0.042*\"check\" + 0.038*\"food_safety\" + 0.035*\"news\" + 0.035*\"problem_time\" + 0.033*\"possible_rubber\" + 0.030*\"fruit\" + 0.029*\"peanut_butter\" + 0.027*\"salmonella\" + 0.026*\"eat\"\n",
      "Topic: 15 0.082*\"national_recall\" + 0.067*\"announce_voluntary\" + 0.062*\"pound_bag\" + 0.031*\"gold_medal\" + 0.030*\"unbleached_flour\" + 0.024*\"co\" + 0.022*\"general_mill\" + 0.021*\"recall_alert\" + 0.021*\"nan\" + 0.018*\"potential_presence\"\n"
     ]
    }
   ],
   "source": [
    "for i in range(no_topics):\n",
    "    print('Topic:',i,lda_tfidf.print_topic(i, 10))"
   ]
  },
  {
   "cell_type": "markdown",
   "metadata": {},
   "source": [
    "# (Not used) Binary Classification Model on `Is_Food`"
   ]
  },
  {
   "cell_type": "markdown",
   "metadata": {},
   "source": [
    "**Generate TF-IDF matrix**"
   ]
  },
  {
   "cell_type": "markdown",
   "metadata": {},
   "source": [
    "- Without zero length abstracts"
   ]
  },
  {
   "cell_type": "code",
   "execution_count": 252,
   "metadata": {},
   "outputs": [],
   "source": [
    "df_train_clean = df_train[~df_train['zero_length']]\n",
    "df_test_clean = df_test[~df_test['zero_length']]"
   ]
  },
  {
   "cell_type": "code",
   "execution_count": 239,
   "metadata": {},
   "outputs": [],
   "source": [
    "vectorizer = TfidfVectorizer(min_df=3, sublinear_tf=True, max_df=0.5)\n",
    "corpus = list(df_train_clean['ab_clean_ph']) + list(df_test_clean['ab_clean_ph'])\n",
    "vectorizer.fit([' '.join(text) for text in corpus])\n",
    "X_train  = vectorizer.transform([' '.join(text) for text in df_train_clean['ab_clean_ph']])\n",
    "X_test = vectorizer.transform([' '.join(text) for text in df_test_clean['ab_clean_ph']])\n",
    "y_train = df_train_clean['Is_Food'].apply(lambda x: 1 if x else 0)"
   ]
  },
  {
   "cell_type": "code",
   "execution_count": 240,
   "metadata": {},
   "outputs": [],
   "source": [
    "x_columns = [word for word, index in sorted(vectorizer.vocabulary_.items(), key = lambda x:x[1])]"
   ]
  },
  {
   "cell_type": "markdown",
   "metadata": {},
   "source": [
    "**Fit Regularized Logistic Regression**"
   ]
  },
  {
   "cell_type": "code",
   "execution_count": 241,
   "metadata": {},
   "outputs": [
    {
     "data": {
      "text/plain": [
       "[0.001, 0.01, 0.1, 1, 10, 100, 1000]"
      ]
     },
     "execution_count": 241,
     "metadata": {},
     "output_type": "execute_result"
    }
   ],
   "source": [
    "param_test_lr =  {'C' :[10 ** x for x in list(range(-3,4,1))]}\n",
    "param_test_lr['C']"
   ]
  },
  {
   "cell_type": "code",
   "execution_count": 242,
   "metadata": {},
   "outputs": [],
   "source": [
    "gsearch_lr = GridSearchCV(estimator = LogisticRegression( \n",
    "        penalty='l2', \n",
    "        solver='liblinear',\n",
    "        max_iter=1000,\n",
    "        class_weight = 'balanced'\n",
    "    ),                   \n",
    "    param_grid = param_test_lr, \n",
    "        scoring = {'AUC': 'roc_auc'},\n",
    "        cv = 5,\n",
    "        n_jobs = 4, \n",
    "        refit = 'AUC')"
   ]
  },
  {
   "cell_type": "code",
   "execution_count": 243,
   "metadata": {},
   "outputs": [
    {
     "data": {
      "text/plain": [
       "GridSearchCV(cv=5, error_score='raise-deprecating',\n",
       "       estimator=LogisticRegression(C=1.0, class_weight='balanced', dual=False,\n",
       "          fit_intercept=True, intercept_scaling=1, max_iter=1000,\n",
       "          multi_class='warn', n_jobs=None, penalty='l2', random_state=None,\n",
       "          solver='liblinear', tol=0.0001, verbose=0, warm_start=False),\n",
       "       fit_params=None, iid='warn', n_jobs=4,\n",
       "       param_grid={'C': [0.001, 0.01, 0.1, 1, 10, 100, 1000]},\n",
       "       pre_dispatch='2*n_jobs', refit='AUC', return_train_score='warn',\n",
       "       scoring={'AUC': 'roc_auc'}, verbose=0)"
      ]
     },
     "execution_count": 243,
     "metadata": {},
     "output_type": "execute_result"
    }
   ],
   "source": [
    "gsearch_lr.fit(X_train, y_train)"
   ]
  },
  {
   "cell_type": "markdown",
   "metadata": {},
   "source": [
    "**Take a look at impact of penalty param**"
   ]
  },
  {
   "cell_type": "code",
   "execution_count": 244,
   "metadata": {},
   "outputs": [
    {
     "data": {
      "image/png": "[encoded data removed]",
      "text/plain": [
       "<Figure size 1368x504 with 1 Axes>"
      ]
     },
     "metadata": {
      "needs_background": "light"
     },
     "output_type": "display_data"
    }
   ],
   "source": [
    "plot_auc(gsearch_lr)"
   ]
  },
  {
   "cell_type": "markdown",
   "metadata": {},
   "source": [
    "**Refit the model with best C**"
   ]
  },
  {
   "cell_type": "code",
   "execution_count": 245,
   "metadata": {},
   "outputs": [
    {
     "name": "stdout",
     "output_type": "stream",
     "text": [
      "The best C is 1\n"
     ]
    }
   ],
   "source": [
    "best_C = gsearch_lr.best_params_['C']\n",
    "print('The best C is '+ str(best_C))"
   ]
  },
  {
   "cell_type": "code",
   "execution_count": 246,
   "metadata": {},
   "outputs": [
    {
     "name": "stdout",
     "output_type": "stream",
     "text": [
      "The best AUC is 0.9801560151874916\n"
     ]
    }
   ],
   "source": [
    "best_AUC_lr = gsearch_lr.best_score_\n",
    "print('The best AUC is '+ str(best_AUC_lr))"
   ]
  },
  {
   "cell_type": "code",
   "execution_count": 247,
   "metadata": {},
   "outputs": [],
   "source": [
    "lr_ = LogisticRegression(penalty='l2', solver='liblinear', C=best_C, max_iter=1000,class_weight = 'balanced')\n",
    "lr_ = lr_.fit(X = X_train, y = y_train)"
   ]
  },
  {
   "cell_type": "markdown",
   "metadata": {},
   "source": [
    "**Investigate Coefficients**"
   ]
  },
  {
   "cell_type": "markdown",
   "metadata": {},
   "source": [
    "Some of the words do not make sense because they are too event-specific"
   ]
  },
  {
   "cell_type": "code",
   "execution_count": 248,
   "metadata": {},
   "outputs": [
    {
     "data": {
      "text/html": [
       "<div>\n",
       "<style scoped>\n",
       "    .dataframe tbody tr th:only-of-type {\n",
       "        vertical-align: middle;\n",
       "    }\n",
       "\n",
       "    .dataframe tbody tr th {\n",
       "        vertical-align: top;\n",
       "    }\n",
       "\n",
       "    .dataframe thead th {\n",
       "        text-align: right;\n",
       "    }\n",
       "</style>\n",
       "<table border=\"1\" class=\"dataframe\">\n",
       "  <thead>\n",
       "    <tr style=\"text-align: right;\">\n",
       "      <th></th>\n",
       "      <th>variable</th>\n",
       "      <th>coefficient</th>\n",
       "    </tr>\n",
       "  </thead>\n",
       "  <tbody>\n",
       "    <tr>\n",
       "      <th>7656</th>\n",
       "      <td>salmonella</td>\n",
       "      <td>-3.460950</td>\n",
       "    </tr>\n",
       "    <tr>\n",
       "      <th>6251</th>\n",
       "      <td>outbreak</td>\n",
       "      <td>-2.511981</td>\n",
       "    </tr>\n",
       "    <tr>\n",
       "      <th>1453</th>\n",
       "      <td>chicken</td>\n",
       "      <td>-2.078008</td>\n",
       "    </tr>\n",
       "    <tr>\n",
       "      <th>3201</th>\n",
       "      <td>february</td>\n",
       "      <td>-1.596218</td>\n",
       "    </tr>\n",
       "    <tr>\n",
       "      <th>4166</th>\n",
       "      <td>homemade</td>\n",
       "      <td>-1.565159</td>\n",
       "    </tr>\n",
       "    <tr>\n",
       "      <th>5473</th>\n",
       "      <td>meat</td>\n",
       "      <td>-1.527458</td>\n",
       "    </tr>\n",
       "    <tr>\n",
       "      <th>1906</th>\n",
       "      <td>cookie_dough</td>\n",
       "      <td>-1.480451</td>\n",
       "    </tr>\n",
       "    <tr>\n",
       "      <th>2745</th>\n",
       "      <td>egg</td>\n",
       "      <td>-1.473853</td>\n",
       "    </tr>\n",
       "    <tr>\n",
       "      <th>2687</th>\n",
       "      <td>eat_raw</td>\n",
       "      <td>-1.338956</td>\n",
       "    </tr>\n",
       "    <tr>\n",
       "      <th>5133</th>\n",
       "      <td>like</td>\n",
       "      <td>-1.246233</td>\n",
       "    </tr>\n",
       "  </tbody>\n",
       "</table>\n",
       "</div>"
      ],
      "text/plain": [
       "          variable  coefficient\n",
       "7656    salmonella    -3.460950\n",
       "6251      outbreak    -2.511981\n",
       "1453       chicken    -2.078008\n",
       "3201      february    -1.596218\n",
       "4166      homemade    -1.565159\n",
       "5473          meat    -1.527458\n",
       "1906  cookie_dough    -1.480451\n",
       "2745           egg    -1.473853\n",
       "2687       eat_raw    -1.338956\n",
       "5133          like    -1.246233"
      ]
     },
     "execution_count": 248,
     "metadata": {},
     "output_type": "execute_result"
    }
   ],
   "source": [
    "coef_df = pd.DataFrame({'variable':x_columns, 'coefficient':lr_.coef_[0]})\n",
    "coef_df.sort_values(by = 'coefficient').head(10)"
   ]
  },
  {
   "cell_type": "code",
   "execution_count": 249,
   "metadata": {},
   "outputs": [
    {
     "data": {
      "text/html": [
       "<div>\n",
       "<style scoped>\n",
       "    .dataframe tbody tr th:only-of-type {\n",
       "        vertical-align: middle;\n",
       "    }\n",
       "\n",
       "    .dataframe tbody tr th {\n",
       "        vertical-align: top;\n",
       "    }\n",
       "\n",
       "    .dataframe thead th {\n",
       "        text-align: right;\n",
       "    }\n",
       "</style>\n",
       "<table border=\"1\" class=\"dataframe\">\n",
       "  <thead>\n",
       "    <tr style=\"text-align: right;\">\n",
       "      <th></th>\n",
       "      <th>variable</th>\n",
       "      <th>coefficient</th>\n",
       "    </tr>\n",
       "  </thead>\n",
       "  <tbody>\n",
       "    <tr>\n",
       "      <th>6086</th>\n",
       "      <td>nut_butter</td>\n",
       "      <td>2.554491</td>\n",
       "    </tr>\n",
       "    <tr>\n",
       "      <th>5924</th>\n",
       "      <td>nectarine</td>\n",
       "      <td>2.654673</td>\n",
       "    </tr>\n",
       "    <tr>\n",
       "      <th>7222</th>\n",
       "      <td>recall_pound</td>\n",
       "      <td>2.884865</td>\n",
       "    </tr>\n",
       "    <tr>\n",
       "      <th>3797</th>\n",
       "      <td>gold_medal</td>\n",
       "      <td>3.029194</td>\n",
       "    </tr>\n",
       "    <tr>\n",
       "      <th>6421</th>\n",
       "      <td>peach_nectarine</td>\n",
       "      <td>3.549054</td>\n",
       "    </tr>\n",
       "    <tr>\n",
       "      <th>661</th>\n",
       "      <td>baby_spinach</td>\n",
       "      <td>3.818809</td>\n",
       "    </tr>\n",
       "    <tr>\n",
       "      <th>1456</th>\n",
       "      <td>chicken_nugget</td>\n",
       "      <td>3.835997</td>\n",
       "    </tr>\n",
       "    <tr>\n",
       "      <th>3332</th>\n",
       "      <td>flour</td>\n",
       "      <td>4.546971</td>\n",
       "    </tr>\n",
       "    <tr>\n",
       "      <th>3695</th>\n",
       "      <td>general_mill</td>\n",
       "      <td>5.502666</td>\n",
       "    </tr>\n",
       "    <tr>\n",
       "      <th>7218</th>\n",
       "      <td>recall</td>\n",
       "      <td>7.695421</td>\n",
       "    </tr>\n",
       "  </tbody>\n",
       "</table>\n",
       "</div>"
      ],
      "text/plain": [
       "             variable  coefficient\n",
       "6086       nut_butter     2.554491\n",
       "5924        nectarine     2.654673\n",
       "7222     recall_pound     2.884865\n",
       "3797       gold_medal     3.029194\n",
       "6421  peach_nectarine     3.549054\n",
       "661      baby_spinach     3.818809\n",
       "1456   chicken_nugget     3.835997\n",
       "3332            flour     4.546971\n",
       "3695     general_mill     5.502666\n",
       "7218           recall     7.695421"
      ]
     },
     "execution_count": 249,
     "metadata": {},
     "output_type": "execute_result"
    }
   ],
   "source": [
    "coef_df.sort_values(by = 'coefficient').tail(10)"
   ]
  },
  {
   "cell_type": "markdown",
   "metadata": {},
   "source": [
    "**Apply to test set**"
   ]
  },
  {
   "cell_type": "code",
   "execution_count": 879,
   "metadata": {},
   "outputs": [
    {
     "name": "stdout",
     "output_type": "stream",
     "text": [
      "There is a total of 22840 in test set\n",
      "There is a total of 21397 in cleaned test set\n",
      "There is a total of 1297 predicted to be food-related events\n"
     ]
    }
   ],
   "source": [
    "print('There is a total of', len(df_test), 'in test set')\n",
    "print('There is a total of', len(df_test_clean), 'in cleaned test set')\n",
    "pred_probs = [x[1] for x in lr_.predict_proba(X_test)]\n",
    "preds = lr_.predict(X_test)\n",
    "print('There is a total of', sum(preds), 'predicted to be food-related events')"
   ]
  },
  {
   "cell_type": "code",
   "execution_count": 885,
   "metadata": {},
   "outputs": [
    {
     "data": {
      "text/plain": [
       "<matplotlib.axes._subplots.AxesSubplot at 0x18cee24e0>"
      ]
     },
     "execution_count": 885,
     "metadata": {},
     "output_type": "execute_result"
    },
    {
     "data": {
      "image/png": "[encoded data removed]",
      "text/plain": [
       "<Figure size 432x288 with 1 Axes>"
      ]
     },
     "metadata": {
      "needs_background": "light"
     },
     "output_type": "display_data"
    }
   ],
   "source": [
    "df_test_clean['preds'] = preds\n",
    "df_test_clean['pred_probs'] = pred_probs\n",
    "sns.distplot(pred_probs, kde = False)"
   ]
  },
  {
   "cell_type": "markdown",
   "metadata": {
    "heading_collapsed": true
   },
   "source": [
    "# (Not used) Topic Modelling on test data"
   ]
  },
  {
   "cell_type": "code",
   "execution_count": 911,
   "metadata": {
    "hidden": true
   },
   "outputs": [],
   "source": [
    "df_test_pred_true = df_test_clean[df_test_clean['preds'] == 1]"
   ]
  },
  {
   "cell_type": "code",
   "execution_count": 912,
   "metadata": {
    "hidden": true
   },
   "outputs": [
    {
     "name": "stdout",
     "output_type": "stream",
     "text": [
      "Dictionary(801 unique tokens: ['additive', 'bacteria', 'dailyrecall', 'potentially_deadly', 'recall']...)\n"
     ]
    }
   ],
   "source": [
    "dictionary = corpora.Dictionary(df_test_pred_true['ab_clean_ph'])\n",
    "print(dictionary)"
   ]
  },
  {
   "cell_type": "code",
   "execution_count": 913,
   "metadata": {
    "hidden": true
   },
   "outputs": [
    {
     "name": "stdout",
     "output_type": "stream",
     "text": [
      "Dictionary(280 unique tokens: ['bacteria', 'water', 'information', 'march', 'volkswagen']...)\n"
     ]
    }
   ],
   "source": [
    "dictionary.filter_extremes(no_below = 3, no_above = 0.25)\n",
    "print(dictionary)"
   ]
  },
  {
   "cell_type": "code",
   "execution_count": 916,
   "metadata": {
    "hidden": true
   },
   "outputs": [
    {
     "data": {
      "text/plain": [
       "[(0, 1), (1, 1)]"
      ]
     },
     "execution_count": 916,
     "metadata": {},
     "output_type": "execute_result"
    }
   ],
   "source": [
    "corpus = [dictionary.doc2bow(text) for text in df_test_pred_true['ab_clean_ph']]\n",
    "corpus[0]"
   ]
  },
  {
   "cell_type": "code",
   "execution_count": 917,
   "metadata": {
    "hidden": true
   },
   "outputs": [],
   "source": [
    "lda = LdaMulticore(corpus, num_topics = 4, id2word = dictionary)"
   ]
  },
  {
   "cell_type": "code",
   "execution_count": null,
   "metadata": {
    "hidden": true
   },
   "outputs": [],
   "source": [
    "vis_data  = gensimvis.prepare(lda, corpus, dictionary)\n",
    "pyLDAvis.display(vis_data)"
   ]
  },
  {
   "cell_type": "markdown",
   "metadata": {
    "heading_collapsed": true
   },
   "source": [
    "# (Not used) Supervised Model on `Event ID`"
   ]
  },
  {
   "cell_type": "code",
   "execution_count": 255,
   "metadata": {
    "hidden": true
   },
   "outputs": [],
   "source": [
    "vectorizer = TfidfVectorizer(min_df=2, sublinear_tf=True)"
   ]
  },
  {
   "cell_type": "code",
   "execution_count": 267,
   "metadata": {
    "hidden": true
   },
   "outputs": [],
   "source": [
    "text_tfidf = vectorizer.fit_transform([' '.join(text) for text in df_train['ab_clean_ph']])\n",
    "X_train = text_tfidf\n",
    "y_train = df_train['Event ID']"
   ]
  },
  {
   "cell_type": "code",
   "execution_count": 269,
   "metadata": {
    "hidden": true
   },
   "outputs": [
    {
     "data": {
      "text/plain": [
       "GridSearchCV(cv=5, error_score='raise-deprecating',\n",
       "       estimator=LogisticRegression(C=1.0, class_weight='balanced', dual=False,\n",
       "          fit_intercept=True, intercept_scaling=1, max_iter=1000,\n",
       "          multi_class='warn', n_jobs=None, penalty='l1', random_state=None,\n",
       "          solver='liblinear', tol=0.0001, verbose=0, warm_start=False),\n",
       "       fit_params=None, iid='warn', n_jobs=4,\n",
       "       param_grid={'C': [0.0001, 0.001, 0.01, 0.1, 1, 10, 100, 1000, 10000]},\n",
       "       pre_dispatch='2*n_jobs', refit=True, return_train_score='warn',\n",
       "       scoring=None, verbose=0)"
      ]
     },
     "execution_count": 269,
     "metadata": {},
     "output_type": "execute_result"
    }
   ],
   "source": [
    "param_test_lr =  {'C' :[10 ** x for x in list(range(-4,5,1))]}\n",
    "param_test_lr['C']\n",
    "gsearch_lr = GridSearchCV(estimator = LogisticRegression( \n",
    "        penalty='l1', \n",
    "        solver='liblinear',\n",
    "        max_iter=1000,\n",
    "        class_weight = 'balanced'\n",
    "    ),                   \n",
    "    param_grid = param_test_lr, \n",
    "    cv = 5,\n",
    "    n_jobs = 4)\n",
    "\n",
    "gsearch_lr.fit(X_train,y_train)"
   ]
  },
  {
   "cell_type": "code",
   "execution_count": 274,
   "metadata": {
    "hidden": true
   },
   "outputs": [
    {
     "data": {
      "text/plain": [
       "{'C': 1000}"
      ]
     },
     "execution_count": 274,
     "metadata": {},
     "output_type": "execute_result"
    }
   ],
   "source": [
    "gsearch_lr.best_params_"
   ]
  },
  {
   "cell_type": "code",
   "execution_count": 273,
   "metadata": {
    "hidden": true
   },
   "outputs": [
    {
     "data": {
      "text/plain": [
       "0.9792015300023906"
      ]
     },
     "execution_count": 273,
     "metadata": {},
     "output_type": "execute_result"
    }
   ],
   "source": [
    "gsearch_lr.best_score_"
   ]
  }
 ],
 "metadata": {
  "kernelspec": {
   "display_name": "Python 3",
   "language": "python",
   "name": "python3"
  },
  "language_info": {
   "codemirror_mode": {
    "name": "ipython",
    "version": 3
   },
   "file_extension": ".py",
   "mimetype": "text/x-python",
   "name": "python",
   "nbconvert_exporter": "python",
   "pygments_lexer": "ipython3",
   "version": "3.7.2"
  },
  "toc": {
   "base_numbering": 1,
   "nav_menu": {},
   "number_sections": true,
   "sideBar": true,
   "skip_h1_title": false,
   "title_cell": "Table of Contents",
   "title_sidebar": "Contents",
   "toc_cell": false,
   "toc_position": {
    "height": "766px",
    "left": "38px",
    "top": "418px",
    "width": "404px"
   },
   "toc_section_display": true,
   "toc_window_display": true
  }
 },
 "nbformat": 4,
 "nbformat_minor": 2
}
